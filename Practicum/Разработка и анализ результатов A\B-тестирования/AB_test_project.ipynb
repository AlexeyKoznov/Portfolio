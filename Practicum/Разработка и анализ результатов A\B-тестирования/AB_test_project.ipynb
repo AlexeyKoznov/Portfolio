{
 "cells": [
  {
   "cell_type": "markdown",
   "metadata": {
    "id": "u98L9TgH0eMk"
   },
   "source": [
    "# Разработка A/B-тестирования и анализ результатов\n"
   ]
  },
  {
   "cell_type": "markdown",
   "metadata": {},
   "source": [
    "### Цели и задачи проекта\n",
    "Рассчитать параметры теста, оценить корректность его проведения и проанализировать результаты эксперимента.\n",
    "\n",
    "Задачи:\n",
    "1. Загрузить данные и Провести предобработку данных.\n",
    "2. Провести исследовательский анализ данных.\n",
    "3. Мониторинг А/В-теста.\n",
    "4. Проверка результатов А/В-теста\n",
    "5. Сформулировать выводы по А/В-тесту."
   ]
  },
  {
   "cell_type": "markdown",
   "metadata": {
    "id": "LJBRALHs0eMf"
   },
   "source": [
    "## Описание данных\n",
    "\n",
    "- `sessions_project_history.csv` — таблица с историческими данными по сессиям пользователей на период с 2025-08-15 по 2025-09-23. Путь к файлу: `/datasets/sessions_project_history.csv`.\n",
    "\n",
    "- `sessions_project_test_part.csv` — таблица с данными за первый день проведения A/B-теста, то есть за 2025-10-14. Путь к файлу: `/datasets/sessions_project_test_part.csv`.\n",
    "\n",
    "- `sessions_project_test.csv` — таблица с данными за весь период проведения A/B-теста, то есть с 2025-10-14 по 2025-11-02. Путь к файлу: `/datasets/sessions_project_test.csv`.\n",
    "\n",
    "У этих таблиц почти совпадает структура и содержание колонок, различаются лишь периоды наблюдения.\n",
    "\n",
    "Поля таблиц `sessions_project_history.csv`, `sessions_project_test.csv`, `sessions_project_test_part.csv`:\n",
    "\n",
    "- `user_id` — идентификатор пользователя;\n",
    "\n",
    "- `session_id` — идентификатор сессии в приложении;\n",
    "\n",
    "- `session_date` — дата сессии;\n",
    "\n",
    "- `session_start_ts` — дата и время начала сессии;\n",
    "\n",
    "- `install_date` — дата установки приложения;\n",
    "\n",
    "- `session_number` — порядковый номер сессии для конкретного пользователя;\n",
    "\n",
    "- `registration_flag` — является ли пользователь зарегистрированным;\n",
    "\n",
    "- `page_counter` — количество просмотренных страниц во время сессии;\n",
    "\n",
    "- `region` — регион пользователя;\n",
    "\n",
    "- `device` — тип устройства пользователя;\n",
    "\n",
    "- `test_group` — тестовая группа (в таблице с историческими данными этого столбца нет).\n"
   ]
  },
  {
   "cell_type": "markdown",
   "metadata": {
    "id": "UpOucjID0eMl"
   },
   "source": [
    "### 1. Работа с историческими данными (EDA)"
   ]
  },
  {
   "cell_type": "code",
   "execution_count": 1,
   "metadata": {
    "id": "6TPR2-1RPboT"
   },
   "outputs": [],
   "source": [
    "# Испортируем необходимые библиотеки\n",
    "import pandas as pd\n",
    "import matplotlib.pyplot as plt\n",
    "from math import ceil\n",
    "from statsmodels.stats.power import NormalIndPower\n",
    "from scipy.stats import ttest_ind\n",
    "from statsmodels.stats.proportion import proportions_ztest\n",
    "import numpy as np"
   ]
  },
  {
   "cell_type": "code",
   "execution_count": 2,
   "metadata": {},
   "outputs": [],
   "source": [
    "# Создадим датафрейм sessions_history\n",
    "sessions_history = pd.read_csv('/datasets/sessions_project_history.csv')"
   ]
  },
  {
   "cell_type": "code",
   "execution_count": 3,
   "metadata": {},
   "outputs": [
    {
     "data": {
      "text/html": [
       "<div>\n",
       "<style scoped>\n",
       "    .dataframe tbody tr th:only-of-type {\n",
       "        vertical-align: middle;\n",
       "    }\n",
       "\n",
       "    .dataframe tbody tr th {\n",
       "        vertical-align: top;\n",
       "    }\n",
       "\n",
       "    .dataframe thead th {\n",
       "        text-align: right;\n",
       "    }\n",
       "</style>\n",
       "<table border=\"1\" class=\"dataframe\">\n",
       "  <thead>\n",
       "    <tr style=\"text-align: right;\">\n",
       "      <th></th>\n",
       "      <th>user_id</th>\n",
       "      <th>session_id</th>\n",
       "      <th>session_date</th>\n",
       "      <th>session_start_ts</th>\n",
       "      <th>install_date</th>\n",
       "      <th>session_number</th>\n",
       "      <th>registration_flag</th>\n",
       "      <th>page_counter</th>\n",
       "      <th>region</th>\n",
       "      <th>device</th>\n",
       "    </tr>\n",
       "  </thead>\n",
       "  <tbody>\n",
       "    <tr>\n",
       "      <th>0</th>\n",
       "      <td>E302123B7000BFE4</td>\n",
       "      <td>F9AF61A0C2023832</td>\n",
       "      <td>2025-08-15</td>\n",
       "      <td>2025-08-15 17:47:35</td>\n",
       "      <td>2025-08-15</td>\n",
       "      <td>1</td>\n",
       "      <td>0</td>\n",
       "      <td>3</td>\n",
       "      <td>CIS</td>\n",
       "      <td>iPhone</td>\n",
       "    </tr>\n",
       "    <tr>\n",
       "      <th>1</th>\n",
       "      <td>2530F72E221829FB</td>\n",
       "      <td>85003A206CBDAC6F</td>\n",
       "      <td>2025-08-15</td>\n",
       "      <td>2025-08-15 16:42:14</td>\n",
       "      <td>2025-08-15</td>\n",
       "      <td>1</td>\n",
       "      <td>0</td>\n",
       "      <td>4</td>\n",
       "      <td>MENA</td>\n",
       "      <td>Android</td>\n",
       "    </tr>\n",
       "    <tr>\n",
       "      <th>2</th>\n",
       "      <td>876E020A4FC512F5</td>\n",
       "      <td>3677423E49D72DEE</td>\n",
       "      <td>2025-08-15</td>\n",
       "      <td>2025-08-15 12:30:00</td>\n",
       "      <td>2025-08-15</td>\n",
       "      <td>1</td>\n",
       "      <td>0</td>\n",
       "      <td>4</td>\n",
       "      <td>EU</td>\n",
       "      <td>PC</td>\n",
       "    </tr>\n",
       "    <tr>\n",
       "      <th>3</th>\n",
       "      <td>2640B349E1D81584</td>\n",
       "      <td>956B45F5915CA225</td>\n",
       "      <td>2025-08-15</td>\n",
       "      <td>2025-08-15 15:31:31</td>\n",
       "      <td>2025-08-15</td>\n",
       "      <td>1</td>\n",
       "      <td>0</td>\n",
       "      <td>4</td>\n",
       "      <td>CIS</td>\n",
       "      <td>Android</td>\n",
       "    </tr>\n",
       "    <tr>\n",
       "      <th>4</th>\n",
       "      <td>94E1CBFAEF1F5EE9</td>\n",
       "      <td>83BF0DA35F9F1F40</td>\n",
       "      <td>2025-08-15</td>\n",
       "      <td>2025-08-15 21:33:53</td>\n",
       "      <td>2025-08-15</td>\n",
       "      <td>1</td>\n",
       "      <td>0</td>\n",
       "      <td>3</td>\n",
       "      <td>CIS</td>\n",
       "      <td>Android</td>\n",
       "    </tr>\n",
       "  </tbody>\n",
       "</table>\n",
       "</div>"
      ],
      "text/plain": [
       "            user_id        session_id session_date     session_start_ts  \\\n",
       "0  E302123B7000BFE4  F9AF61A0C2023832   2025-08-15  2025-08-15 17:47:35   \n",
       "1  2530F72E221829FB  85003A206CBDAC6F   2025-08-15  2025-08-15 16:42:14   \n",
       "2  876E020A4FC512F5  3677423E49D72DEE   2025-08-15  2025-08-15 12:30:00   \n",
       "3  2640B349E1D81584  956B45F5915CA225   2025-08-15  2025-08-15 15:31:31   \n",
       "4  94E1CBFAEF1F5EE9  83BF0DA35F9F1F40   2025-08-15  2025-08-15 21:33:53   \n",
       "\n",
       "  install_date  session_number  registration_flag  page_counter region  \\\n",
       "0   2025-08-15               1                  0             3    CIS   \n",
       "1   2025-08-15               1                  0             4   MENA   \n",
       "2   2025-08-15               1                  0             4     EU   \n",
       "3   2025-08-15               1                  0             4    CIS   \n",
       "4   2025-08-15               1                  0             3    CIS   \n",
       "\n",
       "    device  \n",
       "0   iPhone  \n",
       "1  Android  \n",
       "2       PC  \n",
       "3  Android  \n",
       "4  Android  "
      ]
     },
     "execution_count": 3,
     "metadata": {},
     "output_type": "execute_result"
    }
   ],
   "source": [
    "# Выведем первые 5 строк датафрейма\n",
    "sessions_history.head()"
   ]
  },
  {
   "cell_type": "code",
   "execution_count": 4,
   "metadata": {},
   "outputs": [
    {
     "name": "stdout",
     "output_type": "stream",
     "text": [
      "<class 'pandas.core.frame.DataFrame'>\n",
      "RangeIndex: 435924 entries, 0 to 435923\n",
      "Data columns (total 10 columns):\n",
      " #   Column             Non-Null Count   Dtype \n",
      "---  ------             --------------   ----- \n",
      " 0   user_id            435924 non-null  object\n",
      " 1   session_id         435924 non-null  object\n",
      " 2   session_date       435924 non-null  object\n",
      " 3   session_start_ts   435924 non-null  object\n",
      " 4   install_date       435924 non-null  object\n",
      " 5   session_number     435924 non-null  int64 \n",
      " 6   registration_flag  435924 non-null  int64 \n",
      " 7   page_counter       435924 non-null  int64 \n",
      " 8   region             435924 non-null  object\n",
      " 9   device             435924 non-null  object\n",
      "dtypes: int64(3), object(7)\n",
      "memory usage: 33.3+ MB\n"
     ]
    }
   ],
   "source": [
    "# Выведем информацию о датафрейме\n",
    "sessions_history.info()"
   ]
  },
  {
   "cell_type": "code",
   "execution_count": 5,
   "metadata": {},
   "outputs": [
    {
     "data": {
      "text/html": [
       "<div>\n",
       "<style scoped>\n",
       "    .dataframe tbody tr th:only-of-type {\n",
       "        vertical-align: middle;\n",
       "    }\n",
       "\n",
       "    .dataframe tbody tr th {\n",
       "        vertical-align: top;\n",
       "    }\n",
       "\n",
       "    .dataframe thead th {\n",
       "        text-align: right;\n",
       "    }\n",
       "</style>\n",
       "<table border=\"1\" class=\"dataframe\">\n",
       "  <thead>\n",
       "    <tr style=\"text-align: right;\">\n",
       "      <th></th>\n",
       "      <th>session_number</th>\n",
       "      <th>registration_flag</th>\n",
       "      <th>page_counter</th>\n",
       "    </tr>\n",
       "  </thead>\n",
       "  <tbody>\n",
       "    <tr>\n",
       "      <th>count</th>\n",
       "      <td>435924.000000</td>\n",
       "      <td>435924.000000</td>\n",
       "      <td>435924.000000</td>\n",
       "    </tr>\n",
       "    <tr>\n",
       "      <th>mean</th>\n",
       "      <td>2.382908</td>\n",
       "      <td>0.077325</td>\n",
       "      <td>3.005561</td>\n",
       "    </tr>\n",
       "    <tr>\n",
       "      <th>std</th>\n",
       "      <td>1.288487</td>\n",
       "      <td>0.267107</td>\n",
       "      <td>1.024625</td>\n",
       "    </tr>\n",
       "    <tr>\n",
       "      <th>min</th>\n",
       "      <td>1.000000</td>\n",
       "      <td>0.000000</td>\n",
       "      <td>1.000000</td>\n",
       "    </tr>\n",
       "    <tr>\n",
       "      <th>25%</th>\n",
       "      <td>1.000000</td>\n",
       "      <td>0.000000</td>\n",
       "      <td>2.000000</td>\n",
       "    </tr>\n",
       "    <tr>\n",
       "      <th>50%</th>\n",
       "      <td>2.000000</td>\n",
       "      <td>0.000000</td>\n",
       "      <td>3.000000</td>\n",
       "    </tr>\n",
       "    <tr>\n",
       "      <th>75%</th>\n",
       "      <td>3.000000</td>\n",
       "      <td>0.000000</td>\n",
       "      <td>4.000000</td>\n",
       "    </tr>\n",
       "    <tr>\n",
       "      <th>max</th>\n",
       "      <td>10.000000</td>\n",
       "      <td>1.000000</td>\n",
       "      <td>7.000000</td>\n",
       "    </tr>\n",
       "  </tbody>\n",
       "</table>\n",
       "</div>"
      ],
      "text/plain": [
       "       session_number  registration_flag   page_counter\n",
       "count   435924.000000      435924.000000  435924.000000\n",
       "mean         2.382908           0.077325       3.005561\n",
       "std          1.288487           0.267107       1.024625\n",
       "min          1.000000           0.000000       1.000000\n",
       "25%          1.000000           0.000000       2.000000\n",
       "50%          2.000000           0.000000       3.000000\n",
       "75%          3.000000           0.000000       4.000000\n",
       "max         10.000000           1.000000       7.000000"
      ]
     },
     "execution_count": 5,
     "metadata": {},
     "output_type": "execute_result"
    }
   ],
   "source": [
    "# Выведем сводную описательную статистику по датафрейму\n",
    "sessions_history.describe()"
   ]
  },
  {
   "cell_type": "markdown",
   "metadata": {
    "id": "qTDoiODz0eMo"
   },
   "source": [
    "#### 1.2. Знакомство с данными\n"
   ]
  },
  {
   "cell_type": "code",
   "execution_count": 6,
   "metadata": {
    "scrolled": true
   },
   "outputs": [
    {
     "data": {
      "text/plain": [
       "0"
      ]
     },
     "execution_count": 6,
     "metadata": {},
     "output_type": "execute_result"
    }
   ],
   "source": [
    "# Проверим датафрейм на явные дубликаты\n",
    "sessions_history.duplicated().sum()"
   ]
  },
  {
   "cell_type": "code",
   "execution_count": 7,
   "metadata": {},
   "outputs": [
    {
     "data": {
      "text/plain": [
       "0"
      ]
     },
     "execution_count": 7,
     "metadata": {},
     "output_type": "execute_result"
    }
   ],
   "source": [
    "# Проверим на неявные дубликаты\n",
    "sessions_history.duplicated(subset=['user_id', 'session_id']).sum()"
   ]
  },
  {
   "cell_type": "markdown",
   "metadata": {},
   "source": [
    "Дубликатов нет"
   ]
  },
  {
   "cell_type": "code",
   "execution_count": 8,
   "metadata": {
    "id": "PWZO9vTIPbPN"
   },
   "outputs": [],
   "source": [
    "# Найдем количество уникальных сессий для пользователей\n",
    "user_session_counts = sessions_history.groupby('user_id')['session_id'].nunique()"
   ]
  },
  {
   "cell_type": "code",
   "execution_count": 9,
   "metadata": {},
   "outputs": [],
   "source": [
    "# Найдем пользователя с максимальны количеством сессий\n",
    "max_sessions_user = user_session_counts.idxmax()"
   ]
  },
  {
   "cell_type": "code",
   "execution_count": 10,
   "metadata": {},
   "outputs": [
    {
     "data": {
      "text/html": [
       "<div>\n",
       "<style scoped>\n",
       "    .dataframe tbody tr th:only-of-type {\n",
       "        vertical-align: middle;\n",
       "    }\n",
       "\n",
       "    .dataframe tbody tr th {\n",
       "        vertical-align: top;\n",
       "    }\n",
       "\n",
       "    .dataframe thead th {\n",
       "        text-align: right;\n",
       "    }\n",
       "</style>\n",
       "<table border=\"1\" class=\"dataframe\">\n",
       "  <thead>\n",
       "    <tr style=\"text-align: right;\">\n",
       "      <th></th>\n",
       "      <th>user_id</th>\n",
       "      <th>session_id</th>\n",
       "      <th>session_date</th>\n",
       "      <th>session_start_ts</th>\n",
       "      <th>install_date</th>\n",
       "      <th>session_number</th>\n",
       "      <th>registration_flag</th>\n",
       "      <th>page_counter</th>\n",
       "      <th>region</th>\n",
       "      <th>device</th>\n",
       "    </tr>\n",
       "  </thead>\n",
       "  <tbody>\n",
       "    <tr>\n",
       "      <th>115558</th>\n",
       "      <td>10E0DEFC1ABDBBE0</td>\n",
       "      <td>B8F0423BBFFCF5DC</td>\n",
       "      <td>2025-08-14</td>\n",
       "      <td>2025-08-14 13:57:39</td>\n",
       "      <td>2025-08-14</td>\n",
       "      <td>1</td>\n",
       "      <td>0</td>\n",
       "      <td>4</td>\n",
       "      <td>CIS</td>\n",
       "      <td>Android</td>\n",
       "    </tr>\n",
       "    <tr>\n",
       "      <th>191751</th>\n",
       "      <td>10E0DEFC1ABDBBE0</td>\n",
       "      <td>87CA2FA549473837</td>\n",
       "      <td>2025-08-15</td>\n",
       "      <td>2025-08-15 16:42:10</td>\n",
       "      <td>2025-08-14</td>\n",
       "      <td>2</td>\n",
       "      <td>0</td>\n",
       "      <td>3</td>\n",
       "      <td>CIS</td>\n",
       "      <td>Android</td>\n",
       "    </tr>\n",
       "    <tr>\n",
       "      <th>239370</th>\n",
       "      <td>10E0DEFC1ABDBBE0</td>\n",
       "      <td>4ADD8011DCDCE318</td>\n",
       "      <td>2025-08-16</td>\n",
       "      <td>2025-08-16 19:53:21</td>\n",
       "      <td>2025-08-14</td>\n",
       "      <td>3</td>\n",
       "      <td>0</td>\n",
       "      <td>3</td>\n",
       "      <td>CIS</td>\n",
       "      <td>Android</td>\n",
       "    </tr>\n",
       "    <tr>\n",
       "      <th>274629</th>\n",
       "      <td>10E0DEFC1ABDBBE0</td>\n",
       "      <td>DF0FD0E09BF1F3D7</td>\n",
       "      <td>2025-08-17</td>\n",
       "      <td>2025-08-17 15:03:43</td>\n",
       "      <td>2025-08-14</td>\n",
       "      <td>4</td>\n",
       "      <td>0</td>\n",
       "      <td>1</td>\n",
       "      <td>CIS</td>\n",
       "      <td>Android</td>\n",
       "    </tr>\n",
       "    <tr>\n",
       "      <th>302501</th>\n",
       "      <td>10E0DEFC1ABDBBE0</td>\n",
       "      <td>3C221774B4DE6885</td>\n",
       "      <td>2025-08-18</td>\n",
       "      <td>2025-08-18 17:29:14</td>\n",
       "      <td>2025-08-14</td>\n",
       "      <td>5</td>\n",
       "      <td>0</td>\n",
       "      <td>4</td>\n",
       "      <td>CIS</td>\n",
       "      <td>Android</td>\n",
       "    </tr>\n",
       "    <tr>\n",
       "      <th>325557</th>\n",
       "      <td>10E0DEFC1ABDBBE0</td>\n",
       "      <td>031BD7A67048105B</td>\n",
       "      <td>2025-08-19</td>\n",
       "      <td>2025-08-19 13:23:55</td>\n",
       "      <td>2025-08-14</td>\n",
       "      <td>6</td>\n",
       "      <td>0</td>\n",
       "      <td>2</td>\n",
       "      <td>CIS</td>\n",
       "      <td>Android</td>\n",
       "    </tr>\n",
       "    <tr>\n",
       "      <th>345336</th>\n",
       "      <td>10E0DEFC1ABDBBE0</td>\n",
       "      <td>FF4315CF4AD4B100</td>\n",
       "      <td>2025-08-20</td>\n",
       "      <td>2025-08-20 19:31:54</td>\n",
       "      <td>2025-08-14</td>\n",
       "      <td>7</td>\n",
       "      <td>0</td>\n",
       "      <td>2</td>\n",
       "      <td>CIS</td>\n",
       "      <td>Android</td>\n",
       "    </tr>\n",
       "    <tr>\n",
       "      <th>377532</th>\n",
       "      <td>10E0DEFC1ABDBBE0</td>\n",
       "      <td>4045FEA0747203B4</td>\n",
       "      <td>2025-08-22</td>\n",
       "      <td>2025-08-22 17:54:13</td>\n",
       "      <td>2025-08-14</td>\n",
       "      <td>8</td>\n",
       "      <td>0</td>\n",
       "      <td>2</td>\n",
       "      <td>CIS</td>\n",
       "      <td>Android</td>\n",
       "    </tr>\n",
       "    <tr>\n",
       "      <th>403538</th>\n",
       "      <td>10E0DEFC1ABDBBE0</td>\n",
       "      <td>344B086C421C7F37</td>\n",
       "      <td>2025-08-24</td>\n",
       "      <td>2025-08-24 14:46:13</td>\n",
       "      <td>2025-08-14</td>\n",
       "      <td>9</td>\n",
       "      <td>0</td>\n",
       "      <td>2</td>\n",
       "      <td>CIS</td>\n",
       "      <td>Android</td>\n",
       "    </tr>\n",
       "    <tr>\n",
       "      <th>414743</th>\n",
       "      <td>10E0DEFC1ABDBBE0</td>\n",
       "      <td>054F20BA371E4C9D</td>\n",
       "      <td>2025-08-25</td>\n",
       "      <td>2025-08-25 18:36:41</td>\n",
       "      <td>2025-08-14</td>\n",
       "      <td>10</td>\n",
       "      <td>0</td>\n",
       "      <td>3</td>\n",
       "      <td>CIS</td>\n",
       "      <td>Android</td>\n",
       "    </tr>\n",
       "  </tbody>\n",
       "</table>\n",
       "</div>"
      ],
      "text/plain": [
       "                 user_id        session_id session_date     session_start_ts  \\\n",
       "115558  10E0DEFC1ABDBBE0  B8F0423BBFFCF5DC   2025-08-14  2025-08-14 13:57:39   \n",
       "191751  10E0DEFC1ABDBBE0  87CA2FA549473837   2025-08-15  2025-08-15 16:42:10   \n",
       "239370  10E0DEFC1ABDBBE0  4ADD8011DCDCE318   2025-08-16  2025-08-16 19:53:21   \n",
       "274629  10E0DEFC1ABDBBE0  DF0FD0E09BF1F3D7   2025-08-17  2025-08-17 15:03:43   \n",
       "302501  10E0DEFC1ABDBBE0  3C221774B4DE6885   2025-08-18  2025-08-18 17:29:14   \n",
       "325557  10E0DEFC1ABDBBE0  031BD7A67048105B   2025-08-19  2025-08-19 13:23:55   \n",
       "345336  10E0DEFC1ABDBBE0  FF4315CF4AD4B100   2025-08-20  2025-08-20 19:31:54   \n",
       "377532  10E0DEFC1ABDBBE0  4045FEA0747203B4   2025-08-22  2025-08-22 17:54:13   \n",
       "403538  10E0DEFC1ABDBBE0  344B086C421C7F37   2025-08-24  2025-08-24 14:46:13   \n",
       "414743  10E0DEFC1ABDBBE0  054F20BA371E4C9D   2025-08-25  2025-08-25 18:36:41   \n",
       "\n",
       "       install_date  session_number  registration_flag  page_counter region  \\\n",
       "115558   2025-08-14               1                  0             4    CIS   \n",
       "191751   2025-08-14               2                  0             3    CIS   \n",
       "239370   2025-08-14               3                  0             3    CIS   \n",
       "274629   2025-08-14               4                  0             1    CIS   \n",
       "302501   2025-08-14               5                  0             4    CIS   \n",
       "325557   2025-08-14               6                  0             2    CIS   \n",
       "345336   2025-08-14               7                  0             2    CIS   \n",
       "377532   2025-08-14               8                  0             2    CIS   \n",
       "403538   2025-08-14               9                  0             2    CIS   \n",
       "414743   2025-08-14              10                  0             3    CIS   \n",
       "\n",
       "         device  \n",
       "115558  Android  \n",
       "191751  Android  \n",
       "239370  Android  \n",
       "274629  Android  \n",
       "302501  Android  \n",
       "325557  Android  \n",
       "345336  Android  \n",
       "377532  Android  \n",
       "403538  Android  \n",
       "414743  Android  "
      ]
     },
     "metadata": {},
     "output_type": "display_data"
    }
   ],
   "source": [
    "# Выведем данные пользователя с максимальным количеством сессий\n",
    "result = sessions_history[sessions_history['user_id'] == max_sessions_user]\n",
    "display(result)"
   ]
  },
  {
   "cell_type": "markdown",
   "metadata": {
    "id": "CmcGpJTP0eMq"
   },
   "source": [
    "#### 1.3. Анализ числа регистраций"
   ]
  },
  {
   "cell_type": "code",
   "execution_count": 11,
   "metadata": {
    "id": "tN_6Ml3EPatS"
   },
   "outputs": [],
   "source": [
    "# Преобразуем тип данных столбцов session_date и install_date в формат datetime\n",
    "sessions_history['session_date'] = pd.to_datetime(sessions_history['session_date'])\n",
    "sessions_history['install_date'] = pd.to_datetime(sessions_history['install_date'])"
   ]
  },
  {
   "cell_type": "code",
   "execution_count": 12,
   "metadata": {},
   "outputs": [],
   "source": [
    "# Подсчитаем число уникальных пользователей и число зарегистрированных пользователей для каждого дня наблюдения\n",
    "daily_stats = sessions_history.groupby('session_date').agg(\n",
    "    total_users=('user_id', 'count'),\n",
    "    registred_users=('registration_flag', 'sum')\n",
    ").reset_index()"
   ]
  },
  {
   "cell_type": "code",
   "execution_count": 13,
   "metadata": {},
   "outputs": [],
   "source": [
    "# Подсчитаем долю зарегистрированных пользоватлей от всех пользователей\n",
    "daily_stats['registration_ratio'] = daily_stats['registred_users'] / daily_stats['total_users']"
   ]
  },
  {
   "cell_type": "code",
   "execution_count": 14,
   "metadata": {},
   "outputs": [
    {
     "data": {
      "image/png": "[encoded data removed]",
      "text/plain": [
       "<Figure size 1080x576 with 1 Axes>"
      ]
     },
     "metadata": {
      "needs_background": "light"
     },
     "output_type": "display_data"
    }
   ],
   "source": [
    "# Посстроим график общего числа пользователей и общего числа зарегистрированных пользователей по дням\n",
    "plt.figure(figsize=(15, 8))\n",
    "\n",
    "plt.plot(daily_stats['session_date'], daily_stats['total_users'], label='Все пользователи', color='blue')\n",
    "plt.plot(daily_stats['session_date'], daily_stats['registred_users'], label='Зарегестрированные пользователи', color='orange')\n",
    "\n",
    "plt.title('Ежедневное количество пользователей')\n",
    "plt.xlabel('Дата')\n",
    "plt.ylabel('Количество пользователей')\n",
    "plt.grid(True, alpha=0.7)\n",
    "plt.legend()\n",
    "plt.show()"
   ]
  },
  {
   "cell_type": "code",
   "execution_count": 15,
   "metadata": {},
   "outputs": [
    {
     "data": {
      "image/png": "[encoded data removed]",
      "text/plain": [
       "<Figure size 1080x576 with 1 Axes>"
      ]
     },
     "metadata": {
      "needs_background": "light"
     },
     "output_type": "display_data"
    }
   ],
   "source": [
    "# Построим график доли зарегистрированных пользоватлей от всех пользователей\n",
    "plt.figure(figsize=(15, 8))\n",
    "\n",
    "plt.plot(daily_stats['session_date'], daily_stats['registration_ratio'])\n",
    "plt.title('Доля зарегистрированных пользоватлей от всех пользователей')\n",
    "plt.xlabel('Дата')\n",
    "plt.ylabel('Доля пользователей')\n",
    "plt.grid(True, alpha=0.7)\n",
    "plt.show()"
   ]
  },
  {
   "cell_type": "markdown",
   "metadata": {
    "id": "UR7D7RhF0eMr"
   },
   "source": [
    "#### 1.4. Анализ числа просмотренных страниц"
   ]
  },
  {
   "cell_type": "code",
   "execution_count": 16,
   "metadata": {
    "id": "cb6hPlVzPaSf"
   },
   "outputs": [],
   "source": [
    "# Найдем количество сессий для каждого значения количества просмотренных страниц\n",
    "page_stats = sessions_history.groupby('page_counter')['session_id'] \\\n",
    "                                                        .count().reset_index() \\\n",
    "                                                        .rename(columns={'session_id': 'session_count'})"
   ]
  },
  {
   "cell_type": "code",
   "execution_count": 17,
   "metadata": {},
   "outputs": [
    {
     "data": {
      "image/png": "[encoded data removed]",
      "text/plain": [
       "<Figure size 1080x432 with 1 Axes>"
      ]
     },
     "metadata": {
      "needs_background": "light"
     },
     "output_type": "display_data"
    }
   ],
   "source": [
    "# Построим столбчатую диаграмму\n",
    "plt.figure(figsize=(15, 6))\n",
    "\n",
    "bars = plt.bar(page_stats['page_counter'], page_stats['session_count'])\n",
    "\n",
    "# Добавляем подписи значений (код ревьюера)\n",
    "for i, v in enumerate(page_stats['session_count']):\n",
    "    plt.text(page_stats['page_counter'][i], v, str(v), ha='center', va='bottom')                  \n",
    "\n",
    "# Оформление\n",
    "plt.title('Распределение сессий по количеству просмотренных страниц')\n",
    "plt.xlabel('Количество просмотренных страниц')\n",
    "plt.ylabel('Количество сессий')\n",
    "plt.grid(axis='y', alpha=0.7)\n",
    "plt.show()"
   ]
  },
  {
   "cell_type": "markdown",
   "metadata": {
    "id": "xDltSpVP0eMr"
   },
   "source": [
    "#### 1.5. Доля пользователей, просмотревших более четырёх страниц\n",
    "Продуктовая команда продукта считает, что сессии, в рамках которых пользователь просмотрел 4 и более страниц, говорят об удовлетворённости контентом и алгоритмами рекомендаций. Этот показатель является важной прокси-метрикой для продукта."
   ]
  },
  {
   "cell_type": "code",
   "execution_count": 18,
   "metadata": {
    "id": "iygaPfixPYMW"
   },
   "outputs": [],
   "source": [
    "# Создадим дополнительный столбец good_session\n",
    "sessions_history['good_session'] = (sessions_history['page_counter'] >= 4).astype(int)"
   ]
  },
  {
   "cell_type": "code",
   "execution_count": 19,
   "metadata": {},
   "outputs": [
    {
     "data": {
      "image/png": "[encoded data removed]",
      "text/plain": [
       "<Figure size 1080x576 with 1 Axes>"
      ]
     },
     "metadata": {
      "needs_background": "light"
     },
     "output_type": "display_data"
    }
   ],
   "source": [
    "# Подсчитаем количество успешных сессий и всех сессий\n",
    "daily_stats = sessions_history.groupby('session_date')['good_session'].agg([\n",
    "    ('total_sessions', 'count'),\n",
    "    ('good_sessions', 'sum')\n",
    "]).reset_index()\n",
    "\n",
    "# Подсчитаем долю успешных сессий ко всем сессиям\n",
    "daily_stats['good_sessions_ratio'] = daily_stats['good_sessions'] / daily_stats['total_sessions']\n",
    "\n",
    "# Посчитаем среднее значение доли успешных сессий\n",
    "mean_sessions_ratio = daily_stats['good_sessions_ratio'].mean()\n",
    "\n",
    "# Построим график доли успешных сессий ко всем сессиям\n",
    "plt.figure(figsize=(15, 8))\n",
    "\n",
    "plt.plot(daily_stats['session_date'], daily_stats['good_sessions_ratio'])\n",
    "plt.axhline(mean_sessions_ratio, color='red', linestyle='--', \n",
    "           label=f'Среднее: {mean_sessions_ratio:.1%}')\n",
    "plt.title('Доля успешных сессий (4+ страницы)')\n",
    "plt.xlabel('Дата')\n",
    "plt.ylabel('Доля сессий')\n",
    "plt.grid(True, alpha=0.2)\n",
    "plt.legend()\n",
    "\n",
    "plt.show()"
   ]
  },
  {
   "cell_type": "markdown",
   "metadata": {
    "id": "21JcG77Y0eMt"
   },
   "source": [
    "### 2. Подготовка к тесту"
   ]
  },
  {
   "cell_type": "markdown",
   "metadata": {
    "id": "uzaeln270eMt"
   },
   "source": [
    "#### 2.1. Расчёт размера выборки"
   ]
  },
  {
   "cell_type": "code",
   "execution_count": 20,
   "metadata": {
    "id": "zSxJyPGPNdaI"
   },
   "outputs": [
    {
     "name": "stdout",
     "output_type": "stream",
     "text": [
      "Необходимый размер выборки для каждой группы: 17441\n"
     ]
    }
   ],
   "source": [
    "# Задаём параметры\n",
    "alpha = 0.05  # Уровень значимости\n",
    "beta = 0.2  # Ошибка второго рода, часто 1 - мощность\n",
    "power = 0.8  # Мощность теста\n",
    "mde = 0.03  # Минимальный детектируемый эффект\n",
    "\n",
    "# Инициализируем класс NormalIndPower\n",
    "power_analysis = NormalIndPower()\n",
    "\n",
    "# Рассчитываем размер выборки\n",
    "sample_size = power_analysis.solve_power(\n",
    "    effect_size = mde,\n",
    "    power = power,\n",
    "    alpha = alpha,\n",
    "    ratio = 1 # Равномерное распределение выборок\n",
    ")\n",
    "\n",
    "print(f\"Необходимый размер выборки для каждой группы: {int(sample_size)}\")"
   ]
  },
  {
   "cell_type": "markdown",
   "metadata": {
    "id": "qLEv4RoV0eMu"
   },
   "source": [
    "#### 2.1. Расчёт длительности A/B-теста"
   ]
  },
  {
   "cell_type": "code",
   "execution_count": 21,
   "metadata": {
    "id": "KZDRbryDOGHa"
   },
   "outputs": [
    {
     "name": "stdout",
     "output_type": "stream",
     "text": [
      "Рассчитанная длительность A/B-теста при текущем уровене трафика в 9907 пользователей в день составит 4 дня\n"
     ]
    }
   ],
   "source": [
    "# Среднее количество пользователей приложения в день по историческим данным\n",
    "avg_daily_users = sessions_history.groupby('session_date')['user_id'].nunique().mean()\n",
    "\n",
    "# Рассчитываем длительность теста в днях как отношение размера выборки к среднему числу пользователей\n",
    "test_duration = ceil((sample_size*2) / avg_daily_users)\n",
    "\n",
    "print(f\"Рассчитанная длительность A/B-теста при текущем уровене трафика в {round(avg_daily_users)} пользователей в день составит {test_duration} дня\")"
   ]
  },
  {
   "cell_type": "markdown",
   "metadata": {
    "id": "ZuvtAdha0eMv"
   },
   "source": [
    "### 3. Мониторинг А/В-теста"
   ]
  },
  {
   "cell_type": "markdown",
   "metadata": {
    "id": "jq5sE3Ya0eMv"
   },
   "source": [
    "#### 3.1. Проверка распределения пользователей\n",
    "\n",
    "A/B-тест успешно запущен, и уже доступны данные за первые три дня. На этом этапе нужно убедиться, что всё идёт хорошо: пользователи разделены правильным образом, а интересующие нас метрики корректно считаются."
   ]
  },
  {
   "cell_type": "code",
   "execution_count": 22,
   "metadata": {
    "id": "G1bqIzDJOUiz"
   },
   "outputs": [
    {
     "name": "stdout",
     "output_type": "stream",
     "text": [
      "Уникальные пользователи в группе A: 1477\n",
      "Уникальные пользователи в группе B: 1466\n"
     ]
    },
    {
     "data": {
      "image/png": "[encoded data removed]",
      "text/plain": [
       "<Figure size 576x432 with 1 Axes>"
      ]
     },
     "metadata": {},
     "output_type": "display_data"
    }
   ],
   "source": [
    "# Создадим датафрейм sessions_test_part\n",
    "sessions_test_part = pd.read_csv('/datasets/sessions_project_test_part.csv')\n",
    "\n",
    "# Рассчитаем уникальных пользователей\n",
    "test_a = sessions_test_part[sessions_test_part['test_group'] == 'A']['user_id'].nunique()\n",
    "test_b = sessions_test_part[sessions_test_part['test_group'] == 'B']['user_id'].nunique()\n",
    "\n",
    "print(f\"Уникальные пользователи в группе A: {test_a}\")\n",
    "print(f\"Уникальные пользователи в группе B: {test_b}\")\n",
    "\n",
    "total_users = test_a + test_b\n",
    "\n",
    "percent_a = round(100 * test_a / total_users, 1)\n",
    "percent_b = round(100 * test_b / total_users, 1)\n",
    "\n",
    "# Строим круговую диаграмму\n",
    "plt.figure(figsize=(8, 6))\n",
    "plt.pie([test_a, test_b],\n",
    "        autopct='%1.1f%%',\n",
    "        labels=[f'Группа A: {test_a}', \n",
    "                f'Группа B: {test_b}'],\n",
    "        colors=['skyblue', 'salmon'],\n",
    "        startangle=90)\n",
    "\n",
    "plt.title(f'Распределение пользователей по группам')\n",
    "\n",
    "plt.show()"
   ]
  },
  {
   "cell_type": "markdown",
   "metadata": {
    "id": "sgpNY5bv0eM0"
   },
   "source": [
    "#### 3.2. Проверка пересечений пользователей"
   ]
  },
  {
   "cell_type": "code",
   "execution_count": 23,
   "metadata": {
    "id": "E72ozN9FOX1u"
   },
   "outputs": [
    {
     "data": {
      "text/plain": [
       "[]"
      ]
     },
     "metadata": {},
     "output_type": "display_data"
    }
   ],
   "source": [
    "# Проверим пересечение пользователей\n",
    "test_a = sessions_test_part[sessions_test_part['test_group'] == 'A']['user_id']\n",
    "test_b = sessions_test_part[sessions_test_part['test_group'] == 'B']['user_id']\n",
    "\n",
    "intersection = list(set(test_a) & set(test_b))\n",
    "display(intersection)"
   ]
  },
  {
   "cell_type": "markdown",
   "metadata": {},
   "source": [
    "Таких пользователей нет"
   ]
  },
  {
   "cell_type": "markdown",
   "metadata": {
    "id": "6RvkNLrg0eM1"
   },
   "source": [
    "#### 3.3. Равномерность разделения пользователей по устройствам"
   ]
  },
  {
   "cell_type": "code",
   "execution_count": 24,
   "metadata": {
    "id": "x_IP6PUNPWHC"
   },
   "outputs": [
    {
     "name": "stdout",
     "output_type": "stream",
     "text": [
      "Android    0.436751\n",
      "PC         0.252330\n",
      "iPhone     0.204394\n",
      "Mac        0.106525\n",
      "Name: device, dtype: float64\n",
      "Android    0.444103\n",
      "PC         0.246929\n",
      "iPhone     0.187961\n",
      "Mac        0.121007\n",
      "Name: device, dtype: float64\n"
     ]
    }
   ],
   "source": [
    "# Подсчитаем количество устройств в каждой группе\n",
    "device_dist_a = sessions_test_part[sessions_test_part['test_group'] == 'A']['device'].value_counts(normalize=True)\n",
    "device_dist_b = sessions_test_part[sessions_test_part['test_group'] == 'B']['device'].value_counts(normalize=True)\n",
    "\n",
    "print(device_dist_a)\n",
    "print(device_dist_b)"
   ]
  },
  {
   "cell_type": "code",
   "execution_count": 25,
   "metadata": {},
   "outputs": [
    {
     "data": {
      "image/png": "[encoded data removed]",
      "text/plain": [
       "<Figure size 1152x576 with 1 Axes>"
      ]
     },
     "metadata": {
      "needs_background": "light"
     },
     "output_type": "display_data"
    }
   ],
   "source": [
    "# Выбираем уникальные пары\n",
    "users_devices = sessions_test_part.drop_duplicates(['user_id', 'device'])\n",
    "\n",
    "# Построим график для сравнения количества устройств в группах A и B \n",
    "fig, ax = plt.subplots(figsize=(16, 8))\n",
    "df_unstack = users_devices.groupby('device')['test_group'].value_counts(normalize=True).unstack(fill_value=0)\n",
    "\n",
    "df_unstack.plot(kind='bar', width=0.8, edgecolor='grey', ax=ax) \n",
    "\n",
    "plt.title('Распределение устройств по тестовым группам')\n",
    "plt.xlabel('Тип устройства', fontsize=12)\n",
    "plt.ylabel('Доля пользователей', fontsize=12)\n",
    "plt.xticks(rotation=0) \n",
    "plt.grid(axis='y', linestyle='--', alpha=0.3) \n",
    "plt.legend(title='Тестовая группа', labels=['Группа A', 'Группа B'])\n",
    "\n",
    "plt.show()"
   ]
  },
  {
   "cell_type": "markdown",
   "metadata": {
    "id": "gAgmP6vo0eM1"
   },
   "source": [
    "#### 3.4. Равномерность распределения пользователей по регионам"
   ]
  },
  {
   "cell_type": "code",
   "execution_count": 26,
   "metadata": {},
   "outputs": [
    {
     "data": {
      "image/png": "[encoded data removed]",
      "text/plain": [
       "<Figure size 1008x432 with 2 Axes>"
      ]
     },
     "metadata": {},
     "output_type": "display_data"
    }
   ],
   "source": [
    "# Выбираем уникальные пары пользователь-регион\n",
    "users_regions = sessions_test_part.drop_duplicates(subset=['user_id', 'region'])\n",
    "\n",
    "# Подготовка данных\n",
    "region_dist_a = users_regions[users_regions['test_group'] == 'A']['region'].value_counts(normalize=True)\n",
    "region_dist_b = users_regions[users_regions['test_group'] == 'B']['region'].value_counts(normalize=True)\n",
    "\n",
    "# Создаем графики\n",
    "fig, (ax1, ax2) = plt.subplots(1, 2, figsize=(14, 6))\n",
    "fig.suptitle('Распределение регионов по тестовым группам', fontsize=16, y=1.05)\n",
    "\n",
    "# График для группы A\n",
    "ax1.pie(region_dist_a, \n",
    "        labels=region_dist_a.index,\n",
    "        autopct='%1.1f%%',\n",
    "        colors=['#66b3ff','#99ff99','#ffcc99'],\n",
    "        startangle=90)\n",
    "ax1.set_title('Группа A', pad=20)\n",
    "\n",
    "# График для группы B\n",
    "ax2.pie(region_dist_b, \n",
    "        labels=region_dist_b.index,\n",
    "        autopct='%1.1f%%',\n",
    "        colors=['#66b3ff','#99ff99','#ffcc99'],\n",
    "        startangle=90)\n",
    "ax2.set_title('Группа B', pad=20)\n",
    "\n",
    "plt.tight_layout()\n",
    "plt.show()"
   ]
  },
  {
   "cell_type": "markdown",
   "metadata": {
    "id": "X2WSZ-sDrSUi"
   },
   "source": [
    "#### 3.5. Вывод после проверки A/B-теста"
   ]
  },
  {
   "cell_type": "markdown",
   "metadata": {},
   "source": [
    "#### На основе проведённого анализа A/B-теста получили следующие выводы:\n",
    "\n",
    " - между группами существует небольшая разница в 11 человек, В относительном значении разница в 0.2 процента. Разница статистически незначима, группы сбалансированы по объёму\n",
    "\n",
    " - между группами не было обнаружено пересечений пользователей\n",
    " \n",
    " - есть небольшие отличия между тестовой и контрольной группой по распределению пользователей по устройствам и регионам. Но оно небольшое и им можно пренебречь\n",
    " \n",
    " A/B-тест проводится корректно. Нарушений в дизайне эксперимента не обнаружено"
   ]
  },
  {
   "cell_type": "markdown",
   "metadata": {
    "id": "nudRr_BQ0eM2"
   },
   "source": [
    "### 4. Проверка результатов A/B-теста"
   ]
  },
  {
   "cell_type": "markdown",
   "metadata": {
    "id": "JVve-YBB0eM2"
   },
   "source": [
    "#### 4.1. Получение результатов теста и подсчёт основной метрики"
   ]
  },
  {
   "cell_type": "code",
   "execution_count": 27,
   "metadata": {
    "id": "EqRlwMtKPTir"
   },
   "outputs": [],
   "source": [
    "# Создадим датафрейм sessions_test\n",
    "sessions_test = pd.read_csv('/datasets/sessions_project_test.csv')\n",
    "\n",
    "# Создадим столбец good_session\n",
    "sessions_test['good_session'] = (sessions_test['page_counter'] >= 4).astype(int)"
   ]
  },
  {
   "cell_type": "markdown",
   "metadata": {
    "id": "aeYhrMYy0eM2"
   },
   "source": [
    "#### 4.2. Проверка корректности результатов теста"
   ]
  },
  {
   "cell_type": "code",
   "execution_count": 28,
   "metadata": {},
   "outputs": [
    {
     "name": "stdout",
     "output_type": "stream",
     "text": [
      "<class 'pandas.core.frame.DataFrame'>\n",
      "RangeIndex: 100005 entries, 0 to 100004\n",
      "Data columns (total 12 columns):\n",
      " #   Column             Non-Null Count   Dtype \n",
      "---  ------             --------------   ----- \n",
      " 0   user_id            100005 non-null  object\n",
      " 1   session_id         100005 non-null  object\n",
      " 2   session_date       100005 non-null  object\n",
      " 3   session_start_ts   100005 non-null  object\n",
      " 4   install_date       100005 non-null  object\n",
      " 5   session_number     100005 non-null  int64 \n",
      " 6   registration_flag  100005 non-null  int64 \n",
      " 7   page_counter       100005 non-null  int64 \n",
      " 8   region             100005 non-null  object\n",
      " 9   device             100005 non-null  object\n",
      " 10  test_group         100005 non-null  object\n",
      " 11  good_session       100005 non-null  int64 \n",
      "dtypes: int64(4), object(8)\n",
      "memory usage: 9.2+ MB\n"
     ]
    }
   ],
   "source": [
    "# Выведем информацию о датафрейме\n",
    "sessions_test.info()"
   ]
  },
  {
   "cell_type": "code",
   "execution_count": 29,
   "metadata": {},
   "outputs": [],
   "source": [
    "# Приведем столбец session_start_ts к типу datetime\n",
    "sessions_test['session_start_ts'] = pd.to_datetime(sessions_test['session_start_ts'])"
   ]
  },
  {
   "cell_type": "code",
   "execution_count": 30,
   "metadata": {},
   "outputs": [
    {
     "name": "stdout",
     "output_type": "stream",
     "text": [
      "Временной диапазон теста:\n",
      "От 2025-10-14 00:00:04 до 2025-11-02 23:47:33\n"
     ]
    }
   ],
   "source": [
    "# Временной диапазон теста\n",
    "min_date = sessions_test['session_start_ts'].min()\n",
    "max_date = sessions_test['session_start_ts'].max()\n",
    "print(f\"Временной диапазон теста:\\nОт {min_date} до {max_date}\")"
   ]
  },
  {
   "cell_type": "markdown",
   "metadata": {},
   "source": [
    "Из описания задачи тест проводился с 2025-10-14 по 2025-11-02. По данным датафрейма все верно."
   ]
  },
  {
   "cell_type": "code",
   "execution_count": 31,
   "metadata": {
    "id": "5NUlcltkTTSU",
    "scrolled": true
   },
   "outputs": [
    {
     "name": "stdout",
     "output_type": "stream",
     "text": [
      "Вывод: p-value = 0.938219304859116 > 0.05 → Нет статистически значимых различий\n",
      "Тест проводится корректно, группы сбалансированы по количеству сессий\n"
     ]
    }
   ],
   "source": [
    "# Рассчитаем количество уникальных сессий для каждого дня для обеих групп\n",
    "daily_session_a = sessions_test[sessions_test['test_group'] == 'A'].groupby('session_date')['session_id'].nunique()\n",
    "daily_session_b = sessions_test[sessions_test['test_group'] == 'B'].groupby('session_date')['session_id'].nunique()\n",
    "\n",
    "\n",
    "test_result = ttest_ind(\n",
    "    daily_session_a,\n",
    "    daily_session_b,\n",
    "    alternative='two-sided' \n",
    ")\n",
    "\n",
    "alpha = 0.05\n",
    "\n",
    "if test_result.pvalue > alpha:\n",
    "    print(f\"Вывод: p-value = {test_result.pvalue} > {alpha} → Нет статистически значимых различий\")\n",
    "    print(\"Тест проводится корректно, группы сбалансированы по количеству сессий\")\n",
    "else:\n",
    "    print(f\"Вывод: p-value = {test_result.pvalue} ≤ {alpha} → Обнаружены значимые различия\")\n",
    "    print(\"Внимание! Группы не сбалансированы, требуется проверка дизайна эксперимента\")"
   ]
  },
  {
   "cell_type": "markdown",
   "metadata": {
    "id": "7kwRxzg70eM3"
   },
   "source": [
    "#### 4.3. Сравнение доли успешных сессий"
   ]
  },
  {
   "cell_type": "code",
   "execution_count": 32,
   "metadata": {
    "id": "Uku-V1CpPRCz"
   },
   "outputs": [
    {
     "data": {
      "text/html": [
       "<div>\n",
       "<style scoped>\n",
       "    .dataframe tbody tr th:only-of-type {\n",
       "        vertical-align: middle;\n",
       "    }\n",
       "\n",
       "    .dataframe tbody tr th {\n",
       "        vertical-align: top;\n",
       "    }\n",
       "\n",
       "    .dataframe thead th {\n",
       "        text-align: right;\n",
       "    }\n",
       "</style>\n",
       "<table border=\"1\" class=\"dataframe\">\n",
       "  <thead>\n",
       "    <tr style=\"text-align: right;\">\n",
       "      <th></th>\n",
       "      <th>total_sessions</th>\n",
       "      <th>good_sessions</th>\n",
       "      <th>good_ratio</th>\n",
       "    </tr>\n",
       "    <tr>\n",
       "      <th>test_group</th>\n",
       "      <th></th>\n",
       "      <th></th>\n",
       "      <th></th>\n",
       "    </tr>\n",
       "  </thead>\n",
       "  <tbody>\n",
       "    <tr>\n",
       "      <th>A</th>\n",
       "      <td>49551</td>\n",
       "      <td>15248</td>\n",
       "      <td>0.307723</td>\n",
       "    </tr>\n",
       "    <tr>\n",
       "      <th>B</th>\n",
       "      <td>50454</td>\n",
       "      <td>16059</td>\n",
       "      <td>0.318290</td>\n",
       "    </tr>\n",
       "  </tbody>\n",
       "</table>\n",
       "</div>"
      ],
      "text/plain": [
       "            total_sessions  good_sessions  good_ratio\n",
       "test_group                                           \n",
       "A                    49551          15248    0.307723\n",
       "B                    50454          16059    0.318290"
      ]
     },
     "metadata": {},
     "output_type": "display_data"
    },
    {
     "data": {
      "text/plain": [
       "'Разница успешных сессий среди групп составлет: 0.010566571724179463'"
      ]
     },
     "metadata": {},
     "output_type": "display_data"
    }
   ],
   "source": [
    "# Рассчитаем долю успешных ссесий\n",
    "results = sessions_test.groupby('test_group')['good_session'].agg([\n",
    "    ('total_sessions', 'count'),\n",
    "    ('good_sessions', 'sum'),\n",
    "    ('good_ratio', 'mean')\n",
    "])\n",
    "\n",
    "display(results)\n",
    "\n",
    "# Рассчитаем разницу доли успешных сессий для групп А и B \n",
    "diff_ratio = results.loc['B', 'good_ratio'] - results.loc['A', 'good_ratio']\n",
    "\n",
    "display(f'Разница успешных сессий среди групп составлет: {diff_ratio}')"
   ]
  },
  {
   "cell_type": "markdown",
   "metadata": {
    "id": "9fMFuja10eM4"
   },
   "source": [
    "#### 4.4. Насколько статистически значимо изменение ключевой метрики"
   ]
  },
  {
   "cell_type": "code",
   "execution_count": 33,
   "metadata": {
    "id": "gFvhRGwlPLS0"
   },
   "outputs": [
    {
     "name": "stdout",
     "output_type": "stream",
     "text": [
      "Z-тест пропорций: p-value = 0.0003149479976072246\n",
      "Вывод: Разница статистически значима (p < 0.05)\n"
     ]
    }
   ],
   "source": [
    "# Проверим является ли разница в выборках статистически значимой\n",
    "z_stat, p_value = proportions_ztest(\n",
    "    [results.loc['A', 'good_sessions'], results.loc['B', 'good_sessions']],\n",
    "    [results.loc['A', 'total_sessions'], results.loc['B', 'total_sessions']],\n",
    "    alternative='two-sided'\n",
    ")\n",
    "\n",
    "print(f\"Z-тест пропорций: p-value = {p_value}\")\n",
    "if p_value < 0.05:\n",
    "    print(\"Вывод: Разница статистически значима (p < 0.05)\")\n",
    "else:\n",
    "    print(\"Вывод: Разница не статистически значима (p ≥ 0.05)\")"
   ]
  },
  {
   "cell_type": "markdown",
   "metadata": {
    "id": "GnJrkY9Q63zS"
   },
   "source": [
    "#### 4.5. Вывод по результатам A/B-эксперимента"
   ]
  },
  {
   "cell_type": "markdown",
   "metadata": {},
   "source": [
    "#### Выводы по результатам A/B-теста\n",
    " - всего было задействовано более 34 882 пользователей, эксперимент проводился 4 дня. В группах А и B было 1477 и 1466 пользователей соответственно, пересечений не было, распределение по устройствам и регионам было сбалансированным\n",
    " - внедрение алгоритма повлияло на рост ключевой метрики, доля успешных сессий, т.е. сессий где число просмотренных страниц более 4. Разница между тестовыми группами составила чуть более 1 процента\n",
    " - p-value = 0.0003, что говорит о том, что разница между группами статистически значима.\n",
    "\n",
    "Учитывая полученные результаты, рекомендуется внедрить новоовведение в продукт. Небольшой прирост успешности сессий в 1% является статистически значимым улучшением, что способствует повышению вовлечённости пользователей и потенциально увеличивает ключевые показатели эффективности приложения."
   ]
  }
 ],
 "metadata": {
  "ExecuteTimeLog": [
   {
    "duration": 430,
    "start_time": "2025-05-18T10:09:42.075Z"
   },
   {
    "duration": 1077,
    "start_time": "2025-05-18T10:10:51.948Z"
   },
   {
    "duration": 32,
    "start_time": "2025-05-18T10:10:53.027Z"
   },
   {
    "duration": 686,
    "start_time": "2025-05-18T10:29:07.130Z"
   },
   {
    "duration": 35,
    "start_time": "2025-05-18T10:40:46.074Z"
   },
   {
    "duration": 69,
    "start_time": "2025-05-18T10:41:15.364Z"
   },
   {
    "duration": 2,
    "start_time": "2025-05-18T10:41:22.631Z"
   },
   {
    "duration": 4,
    "start_time": "2025-05-18T10:41:24.994Z"
   },
   {
    "duration": 46,
    "start_time": "2025-05-18T10:42:35.742Z"
   },
   {
    "duration": 150,
    "start_time": "2025-05-18T11:03:32.981Z"
   },
   {
    "duration": 468,
    "start_time": "2025-05-18T11:24:18.616Z"
   },
   {
    "duration": 276,
    "start_time": "2025-05-18T11:24:21.624Z"
   },
   {
    "duration": 583,
    "start_time": "2025-05-18T11:29:52.637Z"
   },
   {
    "duration": 564,
    "start_time": "2025-05-18T11:29:58.470Z"
   },
   {
    "duration": 126,
    "start_time": "2025-05-18T11:30:52.828Z"
   },
   {
    "duration": 75,
    "start_time": "2025-05-18T11:45:24.389Z"
   },
   {
    "duration": 44,
    "start_time": "2025-05-18T11:47:29.383Z"
   },
   {
    "duration": 11,
    "start_time": "2025-05-18T11:47:39.305Z"
   },
   {
    "duration": 13,
    "start_time": "2025-05-18T11:52:37.166Z"
   },
   {
    "duration": 330,
    "start_time": "2025-05-18T12:05:13.321Z"
   },
   {
    "duration": 236,
    "start_time": "2025-05-18T12:06:12.625Z"
   },
   {
    "duration": 23,
    "start_time": "2025-05-18T12:08:53.234Z"
   },
   {
    "duration": 12,
    "start_time": "2025-05-18T12:09:02.716Z"
   },
   {
    "duration": 210,
    "start_time": "2025-05-18T12:09:06.501Z"
   },
   {
    "duration": 272,
    "start_time": "2025-05-18T12:09:23.348Z"
   },
   {
    "duration": 8,
    "start_time": "2025-05-18T12:19:08.435Z"
   },
   {
    "duration": 14,
    "start_time": "2025-05-18T12:20:04.942Z"
   },
   {
    "duration": 32,
    "start_time": "2025-05-18T12:20:33.747Z"
   },
   {
    "duration": 32,
    "start_time": "2025-05-18T12:20:49.131Z"
   },
   {
    "duration": 100,
    "start_time": "2025-05-18T12:21:50.996Z"
   },
   {
    "duration": 32,
    "start_time": "2025-05-18T12:22:36.589Z"
   },
   {
    "duration": 31,
    "start_time": "2025-05-18T12:23:33.122Z"
   },
   {
    "duration": 169,
    "start_time": "2025-05-18T12:28:39.634Z"
   },
   {
    "duration": 182,
    "start_time": "2025-05-18T12:28:53.645Z"
   },
   {
    "duration": 215,
    "start_time": "2025-05-18T12:28:57.530Z"
   },
   {
    "duration": 9,
    "start_time": "2025-05-18T13:16:31.498Z"
   },
   {
    "duration": 9,
    "start_time": "2025-05-18T13:16:54.122Z"
   },
   {
    "duration": 8,
    "start_time": "2025-05-18T13:17:00.780Z"
   },
   {
    "duration": 9,
    "start_time": "2025-05-18T13:17:13.845Z"
   },
   {
    "duration": 9,
    "start_time": "2025-05-18T13:17:23.950Z"
   },
   {
    "duration": 6,
    "start_time": "2025-05-18T13:18:05.917Z"
   },
   {
    "duration": 23,
    "start_time": "2025-05-18T13:24:05.905Z"
   },
   {
    "duration": 191,
    "start_time": "2025-05-18T13:28:56.990Z"
   },
   {
    "duration": 197,
    "start_time": "2025-05-18T13:32:44.924Z"
   },
   {
    "duration": 362,
    "start_time": "2025-05-18T13:33:00.025Z"
   },
   {
    "duration": 400,
    "start_time": "2025-05-18T13:34:15.288Z"
   },
   {
    "duration": 4,
    "start_time": "2025-05-18T13:34:47.031Z"
   },
   {
    "duration": 354,
    "start_time": "2025-05-18T13:36:52.214Z"
   },
   {
    "duration": 345,
    "start_time": "2025-05-18T13:38:28.595Z"
   },
   {
    "duration": 1256,
    "start_time": "2025-05-18T13:39:02.743Z"
   },
   {
    "duration": 370,
    "start_time": "2025-05-18T13:39:20.091Z"
   },
   {
    "duration": 338,
    "start_time": "2025-05-18T13:40:32.232Z"
   },
   {
    "duration": 6,
    "start_time": "2025-05-18T13:40:47.143Z"
   },
   {
    "duration": 358,
    "start_time": "2025-05-18T13:41:18.274Z"
   },
   {
    "duration": 564,
    "start_time": "2025-05-18T13:45:12.535Z"
   },
   {
    "duration": 11,
    "start_time": "2025-05-18T13:46:55.477Z"
   },
   {
    "duration": 11,
    "start_time": "2025-05-18T13:47:33.656Z"
   },
   {
    "duration": 17,
    "start_time": "2025-05-18T13:48:35.917Z"
   },
   {
    "duration": 18,
    "start_time": "2025-05-18T13:48:52.638Z"
   },
   {
    "duration": 18,
    "start_time": "2025-05-18T13:48:58.156Z"
   },
   {
    "duration": 156,
    "start_time": "2025-05-18T14:01:32.974Z"
   },
   {
    "duration": 146,
    "start_time": "2025-05-18T14:03:27.089Z"
   },
   {
    "duration": 75,
    "start_time": "2025-05-18T14:11:24.529Z"
   },
   {
    "duration": 28,
    "start_time": "2025-05-18T14:11:48.688Z"
   },
   {
    "duration": 37,
    "start_time": "2025-05-18T14:20:47.161Z"
   },
   {
    "duration": 32,
    "start_time": "2025-05-18T14:20:58.781Z"
   },
   {
    "duration": 26,
    "start_time": "2025-05-18T14:21:03.908Z"
   },
   {
    "duration": 26,
    "start_time": "2025-05-18T14:21:48.999Z"
   },
   {
    "duration": 26,
    "start_time": "2025-05-18T14:21:57.656Z"
   },
   {
    "duration": 29,
    "start_time": "2025-05-18T14:23:29.820Z"
   },
   {
    "duration": 29,
    "start_time": "2025-05-18T14:23:34.548Z"
   },
   {
    "duration": 29,
    "start_time": "2025-05-18T14:23:48.003Z"
   },
   {
    "duration": 29,
    "start_time": "2025-05-18T14:23:53.343Z"
   },
   {
    "duration": 40,
    "start_time": "2025-05-18T14:27:36.617Z"
   },
   {
    "duration": 185,
    "start_time": "2025-05-18T14:27:43.764Z"
   },
   {
    "duration": 44,
    "start_time": "2025-05-18T14:30:36.539Z"
   },
   {
    "duration": 8841,
    "start_time": "2025-05-18T14:30:44.236Z"
   },
   {
    "duration": 5,
    "start_time": "2025-05-18T14:31:56.621Z"
   },
   {
    "duration": 72,
    "start_time": "2025-05-18T14:32:48.305Z"
   },
   {
    "duration": 178,
    "start_time": "2025-05-18T14:36:06.751Z"
   },
   {
    "duration": 178,
    "start_time": "2025-05-18T14:36:28.911Z"
   },
   {
    "duration": 164,
    "start_time": "2025-05-18T14:37:58.919Z"
   },
   {
    "duration": 141,
    "start_time": "2025-05-18T14:38:17.285Z"
   },
   {
    "duration": 153,
    "start_time": "2025-05-18T14:38:20.371Z"
   },
   {
    "duration": 75,
    "start_time": "2025-05-18T14:39:16.482Z"
   },
   {
    "duration": 32,
    "start_time": "2025-05-18T14:39:45.027Z"
   },
   {
    "duration": 1271,
    "start_time": "2025-05-18T14:40:13.298Z"
   },
   {
    "duration": 105,
    "start_time": "2025-05-18T14:40:19.637Z"
   },
   {
    "duration": 90,
    "start_time": "2025-05-18T14:40:35.490Z"
   },
   {
    "duration": 103,
    "start_time": "2025-05-18T14:40:38.832Z"
   },
   {
    "duration": 8,
    "start_time": "2025-05-18T14:42:55.719Z"
   },
   {
    "duration": 9,
    "start_time": "2025-05-18T14:43:27.764Z"
   },
   {
    "duration": 8,
    "start_time": "2025-05-18T15:02:32.291Z"
   },
   {
    "duration": 7,
    "start_time": "2025-05-18T15:04:08.215Z"
   },
   {
    "duration": 215,
    "start_time": "2025-05-18T15:05:41.205Z"
   },
   {
    "duration": 8,
    "start_time": "2025-05-18T15:06:14.395Z"
   },
   {
    "duration": 9,
    "start_time": "2025-05-18T15:06:18.231Z"
   },
   {
    "duration": 493,
    "start_time": "2025-05-18T15:06:20.611Z"
   },
   {
    "duration": 19,
    "start_time": "2025-05-18T15:08:22.291Z"
   },
   {
    "duration": 352,
    "start_time": "2025-05-18T15:08:44.168Z"
   },
   {
    "duration": 156,
    "start_time": "2025-05-18T15:14:54.376Z"
   },
   {
    "duration": 163,
    "start_time": "2025-05-18T15:17:35.925Z"
   },
   {
    "duration": 100,
    "start_time": "2025-05-18T15:18:11.809Z"
   },
   {
    "duration": 82,
    "start_time": "2025-05-18T15:18:25.112Z"
   },
   {
    "duration": 166,
    "start_time": "2025-05-18T15:18:34.880Z"
   },
   {
    "duration": 164,
    "start_time": "2025-05-18T15:18:44.295Z"
   },
   {
    "duration": 190,
    "start_time": "2025-05-18T15:19:29.327Z"
   },
   {
    "duration": 188,
    "start_time": "2025-05-18T15:19:58.476Z"
   },
   {
    "duration": 191,
    "start_time": "2025-05-18T15:20:08.395Z"
   },
   {
    "duration": 17,
    "start_time": "2025-05-18T15:20:24.770Z"
   },
   {
    "duration": 10,
    "start_time": "2025-05-18T15:20:28.371Z"
   },
   {
    "duration": 183,
    "start_time": "2025-05-18T15:21:27.172Z"
   },
   {
    "duration": 176,
    "start_time": "2025-05-18T15:22:51.365Z"
   },
   {
    "duration": 308,
    "start_time": "2025-05-18T15:23:01.339Z"
   },
   {
    "duration": 12,
    "start_time": "2025-05-18T15:23:16.064Z"
   },
   {
    "duration": 188,
    "start_time": "2025-05-18T15:23:25.426Z"
   },
   {
    "duration": 179,
    "start_time": "2025-05-18T15:24:03.918Z"
   },
   {
    "duration": 188,
    "start_time": "2025-05-18T15:24:12.399Z"
   },
   {
    "duration": 317,
    "start_time": "2025-05-18T15:33:10.257Z"
   },
   {
    "duration": 346,
    "start_time": "2025-05-18T15:34:06.899Z"
   },
   {
    "duration": 355,
    "start_time": "2025-05-18T15:35:16.702Z"
   },
   {
    "duration": 355,
    "start_time": "2025-05-18T15:36:09.576Z"
   },
   {
    "duration": 351,
    "start_time": "2025-05-18T15:36:43.714Z"
   },
   {
    "duration": 363,
    "start_time": "2025-05-18T15:37:12.079Z"
   },
   {
    "duration": 334,
    "start_time": "2025-05-18T15:37:30.418Z"
   },
   {
    "duration": 337,
    "start_time": "2025-05-18T15:37:46.398Z"
   },
   {
    "duration": 332,
    "start_time": "2025-05-18T15:37:55.682Z"
   },
   {
    "duration": 304,
    "start_time": "2025-05-18T15:38:12.719Z"
   },
   {
    "duration": 309,
    "start_time": "2025-05-18T15:38:18.881Z"
   },
   {
    "duration": 291,
    "start_time": "2025-05-18T15:38:25.422Z"
   },
   {
    "duration": 195,
    "start_time": "2025-05-18T15:40:00.885Z"
   },
   {
    "duration": 178,
    "start_time": "2025-05-18T15:40:09.843Z"
   },
   {
    "duration": 305,
    "start_time": "2025-05-18T15:40:25.970Z"
   },
   {
    "duration": 175,
    "start_time": "2025-05-18T15:41:45.848Z"
   },
   {
    "duration": 199,
    "start_time": "2025-05-18T15:41:49.680Z"
   },
   {
    "duration": 185,
    "start_time": "2025-05-18T15:42:37.301Z"
   },
   {
    "duration": 182,
    "start_time": "2025-05-18T15:43:06.244Z"
   },
   {
    "duration": 314,
    "start_time": "2025-05-18T15:43:20.099Z"
   },
   {
    "duration": 346,
    "start_time": "2025-05-18T15:45:09.408Z"
   },
   {
    "duration": 11,
    "start_time": "2025-05-18T16:43:37.954Z"
   },
   {
    "duration": 288,
    "start_time": "2025-05-18T16:51:00.138Z"
   },
   {
    "duration": 277,
    "start_time": "2025-05-18T16:51:05.378Z"
   },
   {
    "duration": 270,
    "start_time": "2025-05-18T16:51:32.871Z"
   },
   {
    "duration": 241,
    "start_time": "2025-05-18T16:52:20.677Z"
   },
   {
    "duration": 73,
    "start_time": "2025-05-18T17:04:30.336Z"
   },
   {
    "duration": 74,
    "start_time": "2025-05-18T17:04:37.454Z"
   },
   {
    "duration": 76,
    "start_time": "2025-05-18T17:04:40.847Z"
   },
   {
    "duration": 73,
    "start_time": "2025-05-18T17:04:46.850Z"
   },
   {
    "duration": 74,
    "start_time": "2025-05-18T17:07:32.196Z"
   },
   {
    "duration": 72,
    "start_time": "2025-05-18T17:10:06.869Z"
   },
   {
    "duration": 67,
    "start_time": "2025-05-18T17:11:03.176Z"
   },
   {
    "duration": 71,
    "start_time": "2025-05-18T17:12:17.321Z"
   },
   {
    "duration": 71,
    "start_time": "2025-05-18T17:13:12.895Z"
   },
   {
    "duration": 68,
    "start_time": "2025-05-18T17:13:48.137Z"
   },
   {
    "duration": 52,
    "start_time": "2025-05-19T10:26:51.863Z"
   },
   {
    "duration": 417,
    "start_time": "2025-05-19T10:27:02.244Z"
   },
   {
    "duration": 1127,
    "start_time": "2025-05-19T10:27:02.663Z"
   },
   {
    "duration": 18,
    "start_time": "2025-05-19T10:27:03.792Z"
   },
   {
    "duration": 636,
    "start_time": "2025-05-19T10:27:03.812Z"
   },
   {
    "duration": 3,
    "start_time": "2025-05-19T10:27:04.449Z"
   },
   {
    "duration": 93,
    "start_time": "2025-05-19T10:27:04.454Z"
   },
   {
    "duration": 480,
    "start_time": "2025-05-19T10:27:04.549Z"
   },
   {
    "duration": 266,
    "start_time": "2025-05-19T10:27:05.031Z"
   },
   {
    "duration": 54,
    "start_time": "2025-05-19T10:27:05.298Z"
   },
   {
    "duration": 23,
    "start_time": "2025-05-19T10:27:05.355Z"
   },
   {
    "duration": 331,
    "start_time": "2025-05-19T10:27:05.380Z"
   },
   {
    "duration": 225,
    "start_time": "2025-05-19T10:27:05.712Z"
   },
   {
    "duration": 33,
    "start_time": "2025-05-19T10:27:05.939Z"
   },
   {
    "duration": 193,
    "start_time": "2025-05-19T10:27:05.974Z"
   },
   {
    "duration": 6,
    "start_time": "2025-05-19T10:27:06.168Z"
   },
   {
    "duration": 570,
    "start_time": "2025-05-19T10:27:06.176Z"
   },
   {
    "duration": 447,
    "start_time": "2025-05-19T10:27:06.748Z"
   },
   {
    "duration": 168,
    "start_time": "2025-05-19T10:27:07.197Z"
   },
   {
    "duration": 146,
    "start_time": "2025-05-19T10:27:07.367Z"
   },
   {
    "duration": 0,
    "start_time": "2025-05-19T10:27:07.515Z"
   },
   {
    "duration": 0,
    "start_time": "2025-05-19T10:27:07.516Z"
   },
   {
    "duration": 0,
    "start_time": "2025-05-19T10:27:07.518Z"
   },
   {
    "duration": 0,
    "start_time": "2025-05-19T10:27:07.519Z"
   },
   {
    "duration": 0,
    "start_time": "2025-05-19T10:27:07.520Z"
   },
   {
    "duration": 0,
    "start_time": "2025-05-19T10:27:07.537Z"
   },
   {
    "duration": 0,
    "start_time": "2025-05-19T10:27:07.538Z"
   },
   {
    "duration": 149,
    "start_time": "2025-05-19T10:30:06.980Z"
   },
   {
    "duration": 38,
    "start_time": "2025-05-19T10:30:20.928Z"
   },
   {
    "duration": 104,
    "start_time": "2025-05-19T10:31:26.893Z"
   },
   {
    "duration": 117,
    "start_time": "2025-05-19T10:33:35.994Z"
   },
   {
    "duration": 44,
    "start_time": "2025-05-19T10:35:11.000Z"
   },
   {
    "duration": 182,
    "start_time": "2025-05-19T10:35:21.388Z"
   },
   {
    "duration": 109,
    "start_time": "2025-05-19T10:35:35.150Z"
   },
   {
    "duration": 110,
    "start_time": "2025-05-19T10:35:39.007Z"
   },
   {
    "duration": 395,
    "start_time": "2025-05-19T10:36:13.783Z"
   },
   {
    "duration": 1109,
    "start_time": "2025-05-19T10:36:14.181Z"
   },
   {
    "duration": 17,
    "start_time": "2025-05-19T10:36:15.292Z"
   },
   {
    "duration": 653,
    "start_time": "2025-05-19T10:36:15.311Z"
   },
   {
    "duration": 3,
    "start_time": "2025-05-19T10:36:15.965Z"
   },
   {
    "duration": 51,
    "start_time": "2025-05-19T10:36:15.970Z"
   },
   {
    "duration": 364,
    "start_time": "2025-05-19T10:36:16.023Z"
   },
   {
    "duration": 228,
    "start_time": "2025-05-19T10:36:16.389Z"
   },
   {
    "duration": 52,
    "start_time": "2025-05-19T10:36:16.618Z"
   },
   {
    "duration": 5,
    "start_time": "2025-05-19T10:36:16.672Z"
   },
   {
    "duration": 333,
    "start_time": "2025-05-19T10:36:16.678Z"
   },
   {
    "duration": 232,
    "start_time": "2025-05-19T10:36:17.012Z"
   },
   {
    "duration": 32,
    "start_time": "2025-05-19T10:36:17.246Z"
   },
   {
    "duration": 305,
    "start_time": "2025-05-19T10:36:17.280Z"
   },
   {
    "duration": 5,
    "start_time": "2025-05-19T10:36:17.587Z"
   },
   {
    "duration": 408,
    "start_time": "2025-05-19T10:36:17.594Z"
   },
   {
    "duration": 479,
    "start_time": "2025-05-19T10:36:18.004Z"
   },
   {
    "duration": 168,
    "start_time": "2025-05-19T10:36:18.484Z"
   },
   {
    "duration": 111,
    "start_time": "2025-05-19T10:36:18.654Z"
   },
   {
    "duration": 8,
    "start_time": "2025-05-19T10:36:18.767Z"
   },
   {
    "duration": 23,
    "start_time": "2025-05-19T10:36:18.777Z"
   },
   {
    "duration": 202,
    "start_time": "2025-05-19T10:36:18.802Z"
   },
   {
    "duration": 317,
    "start_time": "2025-05-19T10:36:19.006Z"
   },
   {
    "duration": 259,
    "start_time": "2025-05-19T10:36:19.326Z"
   },
   {
    "duration": 73,
    "start_time": "2025-05-19T10:36:19.587Z"
   },
   {
    "duration": 12,
    "start_time": "2025-05-19T10:36:19.662Z"
   },
   {
    "duration": 17,
    "start_time": "2025-05-19T10:37:53.748Z"
   },
   {
    "duration": 17,
    "start_time": "2025-05-19T10:41:35.728Z"
   },
   {
    "duration": 1298,
    "start_time": "2025-05-19T10:42:55.843Z"
   },
   {
    "duration": 19,
    "start_time": "2025-05-19T10:44:21.649Z"
   },
   {
    "duration": 19,
    "start_time": "2025-05-19T10:44:32.393Z"
   },
   {
    "duration": 10,
    "start_time": "2025-05-19T10:47:32.914Z"
   },
   {
    "duration": 5,
    "start_time": "2025-05-19T10:49:51.350Z"
   },
   {
    "duration": 5,
    "start_time": "2025-05-19T10:50:42.184Z"
   },
   {
    "duration": 407,
    "start_time": "2025-05-19T10:54:13.895Z"
   },
   {
    "duration": 1185,
    "start_time": "2025-05-19T10:54:14.304Z"
   },
   {
    "duration": 20,
    "start_time": "2025-05-19T10:54:15.491Z"
   },
   {
    "duration": 621,
    "start_time": "2025-05-19T10:54:15.513Z"
   },
   {
    "duration": 3,
    "start_time": "2025-05-19T10:54:16.137Z"
   },
   {
    "duration": 49,
    "start_time": "2025-05-19T10:54:16.141Z"
   },
   {
    "duration": 285,
    "start_time": "2025-05-19T10:54:16.191Z"
   },
   {
    "duration": 224,
    "start_time": "2025-05-19T10:54:16.478Z"
   },
   {
    "duration": 49,
    "start_time": "2025-05-19T10:54:16.704Z"
   },
   {
    "duration": 6,
    "start_time": "2025-05-19T10:54:16.755Z"
   },
   {
    "duration": 343,
    "start_time": "2025-05-19T10:54:16.762Z"
   },
   {
    "duration": 218,
    "start_time": "2025-05-19T10:54:17.107Z"
   },
   {
    "duration": 35,
    "start_time": "2025-05-19T10:54:17.327Z"
   },
   {
    "duration": 185,
    "start_time": "2025-05-19T10:54:17.364Z"
   },
   {
    "duration": 6,
    "start_time": "2025-05-19T10:54:17.551Z"
   },
   {
    "duration": 355,
    "start_time": "2025-05-19T10:54:17.559Z"
   },
   {
    "duration": 513,
    "start_time": "2025-05-19T10:54:17.916Z"
   },
   {
    "duration": 169,
    "start_time": "2025-05-19T10:54:18.431Z"
   },
   {
    "duration": 108,
    "start_time": "2025-05-19T10:54:18.601Z"
   },
   {
    "duration": 8,
    "start_time": "2025-05-19T10:54:18.711Z"
   },
   {
    "duration": 22,
    "start_time": "2025-05-19T10:54:18.721Z"
   },
   {
    "duration": 198,
    "start_time": "2025-05-19T10:54:18.746Z"
   },
   {
    "duration": 316,
    "start_time": "2025-05-19T10:54:18.946Z"
   },
   {
    "duration": 274,
    "start_time": "2025-05-19T10:54:19.263Z"
   },
   {
    "duration": 71,
    "start_time": "2025-05-19T10:54:19.539Z"
   },
   {
    "duration": 38,
    "start_time": "2025-05-19T10:54:19.611Z"
   },
   {
    "duration": 9,
    "start_time": "2025-05-19T10:54:19.651Z"
   },
   {
    "duration": 415,
    "start_time": "2025-05-19T12:19:17.729Z"
   },
   {
    "duration": 1165,
    "start_time": "2025-05-19T12:19:18.146Z"
   },
   {
    "duration": 17,
    "start_time": "2025-05-19T12:19:19.313Z"
   },
   {
    "duration": 634,
    "start_time": "2025-05-19T12:19:19.333Z"
   },
   {
    "duration": 3,
    "start_time": "2025-05-19T12:19:19.968Z"
   },
   {
    "duration": 56,
    "start_time": "2025-05-19T12:19:19.973Z"
   },
   {
    "duration": 512,
    "start_time": "2025-05-19T12:19:20.030Z"
   },
   {
    "duration": 272,
    "start_time": "2025-05-19T12:19:20.545Z"
   },
   {
    "duration": 46,
    "start_time": "2025-05-19T12:19:20.819Z"
   },
   {
    "duration": 40,
    "start_time": "2025-05-19T12:19:20.868Z"
   },
   {
    "duration": 336,
    "start_time": "2025-05-19T12:19:20.909Z"
   },
   {
    "duration": 225,
    "start_time": "2025-05-19T12:19:21.247Z"
   },
   {
    "duration": 42,
    "start_time": "2025-05-19T12:19:21.474Z"
   },
   {
    "duration": 257,
    "start_time": "2025-05-19T12:19:21.518Z"
   },
   {
    "duration": 6,
    "start_time": "2025-05-19T12:19:21.776Z"
   },
   {
    "duration": 630,
    "start_time": "2025-05-19T12:19:21.784Z"
   },
   {
    "duration": 457,
    "start_time": "2025-05-19T12:19:22.415Z"
   },
   {
    "duration": 172,
    "start_time": "2025-05-19T12:19:22.874Z"
   },
   {
    "duration": 115,
    "start_time": "2025-05-19T12:19:23.048Z"
   },
   {
    "duration": 8,
    "start_time": "2025-05-19T12:19:23.165Z"
   },
   {
    "duration": 23,
    "start_time": "2025-05-19T12:19:23.174Z"
   },
   {
    "duration": 205,
    "start_time": "2025-05-19T12:19:23.198Z"
   },
   {
    "duration": 307,
    "start_time": "2025-05-19T12:19:23.405Z"
   },
   {
    "duration": 270,
    "start_time": "2025-05-19T12:19:23.714Z"
   },
   {
    "duration": 76,
    "start_time": "2025-05-19T12:19:23.985Z"
   },
   {
    "duration": 22,
    "start_time": "2025-05-19T12:19:24.063Z"
   },
   {
    "duration": 21,
    "start_time": "2025-05-19T12:19:24.104Z"
   },
   {
    "duration": 405,
    "start_time": "2025-05-19T12:26:43.144Z"
   },
   {
    "duration": 1189,
    "start_time": "2025-05-19T12:26:45.066Z"
   },
   {
    "duration": 19,
    "start_time": "2025-05-19T12:26:46.257Z"
   },
   {
    "duration": 633,
    "start_time": "2025-05-19T12:27:06.496Z"
   },
   {
    "duration": 601,
    "start_time": "2025-05-19T12:27:44.294Z"
   },
   {
    "duration": 3,
    "start_time": "2025-05-19T12:27:54.281Z"
   },
   {
    "duration": 3,
    "start_time": "2025-05-19T12:27:57.352Z"
   },
   {
    "duration": 40,
    "start_time": "2025-05-19T12:27:59.616Z"
   },
   {
    "duration": 267,
    "start_time": "2025-05-19T12:28:12.303Z"
   },
   {
    "duration": 221,
    "start_time": "2025-05-19T12:28:15.623Z"
   },
   {
    "duration": 50,
    "start_time": "2025-05-19T12:28:22.612Z"
   },
   {
    "duration": 41,
    "start_time": "2025-05-19T12:28:45.916Z"
   },
   {
    "duration": 14,
    "start_time": "2025-05-19T12:29:06.956Z"
   },
   {
    "duration": 4,
    "start_time": "2025-05-19T12:29:13.515Z"
   },
   {
    "duration": 333,
    "start_time": "2025-05-19T12:29:15.653Z"
   },
   {
    "duration": 223,
    "start_time": "2025-05-19T12:30:16.089Z"
   },
   {
    "duration": 41,
    "start_time": "2025-05-19T12:31:26.707Z"
   },
   {
    "duration": 30,
    "start_time": "2025-05-19T12:31:46.281Z"
   },
   {
    "duration": 184,
    "start_time": "2025-05-19T12:31:49.458Z"
   },
   {
    "duration": 5,
    "start_time": "2025-05-19T12:32:56.533Z"
   },
   {
    "duration": 23,
    "start_time": "2025-05-19T12:33:06.012Z"
   },
   {
    "duration": 7,
    "start_time": "2025-05-19T12:33:17.340Z"
   },
   {
    "duration": 368,
    "start_time": "2025-05-19T12:36:41.910Z"
   },
   {
    "duration": 417,
    "start_time": "2025-05-19T12:36:45.343Z"
   },
   {
    "duration": 358,
    "start_time": "2025-05-19T12:36:48.510Z"
   },
   {
    "duration": 446,
    "start_time": "2025-05-19T12:44:38.124Z"
   },
   {
    "duration": 190,
    "start_time": "2025-05-19T12:46:16.235Z"
   },
   {
    "duration": 130,
    "start_time": "2025-05-19T12:49:35.557Z"
   },
   {
    "duration": 131,
    "start_time": "2025-05-19T12:54:16.439Z"
   },
   {
    "duration": 127,
    "start_time": "2025-05-19T12:54:31.589Z"
   },
   {
    "duration": 9,
    "start_time": "2025-05-19T12:56:20.744Z"
   },
   {
    "duration": 11,
    "start_time": "2025-05-19T12:57:08.122Z"
   },
   {
    "duration": 265,
    "start_time": "2025-05-19T12:57:17.833Z"
   },
   {
    "duration": 233,
    "start_time": "2025-05-19T12:58:20.037Z"
   },
   {
    "duration": 298,
    "start_time": "2025-05-19T12:59:22.595Z"
   },
   {
    "duration": 258,
    "start_time": "2025-05-19T13:00:12.634Z"
   },
   {
    "duration": 115,
    "start_time": "2025-05-19T13:02:23.950Z"
   },
   {
    "duration": 70,
    "start_time": "2025-05-19T13:02:28.149Z"
   },
   {
    "duration": 5,
    "start_time": "2025-05-19T13:02:30.323Z"
   },
   {
    "duration": 67,
    "start_time": "2025-05-19T13:06:46.178Z"
   },
   {
    "duration": 270,
    "start_time": "2025-05-19T13:06:54.936Z"
   },
   {
    "duration": 70,
    "start_time": "2025-05-19T13:06:56.795Z"
   },
   {
    "duration": 68,
    "start_time": "2025-05-19T13:14:16.182Z"
   },
   {
    "duration": 20,
    "start_time": "2025-05-19T13:14:19.210Z"
   },
   {
    "duration": 9,
    "start_time": "2025-05-19T13:14:23.586Z"
   },
   {
    "duration": 5,
    "start_time": "2025-05-19T13:15:00.273Z"
   },
   {
    "duration": 5,
    "start_time": "2025-05-19T13:17:40.795Z"
   },
   {
    "duration": 6,
    "start_time": "2025-05-19T13:18:00.861Z"
   },
   {
    "duration": 6,
    "start_time": "2025-05-19T13:21:16.979Z"
   },
   {
    "duration": 394,
    "start_time": "2025-05-19T13:51:30.548Z"
   },
   {
    "duration": 1158,
    "start_time": "2025-05-19T13:51:30.944Z"
   },
   {
    "duration": 20,
    "start_time": "2025-05-19T13:51:32.106Z"
   },
   {
    "duration": 610,
    "start_time": "2025-05-19T13:51:32.129Z"
   },
   {
    "duration": 4,
    "start_time": "2025-05-19T13:51:32.741Z"
   },
   {
    "duration": 77,
    "start_time": "2025-05-19T13:51:32.747Z"
   },
   {
    "duration": 303,
    "start_time": "2025-05-19T13:51:32.826Z"
   },
   {
    "duration": 238,
    "start_time": "2025-05-19T13:51:33.131Z"
   },
   {
    "duration": 54,
    "start_time": "2025-05-19T13:51:33.371Z"
   },
   {
    "duration": 6,
    "start_time": "2025-05-19T13:51:33.428Z"
   },
   {
    "duration": 339,
    "start_time": "2025-05-19T13:51:33.435Z"
   },
   {
    "duration": 247,
    "start_time": "2025-05-19T13:51:33.775Z"
   },
   {
    "duration": 36,
    "start_time": "2025-05-19T13:51:34.023Z"
   },
   {
    "duration": 204,
    "start_time": "2025-05-19T13:51:34.061Z"
   },
   {
    "duration": 6,
    "start_time": "2025-05-19T13:51:34.267Z"
   },
   {
    "duration": 420,
    "start_time": "2025-05-19T13:51:34.274Z"
   },
   {
    "duration": 491,
    "start_time": "2025-05-19T13:51:34.696Z"
   },
   {
    "duration": 174,
    "start_time": "2025-05-19T13:51:35.190Z"
   },
   {
    "duration": 116,
    "start_time": "2025-05-19T13:51:35.366Z"
   },
   {
    "duration": 8,
    "start_time": "2025-05-19T13:51:35.483Z"
   },
   {
    "duration": 21,
    "start_time": "2025-05-19T13:51:35.493Z"
   },
   {
    "duration": 235,
    "start_time": "2025-05-19T13:51:35.516Z"
   },
   {
    "duration": 351,
    "start_time": "2025-05-19T13:51:35.753Z"
   },
   {
    "duration": 272,
    "start_time": "2025-05-19T13:51:36.107Z"
   },
   {
    "duration": 81,
    "start_time": "2025-05-19T13:51:36.381Z"
   },
   {
    "duration": 22,
    "start_time": "2025-05-19T13:51:36.464Z"
   },
   {
    "duration": 25,
    "start_time": "2025-05-19T13:51:36.488Z"
   },
   {
    "duration": 86,
    "start_time": "2025-05-20T11:30:30.698Z"
   },
   {
    "duration": 52,
    "start_time": "2025-05-20T11:31:08.638Z"
   },
   {
    "duration": 423,
    "start_time": "2025-05-20T11:31:15.380Z"
   },
   {
    "duration": 1200,
    "start_time": "2025-05-20T11:31:15.805Z"
   },
   {
    "duration": 18,
    "start_time": "2025-05-20T11:31:17.007Z"
   },
   {
    "duration": 40,
    "start_time": "2025-05-20T11:31:20.730Z"
   },
   {
    "duration": 170,
    "start_time": "2025-05-20T11:31:38.357Z"
   },
   {
    "duration": 997,
    "start_time": "2025-05-20T11:34:28.552Z"
   },
   {
    "duration": 1153,
    "start_time": "2025-05-20T11:34:29.551Z"
   },
   {
    "duration": 13,
    "start_time": "2025-05-20T11:34:30.706Z"
   },
   {
    "duration": 64,
    "start_time": "2025-05-20T11:36:10.123Z"
   },
   {
    "duration": 90,
    "start_time": "2025-05-20T11:39:20.020Z"
   },
   {
    "duration": 673,
    "start_time": "2025-05-20T11:43:02.383Z"
   },
   {
    "duration": 58,
    "start_time": "2025-05-20T11:45:24.328Z"
   },
   {
    "duration": 381,
    "start_time": "2025-05-20T11:45:28.835Z"
   },
   {
    "duration": 367,
    "start_time": "2025-05-20T11:45:49.084Z"
   },
   {
    "duration": 14,
    "start_time": "2025-05-20T11:50:50.011Z"
   },
   {
    "duration": 577,
    "start_time": "2025-05-20T11:51:04.359Z"
   },
   {
    "duration": 2,
    "start_time": "2025-05-20T11:51:04.938Z"
   },
   {
    "duration": 69,
    "start_time": "2025-05-20T11:51:05.204Z"
   },
   {
    "duration": 252,
    "start_time": "2025-05-20T11:51:11.598Z"
   },
   {
    "duration": 53,
    "start_time": "2025-05-20T11:51:12.052Z"
   },
   {
    "duration": 6,
    "start_time": "2025-05-20T11:51:12.445Z"
   },
   {
    "duration": 351,
    "start_time": "2025-05-20T11:51:12.811Z"
   },
   {
    "duration": 221,
    "start_time": "2025-05-20T11:51:17.918Z"
   },
   {
    "duration": 32,
    "start_time": "2025-05-20T11:51:22.214Z"
   },
   {
    "duration": 189,
    "start_time": "2025-05-20T11:51:23.464Z"
   },
   {
    "duration": 203,
    "start_time": "2025-05-20T11:53:58.303Z"
   },
   {
    "duration": 216,
    "start_time": "2025-05-20T11:54:17.245Z"
   },
   {
    "duration": 250,
    "start_time": "2025-05-20T11:54:22.824Z"
   },
   {
    "duration": 10,
    "start_time": "2025-05-20T11:57:46.057Z"
   },
   {
    "duration": 416,
    "start_time": "2025-05-20T11:57:47.487Z"
   },
   {
    "duration": 18,
    "start_time": "2025-05-20T11:57:53.982Z"
   },
   {
    "duration": 10,
    "start_time": "2025-05-20T11:58:03.096Z"
   },
   {
    "duration": 1212,
    "start_time": "2025-05-20T11:58:23.921Z"
   },
   {
    "duration": 4,
    "start_time": "2025-05-20T11:58:44.009Z"
   },
   {
    "duration": 1273,
    "start_time": "2025-05-20T12:04:30.185Z"
   },
   {
    "duration": 1169,
    "start_time": "2025-05-20T12:04:42.479Z"
   },
   {
    "duration": 1151,
    "start_time": "2025-05-20T12:05:37.003Z"
   },
   {
    "duration": 1131,
    "start_time": "2025-05-20T12:05:38.353Z"
   },
   {
    "duration": 14,
    "start_time": "2025-05-20T12:05:39.486Z"
   },
   {
    "duration": 152,
    "start_time": "2025-05-20T12:05:43.109Z"
   },
   {
    "duration": 82,
    "start_time": "2025-05-20T12:05:46.145Z"
   },
   {
    "duration": 731,
    "start_time": "2025-05-20T12:05:47.982Z"
   },
   {
    "duration": 400,
    "start_time": "2025-05-20T12:05:50.023Z"
   },
   {
    "duration": 636,
    "start_time": "2025-05-20T12:05:51.290Z"
   },
   {
    "duration": 3,
    "start_time": "2025-05-20T12:05:52.553Z"
   },
   {
    "duration": 37,
    "start_time": "2025-05-20T12:05:52.889Z"
   },
   {
    "duration": 218,
    "start_time": "2025-05-20T12:05:58.466Z"
   },
   {
    "duration": 44,
    "start_time": "2025-05-20T12:05:59.510Z"
   },
   {
    "duration": 209,
    "start_time": "2025-05-20T12:06:14.401Z"
   },
   {
    "duration": 8,
    "start_time": "2025-05-20T12:06:15.357Z"
   },
   {
    "duration": 106,
    "start_time": "2025-05-20T12:07:25.273Z"
   },
   {
    "duration": 5,
    "start_time": "2025-05-20T12:07:41.578Z"
   },
   {
    "duration": 336,
    "start_time": "2025-05-20T12:07:50.279Z"
   },
   {
    "duration": 225,
    "start_time": "2025-05-20T12:07:54.172Z"
   },
   {
    "duration": 35,
    "start_time": "2025-05-20T12:07:56.428Z"
   },
   {
    "duration": 215,
    "start_time": "2025-05-20T12:07:56.839Z"
   },
   {
    "duration": 6,
    "start_time": "2025-05-20T12:08:01.209Z"
   },
   {
    "duration": 374,
    "start_time": "2025-05-20T12:08:03.172Z"
   },
   {
    "duration": 17,
    "start_time": "2025-05-20T12:08:18.491Z"
   },
   {
    "duration": 12,
    "start_time": "2025-05-20T12:08:50.278Z"
   },
   {
    "duration": 3,
    "start_time": "2025-05-20T12:09:17.892Z"
   },
   {
    "duration": 3,
    "start_time": "2025-05-20T12:09:27.213Z"
   },
   {
    "duration": 5,
    "start_time": "2025-05-20T12:09:33.071Z"
   },
   {
    "duration": 12,
    "start_time": "2025-05-20T12:23:52.592Z"
   },
   {
    "duration": 166,
    "start_time": "2025-05-20T12:24:39.466Z"
   },
   {
    "duration": 124,
    "start_time": "2025-05-20T12:24:44.265Z"
   },
   {
    "duration": 12,
    "start_time": "2025-05-20T12:24:51.632Z"
   },
   {
    "duration": 14,
    "start_time": "2025-05-20T12:24:54.791Z"
   },
   {
    "duration": 11,
    "start_time": "2025-05-20T12:24:55.956Z"
   },
   {
    "duration": 8,
    "start_time": "2025-05-20T12:27:40.740Z"
   },
   {
    "duration": 7,
    "start_time": "2025-05-20T12:27:47.855Z"
   },
   {
    "duration": 13,
    "start_time": "2025-05-20T12:27:58.596Z"
   },
   {
    "duration": 227,
    "start_time": "2025-05-20T12:28:37.031Z"
   },
   {
    "duration": 273,
    "start_time": "2025-05-20T12:32:25.868Z"
   },
   {
    "duration": 303,
    "start_time": "2025-05-20T12:33:11.457Z"
   },
   {
    "duration": 71,
    "start_time": "2025-05-20T12:34:18.778Z"
   },
   {
    "duration": 207,
    "start_time": "2025-05-20T12:34:56.335Z"
   },
   {
    "duration": 239,
    "start_time": "2025-05-20T12:36:27.122Z"
   },
   {
    "duration": 23,
    "start_time": "2025-05-20T12:36:30.715Z"
   },
   {
    "duration": 18,
    "start_time": "2025-05-20T12:37:12.604Z"
   },
   {
    "duration": 45,
    "start_time": "2025-05-20T12:37:59.811Z"
   },
   {
    "duration": 45,
    "start_time": "2025-05-20T12:38:32.993Z"
   },
   {
    "duration": 47,
    "start_time": "2025-05-20T12:38:46.600Z"
   },
   {
    "duration": 2,
    "start_time": "2025-05-20T12:39:06.110Z"
   },
   {
    "duration": 45,
    "start_time": "2025-05-20T12:39:54.283Z"
   },
   {
    "duration": 16,
    "start_time": "2025-05-20T12:40:05.784Z"
   },
   {
    "duration": 41,
    "start_time": "2025-05-20T12:40:15.886Z"
   },
   {
    "duration": 6,
    "start_time": "2025-05-20T12:40:24.370Z"
   },
   {
    "duration": 63,
    "start_time": "2025-05-20T12:42:35.646Z"
   },
   {
    "duration": 18,
    "start_time": "2025-05-20T12:42:43.958Z"
   },
   {
    "duration": 6,
    "start_time": "2025-05-20T12:42:46.692Z"
   },
   {
    "duration": 1184,
    "start_time": "2025-05-20T12:47:48.579Z"
   },
   {
    "duration": 1085,
    "start_time": "2025-05-20T12:47:49.765Z"
   },
   {
    "duration": 20,
    "start_time": "2025-05-20T12:47:50.851Z"
   },
   {
    "duration": 171,
    "start_time": "2025-05-20T12:47:50.873Z"
   },
   {
    "duration": 83,
    "start_time": "2025-05-20T12:47:51.046Z"
   },
   {
    "duration": 754,
    "start_time": "2025-05-20T12:47:51.130Z"
   },
   {
    "duration": 393,
    "start_time": "2025-05-20T12:47:51.886Z"
   },
   {
    "duration": 557,
    "start_time": "2025-05-20T12:47:52.280Z"
   },
   {
    "duration": 3,
    "start_time": "2025-05-20T12:47:52.839Z"
   },
   {
    "duration": 51,
    "start_time": "2025-05-20T12:47:52.845Z"
   },
   {
    "duration": 222,
    "start_time": "2025-05-20T12:47:52.897Z"
   },
   {
    "duration": 50,
    "start_time": "2025-05-20T12:47:53.120Z"
   },
   {
    "duration": 5,
    "start_time": "2025-05-20T12:47:53.171Z"
   },
   {
    "duration": 320,
    "start_time": "2025-05-20T12:47:53.178Z"
   },
   {
    "duration": 219,
    "start_time": "2025-05-20T12:47:53.499Z"
   },
   {
    "duration": 44,
    "start_time": "2025-05-20T12:47:53.720Z"
   },
   {
    "duration": 204,
    "start_time": "2025-05-20T12:47:53.766Z"
   },
   {
    "duration": 6,
    "start_time": "2025-05-20T12:47:53.972Z"
   },
   {
    "duration": 354,
    "start_time": "2025-05-20T12:47:53.980Z"
   },
   {
    "duration": 16,
    "start_time": "2025-05-20T12:47:54.336Z"
   },
   {
    "duration": 144,
    "start_time": "2025-05-20T12:47:54.354Z"
   },
   {
    "duration": 110,
    "start_time": "2025-05-20T12:47:54.500Z"
   },
   {
    "duration": 8,
    "start_time": "2025-05-20T12:47:54.612Z"
   },
   {
    "duration": 10,
    "start_time": "2025-05-20T12:47:54.621Z"
   },
   {
    "duration": 239,
    "start_time": "2025-05-20T12:47:54.632Z"
   },
   {
    "duration": 313,
    "start_time": "2025-05-20T12:47:54.873Z"
   },
   {
    "duration": 271,
    "start_time": "2025-05-20T12:47:55.189Z"
   },
   {
    "duration": 44,
    "start_time": "2025-05-20T12:47:55.463Z"
   },
   {
    "duration": 49,
    "start_time": "2025-05-20T12:47:55.509Z"
   },
   {
    "duration": 6,
    "start_time": "2025-05-20T12:47:55.560Z"
   },
   {
    "duration": 66,
    "start_time": "2025-05-20T12:47:55.568Z"
   },
   {
    "duration": 36,
    "start_time": "2025-05-20T12:47:55.636Z"
   },
   {
    "duration": 5,
    "start_time": "2025-05-20T12:47:55.674Z"
   },
   {
    "duration": 1169,
    "start_time": "2025-05-20T16:55:54.061Z"
   },
   {
    "duration": 1058,
    "start_time": "2025-05-20T16:55:55.232Z"
   },
   {
    "duration": 15,
    "start_time": "2025-05-20T16:55:56.292Z"
   },
   {
    "duration": 162,
    "start_time": "2025-05-20T16:55:56.308Z"
   },
   {
    "duration": 73,
    "start_time": "2025-05-20T16:55:56.476Z"
   },
   {
    "duration": 706,
    "start_time": "2025-05-20T16:55:56.550Z"
   },
   {
    "duration": 369,
    "start_time": "2025-05-20T16:55:57.258Z"
   },
   {
    "duration": 541,
    "start_time": "2025-05-20T16:55:57.629Z"
   },
   {
    "duration": 5,
    "start_time": "2025-05-20T16:55:58.172Z"
   },
   {
    "duration": 53,
    "start_time": "2025-05-20T16:55:58.179Z"
   },
   {
    "duration": 206,
    "start_time": "2025-05-20T16:55:58.233Z"
   },
   {
    "duration": 50,
    "start_time": "2025-05-20T16:55:58.441Z"
   },
   {
    "duration": 5,
    "start_time": "2025-05-20T16:55:58.492Z"
   },
   {
    "duration": 319,
    "start_time": "2025-05-20T16:55:58.499Z"
   },
   {
    "duration": 218,
    "start_time": "2025-05-20T16:55:58.820Z"
   },
   {
    "duration": 44,
    "start_time": "2025-05-20T16:55:59.040Z"
   },
   {
    "duration": 210,
    "start_time": "2025-05-20T16:55:59.086Z"
   },
   {
    "duration": 6,
    "start_time": "2025-05-20T16:55:59.298Z"
   },
   {
    "duration": 457,
    "start_time": "2025-05-20T16:55:59.306Z"
   },
   {
    "duration": 21,
    "start_time": "2025-05-20T16:55:59.765Z"
   },
   {
    "duration": 154,
    "start_time": "2025-05-20T16:55:59.788Z"
   },
   {
    "duration": 112,
    "start_time": "2025-05-20T16:55:59.943Z"
   },
   {
    "duration": 21,
    "start_time": "2025-05-20T16:56:00.057Z"
   },
   {
    "duration": 154,
    "start_time": "2025-05-20T16:56:00.079Z"
   },
   {
    "duration": 291,
    "start_time": "2025-05-20T16:56:00.235Z"
   },
   {
    "duration": 319,
    "start_time": "2025-05-20T16:56:00.528Z"
   },
   {
    "duration": 239,
    "start_time": "2025-05-20T16:56:00.849Z"
   },
   {
    "duration": 46,
    "start_time": "2025-05-20T16:56:01.089Z"
   },
   {
    "duration": 53,
    "start_time": "2025-05-20T16:56:01.136Z"
   },
   {
    "duration": 9,
    "start_time": "2025-05-20T16:56:01.190Z"
   },
   {
    "duration": 84,
    "start_time": "2025-05-20T16:56:01.201Z"
   },
   {
    "duration": 26,
    "start_time": "2025-05-20T16:56:01.287Z"
   },
   {
    "duration": 248,
    "start_time": "2025-05-20T16:56:01.315Z"
   }
  ],
  "colab": {
   "provenance": []
  },
  "kernelspec": {
   "display_name": "Python [conda env:base] *",
   "language": "python",
   "name": "conda-base-py"
  },
  "language_info": {
   "codemirror_mode": {
    "name": "ipython",
    "version": 3
   },
   "file_extension": ".py",
   "mimetype": "text/x-python",
   "name": "python",
   "nbconvert_exporter": "python",
   "pygments_lexer": "ipython3",
   "version": "3.12.3"
  },
  "toc": {
   "base_numbering": 1,
   "nav_menu": {},
   "number_sections": false,
   "sideBar": true,
   "skip_h1_title": true,
   "title_cell": "Table of Contents",
   "title_sidebar": "Contents",
   "toc_cell": false,
   "toc_position": {},
   "toc_section_display": true,
   "toc_window_display": false
  }
 },
 "nbformat": 4,
 "nbformat_minor": 4
}
