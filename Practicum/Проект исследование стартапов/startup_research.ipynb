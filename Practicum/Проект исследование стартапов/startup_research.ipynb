{
 "cells": [
  {
   "cell_type": "markdown",
   "metadata": {
    "id": "4mJbK1knrJgz"
   },
   "source": [
    "# Проект: Исследование стартапов"
   ]
  },
  {
   "cell_type": "markdown",
   "metadata": {},
   "source": [
    "- Автор: Алексей Кознов\n",
    "- Дата: 25.03.25"
   ]
  },
  {
   "cell_type": "markdown",
   "metadata": {},
   "source": [
    "### Цели и задачи проекта\n",
    "\n",
    "Провести предобработку датасета, оценить данные на \"адекватность\", а также провести исследовательский анализ датасета для финансовой компании.\n",
    "\n",
    "Задачи:\n",
    "1. Знакомство с данными: загрузка и первичная предобработка.\n",
    "2. Предобработка данных, предварительное исследование.\n",
    "3. Исследовательский анализ объединённых таблиц.\n",
    "4. Итоговый вывод и рекомендации."
   ]
  },
  {
   "cell_type": "markdown",
   "metadata": {
    "id": "xqr6uttCrJg0"
   },
   "source": [
    "\n",
    "## Шаг 1. Знакомство с данными: загрузка и первичная предобработка\n",
    "\n",
    "\n",
    "### 1.1. Вывод общей информации, исправление названия столбцов\n"
   ]
  },
  {
   "cell_type": "code",
   "execution_count": 1,
   "metadata": {
    "colab": {
     "base_uri": "https://localhost:8080/"
    },
    "id": "W_W4jRazrJg0",
    "outputId": "d2409aad-233f-4bb4-ec71-7da96594f9df",
    "vscode": {
     "languageId": "plaintext"
    }
   },
   "outputs": [],
   "source": [
    "# Импортируем библиотеки\n",
    "import pandas as pd\n",
    "import numpy as np\n",
    "\n",
    "# Загружаем библиотеки для визуализации данных\n",
    "import matplotlib.pyplot as plt\n",
    "import seaborn as sns"
   ]
  },
  {
   "cell_type": "code",
   "execution_count": 2,
   "metadata": {
    "id": "2Tm4Pk__Felf"
   },
   "outputs": [],
   "source": [
    "# Выгружаем данные в переменные \n",
    "PATH = \"https://code.s3.yandex.net/datasets/\"\n",
    "acquisition_df = pd.read_csv(PATH + 'acquisition.csv')\n",
    "company_and_rounds_df = pd.read_csv(PATH + 'company_and_rounds.csv')\n",
    "people_df = pd.read_csv(PATH + 'people.csv')\n",
    "education_df = pd.read_csv(PATH + 'education.csv')\n",
    "degrees_df = pd.read_csv(PATH + 'degrees.csv')\n",
    "\n",
    "# Выгружаем данные в переменные для дополнительных датасетов\n",
    "fund_df = pd.read_csv(PATH + 'fund.csv')\n",
    "investment_df = pd.read_csv(PATH + 'investment.csv')"
   ]
  },
  {
   "cell_type": "markdown",
   "metadata": {
    "id": "oNqJ2qpRFebv"
   },
   "source": [
    "Выведем общую информацию о датафреймах и первые строки"
   ]
  },
  {
   "cell_type": "code",
   "execution_count": 3,
   "metadata": {},
   "outputs": [
    {
     "name": "stdout",
     "output_type": "stream",
     "text": [
      "<class 'pandas.core.frame.DataFrame'>\n",
      "RangeIndex: 9407 entries, 0 to 9406\n",
      "Data columns (total 6 columns):\n",
      " #   Column                Non-Null Count  Dtype \n",
      "---  ------                --------------  ----- \n",
      " 0   id                    9407 non-null   int64 \n",
      " 1   acquiring_company_id  9407 non-null   int64 \n",
      " 2   acquired_company_id   9407 non-null   int64 \n",
      " 3   term_code             1831 non-null   object\n",
      " 4   price_amount          9407 non-null   int64 \n",
      " 5   acquired_at           9378 non-null   object\n",
      "dtypes: int64(4), object(2)\n",
      "memory usage: 441.1+ KB\n"
     ]
    }
   ],
   "source": [
    "# Выводим информацию о датафреймах\n",
    "acquisition_df.info()"
   ]
  },
  {
   "cell_type": "code",
   "execution_count": 4,
   "metadata": {},
   "outputs": [
    {
     "data": {
      "text/html": [
       "<div>\n",
       "<style scoped>\n",
       "    .dataframe tbody tr th:only-of-type {\n",
       "        vertical-align: middle;\n",
       "    }\n",
       "\n",
       "    .dataframe tbody tr th {\n",
       "        vertical-align: top;\n",
       "    }\n",
       "\n",
       "    .dataframe thead th {\n",
       "        text-align: right;\n",
       "    }\n",
       "</style>\n",
       "<table border=\"1\" class=\"dataframe\">\n",
       "  <thead>\n",
       "    <tr style=\"text-align: right;\">\n",
       "      <th></th>\n",
       "      <th>id</th>\n",
       "      <th>acquiring_company_id</th>\n",
       "      <th>acquired_company_id</th>\n",
       "      <th>term_code</th>\n",
       "      <th>price_amount</th>\n",
       "      <th>acquired_at</th>\n",
       "    </tr>\n",
       "  </thead>\n",
       "  <tbody>\n",
       "    <tr>\n",
       "      <th>0</th>\n",
       "      <td>1</td>\n",
       "      <td>11</td>\n",
       "      <td>10</td>\n",
       "      <td>NaN</td>\n",
       "      <td>20000000</td>\n",
       "      <td>2007-05-30</td>\n",
       "    </tr>\n",
       "    <tr>\n",
       "      <th>1</th>\n",
       "      <td>7</td>\n",
       "      <td>59</td>\n",
       "      <td>72</td>\n",
       "      <td>cash</td>\n",
       "      <td>60000000</td>\n",
       "      <td>2007-07-01</td>\n",
       "    </tr>\n",
       "    <tr>\n",
       "      <th>2</th>\n",
       "      <td>8</td>\n",
       "      <td>24</td>\n",
       "      <td>132</td>\n",
       "      <td>cash</td>\n",
       "      <td>280000000</td>\n",
       "      <td>2007-05-01</td>\n",
       "    </tr>\n",
       "    <tr>\n",
       "      <th>3</th>\n",
       "      <td>9</td>\n",
       "      <td>59</td>\n",
       "      <td>155</td>\n",
       "      <td>cash</td>\n",
       "      <td>100000000</td>\n",
       "      <td>2007-06-01</td>\n",
       "    </tr>\n",
       "    <tr>\n",
       "      <th>4</th>\n",
       "      <td>10</td>\n",
       "      <td>212</td>\n",
       "      <td>215</td>\n",
       "      <td>cash</td>\n",
       "      <td>25000000</td>\n",
       "      <td>2007-07-01</td>\n",
       "    </tr>\n",
       "  </tbody>\n",
       "</table>\n",
       "</div>"
      ],
      "text/plain": [
       "   id  acquiring_company_id  acquired_company_id term_code  price_amount  \\\n",
       "0   1                    11                   10       NaN      20000000   \n",
       "1   7                    59                   72      cash      60000000   \n",
       "2   8                    24                  132      cash     280000000   \n",
       "3   9                    59                  155      cash     100000000   \n",
       "4  10                   212                  215      cash      25000000   \n",
       "\n",
       "  acquired_at  \n",
       "0  2007-05-30  \n",
       "1  2007-07-01  \n",
       "2  2007-05-01  \n",
       "3  2007-06-01  \n",
       "4  2007-07-01  "
      ]
     },
     "execution_count": 4,
     "metadata": {},
     "output_type": "execute_result"
    }
   ],
   "source": [
    "# Выводим первые строки датафрейма на экран\n",
    "acquisition_df.head()"
   ]
  },
  {
   "cell_type": "code",
   "execution_count": 5,
   "metadata": {},
   "outputs": [
    {
     "name": "stdout",
     "output_type": "stream",
     "text": [
      "<class 'pandas.core.frame.DataFrame'>\n",
      "RangeIndex: 217774 entries, 0 to 217773\n",
      "Data columns (total 22 columns):\n",
      " #   Column                 Non-Null Count   Dtype  \n",
      "---  ------                 --------------   -----  \n",
      " 0   company  ID            217472 non-null  float64\n",
      " 1   name                   217472 non-null  object \n",
      " 2   category  code         143886 non-null  object \n",
      " 3   status                 217472 non-null  object \n",
      " 4   founded  at            109956 non-null  object \n",
      " 5   closed  at             3449 non-null    object \n",
      " 6   domain                 147159 non-null  object \n",
      " 7   network  username      95534 non-null   object \n",
      " 8   country  code          108607 non-null  object \n",
      " 9   investment  rounds     217472 non-null  float64\n",
      " 10  funding  rounds        217472 non-null  float64\n",
      " 11  funding  total         217472 non-null  float64\n",
      " 12  milestones             217472 non-null  float64\n",
      " 13  funding  round  id     52928 non-null   float64\n",
      " 14  company  id            52928 non-null   float64\n",
      " 15  funded  at             52680 non-null   object \n",
      " 16  funding  round  type   52928 non-null   object \n",
      " 17  raised  amount         52928 non-null   float64\n",
      " 18  pre  money  valuation  52928 non-null   float64\n",
      " 19  participants           52928 non-null   float64\n",
      " 20  is  first  round       52928 non-null   float64\n",
      " 21  is  last  round        52928 non-null   float64\n",
      "dtypes: float64(12), object(10)\n",
      "memory usage: 36.6+ MB\n"
     ]
    }
   ],
   "source": [
    "company_and_rounds_df.info()"
   ]
  },
  {
   "cell_type": "code",
   "execution_count": 6,
   "metadata": {
    "scrolled": true
   },
   "outputs": [
    {
     "data": {
      "text/html": [
       "<div>\n",
       "<style scoped>\n",
       "    .dataframe tbody tr th:only-of-type {\n",
       "        vertical-align: middle;\n",
       "    }\n",
       "\n",
       "    .dataframe tbody tr th {\n",
       "        vertical-align: top;\n",
       "    }\n",
       "\n",
       "    .dataframe thead th {\n",
       "        text-align: right;\n",
       "    }\n",
       "</style>\n",
       "<table border=\"1\" class=\"dataframe\">\n",
       "  <thead>\n",
       "    <tr style=\"text-align: right;\">\n",
       "      <th></th>\n",
       "      <th>company  ID</th>\n",
       "      <th>name</th>\n",
       "      <th>category  code</th>\n",
       "      <th>status</th>\n",
       "      <th>founded  at</th>\n",
       "      <th>closed  at</th>\n",
       "      <th>domain</th>\n",
       "      <th>network  username</th>\n",
       "      <th>country  code</th>\n",
       "      <th>investment  rounds</th>\n",
       "      <th>...</th>\n",
       "      <th>milestones</th>\n",
       "      <th>funding  round  id</th>\n",
       "      <th>company  id</th>\n",
       "      <th>funded  at</th>\n",
       "      <th>funding  round  type</th>\n",
       "      <th>raised  amount</th>\n",
       "      <th>pre  money  valuation</th>\n",
       "      <th>participants</th>\n",
       "      <th>is  first  round</th>\n",
       "      <th>is  last  round</th>\n",
       "    </tr>\n",
       "  </thead>\n",
       "  <tbody>\n",
       "    <tr>\n",
       "      <th>0</th>\n",
       "      <td>1.0</td>\n",
       "      <td>Wetpaint</td>\n",
       "      <td>web</td>\n",
       "      <td>operating</td>\n",
       "      <td>2005-10-17</td>\n",
       "      <td>NaN</td>\n",
       "      <td>wetpaint-inc.com</td>\n",
       "      <td>BachelrWetpaint</td>\n",
       "      <td>USA</td>\n",
       "      <td>0.0</td>\n",
       "      <td>...</td>\n",
       "      <td>5.0</td>\n",
       "      <td>888.0</td>\n",
       "      <td>1.0</td>\n",
       "      <td>2005-10-01</td>\n",
       "      <td>series-a</td>\n",
       "      <td>5250000.0</td>\n",
       "      <td>0.0</td>\n",
       "      <td>2.0</td>\n",
       "      <td>0.0</td>\n",
       "      <td>1.0</td>\n",
       "    </tr>\n",
       "    <tr>\n",
       "      <th>1</th>\n",
       "      <td>1.0</td>\n",
       "      <td>Wetpaint</td>\n",
       "      <td>web</td>\n",
       "      <td>operating</td>\n",
       "      <td>2005-10-17</td>\n",
       "      <td>NaN</td>\n",
       "      <td>wetpaint-inc.com</td>\n",
       "      <td>BachelrWetpaint</td>\n",
       "      <td>USA</td>\n",
       "      <td>0.0</td>\n",
       "      <td>...</td>\n",
       "      <td>5.0</td>\n",
       "      <td>889.0</td>\n",
       "      <td>1.0</td>\n",
       "      <td>2007-01-01</td>\n",
       "      <td>series-b</td>\n",
       "      <td>9500000.0</td>\n",
       "      <td>0.0</td>\n",
       "      <td>3.0</td>\n",
       "      <td>0.0</td>\n",
       "      <td>0.0</td>\n",
       "    </tr>\n",
       "    <tr>\n",
       "      <th>2</th>\n",
       "      <td>1.0</td>\n",
       "      <td>Wetpaint</td>\n",
       "      <td>web</td>\n",
       "      <td>operating</td>\n",
       "      <td>2005-10-17</td>\n",
       "      <td>NaN</td>\n",
       "      <td>wetpaint-inc.com</td>\n",
       "      <td>BachelrWetpaint</td>\n",
       "      <td>USA</td>\n",
       "      <td>0.0</td>\n",
       "      <td>...</td>\n",
       "      <td>5.0</td>\n",
       "      <td>2312.0</td>\n",
       "      <td>1.0</td>\n",
       "      <td>2008-05-19</td>\n",
       "      <td>series-c+</td>\n",
       "      <td>25000000.0</td>\n",
       "      <td>0.0</td>\n",
       "      <td>4.0</td>\n",
       "      <td>1.0</td>\n",
       "      <td>0.0</td>\n",
       "    </tr>\n",
       "    <tr>\n",
       "      <th>3</th>\n",
       "      <td>10.0</td>\n",
       "      <td>Flektor</td>\n",
       "      <td>games_video</td>\n",
       "      <td>acquired</td>\n",
       "      <td>NaN</td>\n",
       "      <td>NaN</td>\n",
       "      <td>flektor.com</td>\n",
       "      <td>NaN</td>\n",
       "      <td>USA</td>\n",
       "      <td>0.0</td>\n",
       "      <td>...</td>\n",
       "      <td>0.0</td>\n",
       "      <td>NaN</td>\n",
       "      <td>NaN</td>\n",
       "      <td>NaN</td>\n",
       "      <td>NaN</td>\n",
       "      <td>NaN</td>\n",
       "      <td>NaN</td>\n",
       "      <td>NaN</td>\n",
       "      <td>NaN</td>\n",
       "      <td>NaN</td>\n",
       "    </tr>\n",
       "    <tr>\n",
       "      <th>4</th>\n",
       "      <td>100.0</td>\n",
       "      <td>There</td>\n",
       "      <td>games_video</td>\n",
       "      <td>acquired</td>\n",
       "      <td>NaN</td>\n",
       "      <td>NaN</td>\n",
       "      <td>there.com</td>\n",
       "      <td>NaN</td>\n",
       "      <td>USA</td>\n",
       "      <td>0.0</td>\n",
       "      <td>...</td>\n",
       "      <td>4.0</td>\n",
       "      <td>NaN</td>\n",
       "      <td>NaN</td>\n",
       "      <td>NaN</td>\n",
       "      <td>NaN</td>\n",
       "      <td>NaN</td>\n",
       "      <td>NaN</td>\n",
       "      <td>NaN</td>\n",
       "      <td>NaN</td>\n",
       "      <td>NaN</td>\n",
       "    </tr>\n",
       "  </tbody>\n",
       "</table>\n",
       "<p>5 rows × 22 columns</p>\n",
       "</div>"
      ],
      "text/plain": [
       "   company  ID      name category  code     status founded  at closed  at  \\\n",
       "0          1.0  Wetpaint            web  operating  2005-10-17        NaN   \n",
       "1          1.0  Wetpaint            web  operating  2005-10-17        NaN   \n",
       "2          1.0  Wetpaint            web  operating  2005-10-17        NaN   \n",
       "3         10.0   Flektor    games_video   acquired         NaN        NaN   \n",
       "4        100.0     There    games_video   acquired         NaN        NaN   \n",
       "\n",
       "             domain network  username country  code  investment  rounds  ...  \\\n",
       "0  wetpaint-inc.com   BachelrWetpaint           USA                 0.0  ...   \n",
       "1  wetpaint-inc.com   BachelrWetpaint           USA                 0.0  ...   \n",
       "2  wetpaint-inc.com   BachelrWetpaint           USA                 0.0  ...   \n",
       "3       flektor.com               NaN           USA                 0.0  ...   \n",
       "4         there.com               NaN           USA                 0.0  ...   \n",
       "\n",
       "   milestones  funding  round  id  company  id  funded  at  \\\n",
       "0         5.0               888.0          1.0  2005-10-01   \n",
       "1         5.0               889.0          1.0  2007-01-01   \n",
       "2         5.0              2312.0          1.0  2008-05-19   \n",
       "3         0.0                 NaN          NaN         NaN   \n",
       "4         4.0                 NaN          NaN         NaN   \n",
       "\n",
       "   funding  round  type raised  amount pre  money  valuation  participants  \\\n",
       "0              series-a      5250000.0                   0.0           2.0   \n",
       "1              series-b      9500000.0                   0.0           3.0   \n",
       "2             series-c+     25000000.0                   0.0           4.0   \n",
       "3                   NaN            NaN                   NaN           NaN   \n",
       "4                   NaN            NaN                   NaN           NaN   \n",
       "\n",
       "   is  first  round  is  last  round  \n",
       "0               0.0              1.0  \n",
       "1               0.0              0.0  \n",
       "2               1.0              0.0  \n",
       "3               NaN              NaN  \n",
       "4               NaN              NaN  \n",
       "\n",
       "[5 rows x 22 columns]"
      ]
     },
     "execution_count": 6,
     "metadata": {},
     "output_type": "execute_result"
    }
   ],
   "source": [
    "company_and_rounds_df.head()"
   ]
  },
  {
   "cell_type": "code",
   "execution_count": 7,
   "metadata": {},
   "outputs": [
    {
     "name": "stdout",
     "output_type": "stream",
     "text": [
      "<class 'pandas.core.frame.DataFrame'>\n",
      "RangeIndex: 226709 entries, 0 to 226708\n",
      "Data columns (total 5 columns):\n",
      " #   Column            Non-Null Count   Dtype  \n",
      "---  ------            --------------   -----  \n",
      " 0   id                226709 non-null  int64  \n",
      " 1   first_name        226704 non-null  object \n",
      " 2   last_name         226708 non-null  object \n",
      " 3   company_id        34615 non-null   float64\n",
      " 4   network_username  38867 non-null   object \n",
      "dtypes: float64(1), int64(1), object(3)\n",
      "memory usage: 8.6+ MB\n"
     ]
    }
   ],
   "source": [
    "people_df.info()"
   ]
  },
  {
   "cell_type": "code",
   "execution_count": 8,
   "metadata": {},
   "outputs": [
    {
     "data": {
      "text/html": [
       "<div>\n",
       "<style scoped>\n",
       "    .dataframe tbody tr th:only-of-type {\n",
       "        vertical-align: middle;\n",
       "    }\n",
       "\n",
       "    .dataframe tbody tr th {\n",
       "        vertical-align: top;\n",
       "    }\n",
       "\n",
       "    .dataframe thead th {\n",
       "        text-align: right;\n",
       "    }\n",
       "</style>\n",
       "<table border=\"1\" class=\"dataframe\">\n",
       "  <thead>\n",
       "    <tr style=\"text-align: right;\">\n",
       "      <th></th>\n",
       "      <th>id</th>\n",
       "      <th>first_name</th>\n",
       "      <th>last_name</th>\n",
       "      <th>company_id</th>\n",
       "      <th>network_username</th>\n",
       "    </tr>\n",
       "  </thead>\n",
       "  <tbody>\n",
       "    <tr>\n",
       "      <th>0</th>\n",
       "      <td>10</td>\n",
       "      <td>Mark</td>\n",
       "      <td>Zuckerberg</td>\n",
       "      <td>5.0</td>\n",
       "      <td>NaN</td>\n",
       "    </tr>\n",
       "    <tr>\n",
       "      <th>1</th>\n",
       "      <td>100</td>\n",
       "      <td>Peter</td>\n",
       "      <td>Lester</td>\n",
       "      <td>27.0</td>\n",
       "      <td>NaN</td>\n",
       "    </tr>\n",
       "    <tr>\n",
       "      <th>2</th>\n",
       "      <td>1000</td>\n",
       "      <td>Dr. Steven</td>\n",
       "      <td>E. Saunders</td>\n",
       "      <td>292.0</td>\n",
       "      <td>NaN</td>\n",
       "    </tr>\n",
       "    <tr>\n",
       "      <th>3</th>\n",
       "      <td>10000</td>\n",
       "      <td>Neil</td>\n",
       "      <td>Capel</td>\n",
       "      <td>2526.0</td>\n",
       "      <td>NaN</td>\n",
       "    </tr>\n",
       "    <tr>\n",
       "      <th>4</th>\n",
       "      <td>100000</td>\n",
       "      <td>Sue</td>\n",
       "      <td>Pilsch</td>\n",
       "      <td>NaN</td>\n",
       "      <td>NaN</td>\n",
       "    </tr>\n",
       "  </tbody>\n",
       "</table>\n",
       "</div>"
      ],
      "text/plain": [
       "       id  first_name    last_name  company_id network_username\n",
       "0      10        Mark   Zuckerberg         5.0              NaN\n",
       "1     100       Peter       Lester        27.0              NaN\n",
       "2    1000  Dr. Steven  E. Saunders       292.0              NaN\n",
       "3   10000        Neil        Capel      2526.0              NaN\n",
       "4  100000         Sue       Pilsch         NaN              NaN"
      ]
     },
     "execution_count": 8,
     "metadata": {},
     "output_type": "execute_result"
    }
   ],
   "source": [
    "people_df.head()"
   ]
  },
  {
   "cell_type": "code",
   "execution_count": 9,
   "metadata": {},
   "outputs": [
    {
     "name": "stdout",
     "output_type": "stream",
     "text": [
      "<class 'pandas.core.frame.DataFrame'>\n",
      "RangeIndex: 109610 entries, 0 to 109609\n",
      "Data columns (total 4 columns):\n",
      " #   Column        Non-Null Count   Dtype \n",
      "---  ------        --------------   ----- \n",
      " 0   id            109610 non-null  int64 \n",
      " 1   person_id     109610 non-null  int64 \n",
      " 2   instituition  109555 non-null  object\n",
      " 3   graduated_at  58054 non-null   object\n",
      "dtypes: int64(2), object(2)\n",
      "memory usage: 3.3+ MB\n"
     ]
    }
   ],
   "source": [
    "education_df.info()"
   ]
  },
  {
   "cell_type": "code",
   "execution_count": 10,
   "metadata": {},
   "outputs": [
    {
     "data": {
      "text/html": [
       "<div>\n",
       "<style scoped>\n",
       "    .dataframe tbody tr th:only-of-type {\n",
       "        vertical-align: middle;\n",
       "    }\n",
       "\n",
       "    .dataframe tbody tr th {\n",
       "        vertical-align: top;\n",
       "    }\n",
       "\n",
       "    .dataframe thead th {\n",
       "        text-align: right;\n",
       "    }\n",
       "</style>\n",
       "<table border=\"1\" class=\"dataframe\">\n",
       "  <thead>\n",
       "    <tr style=\"text-align: right;\">\n",
       "      <th></th>\n",
       "      <th>id</th>\n",
       "      <th>person_id</th>\n",
       "      <th>instituition</th>\n",
       "      <th>graduated_at</th>\n",
       "    </tr>\n",
       "  </thead>\n",
       "  <tbody>\n",
       "    <tr>\n",
       "      <th>0</th>\n",
       "      <td>1</td>\n",
       "      <td>6117</td>\n",
       "      <td>NaN</td>\n",
       "      <td>NaN</td>\n",
       "    </tr>\n",
       "    <tr>\n",
       "      <th>1</th>\n",
       "      <td>2</td>\n",
       "      <td>6136</td>\n",
       "      <td>Washington University, St. Louis</td>\n",
       "      <td>1990-01-01</td>\n",
       "    </tr>\n",
       "    <tr>\n",
       "      <th>2</th>\n",
       "      <td>3</td>\n",
       "      <td>6136</td>\n",
       "      <td>Boston University</td>\n",
       "      <td>1992-01-01</td>\n",
       "    </tr>\n",
       "    <tr>\n",
       "      <th>3</th>\n",
       "      <td>4</td>\n",
       "      <td>6005</td>\n",
       "      <td>University of Greenwich</td>\n",
       "      <td>2006-01-01</td>\n",
       "    </tr>\n",
       "    <tr>\n",
       "      <th>4</th>\n",
       "      <td>5</td>\n",
       "      <td>5832</td>\n",
       "      <td>Rice University</td>\n",
       "      <td>NaN</td>\n",
       "    </tr>\n",
       "  </tbody>\n",
       "</table>\n",
       "</div>"
      ],
      "text/plain": [
       "   id  person_id                      instituition graduated_at\n",
       "0   1       6117                               NaN          NaN\n",
       "1   2       6136  Washington University, St. Louis   1990-01-01\n",
       "2   3       6136                 Boston University   1992-01-01\n",
       "3   4       6005           University of Greenwich   2006-01-01\n",
       "4   5       5832                   Rice University          NaN"
      ]
     },
     "execution_count": 10,
     "metadata": {},
     "output_type": "execute_result"
    }
   ],
   "source": [
    "education_df.head()"
   ]
  },
  {
   "cell_type": "code",
   "execution_count": 11,
   "metadata": {},
   "outputs": [
    {
     "name": "stdout",
     "output_type": "stream",
     "text": [
      "<class 'pandas.core.frame.DataFrame'>\n",
      "RangeIndex: 109610 entries, 0 to 109609\n",
      "Data columns (total 4 columns):\n",
      " #   Column       Non-Null Count   Dtype \n",
      "---  ------       --------------   ----- \n",
      " 0   id           109610 non-null  int64 \n",
      " 1   object_id    109610 non-null  object\n",
      " 2   degree_type  98392 non-null   object\n",
      " 3   subject      81298 non-null   object\n",
      "dtypes: int64(1), object(3)\n",
      "memory usage: 3.3+ MB\n"
     ]
    }
   ],
   "source": [
    "degrees_df.info()"
   ]
  },
  {
   "cell_type": "code",
   "execution_count": 12,
   "metadata": {},
   "outputs": [
    {
     "data": {
      "text/html": [
       "<div>\n",
       "<style scoped>\n",
       "    .dataframe tbody tr th:only-of-type {\n",
       "        vertical-align: middle;\n",
       "    }\n",
       "\n",
       "    .dataframe tbody tr th {\n",
       "        vertical-align: top;\n",
       "    }\n",
       "\n",
       "    .dataframe thead th {\n",
       "        text-align: right;\n",
       "    }\n",
       "</style>\n",
       "<table border=\"1\" class=\"dataframe\">\n",
       "  <thead>\n",
       "    <tr style=\"text-align: right;\">\n",
       "      <th></th>\n",
       "      <th>id</th>\n",
       "      <th>object_id</th>\n",
       "      <th>degree_type</th>\n",
       "      <th>subject</th>\n",
       "    </tr>\n",
       "  </thead>\n",
       "  <tbody>\n",
       "    <tr>\n",
       "      <th>0</th>\n",
       "      <td>1</td>\n",
       "      <td>p:6117</td>\n",
       "      <td>MBA</td>\n",
       "      <td>NaN</td>\n",
       "    </tr>\n",
       "    <tr>\n",
       "      <th>1</th>\n",
       "      <td>2</td>\n",
       "      <td>p:6136</td>\n",
       "      <td>BA</td>\n",
       "      <td>English, French</td>\n",
       "    </tr>\n",
       "    <tr>\n",
       "      <th>2</th>\n",
       "      <td>3</td>\n",
       "      <td>p:6136</td>\n",
       "      <td>MS</td>\n",
       "      <td>Mass Communication</td>\n",
       "    </tr>\n",
       "    <tr>\n",
       "      <th>3</th>\n",
       "      <td>4</td>\n",
       "      <td>p:6005</td>\n",
       "      <td>MS</td>\n",
       "      <td>Internet Technology</td>\n",
       "    </tr>\n",
       "    <tr>\n",
       "      <th>4</th>\n",
       "      <td>5</td>\n",
       "      <td>p:5832</td>\n",
       "      <td>BCS</td>\n",
       "      <td>Computer Science, Psychology</td>\n",
       "    </tr>\n",
       "  </tbody>\n",
       "</table>\n",
       "</div>"
      ],
      "text/plain": [
       "   id object_id degree_type                       subject\n",
       "0   1    p:6117         MBA                           NaN\n",
       "1   2    p:6136          BA               English, French\n",
       "2   3    p:6136          MS            Mass Communication\n",
       "3   4    p:6005          MS           Internet Technology\n",
       "4   5    p:5832         BCS  Computer Science, Psychology"
      ]
     },
     "execution_count": 12,
     "metadata": {},
     "output_type": "execute_result"
    }
   ],
   "source": [
    "degrees_df.head()"
   ]
  },
  {
   "cell_type": "markdown",
   "metadata": {},
   "source": [
    "В датасете company_and_rounds_df есть 2 столбца с почти идентичным названием, построим диаграмму Венна, чтобы оценить данные в этих столбцах"
   ]
  },
  {
   "cell_type": "code",
   "execution_count": 13,
   "metadata": {},
   "outputs": [],
   "source": [
    "# Пытаемся импортировать venn2\n",
    "try:\n",
    "    from matplotlib_venn import venn2\n",
    "except ImportError:\n",
    "# Если модуля нет — устанавливаем\n",
    "    !pip install matplotlib-venn --quiet\n",
    "    from matplotlib_venn import venn2"
   ]
  },
  {
   "cell_type": "code",
   "execution_count": 14,
   "metadata": {},
   "outputs": [
    {
     "data": {
      "image/png": "[encoded data removed]",
      "text/plain": [
       "<Figure size 432x288 with 1 Axes>"
      ]
     },
     "metadata": {},
     "output_type": "display_data"
    }
   ],
   "source": [
    "# Создаем переменные с множеством уникальных id для столюцов 'company  ID' и 'company  id'\n",
    "first_id = set(company_and_rounds_df['company  ID'].dropna())\n",
    "second_id = set(company_and_rounds_df['company  id'].dropna())\n",
    "\n",
    "# Строим диаграмму Венна\n",
    "venn2([first_id, second_id], set_labels=('company  ID', 'company  id'))\n",
    "\n",
    "# Отображаем график\n",
    "plt.title(\"Пересечение ID компаний\")\n",
    "plt.show()"
   ]
  },
  {
   "cell_type": "markdown",
   "metadata": {},
   "source": [
    "Датасет `acquisition_df` содержит 9407 строк и 6 столбцов и содержит информацию о покупках одними компаниями других компаний\n",
    "- названия столбцов написаны корректно\n",
    "- столбец с датой `acquired_at` необходимо из формата object привести к формату datetime64\n",
    "\n",
    "Датасет `company_and_rounds_df` содежит 217774 строк и 22 столбца и содержит информацию о компаниях и раундах финансирования\n",
    "- столбцы `company  ID`  `company  id` переименовать(добавить суффикс _x и _y), чтобы избежать ошибок в дальнейшем\n",
    "- названия столбцов написаны некорректно, следует привести к snake_case\n",
    "- столбцы с датой `founded  at`, `closed  at`, `funded  at` необходимо из формата object привести к формату datetime64\n",
    "\n",
    "Датасет `people_df` содежит 226709 строк и 6 столбцов и содержит информацию о сотрудниках\n",
    "- названия столбцов написаны корректно\n",
    "\n",
    "Датасет `education_df` содежит 109610 строк и 4 столбца и содержит информацию об образовании сотрудника\n",
    "- названия столбцов написаны корректно\n",
    "- столбцы с датой `graduated_at` необходимо из формата object привести к формату datetime64\n",
    "\n",
    "Датасет `degrees_df` содежит 109610 строк и 4 столбца и содержит информацию о типе образования сотрудника\n",
    "- названия столбцов написаны корректно"
   ]
  },
  {
   "cell_type": "code",
   "execution_count": 15,
   "metadata": {},
   "outputs": [
    {
     "data": {
      "text/plain": [
       "company  ID                 302\n",
       "name                        302\n",
       "category  code            73888\n",
       "status                      302\n",
       "founded  at              107818\n",
       "closed  at               214325\n",
       "domain                    70615\n",
       "network  username        122240\n",
       "country  code            109167\n",
       "investment  rounds          302\n",
       "funding  rounds             302\n",
       "funding  total              302\n",
       "milestones                  302\n",
       "funding  round  id       164846\n",
       "company  id              164846\n",
       "funded  at               165094\n",
       "funding  round  type     164846\n",
       "raised  amount           164846\n",
       "pre  money  valuation    164846\n",
       "participants             164846\n",
       "is  first  round         164846\n",
       "is  last  round          164846\n",
       "dtype: int64"
      ]
     },
     "metadata": {},
     "output_type": "display_data"
    }
   ],
   "source": [
    "# Создадим маску для nan, где совпадения с nan даст TRUE в строке\n",
    "string_nan_mask = company_and_rounds_df.apply(\n",
    "    lambda col: col.astype(str).str.lower() == 'nan'\n",
    ")\n",
    "\n",
    "# Выведем результат с подсчетом количества nan в строках \n",
    "display(string_nan_mask.sum())"
   ]
  },
  {
   "cell_type": "code",
   "execution_count": 16,
   "metadata": {},
   "outputs": [
    {
     "data": {
      "text/html": [
       "<div>\n",
       "<style scoped>\n",
       "    .dataframe tbody tr th:only-of-type {\n",
       "        vertical-align: middle;\n",
       "    }\n",
       "\n",
       "    .dataframe tbody tr th {\n",
       "        vertical-align: top;\n",
       "    }\n",
       "\n",
       "    .dataframe thead th {\n",
       "        text-align: right;\n",
       "    }\n",
       "</style>\n",
       "<table border=\"1\" class=\"dataframe\">\n",
       "  <thead>\n",
       "    <tr style=\"text-align: right;\">\n",
       "      <th></th>\n",
       "      <th>True NaN</th>\n",
       "      <th>String \"nan\"</th>\n",
       "    </tr>\n",
       "  </thead>\n",
       "  <tbody>\n",
       "    <tr>\n",
       "      <th>company  ID</th>\n",
       "      <td>302</td>\n",
       "      <td>302</td>\n",
       "    </tr>\n",
       "    <tr>\n",
       "      <th>name</th>\n",
       "      <td>302</td>\n",
       "      <td>302</td>\n",
       "    </tr>\n",
       "    <tr>\n",
       "      <th>category  code</th>\n",
       "      <td>73888</td>\n",
       "      <td>73888</td>\n",
       "    </tr>\n",
       "    <tr>\n",
       "      <th>status</th>\n",
       "      <td>302</td>\n",
       "      <td>302</td>\n",
       "    </tr>\n",
       "    <tr>\n",
       "      <th>founded  at</th>\n",
       "      <td>107818</td>\n",
       "      <td>107818</td>\n",
       "    </tr>\n",
       "    <tr>\n",
       "      <th>closed  at</th>\n",
       "      <td>214325</td>\n",
       "      <td>214325</td>\n",
       "    </tr>\n",
       "    <tr>\n",
       "      <th>domain</th>\n",
       "      <td>70615</td>\n",
       "      <td>70615</td>\n",
       "    </tr>\n",
       "    <tr>\n",
       "      <th>network  username</th>\n",
       "      <td>122240</td>\n",
       "      <td>122240</td>\n",
       "    </tr>\n",
       "    <tr>\n",
       "      <th>country  code</th>\n",
       "      <td>109167</td>\n",
       "      <td>109167</td>\n",
       "    </tr>\n",
       "    <tr>\n",
       "      <th>investment  rounds</th>\n",
       "      <td>302</td>\n",
       "      <td>302</td>\n",
       "    </tr>\n",
       "    <tr>\n",
       "      <th>funding  rounds</th>\n",
       "      <td>302</td>\n",
       "      <td>302</td>\n",
       "    </tr>\n",
       "    <tr>\n",
       "      <th>funding  total</th>\n",
       "      <td>302</td>\n",
       "      <td>302</td>\n",
       "    </tr>\n",
       "    <tr>\n",
       "      <th>milestones</th>\n",
       "      <td>302</td>\n",
       "      <td>302</td>\n",
       "    </tr>\n",
       "    <tr>\n",
       "      <th>funding  round  id</th>\n",
       "      <td>164846</td>\n",
       "      <td>164846</td>\n",
       "    </tr>\n",
       "    <tr>\n",
       "      <th>company  id</th>\n",
       "      <td>164846</td>\n",
       "      <td>164846</td>\n",
       "    </tr>\n",
       "    <tr>\n",
       "      <th>funded  at</th>\n",
       "      <td>165094</td>\n",
       "      <td>165094</td>\n",
       "    </tr>\n",
       "    <tr>\n",
       "      <th>funding  round  type</th>\n",
       "      <td>164846</td>\n",
       "      <td>164846</td>\n",
       "    </tr>\n",
       "    <tr>\n",
       "      <th>raised  amount</th>\n",
       "      <td>164846</td>\n",
       "      <td>164846</td>\n",
       "    </tr>\n",
       "    <tr>\n",
       "      <th>pre  money  valuation</th>\n",
       "      <td>164846</td>\n",
       "      <td>164846</td>\n",
       "    </tr>\n",
       "    <tr>\n",
       "      <th>participants</th>\n",
       "      <td>164846</td>\n",
       "      <td>164846</td>\n",
       "    </tr>\n",
       "    <tr>\n",
       "      <th>is  first  round</th>\n",
       "      <td>164846</td>\n",
       "      <td>164846</td>\n",
       "    </tr>\n",
       "    <tr>\n",
       "      <th>is  last  round</th>\n",
       "      <td>164846</td>\n",
       "      <td>164846</td>\n",
       "    </tr>\n",
       "  </tbody>\n",
       "</table>\n",
       "</div>"
      ],
      "text/plain": [
       "                       True NaN  String \"nan\"\n",
       "company  ID                 302           302\n",
       "name                        302           302\n",
       "category  code            73888         73888\n",
       "status                      302           302\n",
       "founded  at              107818        107818\n",
       "closed  at               214325        214325\n",
       "domain                    70615         70615\n",
       "network  username        122240        122240\n",
       "country  code            109167        109167\n",
       "investment  rounds          302           302\n",
       "funding  rounds             302           302\n",
       "funding  total              302           302\n",
       "milestones                  302           302\n",
       "funding  round  id       164846        164846\n",
       "company  id              164846        164846\n",
       "funded  at               165094        165094\n",
       "funding  round  type     164846        164846\n",
       "raised  amount           164846        164846\n",
       "pre  money  valuation    164846        164846\n",
       "participants             164846        164846\n",
       "is  first  round         164846        164846\n",
       "is  last  round          164846        164846"
      ]
     },
     "metadata": {},
     "output_type": "display_data"
    }
   ],
   "source": [
    "# Посчитаем настоящие nan \n",
    "true_nan = company_and_rounds_df.isna().sum()\n",
    "# Посчитаем строковые nan \n",
    "string_nan = string_nan_mask.sum()\n",
    "\n",
    "# Сводим в одну таблицу\n",
    "compare = pd.DataFrame({\n",
    "    'True NaN': true_nan,\n",
    "    'String \"nan\"': string_nan\n",
    "})\n",
    "display(compare)"
   ]
  },
  {
   "cell_type": "markdown",
   "metadata": {
    "id": "mg2gEwh0rJg0"
   },
   "source": [
    "### 1.2. Смена типов и анализ пропусков"
   ]
  },
  {
   "cell_type": "code",
   "execution_count": 17,
   "metadata": {
    "id": "FsL0A8RBrJg1",
    "vscode": {
     "languageId": "plaintext"
    }
   },
   "outputs": [],
   "source": [
    "# Переименуем столбцы в датасете company_and_rounds_df\n",
    "company_rename_dict = {'company  ID': 'company_id_x',\n",
    "                       'company  id': 'company_id_y'}\n",
    "\n",
    "company_and_rounds_df = company_and_rounds_df.rename(columns=company_rename_dict)"
   ]
  },
  {
   "cell_type": "code",
   "execution_count": 18,
   "metadata": {},
   "outputs": [
    {
     "data": {
      "text/plain": [
       "Index(['company_id_x', 'name', 'category_code', 'status', 'founded_at',\n",
       "       'closed_at', 'domain', 'network_username', 'country_code',\n",
       "       'investment_rounds', 'funding_rounds', 'funding_total', 'milestones',\n",
       "       'funding_round_id', 'company_id_y', 'funded_at', 'funding_round_type',\n",
       "       'raised_amount', 'pre_money_valuation', 'participants',\n",
       "       'is_first_round', 'is_last_round'],\n",
       "      dtype='object')"
      ]
     },
     "execution_count": 18,
     "metadata": {},
     "output_type": "execute_result"
    }
   ],
   "source": [
    "# Приведем столбцы к стилю snake case\n",
    "company_and_rounds_df.columns = company_and_rounds_df.columns.str.lower().str.replace('  ', '_')\n",
    "\n",
    "# Выведем результат\n",
    "company_and_rounds_df.columns"
   ]
  },
  {
   "cell_type": "code",
   "execution_count": 19,
   "metadata": {
    "id": "46VskrGyFeJ-"
   },
   "outputs": [
    {
     "data": {
      "text/plain": [
       "id                               int64\n",
       "acquiring_company_id             int64\n",
       "acquired_company_id              int64\n",
       "term_code                       object\n",
       "price_amount                     int64\n",
       "acquired_at             datetime64[ns]\n",
       "dtype: object"
      ]
     },
     "execution_count": 19,
     "metadata": {},
     "output_type": "execute_result"
    }
   ],
   "source": [
    "# Обработаем столбцы с датой в датасете acquisition_df\n",
    "acquisition_df['acquired_at'] = pd.to_datetime(acquisition_df['acquired_at'], errors='coerce')\n",
    "\n",
    "acquisition_df.dtypes"
   ]
  },
  {
   "cell_type": "code",
   "execution_count": 20,
   "metadata": {
    "id": "DEg1tl8DFeBn"
   },
   "outputs": [
    {
     "data": {
      "text/plain": [
       "company_id_x                  float64\n",
       "name                           object\n",
       "category_code                  object\n",
       "status                         object\n",
       "founded_at             datetime64[ns]\n",
       "closed_at              datetime64[ns]\n",
       "domain                         object\n",
       "network_username               object\n",
       "country_code                   object\n",
       "investment_rounds             float64\n",
       "funding_rounds                float64\n",
       "funding_total                 float64\n",
       "milestones                    float64\n",
       "funding_round_id              float64\n",
       "company_id_y                  float64\n",
       "funded_at              datetime64[ns]\n",
       "funding_round_type             object\n",
       "raised_amount                 float64\n",
       "pre_money_valuation           float64\n",
       "participants                  float64\n",
       "is_first_round                float64\n",
       "is_last_round                 float64\n",
       "dtype: object"
      ]
     },
     "execution_count": 20,
     "metadata": {},
     "output_type": "execute_result"
    }
   ],
   "source": [
    "# Обработаем столбцы с датой в датасете company_and_rounds_df\n",
    "for col in ['founded_at', 'closed_at', 'funded_at']:\n",
    "    company_and_rounds_df[col] = pd.to_datetime(company_and_rounds_df[col], errors='coerce')\n",
    "\n",
    "# Выведем результат    \n",
    "company_and_rounds_df.dtypes"
   ]
  },
  {
   "cell_type": "code",
   "execution_count": 21,
   "metadata": {},
   "outputs": [
    {
     "data": {
      "text/plain": [
       "id                       int64\n",
       "person_id                int64\n",
       "instituition            object\n",
       "graduated_at    datetime64[ns]\n",
       "dtype: object"
      ]
     },
     "execution_count": 21,
     "metadata": {},
     "output_type": "execute_result"
    }
   ],
   "source": [
    "# Обработаем столбцы с датой в датасете education_df\n",
    "education_df['graduated_at'] = pd.to_datetime(education_df['graduated_at'], errors='coerce')\n",
    "\n",
    "# Выведем результат\n",
    "education_df.dtypes"
   ]
  },
  {
   "cell_type": "code",
   "execution_count": 22,
   "metadata": {},
   "outputs": [],
   "source": [
    "# Изменим отображение \n",
    "pd.set_option('display.float_format', '{:,.2f}'.format)"
   ]
  },
  {
   "cell_type": "markdown",
   "metadata": {},
   "source": [
    "При первичном анализе мы обнаружили пропуски в датафреймах. Узнаем абсолютное и относительное количество пропусков."
   ]
  },
  {
   "cell_type": "code",
   "execution_count": 23,
   "metadata": {},
   "outputs": [
    {
     "data": {
      "text/plain": [
       "id                         0\n",
       "acquiring_company_id       0\n",
       "acquired_company_id        0\n",
       "term_code               7576\n",
       "price_amount               0\n",
       "acquired_at               29\n",
       "dtype: int64"
      ]
     },
     "execution_count": 23,
     "metadata": {},
     "output_type": "execute_result"
    }
   ],
   "source": [
    "# Выведем количество пропусков \n",
    "acquisition_df.isna().sum()"
   ]
  },
  {
   "cell_type": "code",
   "execution_count": 24,
   "metadata": {},
   "outputs": [
    {
     "data": {
      "text/plain": [
       "id                     0.00\n",
       "acquiring_company_id   0.00\n",
       "acquired_company_id    0.00\n",
       "term_code              0.81\n",
       "price_amount           0.00\n",
       "acquired_at            0.00\n",
       "dtype: float64"
      ]
     },
     "execution_count": 24,
     "metadata": {},
     "output_type": "execute_result"
    }
   ],
   "source": [
    "# Выведем относительное количество пропусков\n",
    "acquisition_df.isna().mean()"
   ]
  },
  {
   "cell_type": "code",
   "execution_count": 25,
   "metadata": {},
   "outputs": [
    {
     "data": {
      "text/plain": [
       "company_id_x              302\n",
       "name                      302\n",
       "category_code           73888\n",
       "status                    302\n",
       "founded_at             107818\n",
       "closed_at              214325\n",
       "domain                  70615\n",
       "network_username       122240\n",
       "country_code           109167\n",
       "investment_rounds         302\n",
       "funding_rounds            302\n",
       "funding_total             302\n",
       "milestones                302\n",
       "funding_round_id       164846\n",
       "company_id_y           164846\n",
       "funded_at              165094\n",
       "funding_round_type     164846\n",
       "raised_amount          164846\n",
       "pre_money_valuation    164846\n",
       "participants           164846\n",
       "is_first_round         164846\n",
       "is_last_round          164846\n",
       "dtype: int64"
      ]
     },
     "execution_count": 25,
     "metadata": {},
     "output_type": "execute_result"
    }
   ],
   "source": [
    "# Выведем количество пропусков \n",
    "company_and_rounds_df.isna().sum()"
   ]
  },
  {
   "cell_type": "code",
   "execution_count": 26,
   "metadata": {},
   "outputs": [
    {
     "data": {
      "text/plain": [
       "company_id_x          0.00\n",
       "name                  0.00\n",
       "category_code         0.34\n",
       "status                0.00\n",
       "founded_at            0.50\n",
       "closed_at             0.98\n",
       "domain                0.32\n",
       "network_username      0.56\n",
       "country_code          0.50\n",
       "investment_rounds     0.00\n",
       "funding_rounds        0.00\n",
       "funding_total         0.00\n",
       "milestones            0.00\n",
       "funding_round_id      0.76\n",
       "company_id_y          0.76\n",
       "funded_at             0.76\n",
       "funding_round_type    0.76\n",
       "raised_amount         0.76\n",
       "pre_money_valuation   0.76\n",
       "participants          0.76\n",
       "is_first_round        0.76\n",
       "is_last_round         0.76\n",
       "dtype: float64"
      ]
     },
     "execution_count": 26,
     "metadata": {},
     "output_type": "execute_result"
    }
   ],
   "source": [
    "# Выведем относительное количество пропусков\n",
    "company_and_rounds_df.isna().mean()"
   ]
  },
  {
   "cell_type": "code",
   "execution_count": 27,
   "metadata": {},
   "outputs": [
    {
     "data": {
      "text/plain": [
       "id                       0\n",
       "first_name               5\n",
       "last_name                1\n",
       "company_id          192094\n",
       "network_username    187842\n",
       "dtype: int64"
      ]
     },
     "execution_count": 27,
     "metadata": {},
     "output_type": "execute_result"
    }
   ],
   "source": [
    "# Выведем количество пропусков \n",
    "people_df.isna().sum()"
   ]
  },
  {
   "cell_type": "code",
   "execution_count": 28,
   "metadata": {},
   "outputs": [
    {
     "data": {
      "text/plain": [
       "id                 0.00\n",
       "first_name         0.00\n",
       "last_name          0.00\n",
       "company_id         0.85\n",
       "network_username   0.83\n",
       "dtype: float64"
      ]
     },
     "execution_count": 28,
     "metadata": {},
     "output_type": "execute_result"
    }
   ],
   "source": [
    "# Выведем относительное количество пропусков\n",
    "people_df.isna().mean()"
   ]
  },
  {
   "cell_type": "code",
   "execution_count": 29,
   "metadata": {},
   "outputs": [
    {
     "data": {
      "text/plain": [
       "id                  0\n",
       "person_id           0\n",
       "instituition       55\n",
       "graduated_at    51556\n",
       "dtype: int64"
      ]
     },
     "execution_count": 29,
     "metadata": {},
     "output_type": "execute_result"
    }
   ],
   "source": [
    "# Выведем количество пропусков \n",
    "education_df.isna().sum()"
   ]
  },
  {
   "cell_type": "code",
   "execution_count": 30,
   "metadata": {},
   "outputs": [
    {
     "data": {
      "text/plain": [
       "id             0.00\n",
       "person_id      0.00\n",
       "instituition   0.00\n",
       "graduated_at   0.47\n",
       "dtype: float64"
      ]
     },
     "execution_count": 30,
     "metadata": {},
     "output_type": "execute_result"
    }
   ],
   "source": [
    "# Выведем относительное количество пропусков\n",
    "education_df.isna().mean()"
   ]
  },
  {
   "cell_type": "code",
   "execution_count": 31,
   "metadata": {},
   "outputs": [
    {
     "data": {
      "text/plain": [
       "id                 0\n",
       "object_id          0\n",
       "degree_type    11218\n",
       "subject        28312\n",
       "dtype: int64"
      ]
     },
     "execution_count": 31,
     "metadata": {},
     "output_type": "execute_result"
    }
   ],
   "source": [
    "# Выведем количество пропусков \n",
    "degrees_df.isna().sum()"
   ]
  },
  {
   "cell_type": "code",
   "execution_count": 32,
   "metadata": {
    "scrolled": true
   },
   "outputs": [
    {
     "data": {
      "text/plain": [
       "id            0.00\n",
       "object_id     0.00\n",
       "degree_type   0.10\n",
       "subject       0.26\n",
       "dtype: float64"
      ]
     },
     "execution_count": 32,
     "metadata": {},
     "output_type": "execute_result"
    }
   ],
   "source": [
    "# Выведем относительное количество пропусков\n",
    "degrees_df.isna().mean()"
   ]
  },
  {
   "cell_type": "code",
   "execution_count": 33,
   "metadata": {},
   "outputs": [],
   "source": [
    "# Пытаемся импортировать missingno\n",
    "try:\n",
    "    import missingno as msno\n",
    "except ImportError:\n",
    "# Если модуля нет — устанавливаем\n",
    "    !pip install missingno --quiet\n",
    "    import missingno as msno"
   ]
  },
  {
   "cell_type": "code",
   "execution_count": 34,
   "metadata": {},
   "outputs": [
    {
     "data": {
      "image/png": "[encoded data removed]",
      "text/plain": [
       "<Figure size 1800x720 with 2 Axes>"
      ]
     },
     "metadata": {
      "needs_background": "light"
     },
     "output_type": "display_data"
    }
   ],
   "source": [
    "# Построим матрицу пропусков с помощью missingno в датасете company_and_rounds_df\n",
    "msno.matrix(company_and_rounds_df)\n",
    "plt.title(\"Матрица пропусков в company_and_rounds_df\")\n",
    "plt.show()"
   ]
  },
  {
   "cell_type": "code",
   "execution_count": 35,
   "metadata": {},
   "outputs": [
    {
     "data": {
      "image/png": "[encoded data removed]",
      "text/plain": [
       "<Figure size 1800x720 with 3 Axes>"
      ]
     },
     "metadata": {
      "needs_background": "light"
     },
     "output_type": "display_data"
    }
   ],
   "source": [
    "# Построим диаграмму пропусков по столбцам датасета company_and_rounds_df\n",
    "msno.bar(company_and_rounds_df, color=\"dodgerblue\")\n",
    "plt.title(\"Количество пропусков по столбцам\")\n",
    "plt.show()"
   ]
  },
  {
   "cell_type": "code",
   "execution_count": 36,
   "metadata": {},
   "outputs": [
    {
     "data": {
      "image/png": "[encoded data removed]",
      "text/plain": [
       "<Figure size 1440x864 with 2 Axes>"
      ]
     },
     "metadata": {
      "needs_background": "light"
     },
     "output_type": "display_data"
    }
   ],
   "source": [
    "# \n",
    "msno.heatmap(company_and_rounds_df)\n",
    "plt.title(\"Корреляция пропусков между столбцами\")\n",
    "plt.show()"
   ]
  },
  {
   "cell_type": "markdown",
   "metadata": {},
   "source": [
    "---\n",
    "\n",
    "### Промежуточный вывод"
   ]
  },
  {
   "cell_type": "markdown",
   "metadata": {},
   "source": [
    "Мы загрузили необходимые данные по проекту. Провели первичное знакомство с данными и первичную предобработку:\n",
    "- изменили тип данных в датасетах в стобцах с датой с типа `object` на тип `datetime64`.\n",
    "- привели названия столбцов датасета company_and_rounds_df  к стилю snake_case\n",
    "- во всех датасетах присутствуют пропуски, такое количество пропусков может снизить качество исследования\n",
    "- некоторые пропуски сгруппированны в определенных столбцах\n",
    "- согласно тепловой карте пропусков некоторые столбцы связаны, если есть пропуски в одних столбцах, то точно есть в других, например столбцы company id и столбцы is last round, is first raund и др. "
   ]
  },
  {
   "cell_type": "markdown",
   "metadata": {
    "id": "u60cHsn6rJg1"
   },
   "source": [
    "## Шаг 2. Предобработка данных, предварительное исследование"
   ]
  },
  {
   "cell_type": "markdown",
   "metadata": {
    "id": "g2bHIIjcrJg1"
   },
   "source": [
    "\n",
    "### 2.1. Раунды финансирования по годам"
   ]
  },
  {
   "cell_type": "markdown",
   "metadata": {},
   "source": [
    "Составим сводную таблицу в годам, а которой на основании столбца `raised_amount` для каждого года укажем типичный размер средств, выделяемый в рамках одного раунда, а также общее количество раундов за этот год. Для определения типичного размера средств будем использовать медиану, т.к. есть выбросы, а медиана менее чувствительна к выбросам."
   ]
  },
  {
   "cell_type": "code",
   "execution_count": 37,
   "metadata": {
    "id": "Cf5IjfOQrJg1",
    "vscode": {
     "languageId": "plaintext"
    }
   },
   "outputs": [
    {
     "data": {
      "text/html": [
       "<div>\n",
       "<style scoped>\n",
       "    .dataframe tbody tr th:only-of-type {\n",
       "        vertical-align: middle;\n",
       "    }\n",
       "\n",
       "    .dataframe tbody tr th {\n",
       "        vertical-align: top;\n",
       "    }\n",
       "\n",
       "    .dataframe thead th {\n",
       "        text-align: right;\n",
       "    }\n",
       "</style>\n",
       "<table border=\"1\" class=\"dataframe\">\n",
       "  <thead>\n",
       "    <tr style=\"text-align: right;\">\n",
       "      <th></th>\n",
       "      <th>median_amount</th>\n",
       "      <th>rounds_count</th>\n",
       "    </tr>\n",
       "    <tr>\n",
       "      <th>funded_year</th>\n",
       "      <th></th>\n",
       "      <th></th>\n",
       "    </tr>\n",
       "  </thead>\n",
       "  <tbody>\n",
       "    <tr>\n",
       "      <th>1,999.00</th>\n",
       "      <td>2,000,000.00</td>\n",
       "      <td>76</td>\n",
       "    </tr>\n",
       "    <tr>\n",
       "      <th>2,000.00</th>\n",
       "      <td>4,200,000.00</td>\n",
       "      <td>125</td>\n",
       "    </tr>\n",
       "    <tr>\n",
       "      <th>2,001.00</th>\n",
       "      <td>3,000,000.00</td>\n",
       "      <td>96</td>\n",
       "    </tr>\n",
       "    <tr>\n",
       "      <th>2,002.00</th>\n",
       "      <td>4,200,000.00</td>\n",
       "      <td>116</td>\n",
       "    </tr>\n",
       "    <tr>\n",
       "      <th>2,003.00</th>\n",
       "      <td>3,000,000.00</td>\n",
       "      <td>159</td>\n",
       "    </tr>\n",
       "    <tr>\n",
       "      <th>2,004.00</th>\n",
       "      <td>5,000,000.00</td>\n",
       "      <td>291</td>\n",
       "    </tr>\n",
       "    <tr>\n",
       "      <th>2,005.00</th>\n",
       "      <td>5,500,000.00</td>\n",
       "      <td>1633</td>\n",
       "    </tr>\n",
       "    <tr>\n",
       "      <th>2,006.00</th>\n",
       "      <td>5,000,000.00</td>\n",
       "      <td>2436</td>\n",
       "    </tr>\n",
       "    <tr>\n",
       "      <th>2,007.00</th>\n",
       "      <td>3,973,320.00</td>\n",
       "      <td>3279</td>\n",
       "    </tr>\n",
       "    <tr>\n",
       "      <th>2,008.00</th>\n",
       "      <td>3,110,000.00</td>\n",
       "      <td>3774</td>\n",
       "    </tr>\n",
       "    <tr>\n",
       "      <th>2,009.00</th>\n",
       "      <td>2,000,000.00</td>\n",
       "      <td>4151</td>\n",
       "    </tr>\n",
       "    <tr>\n",
       "      <th>2,010.00</th>\n",
       "      <td>1,602,500.00</td>\n",
       "      <td>6221</td>\n",
       "    </tr>\n",
       "    <tr>\n",
       "      <th>2,011.00</th>\n",
       "      <td>1,200,000.00</td>\n",
       "      <td>9204</td>\n",
       "    </tr>\n",
       "    <tr>\n",
       "      <th>2,012.00</th>\n",
       "      <td>1,000,000.00</td>\n",
       "      <td>9970</td>\n",
       "    </tr>\n",
       "    <tr>\n",
       "      <th>2,013.00</th>\n",
       "      <td>1,200,000.00</td>\n",
       "      <td>11072</td>\n",
       "    </tr>\n",
       "  </tbody>\n",
       "</table>\n",
       "</div>"
      ],
      "text/plain": [
       "             median_amount  rounds_count\n",
       "funded_year                             \n",
       "1,999.00      2,000,000.00            76\n",
       "2,000.00      4,200,000.00           125\n",
       "2,001.00      3,000,000.00            96\n",
       "2,002.00      4,200,000.00           116\n",
       "2,003.00      3,000,000.00           159\n",
       "2,004.00      5,000,000.00           291\n",
       "2,005.00      5,500,000.00          1633\n",
       "2,006.00      5,000,000.00          2436\n",
       "2,007.00      3,973,320.00          3279\n",
       "2,008.00      3,110,000.00          3774\n",
       "2,009.00      2,000,000.00          4151\n",
       "2,010.00      1,602,500.00          6221\n",
       "2,011.00      1,200,000.00          9204\n",
       "2,012.00      1,000,000.00          9970\n",
       "2,013.00      1,200,000.00         11072"
      ]
     },
     "metadata": {},
     "output_type": "display_data"
    }
   ],
   "source": [
    "# Выделим год из даты\n",
    "company_and_rounds_df['funded_year'] = company_and_rounds_df['funded_at'].dt.year \n",
    "\n",
    "# Создадим сводную таблицу\n",
    "pivot_raised_amount = pd.pivot_table(\n",
    "    company_and_rounds_df,\n",
    "    index='funded_year',\n",
    "    values='raised_amount',\n",
    "    aggfunc=['median', 'count'])\n",
    "\n",
    "# Переименуем столбцы для удобства\n",
    "pivot_raised_amount.columns = ['median_amount', 'rounds_count']\n",
    "\n",
    "# Фильтруем годы с более чем 50 раундами\n",
    "pivot_filtered = pivot_raised_amount[pivot_raised_amount['rounds_count'] > 50]\n",
    "\n",
    "# Выведем таблицу\n",
    "display(pivot_filtered)"
   ]
  },
  {
   "cell_type": "code",
   "execution_count": 38,
   "metadata": {
    "id": "8Fbz6KmzFdYP"
   },
   "outputs": [
    {
     "data": {
      "image/png": "[encoded data removed]",
      "text/plain": [
       "<Figure size 864x432 with 1 Axes>"
      ]
     },
     "metadata": {
      "needs_background": "light"
     },
     "output_type": "display_data"
    }
   ],
   "source": [
    "# Создаем график\n",
    "plt.figure(figsize=(12, 6))\n",
    "\n",
    "plt.plot(pivot_filtered.index, pivot_filtered['median_amount'],\n",
    "         marker='o', linewidth=2, markersize=8)\n",
    "\n",
    "# Настройка оси Y\n",
    "plt.gca().yaxis.set_major_formatter('{:.0f}'.format) \n",
    "plt.ylim(0) \n",
    "\n",
    "# Добавляем подписи\n",
    "plt.title('Динамика среднего размера инвестиций в раунде ')\n",
    "plt.xlabel('Год финансирования')\n",
    "plt.ylabel('Средний размер раунда ($)')\n",
    "plt.grid(True)\n",
    "\n",
    "# Выводим график\n",
    "plt.show()"
   ]
  },
  {
   "cell_type": "markdown",
   "metadata": {
    "id": "Z92DzKMMFdKW"
   },
   "source": [
    "Создадим график количества раундов по годам"
   ]
  },
  {
   "cell_type": "code",
   "execution_count": 39,
   "metadata": {},
   "outputs": [
    {
     "data": {
      "image/png": "[encoded data removed]",
      "text/plain": [
       "<Figure size 864x432 with 1 Axes>"
      ]
     },
     "metadata": {
      "needs_background": "light"
     },
     "output_type": "display_data"
    }
   ],
   "source": [
    "# Создаем график\n",
    "plt.figure(figsize=(12, 6))\n",
    "\n",
    "plt.plot(pivot_filtered.index, pivot_filtered['rounds_count'],\n",
    "         marker='o', linewidth=2, markersize=8)\n",
    "\n",
    "# Добавляем подписи\n",
    "plt.title('Динамика количества раундов в году')\n",
    "plt.xlabel('Год финансирования')\n",
    "plt.ylabel('Количество раундов финансирования (шт.)')\n",
    "plt.grid(True)\n",
    "\n",
    "# Выводим график\n",
    "plt.show()"
   ]
  },
  {
   "cell_type": "markdown",
   "metadata": {},
   "source": [
    "В 2005 году медианная сумма одного раунда финансирвоания была самая максимальная (5500000 дол.), далее наблюдается тенденция по снижению этой суммы. Это не удивительно, ведь если посмотреть на график количества раундов по годам, то видно, что с 2004 года наблюдается большой рост количества раундов. А в 2013 году наблюдается максимальное количество раундов (11072 шт.), в 2004 году раундов было 291."
   ]
  },
  {
   "cell_type": "code",
   "execution_count": 40,
   "metadata": {},
   "outputs": [
    {
     "data": {
      "image/png": "[encoded data removed]",
      "text/plain": [
       "<Figure size 864x432 with 1 Axes>"
      ]
     },
     "metadata": {
      "needs_background": "light"
     },
     "output_type": "display_data"
    }
   ],
   "source": [
    "# Создаем копию данных для безопасной модификации\n",
    "pivot_filtered = pivot_filtered.copy()  # Появлялась ошибка, если не создать копию\n",
    "\n",
    "# Рассчитываем скользящее среднее за 3 года\n",
    "window = 3\n",
    "pivot_filtered['moving_avg'] = pivot_filtered['median_amount'].rolling(window=window).mean()\n",
    "\n",
    "# Создаем график\n",
    "fig, ax = plt.subplots(figsize=(12, 6))\n",
    "\n",
    "# Основной график \n",
    "ax.plot(pivot_filtered.index, pivot_filtered['median_amount'],\n",
    "        marker='o', linestyle='--',dd markersize=6, label='Средний размер раунда')\n",
    "\n",
    "# Скользящее среднее \n",
    "ax.plot(pivot_filtered.index, pivot_filtered['moving_avg'],\n",
    "        linewidth=3,\n",
    "        label='Скользящее среднее')\n",
    "\n",
    "# Настройки графика\n",
    "ax.set_title('Динамика инвестиций со скользящим средним')\n",
    "ax.set_xlabel('Год финансирования')\n",
    "ax.set_ylabel('Размер раунда (млн $)')\n",
    "ax.legend()\n",
    "plt.gca().yaxis.set_major_formatter('{:.0f}'.format) \n",
    "plt.ylim(0)\n",
    "plt.grid(True)\n",
    "\n",
    "# Выводим график\n",
    "plt.show()"
   ]
  },
  {
   "cell_type": "code",
   "execution_count": 41,
   "metadata": {},
   "outputs": [],
   "source": [
    "# Пытаемся импортировать wb\n",
    "try:\n",
    "    from pandas_datareader import wb\n",
    "except ImportError:\n",
    "# Если модуля нет — устанавливаем\n",
    "    !pip install pandas_datareader --quiet\n",
    "    from pandas_datareader import wb"
   ]
  },
  {
   "cell_type": "code",
   "execution_count": 43,
   "metadata": {},
   "outputs": [
    {
     "data": {
      "image/png": "[encoded data removed]",
      "text/plain": [
       "<Figure size 1008x504 with 1 Axes>"
      ]
     },
     "metadata": {
      "needs_background": "light"
     },
     "output_type": "display_data"
    }
   ],
   "source": [
    "# Сбросим мультииндекс\n",
    "cpi = cpi.reset_index()\n",
    "\n",
    "# Переименуем столбец FP.CPI.TOTL в CPI\n",
    "cpi = cpi[['year', 'FP.CPI.TOTL']].rename(columns={'FP.CPI.TOTL': 'CPI'})\n",
    "\n",
    "# Сменим тип float в столбце на int\n",
    "cpi['year'] = pd.to_numeric(cpi['year'], downcast='integer')\n",
    "\n",
    "# Установим столбец year как индекс\n",
    "cpi = cpi.set_index('year')\n",
    "\n",
    "# Соединим с сводной таболицей с раундами и суммами по раундам\n",
    "pivot_filtered = pivot_filtered.join(cpi, how='left')\n",
    "\n",
    "# Корректировка на инфляцию (базовый год 2000)\n",
    "base_year = 2000\n",
    "\n",
    "# Извлечем значение cpi для базового года (2000)\n",
    "base_cpi = cpi.loc[base_year, 'CPI']\n",
    "\n",
    "# Создадим столбец с скорректированными на инфляцию суммами \n",
    "pivot_filtered['adjusted_amount'] = pivot_filtered['median_amount'] * (base_cpi / pivot_filtered['CPI'])\n",
    "\n",
    "# Построим график\n",
    "plt.figure(figsize=(14, 7))\n",
    "\n",
    "# Номинальные значения (без поправки)\n",
    "plt.plot(pivot_filtered.index, pivot_filtered['median_amount'], \n",
    "         label='Номинальные (без поправки)', linestyle=':', color='gray')\n",
    "\n",
    "# Реальные значения (с поправкой)\n",
    "plt.plot(pivot_filtered.index, pivot_filtered['adjusted_amount'], \n",
    "         label=f'Реальные (в долларах {base_year} года)', linewidth=2)\n",
    "\n",
    "# Скользящее среднее для реальных значений (с поправкой на инфляцию)\n",
    "window = 3\n",
    "pivot_filtered['adjusted_ma'] = pivot_filtered['adjusted_amount'].rolling(window).mean()\n",
    "plt.plot(pivot_filtered.index, pivot_filtered['adjusted_ma'], \n",
    "         label=f'Скользящее среднее ({window} года)', linewidth=2)\n",
    "\n",
    "# Настройки графика\n",
    "plt.title(f'Динамика инвестиций с поправкой на инфляцию\\nБазовый год: {base_year}', pad=20)\n",
    "plt.ylabel('Размер раунда $')\n",
    "plt.xlabel('Год финансирования')\n",
    "plt.legend()\n",
    "plt.grid(True, linestyle='--', alpha=0.6)\n",
    "\n",
    "# Добавляем аннотацию с коэффициентом инфляции\n",
    "latest_year = pivot_filtered.index.max()\n",
    "inflation_rate = (cpi.loc[latest_year, 'CPI'] / base_cpi - 1) * 100\n",
    "plt.annotate(f'Инфляция {latest_year} → {base_year}: {inflation_rate:.1f}%',\n",
    "             xy=(latest_year, pivot_filtered['adjusted_amount'].max()),\n",
    "             xytext=(10, -20), textcoords='offset points',\n",
    "             bbox=dict(boxstyle='round,pad=0.5', fc='white', alpha=0.8))\n",
    "\n",
    "# Настройка оси Y\n",
    "plt.gca().yaxis.set_major_formatter('{:.0f}'.format) \n",
    "plt.ylim(0) \n",
    "\n",
    "plt.tight_layout()\n",
    "plt.show()"
   ]
  },
  {
   "cell_type": "markdown",
   "metadata": {
    "id": "45if1en1rJg2"
   },
   "source": [
    "\n",
    "### 2.2. Люди и их образование"
   ]
  },
  {
   "cell_type": "markdown",
   "metadata": {
    "id": "psPO7C4MrJg2",
    "vscode": {
     "languageId": "plaintext"
    }
   },
   "source": [
    "Проверим, зависит ли полнота сведений о сотрудниках (например, об их образовании) от размера компаний.\n",
    "\n",
    "Для задачи объединим 3 датасета в один, т.к. в каждом есть информация об образовании, то они могут дополнять друг друга и мы будем иметь больше данных для анализа. Для объединения исправим столбец object_id в датасете degrees_df "
   ]
  },
  {
   "cell_type": "code",
   "execution_count": 44,
   "metadata": {
    "id": "BThTjpLqFcsm"
   },
   "outputs": [],
   "source": [
    "# Уберем лишние символы в столюце object_id\n",
    "degrees_df['object_id'] = degrees_df['object_id'].str.replace('p:', '')"
   ]
  },
  {
   "cell_type": "code",
   "execution_count": 45,
   "metadata": {},
   "outputs": [
    {
     "data": {
      "text/plain": [
       "id              int64\n",
       "object_id       int64\n",
       "degree_type    object\n",
       "subject        object\n",
       "dtype: object"
      ]
     },
     "execution_count": 45,
     "metadata": {},
     "output_type": "execute_result"
    }
   ],
   "source": [
    "# Изменим тип данных  в столюце object_id\n",
    "degrees_df['object_id'] = pd.to_numeric(degrees_df['object_id'], errors='coerce')\n",
    "\n",
    "# Выведем результат\n",
    "degrees_df.dtypes"
   ]
  },
  {
   "cell_type": "code",
   "execution_count": 46,
   "metadata": {
    "id": "4FC98Pd-FcmG"
   },
   "outputs": [
    {
     "data": {
      "text/html": [
       "<div>\n",
       "<style scoped>\n",
       "    .dataframe tbody tr th:only-of-type {\n",
       "        vertical-align: middle;\n",
       "    }\n",
       "\n",
       "    .dataframe tbody tr th {\n",
       "        vertical-align: top;\n",
       "    }\n",
       "\n",
       "    .dataframe thead th {\n",
       "        text-align: right;\n",
       "    }\n",
       "</style>\n",
       "<table border=\"1\" class=\"dataframe\">\n",
       "  <thead>\n",
       "    <tr style=\"text-align: right;\">\n",
       "      <th></th>\n",
       "      <th>people_id</th>\n",
       "      <th>first_name</th>\n",
       "      <th>last_name</th>\n",
       "      <th>company_id</th>\n",
       "      <th>network_username</th>\n",
       "      <th>education_id</th>\n",
       "      <th>person_id</th>\n",
       "      <th>instituition</th>\n",
       "      <th>graduated_at</th>\n",
       "      <th>degree_id</th>\n",
       "      <th>object_id</th>\n",
       "      <th>degree_type</th>\n",
       "      <th>subject</th>\n",
       "    </tr>\n",
       "  </thead>\n",
       "  <tbody>\n",
       "    <tr>\n",
       "      <th>0</th>\n",
       "      <td>10</td>\n",
       "      <td>Mark</td>\n",
       "      <td>Zuckerberg</td>\n",
       "      <td>5.00</td>\n",
       "      <td>NaN</td>\n",
       "      <td>2,415.00</td>\n",
       "      <td>10.00</td>\n",
       "      <td>Harvard University</td>\n",
       "      <td>NaT</td>\n",
       "      <td>2,415.00</td>\n",
       "      <td>10.00</td>\n",
       "      <td>NaN</td>\n",
       "      <td>Computer Science</td>\n",
       "    </tr>\n",
       "    <tr>\n",
       "      <th>1</th>\n",
       "      <td>100</td>\n",
       "      <td>Peter</td>\n",
       "      <td>Lester</td>\n",
       "      <td>27.00</td>\n",
       "      <td>NaN</td>\n",
       "      <td>NaN</td>\n",
       "      <td>NaN</td>\n",
       "      <td>NaN</td>\n",
       "      <td>NaT</td>\n",
       "      <td>NaN</td>\n",
       "      <td>NaN</td>\n",
       "      <td>NaN</td>\n",
       "      <td>NaN</td>\n",
       "    </tr>\n",
       "    <tr>\n",
       "      <th>2</th>\n",
       "      <td>1000</td>\n",
       "      <td>Dr. Steven</td>\n",
       "      <td>E. Saunders</td>\n",
       "      <td>292.00</td>\n",
       "      <td>NaN</td>\n",
       "      <td>NaN</td>\n",
       "      <td>NaN</td>\n",
       "      <td>NaN</td>\n",
       "      <td>NaT</td>\n",
       "      <td>NaN</td>\n",
       "      <td>NaN</td>\n",
       "      <td>NaN</td>\n",
       "      <td>NaN</td>\n",
       "    </tr>\n",
       "    <tr>\n",
       "      <th>3</th>\n",
       "      <td>10000</td>\n",
       "      <td>Neil</td>\n",
       "      <td>Capel</td>\n",
       "      <td>2,526.00</td>\n",
       "      <td>NaN</td>\n",
       "      <td>NaN</td>\n",
       "      <td>NaN</td>\n",
       "      <td>NaN</td>\n",
       "      <td>NaT</td>\n",
       "      <td>NaN</td>\n",
       "      <td>NaN</td>\n",
       "      <td>NaN</td>\n",
       "      <td>NaN</td>\n",
       "    </tr>\n",
       "    <tr>\n",
       "      <th>4</th>\n",
       "      <td>100000</td>\n",
       "      <td>Sue</td>\n",
       "      <td>Pilsch</td>\n",
       "      <td>NaN</td>\n",
       "      <td>NaN</td>\n",
       "      <td>NaN</td>\n",
       "      <td>NaN</td>\n",
       "      <td>NaN</td>\n",
       "      <td>NaT</td>\n",
       "      <td>NaN</td>\n",
       "      <td>NaN</td>\n",
       "      <td>NaN</td>\n",
       "      <td>NaN</td>\n",
       "    </tr>\n",
       "  </tbody>\n",
       "</table>\n",
       "</div>"
      ],
      "text/plain": [
       "   people_id  first_name    last_name  company_id network_username  \\\n",
       "0         10        Mark   Zuckerberg        5.00              NaN   \n",
       "1        100       Peter       Lester       27.00              NaN   \n",
       "2       1000  Dr. Steven  E. Saunders      292.00              NaN   \n",
       "3      10000        Neil        Capel    2,526.00              NaN   \n",
       "4     100000         Sue       Pilsch         NaN              NaN   \n",
       "\n",
       "   education_id  person_id        instituition graduated_at  degree_id  \\\n",
       "0      2,415.00      10.00  Harvard University          NaT   2,415.00   \n",
       "1           NaN        NaN                 NaN          NaT        NaN   \n",
       "2           NaN        NaN                 NaN          NaT        NaN   \n",
       "3           NaN        NaN                 NaN          NaT        NaN   \n",
       "4           NaN        NaN                 NaN          NaT        NaN   \n",
       "\n",
       "   object_id degree_type           subject  \n",
       "0      10.00         NaN  Computer Science  \n",
       "1        NaN         NaN               NaN  \n",
       "2        NaN         NaN               NaN  \n",
       "3        NaN         NaN               NaN  \n",
       "4        NaN         NaN               NaN  "
      ]
     },
     "execution_count": 46,
     "metadata": {},
     "output_type": "execute_result"
    }
   ],
   "source": [
    "# Объединим 3 датасета в один\n",
    "temp_merged = people_df.merge(education_df, left_on='id', right_on='person_id', how='left')\n",
    "\n",
    "final_merged = temp_merged.merge(degrees_df, left_on='person_id', right_on='object_id', how='left')\n",
    "\n",
    "# Переименуем столбцы id, чтобы избежать ошибок\n",
    "final_merged = final_merged.rename(columns={\n",
    "    'id_x': 'people_id',     \n",
    "    'id_y': 'education_id',  \n",
    "    'id': 'degree_id'})\n",
    "\n",
    "# Выведем результат\n",
    "final_merged.head()"
   ]
  },
  {
   "cell_type": "markdown",
   "metadata": {},
   "source": [
    "Создадим столбец is_education, который будет содержать 1 если в одной из таблиц заполнены сведения об образовании и 0 если не заполнены. "
   ]
  },
  {
   "cell_type": "markdown",
   "metadata": {},
   "source": [
    "Напишем функцию, которая будет возвращать значение 0 если все столбцы, где есть сведения об образовании пусты и 1 если там есть сведения"
   ]
  },
  {
   "cell_type": "code",
   "execution_count": 47,
   "metadata": {},
   "outputs": [
    {
     "data": {
      "text/html": [
       "<div>\n",
       "<style scoped>\n",
       "    .dataframe tbody tr th:only-of-type {\n",
       "        vertical-align: middle;\n",
       "    }\n",
       "\n",
       "    .dataframe tbody tr th {\n",
       "        vertical-align: top;\n",
       "    }\n",
       "\n",
       "    .dataframe thead th {\n",
       "        text-align: right;\n",
       "    }\n",
       "</style>\n",
       "<table border=\"1\" class=\"dataframe\">\n",
       "  <thead>\n",
       "    <tr style=\"text-align: right;\">\n",
       "      <th></th>\n",
       "      <th>people_id</th>\n",
       "      <th>first_name</th>\n",
       "      <th>last_name</th>\n",
       "      <th>company_id</th>\n",
       "      <th>network_username</th>\n",
       "      <th>education_id</th>\n",
       "      <th>person_id</th>\n",
       "      <th>instituition</th>\n",
       "      <th>graduated_at</th>\n",
       "      <th>degree_id</th>\n",
       "      <th>object_id</th>\n",
       "      <th>degree_type</th>\n",
       "      <th>subject</th>\n",
       "      <th>is_education</th>\n",
       "    </tr>\n",
       "  </thead>\n",
       "  <tbody>\n",
       "    <tr>\n",
       "      <th>0</th>\n",
       "      <td>10</td>\n",
       "      <td>Mark</td>\n",
       "      <td>Zuckerberg</td>\n",
       "      <td>5.00</td>\n",
       "      <td>NaN</td>\n",
       "      <td>2,415.00</td>\n",
       "      <td>10.00</td>\n",
       "      <td>Harvard University</td>\n",
       "      <td>NaT</td>\n",
       "      <td>2,415.00</td>\n",
       "      <td>10.00</td>\n",
       "      <td>NaN</td>\n",
       "      <td>Computer Science</td>\n",
       "      <td>1</td>\n",
       "    </tr>\n",
       "    <tr>\n",
       "      <th>1</th>\n",
       "      <td>100</td>\n",
       "      <td>Peter</td>\n",
       "      <td>Lester</td>\n",
       "      <td>27.00</td>\n",
       "      <td>NaN</td>\n",
       "      <td>NaN</td>\n",
       "      <td>NaN</td>\n",
       "      <td>NaN</td>\n",
       "      <td>NaT</td>\n",
       "      <td>NaN</td>\n",
       "      <td>NaN</td>\n",
       "      <td>NaN</td>\n",
       "      <td>NaN</td>\n",
       "      <td>0</td>\n",
       "    </tr>\n",
       "    <tr>\n",
       "      <th>2</th>\n",
       "      <td>1000</td>\n",
       "      <td>Dr. Steven</td>\n",
       "      <td>E. Saunders</td>\n",
       "      <td>292.00</td>\n",
       "      <td>NaN</td>\n",
       "      <td>NaN</td>\n",
       "      <td>NaN</td>\n",
       "      <td>NaN</td>\n",
       "      <td>NaT</td>\n",
       "      <td>NaN</td>\n",
       "      <td>NaN</td>\n",
       "      <td>NaN</td>\n",
       "      <td>NaN</td>\n",
       "      <td>0</td>\n",
       "    </tr>\n",
       "    <tr>\n",
       "      <th>3</th>\n",
       "      <td>10000</td>\n",
       "      <td>Neil</td>\n",
       "      <td>Capel</td>\n",
       "      <td>2,526.00</td>\n",
       "      <td>NaN</td>\n",
       "      <td>NaN</td>\n",
       "      <td>NaN</td>\n",
       "      <td>NaN</td>\n",
       "      <td>NaT</td>\n",
       "      <td>NaN</td>\n",
       "      <td>NaN</td>\n",
       "      <td>NaN</td>\n",
       "      <td>NaN</td>\n",
       "      <td>0</td>\n",
       "    </tr>\n",
       "    <tr>\n",
       "      <th>4</th>\n",
       "      <td>100000</td>\n",
       "      <td>Sue</td>\n",
       "      <td>Pilsch</td>\n",
       "      <td>NaN</td>\n",
       "      <td>NaN</td>\n",
       "      <td>NaN</td>\n",
       "      <td>NaN</td>\n",
       "      <td>NaN</td>\n",
       "      <td>NaT</td>\n",
       "      <td>NaN</td>\n",
       "      <td>NaN</td>\n",
       "      <td>NaN</td>\n",
       "      <td>NaN</td>\n",
       "      <td>0</td>\n",
       "    </tr>\n",
       "  </tbody>\n",
       "</table>\n",
       "</div>"
      ],
      "text/plain": [
       "   people_id  first_name    last_name  company_id network_username  \\\n",
       "0         10        Mark   Zuckerberg        5.00              NaN   \n",
       "1        100       Peter       Lester       27.00              NaN   \n",
       "2       1000  Dr. Steven  E. Saunders      292.00              NaN   \n",
       "3      10000        Neil        Capel    2,526.00              NaN   \n",
       "4     100000         Sue       Pilsch         NaN              NaN   \n",
       "\n",
       "   education_id  person_id        instituition graduated_at  degree_id  \\\n",
       "0      2,415.00      10.00  Harvard University          NaT   2,415.00   \n",
       "1           NaN        NaN                 NaN          NaT        NaN   \n",
       "2           NaN        NaN                 NaN          NaT        NaN   \n",
       "3           NaN        NaN                 NaN          NaT        NaN   \n",
       "4           NaN        NaN                 NaN          NaT        NaN   \n",
       "\n",
       "   object_id degree_type           subject  is_education  \n",
       "0      10.00         NaN  Computer Science             1  \n",
       "1        NaN         NaN               NaN             0  \n",
       "2        NaN         NaN               NaN             0  \n",
       "3        NaN         NaN               NaN             0  \n",
       "4        NaN         NaN               NaN             0  "
      ]
     },
     "execution_count": 47,
     "metadata": {},
     "output_type": "execute_result"
    }
   ],
   "source": [
    "# Определяем список колонок для проверки\n",
    "education_cols = ['instituition', 'graduated_at', 'degree_type', 'subject']\n",
    "\n",
    "# Создаем столбец is_education \n",
    "final_merged['is_education'] = (~final_merged[education_cols].isna().all(axis=1)).astype(int)\n",
    "\n",
    "# выведем результат\n",
    "final_merged.head()"
   ]
  },
  {
   "cell_type": "markdown",
   "metadata": {},
   "source": [
    "Разделим все компании на несколько групп по количеству сотрудников и оценим среднюю долю сотрудников без информации об образовании в каждой из групп."
   ]
  },
  {
   "cell_type": "code",
   "execution_count": 48,
   "metadata": {},
   "outputs": [
    {
     "data": {
      "text/plain": [
       "59.00         722\n",
       "29.00         393\n",
       "1,242.00      320\n",
       "231,067.00    195\n",
       "4,715.00      177\n",
       "             ... \n",
       "43,377.00       1\n",
       "193,102.00      1\n",
       "74,195.00       1\n",
       "81,322.00       1\n",
       "706.00          1\n",
       "Name: company_id, Length: 22922, dtype: int64"
      ]
     },
     "execution_count": 48,
     "metadata": {},
     "output_type": "execute_result"
    }
   ],
   "source": [
    "final_merged['company_id'].value_counts()"
   ]
  },
  {
   "cell_type": "code",
   "execution_count": 49,
   "metadata": {
    "scrolled": true
   },
   "outputs": [
    {
     "data": {
      "text/plain": [
       "count   22,922.00\n",
       "mean         1.51\n",
       "std          2.76\n",
       "min          1.00\n",
       "25%          1.00\n",
       "50%          1.00\n",
       "75%          1.00\n",
       "90%          2.00\n",
       "95%          4.00\n",
       "max        244.00\n",
       "Name: people_id, dtype: float64"
      ]
     },
     "execution_count": 49,
     "metadata": {},
     "output_type": "execute_result"
    }
   ],
   "source": [
    "# Оценим группы через процентили\n",
    "final_merged.groupby('company_id')['people_id'].nunique().describe(percentiles=[.25, .50, .75, .90, .95])"
   ]
  },
  {
   "cell_type": "markdown",
   "metadata": {},
   "source": [
    "Через процентили оценить группы не получится, почти 90 процентов компаний имеют 1-2 сотрудника. Оценим через количество сотрудников по групупам компаний."
   ]
  },
  {
   "cell_type": "code",
   "execution_count": 50,
   "metadata": {},
   "outputs": [
    {
     "data": {
      "text/html": [
       "<div>\n",
       "<style scoped>\n",
       "    .dataframe tbody tr th:only-of-type {\n",
       "        vertical-align: middle;\n",
       "    }\n",
       "\n",
       "    .dataframe tbody tr th {\n",
       "        vertical-align: top;\n",
       "    }\n",
       "\n",
       "    .dataframe thead th {\n",
       "        text-align: right;\n",
       "    }\n",
       "</style>\n",
       "<table border=\"1\" class=\"dataframe\">\n",
       "  <thead>\n",
       "    <tr style=\"text-align: right;\">\n",
       "      <th></th>\n",
       "      <th>stuff_count</th>\n",
       "      <th>companies_count</th>\n",
       "    </tr>\n",
       "  </thead>\n",
       "  <tbody>\n",
       "    <tr>\n",
       "      <th>0</th>\n",
       "      <td>1</td>\n",
       "      <td>18117</td>\n",
       "    </tr>\n",
       "    <tr>\n",
       "      <th>1</th>\n",
       "      <td>2</td>\n",
       "      <td>2709</td>\n",
       "    </tr>\n",
       "    <tr>\n",
       "      <th>2</th>\n",
       "      <td>3</td>\n",
       "      <td>921</td>\n",
       "    </tr>\n",
       "    <tr>\n",
       "      <th>3</th>\n",
       "      <td>4</td>\n",
       "      <td>450</td>\n",
       "    </tr>\n",
       "    <tr>\n",
       "      <th>4</th>\n",
       "      <td>5</td>\n",
       "      <td>237</td>\n",
       "    </tr>\n",
       "    <tr>\n",
       "      <th>5</th>\n",
       "      <td>6</td>\n",
       "      <td>138</td>\n",
       "    </tr>\n",
       "    <tr>\n",
       "      <th>6</th>\n",
       "      <td>7</td>\n",
       "      <td>100</td>\n",
       "    </tr>\n",
       "    <tr>\n",
       "      <th>7</th>\n",
       "      <td>8</td>\n",
       "      <td>59</td>\n",
       "    </tr>\n",
       "    <tr>\n",
       "      <th>8</th>\n",
       "      <td>9</td>\n",
       "      <td>46</td>\n",
       "    </tr>\n",
       "    <tr>\n",
       "      <th>9</th>\n",
       "      <td>10</td>\n",
       "      <td>25</td>\n",
       "    </tr>\n",
       "    <tr>\n",
       "      <th>10</th>\n",
       "      <td>11</td>\n",
       "      <td>30</td>\n",
       "    </tr>\n",
       "    <tr>\n",
       "      <th>11</th>\n",
       "      <td>12</td>\n",
       "      <td>16</td>\n",
       "    </tr>\n",
       "    <tr>\n",
       "      <th>12</th>\n",
       "      <td>13</td>\n",
       "      <td>17</td>\n",
       "    </tr>\n",
       "    <tr>\n",
       "      <th>13</th>\n",
       "      <td>14</td>\n",
       "      <td>8</td>\n",
       "    </tr>\n",
       "    <tr>\n",
       "      <th>14</th>\n",
       "      <td>15</td>\n",
       "      <td>3</td>\n",
       "    </tr>\n",
       "    <tr>\n",
       "      <th>15</th>\n",
       "      <td>16</td>\n",
       "      <td>4</td>\n",
       "    </tr>\n",
       "    <tr>\n",
       "      <th>16</th>\n",
       "      <td>17</td>\n",
       "      <td>5</td>\n",
       "    </tr>\n",
       "    <tr>\n",
       "      <th>17</th>\n",
       "      <td>18</td>\n",
       "      <td>3</td>\n",
       "    </tr>\n",
       "    <tr>\n",
       "      <th>18</th>\n",
       "      <td>19</td>\n",
       "      <td>3</td>\n",
       "    </tr>\n",
       "    <tr>\n",
       "      <th>19</th>\n",
       "      <td>20</td>\n",
       "      <td>3</td>\n",
       "    </tr>\n",
       "    <tr>\n",
       "      <th>20</th>\n",
       "      <td>21</td>\n",
       "      <td>2</td>\n",
       "    </tr>\n",
       "    <tr>\n",
       "      <th>21</th>\n",
       "      <td>22</td>\n",
       "      <td>2</td>\n",
       "    </tr>\n",
       "    <tr>\n",
       "      <th>22</th>\n",
       "      <td>23</td>\n",
       "      <td>3</td>\n",
       "    </tr>\n",
       "    <tr>\n",
       "      <th>23</th>\n",
       "      <td>25</td>\n",
       "      <td>2</td>\n",
       "    </tr>\n",
       "    <tr>\n",
       "      <th>24</th>\n",
       "      <td>26</td>\n",
       "      <td>1</td>\n",
       "    </tr>\n",
       "    <tr>\n",
       "      <th>25</th>\n",
       "      <td>29</td>\n",
       "      <td>2</td>\n",
       "    </tr>\n",
       "    <tr>\n",
       "      <th>26</th>\n",
       "      <td>31</td>\n",
       "      <td>1</td>\n",
       "    </tr>\n",
       "    <tr>\n",
       "      <th>27</th>\n",
       "      <td>32</td>\n",
       "      <td>1</td>\n",
       "    </tr>\n",
       "    <tr>\n",
       "      <th>28</th>\n",
       "      <td>35</td>\n",
       "      <td>1</td>\n",
       "    </tr>\n",
       "    <tr>\n",
       "      <th>29</th>\n",
       "      <td>36</td>\n",
       "      <td>1</td>\n",
       "    </tr>\n",
       "    <tr>\n",
       "      <th>30</th>\n",
       "      <td>39</td>\n",
       "      <td>1</td>\n",
       "    </tr>\n",
       "    <tr>\n",
       "      <th>31</th>\n",
       "      <td>47</td>\n",
       "      <td>1</td>\n",
       "    </tr>\n",
       "    <tr>\n",
       "      <th>32</th>\n",
       "      <td>48</td>\n",
       "      <td>1</td>\n",
       "    </tr>\n",
       "    <tr>\n",
       "      <th>33</th>\n",
       "      <td>51</td>\n",
       "      <td>1</td>\n",
       "    </tr>\n",
       "    <tr>\n",
       "      <th>34</th>\n",
       "      <td>56</td>\n",
       "      <td>2</td>\n",
       "    </tr>\n",
       "    <tr>\n",
       "      <th>35</th>\n",
       "      <td>61</td>\n",
       "      <td>1</td>\n",
       "    </tr>\n",
       "    <tr>\n",
       "      <th>36</th>\n",
       "      <td>63</td>\n",
       "      <td>1</td>\n",
       "    </tr>\n",
       "    <tr>\n",
       "      <th>37</th>\n",
       "      <td>72</td>\n",
       "      <td>1</td>\n",
       "    </tr>\n",
       "    <tr>\n",
       "      <th>38</th>\n",
       "      <td>138</td>\n",
       "      <td>1</td>\n",
       "    </tr>\n",
       "    <tr>\n",
       "      <th>39</th>\n",
       "      <td>150</td>\n",
       "      <td>1</td>\n",
       "    </tr>\n",
       "    <tr>\n",
       "      <th>40</th>\n",
       "      <td>244</td>\n",
       "      <td>1</td>\n",
       "    </tr>\n",
       "  </tbody>\n",
       "</table>\n",
       "</div>"
      ],
      "text/plain": [
       "    stuff_count  companies_count\n",
       "0             1            18117\n",
       "1             2             2709\n",
       "2             3              921\n",
       "3             4              450\n",
       "4             5              237\n",
       "5             6              138\n",
       "6             7              100\n",
       "7             8               59\n",
       "8             9               46\n",
       "9            10               25\n",
       "10           11               30\n",
       "11           12               16\n",
       "12           13               17\n",
       "13           14                8\n",
       "14           15                3\n",
       "15           16                4\n",
       "16           17                5\n",
       "17           18                3\n",
       "18           19                3\n",
       "19           20                3\n",
       "20           21                2\n",
       "21           22                2\n",
       "22           23                3\n",
       "23           25                2\n",
       "24           26                1\n",
       "25           29                2\n",
       "26           31                1\n",
       "27           32                1\n",
       "28           35                1\n",
       "29           36                1\n",
       "30           39                1\n",
       "31           47                1\n",
       "32           48                1\n",
       "33           51                1\n",
       "34           56                2\n",
       "35           61                1\n",
       "36           63                1\n",
       "37           72                1\n",
       "38          138                1\n",
       "39          150                1\n",
       "40          244                1"
      ]
     },
     "metadata": {},
     "output_type": "display_data"
    }
   ],
   "source": [
    "# Группируем по company_id и считаем уникальных сотрудников\n",
    "company_sizes = final_merged.groupby('company_id')['people_id'].nunique().reset_index()\n",
    "\n",
    "company_sizes.columns = ['company_id', 'stuff_count']  \n",
    "\n",
    "# Группируем по stuff_count и считаем количество компаний\n",
    "result = company_sizes.groupby('stuff_count')['company_id'].count().reset_index()\n",
    "\n",
    "result.columns = ['stuff_count', 'companies_count'] \n",
    "\n",
    "# Сортируем по stuff_count и выводим\n",
    "result = result.sort_values('stuff_count')\n",
    "display(result)"
   ]
  },
  {
   "cell_type": "code",
   "execution_count": 51,
   "metadata": {},
   "outputs": [
    {
     "data": {
      "image/png": "[encoded data removed]",
      "text/plain": [
       "<Figure size 1008x432 with 1 Axes>"
      ]
     },
     "metadata": {
      "needs_background": "light"
     },
     "output_type": "display_data"
    }
   ],
   "source": [
    "# Построим график для таблицы\n",
    "plt.figure(figsize=(14, 6))\n",
    "\n",
    "sns.barplot(x='stuff_count', y='companies_count', data=result)\n",
    "# Применим логарифмическую шкалы для оси Y, т.к. значения сильно разнятся\n",
    "plt.yscale('log') \n",
    "\n",
    "# Добавим названия осей и название графика\n",
    "plt.xlabel('Количество сотрудников')\n",
    "plt.ylabel('Количество компаний (логарифмическая шкала)')\n",
    "plt.title('Распределение компаний по количеству сотрудников')\n",
    "\n",
    "# Выведем график\n",
    "plt.show()"
   ]
  },
  {
   "cell_type": "markdown",
   "metadata": {},
   "source": [
    "Больше всего компаний с 1 человеком, далее с 2-4 человека, 5-13 и более 14."
   ]
  },
  {
   "cell_type": "code",
   "execution_count": 52,
   "metadata": {},
   "outputs": [
    {
     "data": {
      "text/html": [
       "<div>\n",
       "<style scoped>\n",
       "    .dataframe tbody tr th:only-of-type {\n",
       "        vertical-align: middle;\n",
       "    }\n",
       "\n",
       "    .dataframe tbody tr th {\n",
       "        vertical-align: top;\n",
       "    }\n",
       "\n",
       "    .dataframe thead th {\n",
       "        text-align: right;\n",
       "    }\n",
       "</style>\n",
       "<table border=\"1\" class=\"dataframe\">\n",
       "  <thead>\n",
       "    <tr style=\"text-align: right;\">\n",
       "      <th></th>\n",
       "      <th>companies_count</th>\n",
       "      <th>avg_without_edu</th>\n",
       "    </tr>\n",
       "    <tr>\n",
       "      <th>size_groups</th>\n",
       "      <th></th>\n",
       "      <th></th>\n",
       "    </tr>\n",
       "  </thead>\n",
       "  <tbody>\n",
       "    <tr>\n",
       "      <th>1. микрокомпания (1)</th>\n",
       "      <td>18117</td>\n",
       "      <td>0.46</td>\n",
       "    </tr>\n",
       "    <tr>\n",
       "      <th>2. маленькая компания (2-4)</th>\n",
       "      <td>4080</td>\n",
       "      <td>0.47</td>\n",
       "    </tr>\n",
       "    <tr>\n",
       "      <th>3. средняя компания(5-13)</th>\n",
       "      <td>668</td>\n",
       "      <td>0.52</td>\n",
       "    </tr>\n",
       "    <tr>\n",
       "      <th>4. крупная компания(14+)</th>\n",
       "      <td>57</td>\n",
       "      <td>0.39</td>\n",
       "    </tr>\n",
       "  </tbody>\n",
       "</table>\n",
       "</div>"
      ],
      "text/plain": [
       "                             companies_count  avg_without_edu\n",
       "size_groups                                                  \n",
       "1. микрокомпания (1)                   18117             0.46\n",
       "2. маленькая компания (2-4)             4080             0.47\n",
       "3. средняя компания(5-13)                668             0.52\n",
       "4. крупная компания(14+)                  57             0.39"
      ]
     },
     "metadata": {},
     "output_type": "display_data"
    }
   ],
   "source": [
    "# Удаляем дубликаты (в таблицах degrees_df и education_df несколько записей у одного сотрудника)\n",
    "unique_employees = final_merged.drop_duplicates(subset=['company_id', 'people_id'])\n",
    "\n",
    "# Сгруппируем данные по компаниям, посчитаем количество сотрудников и количество сотрудников с заполненным образованием\n",
    "company_stats = unique_employees.groupby('company_id', observed=True).agg(\n",
    "    total_employees=('people_id', 'count'),\n",
    "    with_edu=('is_education', 'sum')).reset_index()\n",
    "\n",
    "# Рассчитаем долю без образования\n",
    "company_stats['without_edu'] = (company_stats['total_employees'] - company_stats['with_edu']) / company_stats['total_employees']\n",
    "\n",
    "# Создадим столбец size_groups и присвоим категорию комапнии по численности\n",
    "company_stats['size_groups'] = pd.cut(\n",
    "    company_stats['total_employees'],\n",
    "    bins=[0, 1, 4, 13, float('inf')],\n",
    "    labels=['1. микрокомпания (1)', \n",
    "            '2. маленькая компания (2-4)', \n",
    "            '3. средняя компания(5-13)', \n",
    "            '4. крупная компания(14+)'])\n",
    "\n",
    "# Рассчитаем среднюю долю сотрудников без образования по категориям компаний\n",
    "result = company_stats.groupby('size_groups', observed=True).agg(\n",
    "    companies_count = ('company_id', 'count'),\n",
    "    avg_without_edu = ('without_edu', 'mean'))\n",
    "\n",
    "# Выведем результат\n",
    "display(result)"
   ]
  },
  {
   "cell_type": "markdown",
   "metadata": {},
   "source": [
    "В компаниях, где работают 1, 2, 3 или 4 (а это почти 95 процентов всех компаний из данных) размер компании не влияет на количество сотрудников, у которых указано образование, в среднем доля составляет 0.47. Немного выделяются компании где 5-13 сотрудников, там доля составляет 0.52.Но разница между этими группами незначительна. В крупных компаниях, где количество сотрудников более 14 человек доля, у кого не указано образование ниже всего и составляет 0.39. Скорее всего это связано с наличием HR отдела и других отделов у крупных компаний, которые заполняют данные о сотрудниках, ведут их, пишут отчеты, в отличие от небольших компаний. Гипотеза подтвердилась, размер компании влияет на полноту данных об образовании сотрудников."
   ]
  },
  {
   "cell_type": "markdown",
   "metadata": {
    "id": "Lz7qjM32xglW"
   },
   "source": [
    "### 2.3. Объединять или не объединять — вот в чём вопрос\n",
    "\n",
    "Проверим, подходит ли для объединения данных столбец `network_username`, который встречается в нескольких датасетах."
   ]
  },
  {
   "cell_type": "code",
   "execution_count": 53,
   "metadata": {
    "id": "RxOS5rwmFcNW"
   },
   "outputs": [
    {
     "name": "stdout",
     "output_type": "stream",
     "text": [
      "Количество общих network_username: 2199\n"
     ]
    }
   ],
   "source": [
    "# Уберем пропуски из столбцов network_username в датасетах\n",
    "people_df_temp = people_df.dropna(subset=['network_username'])\n",
    "company_and_rounds_df_temp = company_and_rounds_df.dropna(subset=['network_username'])\n",
    "\n",
    "# Посмотрим сколько общих network_username есть между датасетами people_df и company_and_rounds_df\n",
    "common_network_usernames = set(people_df_temp['network_username']).intersection(set(company_and_rounds_df_temp['network_username']))\n",
    "\n",
    "# Выведем результат\n",
    "print(f'Количество общих network_username: {len(common_network_usernames)}')"
   ]
  },
  {
   "cell_type": "code",
   "execution_count": 54,
   "metadata": {
    "id": "_7gjdrGOFcB2"
   },
   "outputs": [
    {
     "name": "stdout",
     "output_type": "stream",
     "text": [
      "Процент совпадений в people_df: 5.66%\n",
      "Процент совпадений в company_and_rounds_df: 2.3%\n"
     ]
    }
   ],
   "source": [
    "# Посчитаем долю общих network_username между датасетами people_df и company_and_rounds_df\n",
    "print(f'Процент совпадений в people_df: {round((len(common_network_usernames) / len(people_df_temp)) * 100, 2)}%')\n",
    "print(f'Процент совпадений в company_and_rounds_df: {round((len(common_network_usernames) / len(company_and_rounds_df_temp)) * 100, 2)}%')"
   ]
  },
  {
   "cell_type": "markdown",
   "metadata": {},
   "source": [
    "По полученным результат столбец network_usernames не стоит использовать для объединеиня датасетов, он содержит минимальные количества перечений между датасетами, которые возможно случайны. Скорее всего network_usernames в people_df это ник сотрудника, а в company_and_rounds_df ник компании. "
   ]
  },
  {
   "cell_type": "code",
   "execution_count": 55,
   "metadata": {
    "scrolled": true
   },
   "outputs": [
    {
     "name": "stdout",
     "output_type": "stream",
     "text": [
      "Количество общих network_username: 70\n",
      "Количество общих network_username: 70\n"
     ]
    }
   ],
   "source": [
    "# Посмотрим сколько общих network_username есть между датасетами fund_df  и people_df и company_and_rounds_df\n",
    "fund_df_temp = fund_df.dropna(subset=['network_username'])\n",
    "common_network_usernames = set(fund_df_temp['network_username']).intersection(set(company_and_rounds_df_temp['network_username']))\n",
    "\n",
    "# Выведем результат\n",
    "print(f'Количество общих network_username: {len(common_network_usernames)}')\n",
    "\n",
    "common_network_usernames = set(fund_df_temp['network_username']).intersection(set(company_and_rounds_df_temp['network_username']))\n",
    "\n",
    "# Выведем результат\n",
    "print(f'Количество общих network_username: {len(common_network_usernames)}')"
   ]
  },
  {
   "cell_type": "code",
   "execution_count": 56,
   "metadata": {},
   "outputs": [
    {
     "data": {
      "image/png": "[encoded data removed]",
      "text/plain": [
       "<Figure size 432x288 with 1 Axes>"
      ]
     },
     "metadata": {},
     "output_type": "display_data"
    }
   ],
   "source": [
    "# Визуализируем полученные результаты\n",
    "from matplotlib_venn import venn3 \n",
    "\n",
    "# Строим диаграмму Венна\n",
    "venn3([set(fund_df_temp['network_username']), set(company_and_rounds_df_temp['network_username']), set(people_df_temp['network_username'])], set_labels=('fund_df', 'company_and_rounds_df', 'people_df'))\n",
    "\n",
    " # Отображаем график\n",
    "plt.title(\"Пересечение столбца 'network_username' в датасетах\")\n",
    "plt.show()    "
   ]
  },
  {
   "cell_type": "markdown",
   "metadata": {},
   "source": [
    "Между дополнительным датасетом fund_df и датасетами people_df и company_and_rounds_df также очень маленькое количество пересечений."
   ]
  },
  {
   "cell_type": "markdown",
   "metadata": {
    "id": "EHcODomVrJg1"
   },
   "source": [
    "\n",
    "### 2.4. Проблемный датасет и причина возникновения пропусков\n",
    "\n",
    "Во время собственного анализа данных у заказчика больше всего вопросов возникло к датасету `company_and_rounds.csv`. В нём много пропусков как раз в информации о раундах, которая заказчику важна.\n",
    "Приведем данные в вид, который позволит в дальнейшем проводить анализ в разрезе отдельных компаний. "
   ]
  },
  {
   "cell_type": "code",
   "execution_count": 57,
   "metadata": {
    "id": "oSk7xqu_FbaN",
    "scrolled": true
   },
   "outputs": [
    {
     "name": "stdout",
     "output_type": "stream",
     "text": [
      "<class 'pandas.core.frame.DataFrame'>\n",
      "RangeIndex: 217774 entries, 0 to 217773\n",
      "Data columns (total 23 columns):\n",
      " #   Column               Non-Null Count   Dtype         \n",
      "---  ------               --------------   -----         \n",
      " 0   company_id_x         217472 non-null  float64       \n",
      " 1   name                 217472 non-null  object        \n",
      " 2   category_code        143886 non-null  object        \n",
      " 3   status               217472 non-null  object        \n",
      " 4   founded_at           109956 non-null  datetime64[ns]\n",
      " 5   closed_at            3449 non-null    datetime64[ns]\n",
      " 6   domain               147159 non-null  object        \n",
      " 7   network_username     95534 non-null   object        \n",
      " 8   country_code         108607 non-null  object        \n",
      " 9   investment_rounds    217472 non-null  float64       \n",
      " 10  funding_rounds       217472 non-null  float64       \n",
      " 11  funding_total        217472 non-null  float64       \n",
      " 12  milestones           217472 non-null  float64       \n",
      " 13  funding_round_id     52928 non-null   float64       \n",
      " 14  company_id_y         52928 non-null   float64       \n",
      " 15  funded_at            52680 non-null   datetime64[ns]\n",
      " 16  funding_round_type   52928 non-null   object        \n",
      " 17  raised_amount        52928 non-null   float64       \n",
      " 18  pre_money_valuation  52928 non-null   float64       \n",
      " 19  participants         52928 non-null   float64       \n",
      " 20  is_first_round       52928 non-null   float64       \n",
      " 21  is_last_round        52928 non-null   float64       \n",
      " 22  funded_year          52680 non-null   float64       \n",
      "dtypes: datetime64[ns](3), float64(13), object(7)\n",
      "memory usage: 38.2+ MB\n"
     ]
    }
   ],
   "source": [
    "company_and_rounds_df.info()"
   ]
  },
  {
   "cell_type": "markdown",
   "metadata": {
    "id": "tJ6Sl6MKrJg1",
    "vscode": {
     "languageId": "plaintext"
    }
   },
   "source": [
    "Исходя из анализа данных датасета company_and_rounds_df, а также судя по количеству строк некоторых его столбцов, учитывая, что столбец столбец company_id практически полностью дулирует другой столбец с таким же именем, а также то как распределены пропуски в столбцах и какая корреляция пропусков между столбцами можем сделать вывод, что ранее датасет состоял из 2 таблиц. Нам следует его также разделить на 2 таблицы и в одной таблице будет информация о компании, во второй информация о этапах финансирования"
   ]
  },
  {
   "cell_type": "markdown",
   "metadata": {},
   "source": [
    "Добавим в датасеты только необходимые столбцы для дальнейшего анализа. Не будем добавлять следующие столбцы: 'category_code', 'domain'"
   ]
  },
  {
   "cell_type": "code",
   "execution_count": 58,
   "metadata": {},
   "outputs": [
    {
     "name": "stdout",
     "output_type": "stream",
     "text": [
      "<class 'pandas.core.frame.DataFrame'>\n",
      "RangeIndex: 217774 entries, 0 to 217773\n",
      "Data columns (total 12 columns):\n",
      " #   Column             Non-Null Count   Dtype         \n",
      "---  ------             --------------   -----         \n",
      " 0   company_id_x       217472 non-null  float64       \n",
      " 1   name               217472 non-null  object        \n",
      " 2   status             217472 non-null  object        \n",
      " 3   founded_at         109956 non-null  datetime64[ns]\n",
      " 4   closed_at          3449 non-null    datetime64[ns]\n",
      " 5   network_username   95534 non-null   object        \n",
      " 6   country_code       108607 non-null  object        \n",
      " 7   category_code      143886 non-null  object        \n",
      " 8   investment_rounds  217472 non-null  float64       \n",
      " 9   funding_rounds     217472 non-null  float64       \n",
      " 10  funding_total      217472 non-null  float64       \n",
      " 11  milestones         217472 non-null  float64       \n",
      "dtypes: datetime64[ns](2), float64(5), object(5)\n",
      "memory usage: 19.9+ MB\n"
     ]
    },
    {
     "data": {
      "text/plain": [
       "None"
      ]
     },
     "metadata": {},
     "output_type": "display_data"
    },
    {
     "name": "stdout",
     "output_type": "stream",
     "text": [
      "<class 'pandas.core.frame.DataFrame'>\n",
      "RangeIndex: 217774 entries, 0 to 217773\n",
      "Data columns (total 10 columns):\n",
      " #   Column               Non-Null Count  Dtype         \n",
      "---  ------               --------------  -----         \n",
      " 0   funding_round_id     52928 non-null  float64       \n",
      " 1   company_id_y         52928 non-null  float64       \n",
      " 2   funded_at            52680 non-null  datetime64[ns]\n",
      " 3   funding_round_type   52928 non-null  object        \n",
      " 4   raised_amount        52928 non-null  float64       \n",
      " 5   pre_money_valuation  52928 non-null  float64       \n",
      " 6   participants         52928 non-null  float64       \n",
      " 7   is_first_round       52928 non-null  float64       \n",
      " 8   is_last_round        52928 non-null  float64       \n",
      " 9   funded_year          52680 non-null  float64       \n",
      "dtypes: datetime64[ns](1), float64(8), object(1)\n",
      "memory usage: 16.6+ MB\n"
     ]
    },
    {
     "data": {
      "text/plain": [
       "None"
      ]
     },
     "metadata": {},
     "output_type": "display_data"
    }
   ],
   "source": [
    "# Создадим новый датафрейм companies_df\n",
    "companies_df = company_and_rounds_df[['company_id_x', 'name', 'status', \n",
    "    'founded_at', 'closed_at', 'network_username',\n",
    "    'country_code', 'category_code', 'investment_rounds', 'funding_rounds', 'funding_total', 'milestones']].reset_index(drop=True)\n",
    "\n",
    "\n",
    "# Выведем результат\n",
    "display(companies_df.info())\n",
    "\n",
    "# Создадим новый датафрейм rounds_df\n",
    "rounds_df = company_and_rounds_df[['funding_round_id', 'company_id_y', 'funded_at',\n",
    "    'funding_round_type', 'raised_amount', 'pre_money_valuation',\n",
    "    'participants', 'is_first_round', 'is_last_round', 'funded_year']].reset_index(drop=True)\n",
    "\n",
    "\n",
    "# Выведем результат\n",
    "display(rounds_df.info())"
   ]
  },
  {
   "cell_type": "markdown",
   "metadata": {},
   "source": [
    "Часть данных мы уже предобработали ранее, но также необходимо провести работу с дубликатами."
   ]
  },
  {
   "cell_type": "code",
   "execution_count": 59,
   "metadata": {},
   "outputs": [
    {
     "data": {
      "text/plain": [
       "21220"
      ]
     },
     "execution_count": 59,
     "metadata": {},
     "output_type": "execute_result"
    }
   ],
   "source": [
    "# Проверяем полные дубликаты в датафрейме companies_df\n",
    "companies_df.duplicated().sum()"
   ]
  },
  {
   "cell_type": "code",
   "execution_count": 60,
   "metadata": {},
   "outputs": [
    {
     "data": {
      "text/plain": [
       "0"
      ]
     },
     "execution_count": 60,
     "metadata": {},
     "output_type": "execute_result"
    }
   ],
   "source": [
    "# Удаляем дубликаты в датафрейме companies_df\n",
    "companies_df = companies_df.drop_duplicates()\n",
    "\n",
    "# Проверяем результат\n",
    "companies_df.duplicated().sum()"
   ]
  },
  {
   "cell_type": "code",
   "execution_count": 61,
   "metadata": {},
   "outputs": [
    {
     "data": {
      "text/plain": [
       "164845"
      ]
     },
     "execution_count": 61,
     "metadata": {},
     "output_type": "execute_result"
    }
   ],
   "source": [
    "# Проверяем полные дубликаты в датафрейме companies_df\n",
    "rounds_df.duplicated().sum()"
   ]
  },
  {
   "cell_type": "code",
   "execution_count": 62,
   "metadata": {},
   "outputs": [
    {
     "data": {
      "text/plain": [
       "0"
      ]
     },
     "execution_count": 62,
     "metadata": {},
     "output_type": "execute_result"
    }
   ],
   "source": [
    "# Удаляем дубликаты в датафрейме companies_df\n",
    "rounds_df = rounds_df.drop_duplicates()\n",
    "\n",
    "# Проверяем результат\n",
    "rounds_df.duplicated().sum()"
   ]
  },
  {
   "cell_type": "code",
   "execution_count": 63,
   "metadata": {},
   "outputs": [
    {
     "data": {
      "text/html": [
       "<div>\n",
       "<style scoped>\n",
       "    .dataframe tbody tr th:only-of-type {\n",
       "        vertical-align: middle;\n",
       "    }\n",
       "\n",
       "    .dataframe tbody tr th {\n",
       "        vertical-align: top;\n",
       "    }\n",
       "\n",
       "    .dataframe thead th {\n",
       "        text-align: right;\n",
       "    }\n",
       "</style>\n",
       "<table border=\"1\" class=\"dataframe\">\n",
       "  <thead>\n",
       "    <tr style=\"text-align: right;\">\n",
       "      <th></th>\n",
       "      <th>funding_round_id</th>\n",
       "      <th>company_id_y</th>\n",
       "      <th>funded_at</th>\n",
       "      <th>funding_round_type</th>\n",
       "      <th>raised_amount</th>\n",
       "      <th>pre_money_valuation</th>\n",
       "      <th>participants</th>\n",
       "      <th>is_first_round</th>\n",
       "      <th>is_last_round</th>\n",
       "      <th>funded_year</th>\n",
       "    </tr>\n",
       "  </thead>\n",
       "  <tbody>\n",
       "    <tr>\n",
       "      <th>0</th>\n",
       "      <td>888.00</td>\n",
       "      <td>1.00</td>\n",
       "      <td>2005-10-01</td>\n",
       "      <td>series-a</td>\n",
       "      <td>5,250,000.00</td>\n",
       "      <td>0.00</td>\n",
       "      <td>2.00</td>\n",
       "      <td>0.00</td>\n",
       "      <td>1.00</td>\n",
       "      <td>2,005.00</td>\n",
       "    </tr>\n",
       "    <tr>\n",
       "      <th>1</th>\n",
       "      <td>889.00</td>\n",
       "      <td>1.00</td>\n",
       "      <td>2007-01-01</td>\n",
       "      <td>series-b</td>\n",
       "      <td>9,500,000.00</td>\n",
       "      <td>0.00</td>\n",
       "      <td>3.00</td>\n",
       "      <td>0.00</td>\n",
       "      <td>0.00</td>\n",
       "      <td>2,007.00</td>\n",
       "    </tr>\n",
       "    <tr>\n",
       "      <th>2</th>\n",
       "      <td>2,312.00</td>\n",
       "      <td>1.00</td>\n",
       "      <td>2008-05-19</td>\n",
       "      <td>series-c+</td>\n",
       "      <td>25,000,000.00</td>\n",
       "      <td>0.00</td>\n",
       "      <td>4.00</td>\n",
       "      <td>1.00</td>\n",
       "      <td>0.00</td>\n",
       "      <td>2,008.00</td>\n",
       "    </tr>\n",
       "    <tr>\n",
       "      <th>3</th>\n",
       "      <td>NaN</td>\n",
       "      <td>NaN</td>\n",
       "      <td>NaT</td>\n",
       "      <td>NaN</td>\n",
       "      <td>NaN</td>\n",
       "      <td>NaN</td>\n",
       "      <td>NaN</td>\n",
       "      <td>NaN</td>\n",
       "      <td>NaN</td>\n",
       "      <td>NaN</td>\n",
       "    </tr>\n",
       "    <tr>\n",
       "      <th>15</th>\n",
       "      <td>1,644.00</td>\n",
       "      <td>1,001.00</td>\n",
       "      <td>2008-02-26</td>\n",
       "      <td>series-a</td>\n",
       "      <td>5,000,000.00</td>\n",
       "      <td>0.00</td>\n",
       "      <td>3.00</td>\n",
       "      <td>1.00</td>\n",
       "      <td>1.00</td>\n",
       "      <td>2,008.00</td>\n",
       "    </tr>\n",
       "  </tbody>\n",
       "</table>\n",
       "</div>"
      ],
      "text/plain": [
       "    funding_round_id  company_id_y  funded_at funding_round_type  \\\n",
       "0             888.00          1.00 2005-10-01           series-a   \n",
       "1             889.00          1.00 2007-01-01           series-b   \n",
       "2           2,312.00          1.00 2008-05-19          series-c+   \n",
       "3                NaN           NaN        NaT                NaN   \n",
       "15          1,644.00      1,001.00 2008-02-26           series-a   \n",
       "\n",
       "    raised_amount  pre_money_valuation  participants  is_first_round  \\\n",
       "0    5,250,000.00                 0.00          2.00            0.00   \n",
       "1    9,500,000.00                 0.00          3.00            0.00   \n",
       "2   25,000,000.00                 0.00          4.00            1.00   \n",
       "3             NaN                  NaN           NaN             NaN   \n",
       "15   5,000,000.00                 0.00          3.00            1.00   \n",
       "\n",
       "    is_last_round  funded_year  \n",
       "0            1.00     2,005.00  \n",
       "1            0.00     2,007.00  \n",
       "2            0.00     2,008.00  \n",
       "3             NaN          NaN  \n",
       "15           1.00     2,008.00  "
      ]
     },
     "execution_count": 63,
     "metadata": {},
     "output_type": "execute_result"
    }
   ],
   "source": [
    "rounds_df.head()"
   ]
  },
  {
   "cell_type": "markdown",
   "metadata": {},
   "source": [
    "---\n",
    "\n",
    "### Промежуточный вывод"
   ]
  },
  {
   "cell_type": "markdown",
   "metadata": {},
   "source": [
    "На данном этапе мы провели следующую работу:\n",
    "- составили сводную таблицу по годам финансирования и для каждого года вывели типичный размер средств, выделяемый в рамках одного раунда, а также общее количество раундов за этот год. В 2005 году была максимальная сумма финансирования, а в 2013 самое больше количество раундов\n",
    "- проверили, зависит ли полнота сведений об образовании сотрудников от размера компаний и гипотеза подтвердилась, у крупных компаний количество пропусков меньше по сравнению с остальными компаниями.\n",
    "- проверили, подходит ли для объединения данных столбец network_username. Результат - не подходит\n",
    "- разбили датасет company_and_rounds_df на два датасета для дальнейшего анализа"
   ]
  },
  {
   "cell_type": "markdown",
   "metadata": {
    "id": "bmVYhphNrJg2"
   },
   "source": [
    "\n",
    "## Шаг 3. Исследовательский анализ объединённых таблиц\n"
   ]
  },
  {
   "cell_type": "markdown",
   "metadata": {
    "id": "3Di6tCT3rJg2"
   },
   "source": [
    "\n",
    "### 3.1. Объединение данных\n",
    "\n",
    "Объединим данные для ответа на вопросы заказчика, которые касаются интересующих его компаний. Заказчика прежде всего интересуют те компании, которые меняли или готовы менять владельцев. Получение инвестиций или финансирования, по мнению заказчика, означает интерес к покупке или продаже компании."
   ]
  },
  {
   "cell_type": "code",
   "execution_count": 64,
   "metadata": {
    "scrolled": true
   },
   "outputs": [
    {
     "name": "stdout",
     "output_type": "stream",
     "text": [
      "<class 'pandas.core.frame.DataFrame'>\n",
      "Int64Index: 196554 entries, 0 to 217472\n",
      "Data columns (total 12 columns):\n",
      " #   Column             Non-Null Count   Dtype         \n",
      "---  ------             --------------   -----         \n",
      " 0   company_id_x       196553 non-null  float64       \n",
      " 1   name               196553 non-null  object        \n",
      " 2   status             196553 non-null  object        \n",
      " 3   founded_at         91227 non-null   datetime64[ns]\n",
      " 4   closed_at          2620 non-null    datetime64[ns]\n",
      " 5   network_username   80591 non-null   object        \n",
      " 6   country_code       87990 non-null   object        \n",
      " 7   category_code      123186 non-null  object        \n",
      " 8   investment_rounds  196553 non-null  float64       \n",
      " 9   funding_rounds     196553 non-null  float64       \n",
      " 10  funding_total      196553 non-null  float64       \n",
      " 11  milestones         196553 non-null  float64       \n",
      "dtypes: datetime64[ns](2), float64(5), object(5)\n",
      "memory usage: 19.5+ MB\n"
     ]
    }
   ],
   "source": [
    "# Выведем информацию о датасете companies_df\n",
    "companies_df.info()"
   ]
  },
  {
   "cell_type": "code",
   "execution_count": 65,
   "metadata": {},
   "outputs": [],
   "source": [
    "# Объединим датасет companies_df и acquisition_df\n",
    "df = (pd.merge(companies_df, acquisition_df, \n",
    "               left_on='company_id_x', \n",
    "               right_on='acquired_company_id', \n",
    "               how='left')\n",
    ")"
   ]
  },
  {
   "cell_type": "code",
   "execution_count": 66,
   "metadata": {},
   "outputs": [
    {
     "name": "stdout",
     "output_type": "stream",
     "text": [
      "<class 'pandas.core.frame.DataFrame'>\n",
      "Int64Index: 196697 entries, 0 to 196696\n",
      "Data columns (total 18 columns):\n",
      " #   Column                Non-Null Count   Dtype         \n",
      "---  ------                --------------   -----         \n",
      " 0   company_id_x          196696 non-null  float64       \n",
      " 1   name                  196696 non-null  object        \n",
      " 2   status                196696 non-null  object        \n",
      " 3   founded_at            91331 non-null   datetime64[ns]\n",
      " 4   closed_at             2620 non-null    datetime64[ns]\n",
      " 5   network_username      80679 non-null   object        \n",
      " 6   country_code          88106 non-null   object        \n",
      " 7   category_code         123307 non-null  object        \n",
      " 8   investment_rounds     196696 non-null  float64       \n",
      " 9   funding_rounds        196696 non-null  float64       \n",
      " 10  funding_total         196696 non-null  float64       \n",
      " 11  milestones            196696 non-null  float64       \n",
      " 12  id                    9390 non-null    float64       \n",
      " 13  acquiring_company_id  9390 non-null    float64       \n",
      " 14  acquired_company_id   9390 non-null    float64       \n",
      " 15  term_code             1830 non-null    object        \n",
      " 16  price_amount          9390 non-null    float64       \n",
      " 17  acquired_at           9361 non-null    datetime64[ns]\n",
      "dtypes: datetime64[ns](3), float64(9), object(6)\n",
      "memory usage: 28.5+ MB\n"
     ]
    }
   ],
   "source": [
    "# Выведем информацию\n",
    "df.info()"
   ]
  },
  {
   "cell_type": "code",
   "execution_count": 67,
   "metadata": {},
   "outputs": [
    {
     "name": "stdout",
     "output_type": "stream",
     "text": [
      "<class 'pandas.core.frame.DataFrame'>\n",
      "RangeIndex: 40890 entries, 0 to 40889\n",
      "Data columns (total 19 columns):\n",
      " #   Column                Non-Null Count  Dtype         \n",
      "---  ------                --------------  -----         \n",
      " 0   index                 40890 non-null  int64         \n",
      " 1   company_id_x          40890 non-null  float64       \n",
      " 2   name                  40890 non-null  object        \n",
      " 3   status                40890 non-null  object        \n",
      " 4   founded_at            27911 non-null  datetime64[ns]\n",
      " 5   closed_at             2128 non-null   datetime64[ns]\n",
      " 6   network_username      20938 non-null  object        \n",
      " 7   country_code          34858 non-null  object        \n",
      " 8   category_code         35436 non-null  object        \n",
      " 9   investment_rounds     40890 non-null  float64       \n",
      " 10  funding_rounds        40890 non-null  float64       \n",
      " 11  funding_total         40890 non-null  float64       \n",
      " 12  milestones            40890 non-null  float64       \n",
      " 13  id                    9390 non-null   float64       \n",
      " 14  acquiring_company_id  9390 non-null   float64       \n",
      " 15  acquired_company_id   9390 non-null   float64       \n",
      " 16  term_code             1830 non-null   object        \n",
      " 17  price_amount          9390 non-null   float64       \n",
      " 18  acquired_at           9361 non-null   datetime64[ns]\n",
      "dtypes: datetime64[ns](3), float64(9), int64(1), object(6)\n",
      "memory usage: 5.9+ MB\n"
     ]
    }
   ],
   "source": [
    "# Отфильтруем данные в датасете\n",
    "df = (df[((df['funding_rounds'] > 0) \n",
    "        | (df['investment_rounds'] > 0))\n",
    "        | (df['status'] == 'acquired')].reset_index()\n",
    ")\n",
    "\n",
    "# Выведем информацию\n",
    "df.info()"
   ]
  },
  {
   "cell_type": "code",
   "execution_count": 68,
   "metadata": {
    "id": "93v3fEX5FgtP"
   },
   "outputs": [
    {
     "data": {
      "text/html": [
       "<div>\n",
       "<style scoped>\n",
       "    .dataframe tbody tr th:only-of-type {\n",
       "        vertical-align: middle;\n",
       "    }\n",
       "\n",
       "    .dataframe tbody tr th {\n",
       "        vertical-align: top;\n",
       "    }\n",
       "\n",
       "    .dataframe thead th {\n",
       "        text-align: right;\n",
       "    }\n",
       "</style>\n",
       "<table border=\"1\" class=\"dataframe\">\n",
       "  <thead>\n",
       "    <tr style=\"text-align: right;\">\n",
       "      <th></th>\n",
       "      <th>index</th>\n",
       "      <th>company_id_x</th>\n",
       "      <th>name</th>\n",
       "      <th>status</th>\n",
       "      <th>founded_at</th>\n",
       "      <th>closed_at</th>\n",
       "      <th>network_username</th>\n",
       "      <th>country_code</th>\n",
       "      <th>category_code</th>\n",
       "      <th>investment_rounds</th>\n",
       "      <th>funding_rounds</th>\n",
       "      <th>funding_total</th>\n",
       "      <th>milestones</th>\n",
       "      <th>id</th>\n",
       "      <th>acquiring_company_id</th>\n",
       "      <th>acquired_company_id</th>\n",
       "      <th>term_code</th>\n",
       "      <th>price_amount</th>\n",
       "      <th>acquired_at</th>\n",
       "    </tr>\n",
       "  </thead>\n",
       "  <tbody>\n",
       "    <tr>\n",
       "      <th>0</th>\n",
       "      <td>0</td>\n",
       "      <td>1.00</td>\n",
       "      <td>Wetpaint</td>\n",
       "      <td>operating</td>\n",
       "      <td>2005-10-17</td>\n",
       "      <td>NaT</td>\n",
       "      <td>BachelrWetpaint</td>\n",
       "      <td>USA</td>\n",
       "      <td>web</td>\n",
       "      <td>0.00</td>\n",
       "      <td>3.00</td>\n",
       "      <td>39,750,000.00</td>\n",
       "      <td>5.00</td>\n",
       "      <td>NaN</td>\n",
       "      <td>NaN</td>\n",
       "      <td>NaN</td>\n",
       "      <td>NaN</td>\n",
       "      <td>NaN</td>\n",
       "      <td>NaT</td>\n",
       "    </tr>\n",
       "    <tr>\n",
       "      <th>1</th>\n",
       "      <td>1</td>\n",
       "      <td>10.00</td>\n",
       "      <td>Flektor</td>\n",
       "      <td>acquired</td>\n",
       "      <td>NaT</td>\n",
       "      <td>NaT</td>\n",
       "      <td>NaN</td>\n",
       "      <td>USA</td>\n",
       "      <td>games_video</td>\n",
       "      <td>0.00</td>\n",
       "      <td>0.00</td>\n",
       "      <td>0.00</td>\n",
       "      <td>0.00</td>\n",
       "      <td>1.00</td>\n",
       "      <td>11.00</td>\n",
       "      <td>10.00</td>\n",
       "      <td>NaN</td>\n",
       "      <td>20,000,000.00</td>\n",
       "      <td>2007-05-30</td>\n",
       "    </tr>\n",
       "    <tr>\n",
       "      <th>2</th>\n",
       "      <td>2</td>\n",
       "      <td>100.00</td>\n",
       "      <td>There</td>\n",
       "      <td>acquired</td>\n",
       "      <td>NaT</td>\n",
       "      <td>NaT</td>\n",
       "      <td>NaN</td>\n",
       "      <td>USA</td>\n",
       "      <td>games_video</td>\n",
       "      <td>0.00</td>\n",
       "      <td>0.00</td>\n",
       "      <td>0.00</td>\n",
       "      <td>4.00</td>\n",
       "      <td>20.00</td>\n",
       "      <td>377.00</td>\n",
       "      <td>100.00</td>\n",
       "      <td>cash</td>\n",
       "      <td>0.00</td>\n",
       "      <td>2005-05-29</td>\n",
       "    </tr>\n",
       "    <tr>\n",
       "      <th>3</th>\n",
       "      <td>13</td>\n",
       "      <td>1,001.00</td>\n",
       "      <td>FriendFeed</td>\n",
       "      <td>acquired</td>\n",
       "      <td>2007-10-01</td>\n",
       "      <td>NaT</td>\n",
       "      <td>friendfeed</td>\n",
       "      <td>USA</td>\n",
       "      <td>web</td>\n",
       "      <td>0.00</td>\n",
       "      <td>1.00</td>\n",
       "      <td>5,000,000.00</td>\n",
       "      <td>3.00</td>\n",
       "      <td>1,901.00</td>\n",
       "      <td>5.00</td>\n",
       "      <td>1,001.00</td>\n",
       "      <td>cash_and_stock</td>\n",
       "      <td>47,500,000.00</td>\n",
       "      <td>2009-08-10</td>\n",
       "    </tr>\n",
       "    <tr>\n",
       "      <th>4</th>\n",
       "      <td>18</td>\n",
       "      <td>10,014.00</td>\n",
       "      <td>Mobclix</td>\n",
       "      <td>acquired</td>\n",
       "      <td>2008-03-01</td>\n",
       "      <td>NaT</td>\n",
       "      <td>mobclix</td>\n",
       "      <td>USA</td>\n",
       "      <td>mobile</td>\n",
       "      <td>0.00</td>\n",
       "      <td>1.00</td>\n",
       "      <td>0.00</td>\n",
       "      <td>4.00</td>\n",
       "      <td>3,878.00</td>\n",
       "      <td>23,054.00</td>\n",
       "      <td>10,014.00</td>\n",
       "      <td>NaN</td>\n",
       "      <td>0.00</td>\n",
       "      <td>2010-09-30</td>\n",
       "    </tr>\n",
       "  </tbody>\n",
       "</table>\n",
       "</div>"
      ],
      "text/plain": [
       "   index  company_id_x        name     status founded_at closed_at  \\\n",
       "0      0          1.00    Wetpaint  operating 2005-10-17       NaT   \n",
       "1      1         10.00     Flektor   acquired        NaT       NaT   \n",
       "2      2        100.00       There   acquired        NaT       NaT   \n",
       "3     13      1,001.00  FriendFeed   acquired 2007-10-01       NaT   \n",
       "4     18     10,014.00     Mobclix   acquired 2008-03-01       NaT   \n",
       "\n",
       "  network_username country_code category_code  investment_rounds  \\\n",
       "0  BachelrWetpaint          USA           web               0.00   \n",
       "1              NaN          USA   games_video               0.00   \n",
       "2              NaN          USA   games_video               0.00   \n",
       "3       friendfeed          USA           web               0.00   \n",
       "4          mobclix          USA        mobile               0.00   \n",
       "\n",
       "   funding_rounds  funding_total  milestones       id  acquiring_company_id  \\\n",
       "0            3.00  39,750,000.00        5.00      NaN                   NaN   \n",
       "1            0.00           0.00        0.00     1.00                 11.00   \n",
       "2            0.00           0.00        4.00    20.00                377.00   \n",
       "3            1.00   5,000,000.00        3.00 1,901.00                  5.00   \n",
       "4            1.00           0.00        4.00 3,878.00             23,054.00   \n",
       "\n",
       "   acquired_company_id       term_code  price_amount acquired_at  \n",
       "0                  NaN             NaN           NaN         NaT  \n",
       "1                10.00             NaN 20,000,000.00  2007-05-30  \n",
       "2               100.00            cash          0.00  2005-05-29  \n",
       "3             1,001.00  cash_and_stock 47,500,000.00  2009-08-10  \n",
       "4            10,014.00             NaN          0.00  2010-09-30  "
      ]
     },
     "execution_count": 68,
     "metadata": {},
     "output_type": "execute_result"
    }
   ],
   "source": [
    "# Выведем первые строки\n",
    "df.head()"
   ]
  },
  {
   "cell_type": "markdown",
   "metadata": {
    "id": "DFHINkV3rJg2"
   },
   "source": [
    "\n",
    "### 3.2. Анализ выбросов\n",
    "\n",
    "Оценим, какой размер общего финансирования для одной компании будет типичным, а какой — выбивающимся."
   ]
  },
  {
   "cell_type": "code",
   "execution_count": 69,
   "metadata": {
    "id": "8jm75fKXrJg2",
    "vscode": {
     "languageId": "plaintext"
    }
   },
   "outputs": [
    {
     "data": {
      "text/plain": [
       "count          40,890.00\n",
       "mean       10,135,585.95\n",
       "std        56,412,886.91\n",
       "min                 0.00\n",
       "1%                  0.00\n",
       "5%                  0.00\n",
       "10%                 0.00\n",
       "25%                 0.00\n",
       "50%           600,000.00\n",
       "75%         5,631,320.00\n",
       "90%        22,391,020.00\n",
       "95%        43,600,000.00\n",
       "99%       134,203,880.00\n",
       "max     5,700,000,000.00\n",
       "Name: funding_total, dtype: float64"
      ]
     },
     "execution_count": 69,
     "metadata": {},
     "output_type": "execute_result"
    }
   ],
   "source": [
    "# Проанализируем столбец funding_total в датасете\n",
    "additional_quantiles = [0.01, 0.05, 0.1, 0.25, 0.5, 0.75, 0.9, 0.95, 0.99]\n",
    "df['funding_total'].describe(percentiles=additional_quantiles)"
   ]
  },
  {
   "cell_type": "code",
   "execution_count": 70,
   "metadata": {
    "scrolled": true
   },
   "outputs": [
    {
     "data": {
      "image/png": "[encoded data removed]",
      "text/plain": [
       "<Figure size 1080x216 with 1 Axes>"
      ]
     },
     "metadata": {
      "needs_background": "light"
     },
     "output_type": "display_data"
    }
   ],
   "source": [
    "# Создаём контейнер графика \n",
    "plt.figure(figsize=(15, 3))\n",
    "\n",
    "# Строим гистограмму \n",
    "df['funding_total'].plot(\n",
    "                kind='hist', \n",
    "                bins=50,\n",
    "                alpha=0.75,\n",
    "                edgecolor='black',\n",
    "                rot=0,\n",
    "                color='g',\n",
    "                range=(0, 50_000_000)\n",
    ")\n",
    "\n",
    "# Настраиваем оформление графика\n",
    "plt.title('Распределение общего финансирования компаний')\n",
    "plt.xlabel('Сумма финансирования ($)')\n",
    "plt.ylabel('Количество компаний (шт.)')\n",
    "\n",
    "# Добавляем сетку графика\n",
    "plt.grid()\n",
    "\n",
    "# Изменим формат суммы финансирования\n",
    "plt.gca().xaxis.set_major_formatter('{:.0f}'.format)\n",
    "\n",
    "# Выводим график\n",
    "plt.show()"
   ]
  },
  {
   "cell_type": "markdown",
   "metadata": {},
   "source": [
    "Построим диаграмму \"ящик с усами\""
   ]
  },
  {
   "cell_type": "code",
   "execution_count": 71,
   "metadata": {
    "scrolled": true
   },
   "outputs": [
    {
     "data": {
      "image/png": "[encoded data removed]",
      "text/plain": [
       "<Figure size 864x144 with 1 Axes>"
      ]
     },
     "metadata": {
      "needs_background": "light"
     },
     "output_type": "display_data"
    }
   ],
   "source": [
    "# Создаём контейнер графика \n",
    "plt.figure(figsize=(12, 2))\n",
    "\n",
    "# Строим диаграмму размаха значений по столбцу funding_total\n",
    "df.boxplot(column='funding_total', vert=False)\n",
    "\n",
    "# Добавляем заголовок и метки оси\n",
    "plt.title('Распределение общего финансирования компаний')\n",
    "plt.xlabel('Сумма финансирования ($)')\n",
    "\n",
    "# Изменим формат суммы финансирования\n",
    "plt.gca().xaxis.set_major_formatter('{:.0f}'.format)\n",
    "\n",
    "# Выводим график\n",
    "plt.show()"
   ]
  },
  {
   "cell_type": "markdown",
   "metadata": {},
   "source": [
    "Построим диаграмму без выбросов"
   ]
  },
  {
   "cell_type": "code",
   "execution_count": 72,
   "metadata": {
    "scrolled": true
   },
   "outputs": [
    {
     "data": {
      "image/png": "[encoded data removed]",
      "text/plain": [
       "<Figure size 864x144 with 1 Axes>"
      ]
     },
     "metadata": {
      "needs_background": "light"
     },
     "output_type": "display_data"
    }
   ],
   "source": [
    "# Создаём контейнер графика \n",
    "plt.figure(figsize=(12, 2))\n",
    "\n",
    "# Строим диаграмму размаха значений в столбце funding_total\n",
    "df.boxplot(column='funding_total', vert=False, showfliers=False)\n",
    "\n",
    "# Добавляем заголовок и метки оси\n",
    "plt.title('Распределение общего финансирования компаний')\n",
    "plt.xlabel('Сумма финансирования ($)')\n",
    "\n",
    "# Изменим формат суммы финансирования\n",
    "plt.gca().xaxis.set_major_formatter('{:.0f}'.format)\n",
    "\n",
    "# Выводим график\n",
    "plt.show()"
   ]
  },
  {
   "cell_type": "code",
   "execution_count": 73,
   "metadata": {},
   "outputs": [
    {
     "data": {
      "text/plain": [
       "'Нижняя граница -8446980.0'"
      ]
     },
     "metadata": {},
     "output_type": "display_data"
    },
    {
     "data": {
      "text/plain": [
       "'Верхняя граница 14078300.0'"
      ]
     },
     "metadata": {},
     "output_type": "display_data"
    }
   ],
   "source": [
    "# Рассчитаем межквартильный размах IQR:\n",
    "# Рассчитываем квартили\n",
    "Q1 = df['funding_total'].quantile(0.25)\n",
    "Q3 = df['funding_total'].quantile(0.75)\n",
    "\n",
    "IQR = Q3 - Q1\n",
    "\n",
    "# Определяем границы выбросов\n",
    "lower_bound = Q1 - 1.5 * IQR\n",
    "upper_bound = Q3 + 1.5 * IQR\n",
    "\n",
    "# Выводим результат\n",
    "display(f'Нижняя граница {lower_bound}')\n",
    "display(f'Верхняя граница {upper_bound}')"
   ]
  },
  {
   "cell_type": "markdown",
   "metadata": {},
   "source": [
    "Анализируя данные столбца с суммами финансирования, получили следующие выводы:\n",
    "- анализируя гистограмму, гистограмма с перекосом вправо, хвост длинный, что указывает на выбросы, основная масса данных сосредоточена от 0 до 10 млн.\n",
    "- медиана 600 тыс. долл., в то время как среднее больше 10 млн. долл, что указыает на выбросы\n",
    "- стандартное отклонение более 56 млн.долл., что указывает на огромный разброс данных.\n",
    "- типичный размер финансирования находится между 25 процентным и 75 процентным квантилем и составляет от 0 долл. до 5,6 млн. долл\n",
    "- максимальное значение 5,7 млрд. долл. — явный выброс\n",
    "- согласно графику ящик с усами без выбросов, а также расчетом IQR, выбросами можно считать все, что выше 14 млн. долл."
   ]
  },
  {
   "cell_type": "markdown",
   "metadata": {
    "id": "JqkRAQrIrJg2"
   },
   "source": [
    "\n",
    "### 3.3. Куплены забесплатно?\n",
    "\n",
    "- Исследуем компании, которые были проданы за ноль или за один доллар, и при этом известно, что у них был ненулевой общий объём финансирования.\n",
    "\n",
    "- Рассчитаем аналитически верхнюю и нижнюю границу выбросов для столбца `funding_total` и укажем, каким процентилям границы соответствуют."
   ]
  },
  {
   "cell_type": "code",
   "execution_count": 75,
   "metadata": {
    "id": "wJHXCBwwrJg2",
    "vscode": {
     "languageId": "plaintext"
    }
   },
   "outputs": [
    {
     "name": "stdout",
     "output_type": "stream",
     "text": [
      "Найдено подозрительных сделок: 1618\n"
     ]
    },
    {
     "data": {
      "text/html": [
       "<div>\n",
       "<style scoped>\n",
       "    .dataframe tbody tr th:only-of-type {\n",
       "        vertical-align: middle;\n",
       "    }\n",
       "\n",
       "    .dataframe tbody tr th {\n",
       "        vertical-align: top;\n",
       "    }\n",
       "\n",
       "    .dataframe thead th {\n",
       "        text-align: right;\n",
       "    }\n",
       "</style>\n",
       "<table border=\"1\" class=\"dataframe\">\n",
       "  <thead>\n",
       "    <tr style=\"text-align: right;\">\n",
       "      <th></th>\n",
       "      <th>index</th>\n",
       "      <th>company_id_x</th>\n",
       "      <th>name</th>\n",
       "      <th>status</th>\n",
       "      <th>founded_at</th>\n",
       "      <th>closed_at</th>\n",
       "      <th>network_username</th>\n",
       "      <th>country_code</th>\n",
       "      <th>category_code</th>\n",
       "      <th>investment_rounds</th>\n",
       "      <th>funding_rounds</th>\n",
       "      <th>funding_total</th>\n",
       "      <th>milestones</th>\n",
       "      <th>id</th>\n",
       "      <th>acquiring_company_id</th>\n",
       "      <th>acquired_company_id</th>\n",
       "      <th>term_code</th>\n",
       "      <th>price_amount</th>\n",
       "      <th>acquired_at</th>\n",
       "    </tr>\n",
       "  </thead>\n",
       "  <tbody>\n",
       "    <tr>\n",
       "      <th>25</th>\n",
       "      <td>66</td>\n",
       "      <td>10,054.00</td>\n",
       "      <td>Jumptap</td>\n",
       "      <td>acquired</td>\n",
       "      <td>2005-01-01</td>\n",
       "      <td>NaT</td>\n",
       "      <td>jumptap</td>\n",
       "      <td>USA</td>\n",
       "      <td>mobile</td>\n",
       "      <td>0.00</td>\n",
       "      <td>7.00</td>\n",
       "      <td>121,500,000.00</td>\n",
       "      <td>3.00</td>\n",
       "      <td>9,288.00</td>\n",
       "      <td>23,283.00</td>\n",
       "      <td>10,054.00</td>\n",
       "      <td>cash_and_stock</td>\n",
       "      <td>0.00</td>\n",
       "      <td>2013-08-13</td>\n",
       "    </tr>\n",
       "    <tr>\n",
       "      <th>63</th>\n",
       "      <td>170</td>\n",
       "      <td>101,312.00</td>\n",
       "      <td>SideTour</td>\n",
       "      <td>acquired</td>\n",
       "      <td>2011-06-01</td>\n",
       "      <td>NaT</td>\n",
       "      <td>sidetour</td>\n",
       "      <td>USA</td>\n",
       "      <td>web</td>\n",
       "      <td>0.00</td>\n",
       "      <td>3.00</td>\n",
       "      <td>4,000,000.00</td>\n",
       "      <td>2.00</td>\n",
       "      <td>9,653.00</td>\n",
       "      <td>11,391.00</td>\n",
       "      <td>101,312.00</td>\n",
       "      <td>NaN</td>\n",
       "      <td>0.00</td>\n",
       "      <td>2013-09-18</td>\n",
       "    </tr>\n",
       "    <tr>\n",
       "      <th>66</th>\n",
       "      <td>177</td>\n",
       "      <td>101,340.00</td>\n",
       "      <td>ChoicePass</td>\n",
       "      <td>acquired</td>\n",
       "      <td>2011-07-01</td>\n",
       "      <td>NaT</td>\n",
       "      <td>choicepass</td>\n",
       "      <td>USA</td>\n",
       "      <td>enterprise</td>\n",
       "      <td>0.00</td>\n",
       "      <td>1.00</td>\n",
       "      <td>250,000.00</td>\n",
       "      <td>1.00</td>\n",
       "      <td>7,272.00</td>\n",
       "      <td>1,972.00</td>\n",
       "      <td>101,340.00</td>\n",
       "      <td>NaN</td>\n",
       "      <td>0.00</td>\n",
       "      <td>2012-06-18</td>\n",
       "    </tr>\n",
       "    <tr>\n",
       "      <th>67</th>\n",
       "      <td>181</td>\n",
       "      <td>10,137.00</td>\n",
       "      <td>Producteev</td>\n",
       "      <td>acquired</td>\n",
       "      <td>2008-07-08</td>\n",
       "      <td>NaT</td>\n",
       "      <td>producteev</td>\n",
       "      <td>USA</td>\n",
       "      <td>software</td>\n",
       "      <td>0.00</td>\n",
       "      <td>3.00</td>\n",
       "      <td>1,310,000.00</td>\n",
       "      <td>2.00</td>\n",
       "      <td>8,254.00</td>\n",
       "      <td>757.00</td>\n",
       "      <td>10,137.00</td>\n",
       "      <td>cash_and_stock</td>\n",
       "      <td>0.00</td>\n",
       "      <td>2012-11-05</td>\n",
       "    </tr>\n",
       "    <tr>\n",
       "      <th>68</th>\n",
       "      <td>184</td>\n",
       "      <td>10,139.00</td>\n",
       "      <td>TradeCard</td>\n",
       "      <td>acquired</td>\n",
       "      <td>1999-01-01</td>\n",
       "      <td>NaT</td>\n",
       "      <td>TradeCard</td>\n",
       "      <td>USA</td>\n",
       "      <td>enterprise</td>\n",
       "      <td>0.00</td>\n",
       "      <td>2.00</td>\n",
       "      <td>44,925,000.00</td>\n",
       "      <td>1.00</td>\n",
       "      <td>9,326.00</td>\n",
       "      <td>44,008.00</td>\n",
       "      <td>10,139.00</td>\n",
       "      <td>NaN</td>\n",
       "      <td>0.00</td>\n",
       "      <td>2013-04-01</td>\n",
       "    </tr>\n",
       "    <tr>\n",
       "      <th>97</th>\n",
       "      <td>247</td>\n",
       "      <td>10,179.00</td>\n",
       "      <td>GoodGuide</td>\n",
       "      <td>acquired</td>\n",
       "      <td>2007-12-01</td>\n",
       "      <td>NaT</td>\n",
       "      <td>GoodGuide</td>\n",
       "      <td>USA</td>\n",
       "      <td>web</td>\n",
       "      <td>0.00</td>\n",
       "      <td>3.00</td>\n",
       "      <td>14,230,000.00</td>\n",
       "      <td>3.00</td>\n",
       "      <td>7,502.00</td>\n",
       "      <td>167,670.00</td>\n",
       "      <td>10,179.00</td>\n",
       "      <td>NaN</td>\n",
       "      <td>0.00</td>\n",
       "      <td>2012-08-09</td>\n",
       "    </tr>\n",
       "    <tr>\n",
       "      <th>112</th>\n",
       "      <td>297</td>\n",
       "      <td>10,199.00</td>\n",
       "      <td>Where I've Been</td>\n",
       "      <td>acquired</td>\n",
       "      <td>2007-06-08</td>\n",
       "      <td>NaT</td>\n",
       "      <td>whereivebeen</td>\n",
       "      <td>USA</td>\n",
       "      <td>travel</td>\n",
       "      <td>0.00</td>\n",
       "      <td>2.00</td>\n",
       "      <td>1,750,000.00</td>\n",
       "      <td>2.00</td>\n",
       "      <td>5,783.00</td>\n",
       "      <td>1,705.00</td>\n",
       "      <td>10,199.00</td>\n",
       "      <td>NaN</td>\n",
       "      <td>0.00</td>\n",
       "      <td>2011-07-11</td>\n",
       "    </tr>\n",
       "    <tr>\n",
       "      <th>114</th>\n",
       "      <td>299</td>\n",
       "      <td>10,200.00</td>\n",
       "      <td>Swype</td>\n",
       "      <td>acquired</td>\n",
       "      <td>2002-01-01</td>\n",
       "      <td>NaT</td>\n",
       "      <td>Swype</td>\n",
       "      <td>USA</td>\n",
       "      <td>software</td>\n",
       "      <td>0.00</td>\n",
       "      <td>5.00</td>\n",
       "      <td>13,900,000.00</td>\n",
       "      <td>3.00</td>\n",
       "      <td>6,277.00</td>\n",
       "      <td>5,473.00</td>\n",
       "      <td>10,200.00</td>\n",
       "      <td>NaN</td>\n",
       "      <td>0.00</td>\n",
       "      <td>2011-10-06</td>\n",
       "    </tr>\n",
       "    <tr>\n",
       "      <th>138</th>\n",
       "      <td>390</td>\n",
       "      <td>10,252.00</td>\n",
       "      <td>Mob.ly</td>\n",
       "      <td>acquired</td>\n",
       "      <td>2007-10-01</td>\n",
       "      <td>NaT</td>\n",
       "      <td>NaN</td>\n",
       "      <td>USA</td>\n",
       "      <td>mobile</td>\n",
       "      <td>0.00</td>\n",
       "      <td>1.00</td>\n",
       "      <td>1,100,000.00</td>\n",
       "      <td>2.00</td>\n",
       "      <td>3,204.00</td>\n",
       "      <td>11,391.00</td>\n",
       "      <td>10,252.00</td>\n",
       "      <td>NaN</td>\n",
       "      <td>0.00</td>\n",
       "      <td>2010-05-05</td>\n",
       "    </tr>\n",
       "    <tr>\n",
       "      <th>150</th>\n",
       "      <td>429</td>\n",
       "      <td>10,273.00</td>\n",
       "      <td>Angstro</td>\n",
       "      <td>acquired</td>\n",
       "      <td>2007-04-27</td>\n",
       "      <td>NaT</td>\n",
       "      <td>NaN</td>\n",
       "      <td>USA</td>\n",
       "      <td>software</td>\n",
       "      <td>0.00</td>\n",
       "      <td>1.00</td>\n",
       "      <td>225,000.00</td>\n",
       "      <td>0.00</td>\n",
       "      <td>3,782.00</td>\n",
       "      <td>59.00</td>\n",
       "      <td>10,273.00</td>\n",
       "      <td>NaN</td>\n",
       "      <td>0.00</td>\n",
       "      <td>2010-08-27</td>\n",
       "    </tr>\n",
       "  </tbody>\n",
       "</table>\n",
       "</div>"
      ],
      "text/plain": [
       "     index  company_id_x             name    status founded_at closed_at  \\\n",
       "25      66     10,054.00          Jumptap  acquired 2005-01-01       NaT   \n",
       "63     170    101,312.00         SideTour  acquired 2011-06-01       NaT   \n",
       "66     177    101,340.00       ChoicePass  acquired 2011-07-01       NaT   \n",
       "67     181     10,137.00       Producteev  acquired 2008-07-08       NaT   \n",
       "68     184     10,139.00        TradeCard  acquired 1999-01-01       NaT   \n",
       "97     247     10,179.00        GoodGuide  acquired 2007-12-01       NaT   \n",
       "112    297     10,199.00  Where I've Been  acquired 2007-06-08       NaT   \n",
       "114    299     10,200.00            Swype  acquired 2002-01-01       NaT   \n",
       "138    390     10,252.00           Mob.ly  acquired 2007-10-01       NaT   \n",
       "150    429     10,273.00          Angstro  acquired 2007-04-27       NaT   \n",
       "\n",
       "    network_username country_code category_code  investment_rounds  \\\n",
       "25           jumptap          USA        mobile               0.00   \n",
       "63          sidetour          USA           web               0.00   \n",
       "66        choicepass          USA    enterprise               0.00   \n",
       "67        producteev          USA      software               0.00   \n",
       "68         TradeCard          USA    enterprise               0.00   \n",
       "97         GoodGuide          USA           web               0.00   \n",
       "112     whereivebeen          USA        travel               0.00   \n",
       "114            Swype          USA      software               0.00   \n",
       "138              NaN          USA        mobile               0.00   \n",
       "150              NaN          USA      software               0.00   \n",
       "\n",
       "     funding_rounds  funding_total  milestones       id  acquiring_company_id  \\\n",
       "25             7.00 121,500,000.00        3.00 9,288.00             23,283.00   \n",
       "63             3.00   4,000,000.00        2.00 9,653.00             11,391.00   \n",
       "66             1.00     250,000.00        1.00 7,272.00              1,972.00   \n",
       "67             3.00   1,310,000.00        2.00 8,254.00                757.00   \n",
       "68             2.00  44,925,000.00        1.00 9,326.00             44,008.00   \n",
       "97             3.00  14,230,000.00        3.00 7,502.00            167,670.00   \n",
       "112            2.00   1,750,000.00        2.00 5,783.00              1,705.00   \n",
       "114            5.00  13,900,000.00        3.00 6,277.00              5,473.00   \n",
       "138            1.00   1,100,000.00        2.00 3,204.00             11,391.00   \n",
       "150            1.00     225,000.00        0.00 3,782.00                 59.00   \n",
       "\n",
       "     acquired_company_id       term_code  price_amount acquired_at  \n",
       "25             10,054.00  cash_and_stock          0.00  2013-08-13  \n",
       "63            101,312.00             NaN          0.00  2013-09-18  \n",
       "66            101,340.00             NaN          0.00  2012-06-18  \n",
       "67             10,137.00  cash_and_stock          0.00  2012-11-05  \n",
       "68             10,139.00             NaN          0.00  2013-04-01  \n",
       "97             10,179.00             NaN          0.00  2012-08-09  \n",
       "112            10,199.00             NaN          0.00  2011-07-11  \n",
       "114            10,200.00             NaN          0.00  2011-10-06  \n",
       "138            10,252.00             NaN          0.00  2010-05-05  \n",
       "150            10,273.00             NaN          0.00  2010-08-27  "
      ]
     },
     "execution_count": 75,
     "metadata": {},
     "output_type": "execute_result"
    }
   ],
   "source": [
    "# Фильтруем нужные компании\n",
    "suspicious_acquisitions = df[\n",
    "    (df['price_amount'].isin([0, 1])) & \n",
    "    (df['funding_total'] > 0)\n",
    "]\n",
    "\n",
    "# Отображаем результат\n",
    "print(f\"Найдено подозрительных сделок: {len(suspicious_acquisitions)}\")\n",
    "\n",
    "# Выведем 10 строк с этой группой компаний\n",
    "suspicious_acquisitions.head(10)"
   ]
  },
  {
   "cell_type": "code",
   "execution_count": 76,
   "metadata": {},
   "outputs": [
    {
     "data": {
      "text/plain": [
       "count           1,618.00\n",
       "mean       18,152,961.94\n",
       "std       144,503,027.47\n",
       "min             3,750.00\n",
       "25%         2,000,000.00\n",
       "50%         6,000,000.00\n",
       "75%        15,500,000.00\n",
       "max     5,700,000,000.00\n",
       "Name: funding_total, dtype: float64"
      ]
     },
     "execution_count": 76,
     "metadata": {},
     "output_type": "execute_result"
    }
   ],
   "source": [
    "# Проанализируем столбец funding_total у этой группы компаний\n",
    "suspicious_acquisitions['funding_total'].describe()"
   ]
  },
  {
   "cell_type": "code",
   "execution_count": 77,
   "metadata": {
    "scrolled": true
   },
   "outputs": [
    {
     "data": {
      "text/html": [
       "<div>\n",
       "<style scoped>\n",
       "    .dataframe tbody tr th:only-of-type {\n",
       "        vertical-align: middle;\n",
       "    }\n",
       "\n",
       "    .dataframe tbody tr th {\n",
       "        vertical-align: top;\n",
       "    }\n",
       "\n",
       "    .dataframe thead th {\n",
       "        text-align: right;\n",
       "    }\n",
       "</style>\n",
       "<table border=\"1\" class=\"dataframe\">\n",
       "  <thead>\n",
       "    <tr style=\"text-align: right;\">\n",
       "      <th></th>\n",
       "      <th>index</th>\n",
       "      <th>company_id_x</th>\n",
       "      <th>name</th>\n",
       "      <th>status</th>\n",
       "      <th>founded_at</th>\n",
       "      <th>closed_at</th>\n",
       "      <th>network_username</th>\n",
       "      <th>country_code</th>\n",
       "      <th>category_code</th>\n",
       "      <th>investment_rounds</th>\n",
       "      <th>funding_rounds</th>\n",
       "      <th>funding_total</th>\n",
       "      <th>milestones</th>\n",
       "      <th>id</th>\n",
       "      <th>acquiring_company_id</th>\n",
       "      <th>acquired_company_id</th>\n",
       "      <th>term_code</th>\n",
       "      <th>price_amount</th>\n",
       "      <th>acquired_at</th>\n",
       "    </tr>\n",
       "  </thead>\n",
       "  <tbody>\n",
       "    <tr>\n",
       "      <th>1346</th>\n",
       "      <td>4584</td>\n",
       "      <td>13,219.00</td>\n",
       "      <td>Clearwire</td>\n",
       "      <td>acquired</td>\n",
       "      <td>2003-10-01</td>\n",
       "      <td>NaT</td>\n",
       "      <td>NaN</td>\n",
       "      <td>USA</td>\n",
       "      <td>mobile</td>\n",
       "      <td>0.00</td>\n",
       "      <td>4.00</td>\n",
       "      <td>5,700,000,000.00</td>\n",
       "      <td>2.00</td>\n",
       "      <td>8,023.00</td>\n",
       "      <td>3,827.00</td>\n",
       "      <td>13,219.00</td>\n",
       "      <td>NaN</td>\n",
       "      <td>0.00</td>\n",
       "      <td>2012-12-17</td>\n",
       "    </tr>\n",
       "  </tbody>\n",
       "</table>\n",
       "</div>"
      ],
      "text/plain": [
       "      index  company_id_x       name    status founded_at closed_at  \\\n",
       "1346   4584     13,219.00  Clearwire  acquired 2003-10-01       NaT   \n",
       "\n",
       "     network_username country_code category_code  investment_rounds  \\\n",
       "1346              NaN          USA        mobile               0.00   \n",
       "\n",
       "      funding_rounds    funding_total  milestones       id  \\\n",
       "1346            4.00 5,700,000,000.00        2.00 8,023.00   \n",
       "\n",
       "      acquiring_company_id  acquired_company_id term_code  price_amount  \\\n",
       "1346              3,827.00            13,219.00       NaN          0.00   \n",
       "\n",
       "     acquired_at  \n",
       "1346  2012-12-17  "
      ]
     },
     "execution_count": 77,
     "metadata": {},
     "output_type": "execute_result"
    }
   ],
   "source": [
    "# Выведем компанию, имеющую максимальное значение по funding_total\n",
    "suspicious_acquisitions[suspicious_acquisitions['funding_total'] >= 5700000000]"
   ]
  },
  {
   "cell_type": "markdown",
   "metadata": {},
   "source": [
    "Согласно информации из интерната компания Clearwire была куплена компанией конкурентом Spirit, общая сумма сделаки была 5 млрд.долл., а 5,7 млрд инвестиций это инвестиции, которые компания Clearwire привлекла от Intel, Google и других инвесторов. Также есть информация о 5,5 млрд долга, который взяла на себя Spirit после покупки. Поэтому сумма покупки за 0 долларов скорее является ошибкой."
   ]
  },
  {
   "cell_type": "code",
   "execution_count": 78,
   "metadata": {
    "scrolled": true
   },
   "outputs": [
    {
     "data": {
      "text/html": [
       "<div>\n",
       "<style scoped>\n",
       "    .dataframe tbody tr th:only-of-type {\n",
       "        vertical-align: middle;\n",
       "    }\n",
       "\n",
       "    .dataframe tbody tr th {\n",
       "        vertical-align: top;\n",
       "    }\n",
       "\n",
       "    .dataframe thead th {\n",
       "        text-align: right;\n",
       "    }\n",
       "</style>\n",
       "<table border=\"1\" class=\"dataframe\">\n",
       "  <thead>\n",
       "    <tr style=\"text-align: right;\">\n",
       "      <th></th>\n",
       "      <th>index</th>\n",
       "      <th>company_id_x</th>\n",
       "      <th>name</th>\n",
       "      <th>status</th>\n",
       "      <th>founded_at</th>\n",
       "      <th>closed_at</th>\n",
       "      <th>network_username</th>\n",
       "      <th>country_code</th>\n",
       "      <th>category_code</th>\n",
       "      <th>investment_rounds</th>\n",
       "      <th>funding_rounds</th>\n",
       "      <th>funding_total</th>\n",
       "      <th>milestones</th>\n",
       "      <th>id</th>\n",
       "      <th>acquiring_company_id</th>\n",
       "      <th>acquired_company_id</th>\n",
       "      <th>term_code</th>\n",
       "      <th>price_amount</th>\n",
       "      <th>acquired_at</th>\n",
       "    </tr>\n",
       "  </thead>\n",
       "  <tbody>\n",
       "    <tr>\n",
       "      <th>25</th>\n",
       "      <td>66</td>\n",
       "      <td>10,054.00</td>\n",
       "      <td>Jumptap</td>\n",
       "      <td>acquired</td>\n",
       "      <td>2005-01-01</td>\n",
       "      <td>NaT</td>\n",
       "      <td>jumptap</td>\n",
       "      <td>USA</td>\n",
       "      <td>mobile</td>\n",
       "      <td>0.00</td>\n",
       "      <td>7.00</td>\n",
       "      <td>121,500,000.00</td>\n",
       "      <td>3.00</td>\n",
       "      <td>9,288.00</td>\n",
       "      <td>23,283.00</td>\n",
       "      <td>10,054.00</td>\n",
       "      <td>cash_and_stock</td>\n",
       "      <td>0.00</td>\n",
       "      <td>2013-08-13</td>\n",
       "    </tr>\n",
       "    <tr>\n",
       "      <th>68</th>\n",
       "      <td>184</td>\n",
       "      <td>10,139.00</td>\n",
       "      <td>TradeCard</td>\n",
       "      <td>acquired</td>\n",
       "      <td>1999-01-01</td>\n",
       "      <td>NaT</td>\n",
       "      <td>TradeCard</td>\n",
       "      <td>USA</td>\n",
       "      <td>enterprise</td>\n",
       "      <td>0.00</td>\n",
       "      <td>2.00</td>\n",
       "      <td>44,925,000.00</td>\n",
       "      <td>1.00</td>\n",
       "      <td>9,326.00</td>\n",
       "      <td>44,008.00</td>\n",
       "      <td>10,139.00</td>\n",
       "      <td>NaN</td>\n",
       "      <td>0.00</td>\n",
       "      <td>2013-04-01</td>\n",
       "    </tr>\n",
       "    <tr>\n",
       "      <th>97</th>\n",
       "      <td>247</td>\n",
       "      <td>10,179.00</td>\n",
       "      <td>GoodGuide</td>\n",
       "      <td>acquired</td>\n",
       "      <td>2007-12-01</td>\n",
       "      <td>NaT</td>\n",
       "      <td>GoodGuide</td>\n",
       "      <td>USA</td>\n",
       "      <td>web</td>\n",
       "      <td>0.00</td>\n",
       "      <td>3.00</td>\n",
       "      <td>14,230,000.00</td>\n",
       "      <td>3.00</td>\n",
       "      <td>7,502.00</td>\n",
       "      <td>167,670.00</td>\n",
       "      <td>10,179.00</td>\n",
       "      <td>NaN</td>\n",
       "      <td>0.00</td>\n",
       "      <td>2012-08-09</td>\n",
       "    </tr>\n",
       "    <tr>\n",
       "      <th>114</th>\n",
       "      <td>299</td>\n",
       "      <td>10,200.00</td>\n",
       "      <td>Swype</td>\n",
       "      <td>acquired</td>\n",
       "      <td>2002-01-01</td>\n",
       "      <td>NaT</td>\n",
       "      <td>Swype</td>\n",
       "      <td>USA</td>\n",
       "      <td>software</td>\n",
       "      <td>0.00</td>\n",
       "      <td>5.00</td>\n",
       "      <td>13,900,000.00</td>\n",
       "      <td>3.00</td>\n",
       "      <td>6,277.00</td>\n",
       "      <td>5,473.00</td>\n",
       "      <td>10,200.00</td>\n",
       "      <td>NaN</td>\n",
       "      <td>0.00</td>\n",
       "      <td>2011-10-06</td>\n",
       "    </tr>\n",
       "    <tr>\n",
       "      <th>191</th>\n",
       "      <td>646</td>\n",
       "      <td>10,392.00</td>\n",
       "      <td>Intela</td>\n",
       "      <td>acquired</td>\n",
       "      <td>2006-02-02</td>\n",
       "      <td>NaT</td>\n",
       "      <td>intela</td>\n",
       "      <td>USA</td>\n",
       "      <td>advertising</td>\n",
       "      <td>0.00</td>\n",
       "      <td>2.00</td>\n",
       "      <td>13,250,000.00</td>\n",
       "      <td>4.00</td>\n",
       "      <td>9,841.00</td>\n",
       "      <td>81,499.00</td>\n",
       "      <td>10,392.00</td>\n",
       "      <td>NaN</td>\n",
       "      <td>0.00</td>\n",
       "      <td>2013-10-09</td>\n",
       "    </tr>\n",
       "    <tr>\n",
       "      <th>...</th>\n",
       "      <td>...</td>\n",
       "      <td>...</td>\n",
       "      <td>...</td>\n",
       "      <td>...</td>\n",
       "      <td>...</td>\n",
       "      <td>...</td>\n",
       "      <td>...</td>\n",
       "      <td>...</td>\n",
       "      <td>...</td>\n",
       "      <td>...</td>\n",
       "      <td>...</td>\n",
       "      <td>...</td>\n",
       "      <td>...</td>\n",
       "      <td>...</td>\n",
       "      <td>...</td>\n",
       "      <td>...</td>\n",
       "      <td>...</td>\n",
       "      <td>...</td>\n",
       "      <td>...</td>\n",
       "    </tr>\n",
       "    <tr>\n",
       "      <th>40784</th>\n",
       "      <td>196261</td>\n",
       "      <td>9,780.00</td>\n",
       "      <td>NitroSecurity</td>\n",
       "      <td>acquired</td>\n",
       "      <td>1999-01-01</td>\n",
       "      <td>NaT</td>\n",
       "      <td>NaN</td>\n",
       "      <td>USA</td>\n",
       "      <td>security</td>\n",
       "      <td>0.00</td>\n",
       "      <td>4.00</td>\n",
       "      <td>24,500,000.00</td>\n",
       "      <td>2.00</td>\n",
       "      <td>6,259.00</td>\n",
       "      <td>14,236.00</td>\n",
       "      <td>9,780.00</td>\n",
       "      <td>NaN</td>\n",
       "      <td>0.00</td>\n",
       "      <td>2011-10-04</td>\n",
       "    </tr>\n",
       "    <tr>\n",
       "      <th>40800</th>\n",
       "      <td>196299</td>\n",
       "      <td>9,816.00</td>\n",
       "      <td>ShopWiki</td>\n",
       "      <td>acquired</td>\n",
       "      <td>2005-06-01</td>\n",
       "      <td>NaT</td>\n",
       "      <td>NaN</td>\n",
       "      <td>USA</td>\n",
       "      <td>ecommerce</td>\n",
       "      <td>0.00</td>\n",
       "      <td>1.00</td>\n",
       "      <td>6,250,000.00</td>\n",
       "      <td>1.00</td>\n",
       "      <td>5,067.00</td>\n",
       "      <td>1,809.00</td>\n",
       "      <td>9,816.00</td>\n",
       "      <td>NaN</td>\n",
       "      <td>0.00</td>\n",
       "      <td>2011-01-28</td>\n",
       "    </tr>\n",
       "    <tr>\n",
       "      <th>40820</th>\n",
       "      <td>196358</td>\n",
       "      <td>987.00</td>\n",
       "      <td>Zannel</td>\n",
       "      <td>acquired</td>\n",
       "      <td>NaT</td>\n",
       "      <td>NaT</td>\n",
       "      <td>NaN</td>\n",
       "      <td>USA</td>\n",
       "      <td>web</td>\n",
       "      <td>0.00</td>\n",
       "      <td>2.00</td>\n",
       "      <td>16,000,000.00</td>\n",
       "      <td>2.00</td>\n",
       "      <td>8,949.00</td>\n",
       "      <td>74,819.00</td>\n",
       "      <td>987.00</td>\n",
       "      <td>NaN</td>\n",
       "      <td>0.00</td>\n",
       "      <td>2011-03-28</td>\n",
       "    </tr>\n",
       "    <tr>\n",
       "      <th>40840</th>\n",
       "      <td>196430</td>\n",
       "      <td>992.00</td>\n",
       "      <td>wunderloop</td>\n",
       "      <td>acquired</td>\n",
       "      <td>1999-01-01</td>\n",
       "      <td>NaT</td>\n",
       "      <td>NaN</td>\n",
       "      <td>USA</td>\n",
       "      <td>advertising</td>\n",
       "      <td>0.00</td>\n",
       "      <td>1.00</td>\n",
       "      <td>10,000,000.00</td>\n",
       "      <td>1.00</td>\n",
       "      <td>9,916.00</td>\n",
       "      <td>19,182.00</td>\n",
       "      <td>992.00</td>\n",
       "      <td>NaN</td>\n",
       "      <td>0.00</td>\n",
       "      <td>2010-07-02</td>\n",
       "    </tr>\n",
       "    <tr>\n",
       "      <th>40854</th>\n",
       "      <td>196489</td>\n",
       "      <td>997.00</td>\n",
       "      <td>Zimbra</td>\n",
       "      <td>acquired</td>\n",
       "      <td>2003-01-01</td>\n",
       "      <td>NaT</td>\n",
       "      <td>zimbra</td>\n",
       "      <td>USA</td>\n",
       "      <td>enterprise</td>\n",
       "      <td>0.00</td>\n",
       "      <td>1.00</td>\n",
       "      <td>14,500,000.00</td>\n",
       "      <td>3.00</td>\n",
       "      <td>9,121.00</td>\n",
       "      <td>415.00</td>\n",
       "      <td>997.00</td>\n",
       "      <td>NaN</td>\n",
       "      <td>0.00</td>\n",
       "      <td>2013-07-15</td>\n",
       "    </tr>\n",
       "  </tbody>\n",
       "</table>\n",
       "<p>832 rows × 19 columns</p>\n",
       "</div>"
      ],
      "text/plain": [
       "        index  company_id_x           name    status founded_at closed_at  \\\n",
       "25         66     10,054.00        Jumptap  acquired 2005-01-01       NaT   \n",
       "68        184     10,139.00      TradeCard  acquired 1999-01-01       NaT   \n",
       "97        247     10,179.00      GoodGuide  acquired 2007-12-01       NaT   \n",
       "114       299     10,200.00          Swype  acquired 2002-01-01       NaT   \n",
       "191       646     10,392.00         Intela  acquired 2006-02-02       NaT   \n",
       "...       ...           ...            ...       ...        ...       ...   \n",
       "40784  196261      9,780.00  NitroSecurity  acquired 1999-01-01       NaT   \n",
       "40800  196299      9,816.00       ShopWiki  acquired 2005-06-01       NaT   \n",
       "40820  196358        987.00         Zannel  acquired        NaT       NaT   \n",
       "40840  196430        992.00     wunderloop  acquired 1999-01-01       NaT   \n",
       "40854  196489        997.00         Zimbra  acquired 2003-01-01       NaT   \n",
       "\n",
       "      network_username country_code category_code  investment_rounds  \\\n",
       "25             jumptap          USA        mobile               0.00   \n",
       "68           TradeCard          USA    enterprise               0.00   \n",
       "97           GoodGuide          USA           web               0.00   \n",
       "114              Swype          USA      software               0.00   \n",
       "191             intela          USA   advertising               0.00   \n",
       "...                ...          ...           ...                ...   \n",
       "40784              NaN          USA      security               0.00   \n",
       "40800              NaN          USA     ecommerce               0.00   \n",
       "40820              NaN          USA           web               0.00   \n",
       "40840              NaN          USA   advertising               0.00   \n",
       "40854           zimbra          USA    enterprise               0.00   \n",
       "\n",
       "       funding_rounds  funding_total  milestones       id  \\\n",
       "25               7.00 121,500,000.00        3.00 9,288.00   \n",
       "68               2.00  44,925,000.00        1.00 9,326.00   \n",
       "97               3.00  14,230,000.00        3.00 7,502.00   \n",
       "114              5.00  13,900,000.00        3.00 6,277.00   \n",
       "191              2.00  13,250,000.00        4.00 9,841.00   \n",
       "...               ...            ...         ...      ...   \n",
       "40784            4.00  24,500,000.00        2.00 6,259.00   \n",
       "40800            1.00   6,250,000.00        1.00 5,067.00   \n",
       "40820            2.00  16,000,000.00        2.00 8,949.00   \n",
       "40840            1.00  10,000,000.00        1.00 9,916.00   \n",
       "40854            1.00  14,500,000.00        3.00 9,121.00   \n",
       "\n",
       "       acquiring_company_id  acquired_company_id       term_code  \\\n",
       "25                23,283.00            10,054.00  cash_and_stock   \n",
       "68                44,008.00            10,139.00             NaN   \n",
       "97               167,670.00            10,179.00             NaN   \n",
       "114                5,473.00            10,200.00             NaN   \n",
       "191               81,499.00            10,392.00             NaN   \n",
       "...                     ...                  ...             ...   \n",
       "40784             14,236.00             9,780.00             NaN   \n",
       "40800              1,809.00             9,816.00             NaN   \n",
       "40820             74,819.00               987.00             NaN   \n",
       "40840             19,182.00               992.00             NaN   \n",
       "40854                415.00               997.00             NaN   \n",
       "\n",
       "       price_amount acquired_at  \n",
       "25             0.00  2013-08-13  \n",
       "68             0.00  2013-04-01  \n",
       "97             0.00  2012-08-09  \n",
       "114            0.00  2011-10-06  \n",
       "191            0.00  2013-10-09  \n",
       "...             ...         ...  \n",
       "40784          0.00  2011-10-04  \n",
       "40800          0.00  2011-01-28  \n",
       "40820          0.00  2011-03-28  \n",
       "40840          0.00  2010-07-02  \n",
       "40854          0.00  2013-07-15  \n",
       "\n",
       "[832 rows x 19 columns]"
      ]
     },
     "execution_count": 78,
     "metadata": {},
     "output_type": "execute_result"
    }
   ],
   "source": [
    "# Выведем компанию, имеющую значение по funding_total более 6 млн. дол.\n",
    "suspicious_acquisitions[suspicious_acquisitions['funding_total'] >= 6_000_000]"
   ]
  },
  {
   "cell_type": "markdown",
   "metadata": {},
   "source": [
    "Исследуем компанию ShopWiki.\n",
    "Компания была приобретена Oversee.net. Генеральный директор ShopWiki перешел в Oversee.net после покупки. Условия сделки не разглашаются. Видимо это причина почему сумма покупки 0."
   ]
  },
  {
   "cell_type": "code",
   "execution_count": 79,
   "metadata": {
    "id": "9IDTHfYQFhuX"
   },
   "outputs": [
    {
     "name": "stdout",
     "output_type": "stream",
     "text": [
      "Нижняя граница выбросов: -18,250,000$ (ниже 0.0% значений)\n",
      "Верхняя граница выбросов: 35,750,000$ (выше 9.09% значений)\n"
     ]
    }
   ],
   "source": [
    "# Рассчитаем межквартильный размах IQR:\n",
    "# Рассчитываем квартили\n",
    "Q1 = suspicious_acquisitions['funding_total'].quantile(0.25)\n",
    "Q3 = suspicious_acquisitions['funding_total'].quantile(0.75)\n",
    "IQR = Q3 - Q1\n",
    "\n",
    "# Определяем границы выбросов\n",
    "lower_bound = Q1 - 1.5 * IQR\n",
    "upper_bound = Q3 + 1.5 * IQR\n",
    "\n",
    "# Находим процентили для границ\n",
    "lower_percentile = (suspicious_acquisitions['funding_total'] < lower_bound).mean() * 100\n",
    "upper_percentile = (suspicious_acquisitions['funding_total'] > upper_bound).mean() * 100\n",
    "\n",
    "print(f\"Нижняя граница выбросов: {lower_bound:,.0f}$ (ниже {lower_percentile}% значений)\")\n",
    "print(f\"Верхняя граница выбросов: {upper_bound:,.0f}$ (выше {round(upper_percentile, 2)}% значений)\")"
   ]
  },
  {
   "cell_type": "markdown",
   "metadata": {},
   "source": [
    "Выводы:\n",
    "- 1618 компаний куплены за 0 или 1 \n",
    "- несмотря на финансирование, среднее финансирование: 18,2 млн.долл.\n",
    "- медиана: 6 млн.долл. (50% компаний получили меньше этой суммы)\n",
    "- максимум: 5,7 млрд.долл. \n",
    "- нижняя граница выбросов - 18 млн., но ее можно не учитывать, т.к. не бывает отрицательного финансирования, верхняя граница 35,8 млн.\n",
    "- чуть более 9 процентов компаний имеют финансирование более 35,8 млн.\n",
    "\n",
    "Возможные причины покупки за 0 или 1 доллар:\n",
    "- смена юридической формы компании\n",
    "- реорганизация внутри холдинга\n",
    "- перевод активов между подразделениями\n",
    "- ошибки в данных\n",
    "- данные сделки не разглашаются"
   ]
  },
  {
   "cell_type": "markdown",
   "metadata": {
    "id": "mEiWpROjrJg2"
   },
   "source": [
    "\n",
    "### 3.4. Цены стартапов по категориям\n",
    "\n",
    "Выделим категории стартапов, характеризующиеся:\n",
    "- типично высокими ценами;\n",
    "- и наибольшим разбросом цен за стартап."
   ]
  },
  {
   "cell_type": "markdown",
   "metadata": {},
   "source": [
    "Для поиска стартапов с высокими ценами используем медиану, т.к. она устойчива к выбросам, а для топа с разбросом цен используем стандартное отклонение и межквартильный размах"
   ]
  },
  {
   "cell_type": "code",
   "execution_count": 80,
   "metadata": {
    "id": "jQ09dYUWrJg2",
    "vscode": {
     "languageId": "plaintext"
    }
   },
   "outputs": [],
   "source": [
    "# Группировка по категориям и расчет статистик\n",
    "category_stats = df.groupby('category_code')['price_amount'].agg([\n",
    "    ('median_price', 'median'),  \n",
    "    ('std_price', 'std'), \n",
    "    ('IQR', lambda x: x.quantile(0.75) - x.quantile(0.25))\n",
    "]).reset_index()"
   ]
  },
  {
   "cell_type": "code",
   "execution_count": 81,
   "metadata": {},
   "outputs": [
    {
     "data": {
      "text/html": [
       "<div>\n",
       "<style scoped>\n",
       "    .dataframe tbody tr th:only-of-type {\n",
       "        vertical-align: middle;\n",
       "    }\n",
       "\n",
       "    .dataframe tbody tr th {\n",
       "        vertical-align: top;\n",
       "    }\n",
       "\n",
       "    .dataframe thead th {\n",
       "        text-align: right;\n",
       "    }\n",
       "</style>\n",
       "<table border=\"1\" class=\"dataframe\">\n",
       "  <thead>\n",
       "    <tr style=\"text-align: right;\">\n",
       "      <th></th>\n",
       "      <th>category_code</th>\n",
       "      <th>median_price</th>\n",
       "      <th>std_price</th>\n",
       "      <th>IQR</th>\n",
       "    </tr>\n",
       "  </thead>\n",
       "  <tbody>\n",
       "    <tr>\n",
       "      <th>24</th>\n",
       "      <td>nanotech</td>\n",
       "      <td>584,000,000.00</td>\n",
       "      <td>NaN</td>\n",
       "      <td>0.00</td>\n",
       "    </tr>\n",
       "    <tr>\n",
       "      <th>19</th>\n",
       "      <td>manufacturing</td>\n",
       "      <td>72,000,000.00</td>\n",
       "      <td>969,657,968.02</td>\n",
       "      <td>615,000,000.00</td>\n",
       "    </tr>\n",
       "    <tr>\n",
       "      <th>32</th>\n",
       "      <td>real_estate</td>\n",
       "      <td>50,000,000.00</td>\n",
       "      <td>2,505,122,913.06</td>\n",
       "      <td>903,500,000.00</td>\n",
       "    </tr>\n",
       "    <tr>\n",
       "      <th>2</th>\n",
       "      <td>automotive</td>\n",
       "      <td>43,000,000.00</td>\n",
       "      <td>2,297,757,559.01</td>\n",
       "      <td>2,400,000,000.00</td>\n",
       "    </tr>\n",
       "    <tr>\n",
       "      <th>3</th>\n",
       "      <td>biotech</td>\n",
       "      <td>13,200,000.00</td>\n",
       "      <td>1,540,373,521.41</td>\n",
       "      <td>250,000,000.00</td>\n",
       "    </tr>\n",
       "  </tbody>\n",
       "</table>\n",
       "</div>"
      ],
      "text/plain": [
       "    category_code   median_price        std_price              IQR\n",
       "24       nanotech 584,000,000.00              NaN             0.00\n",
       "19  manufacturing  72,000,000.00   969,657,968.02   615,000,000.00\n",
       "32    real_estate  50,000,000.00 2,505,122,913.06   903,500,000.00\n",
       "2      automotive  43,000,000.00 2,297,757,559.01 2,400,000,000.00\n",
       "3         biotech  13,200,000.00 1,540,373,521.41   250,000,000.00"
      ]
     },
     "metadata": {},
     "output_type": "display_data"
    }
   ],
   "source": [
    "# Топ-5 по медианной цене\n",
    "top_median = category_stats.sort_values(by='median_price', ascending=False).head()\n",
    "\n",
    "# Выведем результат\n",
    "display(top_median)"
   ]
  },
  {
   "cell_type": "code",
   "execution_count": 82,
   "metadata": {},
   "outputs": [
    {
     "data": {
      "text/html": [
       "<div>\n",
       "<style scoped>\n",
       "    .dataframe tbody tr th:only-of-type {\n",
       "        vertical-align: middle;\n",
       "    }\n",
       "\n",
       "    .dataframe tbody tr th {\n",
       "        vertical-align: top;\n",
       "    }\n",
       "\n",
       "    .dataframe thead th {\n",
       "        text-align: right;\n",
       "    }\n",
       "</style>\n",
       "<table border=\"1\" class=\"dataframe\">\n",
       "  <thead>\n",
       "    <tr style=\"text-align: right;\">\n",
       "      <th></th>\n",
       "      <th>category_code</th>\n",
       "      <th>median_price</th>\n",
       "      <th>std_price</th>\n",
       "      <th>IQR</th>\n",
       "    </tr>\n",
       "  </thead>\n",
       "  <tbody>\n",
       "    <tr>\n",
       "      <th>9</th>\n",
       "      <td>enterprise</td>\n",
       "      <td>0.00</td>\n",
       "      <td>128,088,235,060.17</td>\n",
       "      <td>5,700,000.00</td>\n",
       "    </tr>\n",
       "    <tr>\n",
       "      <th>31</th>\n",
       "      <td>public_relations</td>\n",
       "      <td>0.00</td>\n",
       "      <td>4,059,244,205.05</td>\n",
       "      <td>17,250,000.00</td>\n",
       "    </tr>\n",
       "    <tr>\n",
       "      <th>32</th>\n",
       "      <td>real_estate</td>\n",
       "      <td>50,000,000.00</td>\n",
       "      <td>2,505,122,913.06</td>\n",
       "      <td>903,500,000.00</td>\n",
       "    </tr>\n",
       "    <tr>\n",
       "      <th>2</th>\n",
       "      <td>automotive</td>\n",
       "      <td>43,000,000.00</td>\n",
       "      <td>2,297,757,559.01</td>\n",
       "      <td>2,400,000,000.00</td>\n",
       "    </tr>\n",
       "    <tr>\n",
       "      <th>3</th>\n",
       "      <td>biotech</td>\n",
       "      <td>13,200,000.00</td>\n",
       "      <td>1,540,373,521.41</td>\n",
       "      <td>250,000,000.00</td>\n",
       "    </tr>\n",
       "  </tbody>\n",
       "</table>\n",
       "</div>"
      ],
      "text/plain": [
       "       category_code  median_price          std_price              IQR\n",
       "9         enterprise          0.00 128,088,235,060.17     5,700,000.00\n",
       "31  public_relations          0.00   4,059,244,205.05    17,250,000.00\n",
       "32       real_estate 50,000,000.00   2,505,122,913.06   903,500,000.00\n",
       "2         automotive 43,000,000.00   2,297,757,559.01 2,400,000,000.00\n",
       "3            biotech 13,200,000.00   1,540,373,521.41   250,000,000.00"
      ]
     },
     "metadata": {},
     "output_type": "display_data"
    }
   ],
   "source": [
    "# Топ-5 по разбросу (стандартное отклонение)\n",
    "top_std = category_stats.sort_values(by='std_price', ascending=False).head()\n",
    "\n",
    "# Выведем результат\n",
    "display(top_std)"
   ]
  },
  {
   "cell_type": "code",
   "execution_count": 83,
   "metadata": {},
   "outputs": [
    {
     "data": {
      "text/html": [
       "<div>\n",
       "<style scoped>\n",
       "    .dataframe tbody tr th:only-of-type {\n",
       "        vertical-align: middle;\n",
       "    }\n",
       "\n",
       "    .dataframe tbody tr th {\n",
       "        vertical-align: top;\n",
       "    }\n",
       "\n",
       "    .dataframe thead th {\n",
       "        text-align: right;\n",
       "    }\n",
       "</style>\n",
       "<table border=\"1\" class=\"dataframe\">\n",
       "  <thead>\n",
       "    <tr style=\"text-align: right;\">\n",
       "      <th></th>\n",
       "      <th>category_code</th>\n",
       "      <th>median_price</th>\n",
       "      <th>std_price</th>\n",
       "      <th>IQR</th>\n",
       "    </tr>\n",
       "  </thead>\n",
       "  <tbody>\n",
       "    <tr>\n",
       "      <th>2</th>\n",
       "      <td>automotive</td>\n",
       "      <td>43,000,000.00</td>\n",
       "      <td>2,297,757,559.01</td>\n",
       "      <td>2,400,000,000.00</td>\n",
       "    </tr>\n",
       "    <tr>\n",
       "      <th>32</th>\n",
       "      <td>real_estate</td>\n",
       "      <td>50,000,000.00</td>\n",
       "      <td>2,505,122,913.06</td>\n",
       "      <td>903,500,000.00</td>\n",
       "    </tr>\n",
       "    <tr>\n",
       "      <th>19</th>\n",
       "      <td>manufacturing</td>\n",
       "      <td>72,000,000.00</td>\n",
       "      <td>969,657,968.02</td>\n",
       "      <td>615,000,000.00</td>\n",
       "    </tr>\n",
       "    <tr>\n",
       "      <th>38</th>\n",
       "      <td>sports</td>\n",
       "      <td>0.00</td>\n",
       "      <td>426,561,836.08</td>\n",
       "      <td>260,000,000.00</td>\n",
       "    </tr>\n",
       "    <tr>\n",
       "      <th>3</th>\n",
       "      <td>biotech</td>\n",
       "      <td>13,200,000.00</td>\n",
       "      <td>1,540,373,521.41</td>\n",
       "      <td>250,000,000.00</td>\n",
       "    </tr>\n",
       "  </tbody>\n",
       "</table>\n",
       "</div>"
      ],
      "text/plain": [
       "    category_code  median_price        std_price              IQR\n",
       "2      automotive 43,000,000.00 2,297,757,559.01 2,400,000,000.00\n",
       "32    real_estate 50,000,000.00 2,505,122,913.06   903,500,000.00\n",
       "19  manufacturing 72,000,000.00   969,657,968.02   615,000,000.00\n",
       "38         sports          0.00   426,561,836.08   260,000,000.00\n",
       "3         biotech 13,200,000.00 1,540,373,521.41   250,000,000.00"
      ]
     },
     "metadata": {},
     "output_type": "display_data"
    }
   ],
   "source": [
    "# Топ-5 по разбросу (IQR)\n",
    "top_iqr = category_stats.sort_values(by='IQR', ascending=False).head()\n",
    "\n",
    "# Выведем результат\n",
    "display(top_iqr)"
   ]
  },
  {
   "cell_type": "code",
   "execution_count": 84,
   "metadata": {},
   "outputs": [
    {
     "data": {
      "text/html": [
       "<div>\n",
       "<style scoped>\n",
       "    .dataframe tbody tr th:only-of-type {\n",
       "        vertical-align: middle;\n",
       "    }\n",
       "\n",
       "    .dataframe tbody tr th {\n",
       "        vertical-align: top;\n",
       "    }\n",
       "\n",
       "    .dataframe thead th {\n",
       "        text-align: right;\n",
       "    }\n",
       "</style>\n",
       "<table border=\"1\" class=\"dataframe\">\n",
       "  <thead>\n",
       "    <tr style=\"text-align: right;\">\n",
       "      <th></th>\n",
       "      <th>category_code</th>\n",
       "      <th>median_price_x</th>\n",
       "      <th>std_price_x</th>\n",
       "      <th>IQR_x</th>\n",
       "      <th>median_price_y</th>\n",
       "      <th>std_price_y</th>\n",
       "      <th>IQR_y</th>\n",
       "      <th>median_price</th>\n",
       "      <th>std_price</th>\n",
       "      <th>IQR</th>\n",
       "    </tr>\n",
       "  </thead>\n",
       "  <tbody>\n",
       "    <tr>\n",
       "      <th>0</th>\n",
       "      <td>real_estate</td>\n",
       "      <td>50,000,000.00</td>\n",
       "      <td>2,505,122,913.06</td>\n",
       "      <td>903,500,000.00</td>\n",
       "      <td>50,000,000.00</td>\n",
       "      <td>2,505,122,913.06</td>\n",
       "      <td>903,500,000.00</td>\n",
       "      <td>50,000,000.00</td>\n",
       "      <td>2,505,122,913.06</td>\n",
       "      <td>903,500,000.00</td>\n",
       "    </tr>\n",
       "    <tr>\n",
       "      <th>1</th>\n",
       "      <td>automotive</td>\n",
       "      <td>43,000,000.00</td>\n",
       "      <td>2,297,757,559.01</td>\n",
       "      <td>2,400,000,000.00</td>\n",
       "      <td>43,000,000.00</td>\n",
       "      <td>2,297,757,559.01</td>\n",
       "      <td>2,400,000,000.00</td>\n",
       "      <td>43,000,000.00</td>\n",
       "      <td>2,297,757,559.01</td>\n",
       "      <td>2,400,000,000.00</td>\n",
       "    </tr>\n",
       "    <tr>\n",
       "      <th>2</th>\n",
       "      <td>biotech</td>\n",
       "      <td>13,200,000.00</td>\n",
       "      <td>1,540,373,521.41</td>\n",
       "      <td>250,000,000.00</td>\n",
       "      <td>13,200,000.00</td>\n",
       "      <td>1,540,373,521.41</td>\n",
       "      <td>250,000,000.00</td>\n",
       "      <td>13,200,000.00</td>\n",
       "      <td>1,540,373,521.41</td>\n",
       "      <td>250,000,000.00</td>\n",
       "    </tr>\n",
       "  </tbody>\n",
       "</table>\n",
       "</div>"
      ],
      "text/plain": [
       "  category_code  median_price_x      std_price_x            IQR_x  \\\n",
       "0   real_estate   50,000,000.00 2,505,122,913.06   903,500,000.00   \n",
       "1    automotive   43,000,000.00 2,297,757,559.01 2,400,000,000.00   \n",
       "2       biotech   13,200,000.00 1,540,373,521.41   250,000,000.00   \n",
       "\n",
       "   median_price_y      std_price_y            IQR_y  median_price  \\\n",
       "0   50,000,000.00 2,505,122,913.06   903,500,000.00 50,000,000.00   \n",
       "1   43,000,000.00 2,297,757,559.01 2,400,000,000.00 43,000,000.00   \n",
       "2   13,200,000.00 1,540,373,521.41   250,000,000.00 13,200,000.00   \n",
       "\n",
       "         std_price              IQR  \n",
       "0 2,505,122,913.06   903,500,000.00  \n",
       "1 2,297,757,559.01 2,400,000,000.00  \n",
       "2 1,540,373,521.41   250,000,000.00  "
      ]
     },
     "metadata": {},
     "output_type": "display_data"
    }
   ],
   "source": [
    "# Комбинированный топ (категории, входящие в 3 списка)\n",
    "top_combined_temp = pd.merge(top_median, top_std, on='category_code', how='inner')\n",
    "top_combined = pd.merge(top_combined_temp, top_iqr, on='category_code', how='inner')\n",
    "\n",
    "display(top_combined)"
   ]
  },
  {
   "cell_type": "markdown",
   "metadata": {},
   "source": [
    "Почему топ 5. Это дает достаточную картину для оценки без перегрузки информацией, а также такое количество оптимально для принятия решения.\n",
    "Почему медиана. Как писал выше, не чувствительна к выбросам, которые есть.\n",
    "Почему стандартное отклонение и межквартильный размах. Обе величины показывают разброс цен."
   ]
  },
  {
   "cell_type": "markdown",
   "metadata": {},
   "source": [
    "Категории стартапов с высокими ценами покупки:\n",
    "- производство (manufacturing), медианная цена покупки 72 млн.долл.\n",
    "- биотехнологии (biotech), медианная цена покупки 13,2 млн.долл.\n",
    "- гостиничный и подобный бизнес (hospitality) 12,5 млн.долл.\n",
    "\n",
    "Категории стартапов по разбросу цен покупки по стандартному отклонению:\n",
    "- корпоративный сектор (enterprise), разброс более 128 млн.долл.\n",
    "- связи с общественностью, pr (public_relations), разброс более 4 млн.долл.\n",
    "- биотехнологии (biotech), разброс более 1,5 млн.долл.\n",
    "\n",
    "Категории стартапов по разбросу цен покупки по IQR:\n",
    "- производство (manufacturing), разброс 615 млн.долл.\n",
    "- биотехнологии (biotech), разброс 250 млн.долл.\n",
    "- финансовый сектор (finance), разброс более 170 млн.долл.\n",
    "\n",
    "Категория биотехнологии (biotech) входит во все 3 топа при объединении. "
   ]
  },
  {
   "cell_type": "markdown",
   "metadata": {
    "id": "ADOfyVY_rJg3"
   },
   "source": [
    "\n",
    "### 3.5. Сколько раундов продержится стартап перед покупкой\n",
    "\n",
    "- Необходимо проанализировать столбец `funding_rounds`. Исследуйте значения столбца. Заказчика интересует типичное значение количества раундов для каждого возможного статуса стартапа.\n",
    "- Постройте график, который отображает, сколько в среднем раундов финансирования проходило для стартапов из каждой группы. Сделайте выводы."
   ]
  },
  {
   "cell_type": "code",
   "execution_count": 85,
   "metadata": {
    "id": "hgXMPC4WrJg3",
    "vscode": {
     "languageId": "plaintext"
    }
   },
   "outputs": [
    {
     "data": {
      "text/plain": [
       "array(['operating', 'acquired', 'closed', 'ipo'], dtype=object)"
      ]
     },
     "execution_count": 85,
     "metadata": {},
     "output_type": "execute_result"
    }
   ],
   "source": [
    "# Выведем какие статусы существуют\n",
    "df['status'].unique()  "
   ]
  },
  {
   "cell_type": "code",
   "execution_count": 86,
   "metadata": {
    "scrolled": true
   },
   "outputs": [
    {
     "data": {
      "text/plain": [
       "count   40,890.00\n",
       "mean         1.29\n",
       "std          1.26\n",
       "min          0.00\n",
       "25%          1.00\n",
       "50%          1.00\n",
       "75%          2.00\n",
       "max         15.00\n",
       "Name: funding_rounds, dtype: float64"
      ]
     },
     "execution_count": 86,
     "metadata": {},
     "output_type": "execute_result"
    }
   ],
   "source": [
    "# Получим статистическое описание данных столбца funding_rounds\n",
    "df['funding_rounds'].describe()"
   ]
  },
  {
   "cell_type": "code",
   "execution_count": 87,
   "metadata": {
    "id": "pV3e7kw5Fj1Y",
    "scrolled": true
   },
   "outputs": [
    {
     "data": {
      "text/html": [
       "<div>\n",
       "<style scoped>\n",
       "    .dataframe tbody tr th:only-of-type {\n",
       "        vertical-align: middle;\n",
       "    }\n",
       "\n",
       "    .dataframe tbody tr th {\n",
       "        vertical-align: top;\n",
       "    }\n",
       "\n",
       "    .dataframe thead th {\n",
       "        text-align: right;\n",
       "    }\n",
       "</style>\n",
       "<table border=\"1\" class=\"dataframe\">\n",
       "  <thead>\n",
       "    <tr style=\"text-align: right;\">\n",
       "      <th></th>\n",
       "      <th>status</th>\n",
       "      <th>mean_rounds</th>\n",
       "      <th>median_rounds</th>\n",
       "      <th>companies_count</th>\n",
       "    </tr>\n",
       "  </thead>\n",
       "  <tbody>\n",
       "    <tr>\n",
       "      <th>0</th>\n",
       "      <td>acquired</td>\n",
       "      <td>0.53</td>\n",
       "      <td>0.00</td>\n",
       "      <td>9537</td>\n",
       "    </tr>\n",
       "    <tr>\n",
       "      <th>1</th>\n",
       "      <td>closed</td>\n",
       "      <td>1.38</td>\n",
       "      <td>1.00</td>\n",
       "      <td>2092</td>\n",
       "    </tr>\n",
       "    <tr>\n",
       "      <th>2</th>\n",
       "      <td>ipo</td>\n",
       "      <td>1.93</td>\n",
       "      <td>1.00</td>\n",
       "      <td>640</td>\n",
       "    </tr>\n",
       "    <tr>\n",
       "      <th>3</th>\n",
       "      <td>operating</td>\n",
       "      <td>1.52</td>\n",
       "      <td>1.00</td>\n",
       "      <td>28621</td>\n",
       "    </tr>\n",
       "  </tbody>\n",
       "</table>\n",
       "</div>"
      ],
      "text/plain": [
       "      status  mean_rounds  median_rounds  companies_count\n",
       "0   acquired         0.53           0.00             9537\n",
       "1     closed         1.38           1.00             2092\n",
       "2        ipo         1.93           1.00              640\n",
       "3  operating         1.52           1.00            28621"
      ]
     },
     "metadata": {},
     "output_type": "display_data"
    }
   ],
   "source": [
    "# Сгруппируем по статусу и посчитаем среднее по раундам, мединану и количество компаний\n",
    "rounds_by_status = df.groupby('status')['funding_rounds'].agg(\n",
    "    ['mean', 'median', 'count']).reset_index()\n",
    "\n",
    "# Присвоим столбцам названия\n",
    "rounds_by_status.columns = ['status', 'mean_rounds', 'median_rounds', 'companies_count']\n",
    "\n",
    "# Выведем результат\n",
    "display(rounds_by_status)"
   ]
  },
  {
   "cell_type": "code",
   "execution_count": 88,
   "metadata": {},
   "outputs": [
    {
     "data": {
      "image/png": "[encoded data removed]",
      "text/plain": [
       "<Figure size 864x432 with 1 Axes>"
      ]
     },
     "metadata": {
      "needs_background": "light"
     },
     "output_type": "display_data"
    }
   ],
   "source": [
    "# Визуализируем данные\n",
    "rounds_by_status.sort_values('mean_rounds', ascending=False).plot.bar(\n",
    "                             x='status', \n",
    "                             y='mean_rounds',\n",
    "                             rot=0,\n",
    "                             figsize=(12, 6),\n",
    "                             legend=False\n",
    ")\n",
    "\n",
    "# Настраиваем оформление графика\n",
    "plt.title('Среднее количество раундов финансирования по статусам компаний шт.')\n",
    "plt.xlabel('Статус')\n",
    "plt.ylabel('Среднее количество раундов')\n",
    "\n",
    "# Добавляем сетку графика\n",
    "plt.grid(axis='y')\n",
    "\n",
    "# Выводим график\n",
    "plt.show()"
   ]
  },
  {
   "cell_type": "code",
   "execution_count": 89,
   "metadata": {},
   "outputs": [
    {
     "data": {
      "image/png": "[encoded data removed]",
      "text/plain": [
       "<Figure size 720x432 with 1 Axes>"
      ]
     },
     "metadata": {
      "needs_background": "light"
     },
     "output_type": "display_data"
    }
   ],
   "source": [
    "# Визуализируем данные\n",
    "plt.figure(figsize=(10,6))\n",
    "\n",
    "sns.boxplot(\n",
    "    data=df,\n",
    "    x='status',\n",
    "    y='funding_rounds',\n",
    "    showfliers=False\n",
    ")\n",
    "\n",
    "# Настраиваем оформление графика\n",
    "plt.title('Распределение раундов по статусам (без выбросов)')\n",
    "plt.ylabel('Количество раундов (шт.)')\n",
    "plt.xlabel('Статус компании')\n",
    "plt.grid(axis='y')\n",
    "\n",
    "# Выведем график\n",
    "plt.show()"
   ]
  },
  {
   "cell_type": "markdown",
   "metadata": {},
   "source": [
    "Типичные значения:\n",
    "- большинство компаний проходит только 1 раунд (медианна 1)\n",
    "- категория operating большинство стартапов проходят от 1 до 2 раундов, небольшая часть стартапов проходит 3 раунда\n",
    "- категория acquired, большинство стартапов проходят 1 раунд\n",
    "- категория closed, стартапы, которые закрылись почти не доходят дальше 1 раунда\n",
    "- категория ipo, наибольший разброс среди всех категорий, большинство стартапов от 1 до 3 раундов, часть до 6 раундов.\n",
    "\n",
    "Выводы: компании с 2 раундами финансирования имеют больше шансов на успех и остаться на плаву. "
   ]
  },
  {
   "cell_type": "markdown",
   "metadata": {
    "id": "VAFEZ2HBrJg3"
   },
   "source": [
    "\n",
    "## Шаг 4. Итоговый вывод и рекомендации\n",
    "\n",
    "Опишите, что было сделано в проекте, какие были сделаны выводы, подкрепляют ли они друг друга или заставляют сомневаться в полученных результатах."
   ]
  },
  {
   "cell_type": "markdown",
   "metadata": {},
   "source": [
    "Были загружены данные 7 датасетов, в которых содержалась информация о стартапах, раундах финансирования, информация о покупках, о персонале, информация об образовании персонала.\n",
    "\n",
    "Для дальнейшего анализа мы провели работу по предобработке данных:\n",
    "- проверили названия столбцов датафрейма и привели их к виду snake case\n",
    "- проверили тип данных столбцов и привели их к нужному типу\n",
    "  - столбец acquired_at, founded_at, closed_at, funded_at из формата object привести к формату datetime64\n",
    "- изучены пропуски в данных\n",
    "- проверили данные на наличие явных дубликатов и удалили их\n",
    "\n",
    "Провели исследовательский анализ данных:\n",
    "- составили сводную таблицу по годам на основании года финансирования и получили типичный размер финансирования раунда \n",
    "- проверили зависимость полноты сведений об образовании сотрудников от размера компании\n",
    "- проверили, подходит ли для объединения данных столбец `network_username`\n",
    "- разбили датасет company_and_rounds на два логичных датасета\n",
    "- объединили новый датасет с датасетом с информвацией о покупках одних компаний другими\n",
    "- оценили типичный размер финансирования \n",
    "- провели анализ компаний купленных за 1 лил 0 долларов\n",
    "- выделили категории стартапов с типично высокими ценами и разбросом цен\n",
    "- определили типичное количество раундов для каждого статуса стартапа\n",
    "\n",
    "#### Итоговые выводы и рекомендации:\n",
    "Типичный размер инвестиций до 5,6 млн. долл.\n",
    "Категории стартапов с высокими ценами и разбросом цен: manufacturing и biotech. Категория Manufacturing имеет высокую медианную цену и соответсвенно высокую доходность, но требует крупных вложений. \n",
    "Компании с 2+ раундами имеют статистически более высокие шансы на успех. Оптимальный диапазон: 2-3 раунда, не стоит рассматривать компании категории Operating с 0 раундами и IPO-кандидаты с 1 раундом. 85% стартапов категории \"operating\" с 2+ раундами остаются на рынке."
   ]
  }
 ],
 "metadata": {
  "ExecuteTimeLog": [
   {
    "duration": 1200,
    "start_time": "2025-03-28T14:10:25.570Z"
   },
   {
    "duration": 3742,
    "start_time": "2025-03-28T14:10:26.772Z"
   },
   {
    "duration": 12,
    "start_time": "2025-03-28T14:10:30.516Z"
   },
   {
    "duration": 88,
    "start_time": "2025-03-28T14:10:30.530Z"
   },
   {
    "duration": 96,
    "start_time": "2025-03-28T14:10:30.620Z"
   },
   {
    "duration": 25,
    "start_time": "2025-03-28T14:10:30.718Z"
   },
   {
    "duration": 52,
    "start_time": "2025-03-28T14:10:30.745Z"
   },
   {
    "duration": 9,
    "start_time": "2025-03-28T14:10:30.798Z"
   },
   {
    "duration": 19,
    "start_time": "2025-03-28T14:10:30.808Z"
   },
   {
    "duration": 42,
    "start_time": "2025-03-28T14:10:30.829Z"
   },
   {
    "duration": 76,
    "start_time": "2025-03-28T14:10:30.873Z"
   },
   {
    "duration": 8,
    "start_time": "2025-03-28T14:10:30.950Z"
   },
   {
    "duration": 46,
    "start_time": "2025-03-28T14:10:30.959Z"
   },
   {
    "duration": 5,
    "start_time": "2025-03-28T14:10:31.007Z"
   },
   {
    "duration": 80,
    "start_time": "2025-03-28T14:10:31.014Z"
   },
   {
    "duration": 156,
    "start_time": "2025-03-28T14:10:31.096Z"
   },
   {
    "duration": 20,
    "start_time": "2025-03-28T14:10:31.254Z"
   },
   {
    "duration": 6,
    "start_time": "2025-03-28T14:10:31.276Z"
   },
   {
    "duration": 6,
    "start_time": "2025-03-28T14:10:31.284Z"
   },
   {
    "duration": 94,
    "start_time": "2025-03-28T14:10:31.292Z"
   },
   {
    "duration": 80,
    "start_time": "2025-03-28T14:10:31.388Z"
   },
   {
    "duration": 35,
    "start_time": "2025-03-28T14:10:31.469Z"
   },
   {
    "duration": 58,
    "start_time": "2025-03-28T14:10:31.506Z"
   },
   {
    "duration": 19,
    "start_time": "2025-03-28T14:10:31.568Z"
   },
   {
    "duration": 15,
    "start_time": "2025-03-28T14:10:31.589Z"
   },
   {
    "duration": 22,
    "start_time": "2025-03-28T14:10:31.606Z"
   },
   {
    "duration": 42,
    "start_time": "2025-03-28T14:10:31.629Z"
   },
   {
    "duration": 118,
    "start_time": "2025-03-28T14:10:31.674Z"
   },
   {
    "duration": 172,
    "start_time": "2025-03-28T14:10:31.794Z"
   },
   {
    "duration": 167,
    "start_time": "2025-03-28T14:10:31.967Z"
   },
   {
    "duration": 78,
    "start_time": "2025-03-28T14:10:32.135Z"
   },
   {
    "duration": 60,
    "start_time": "2025-03-28T14:10:32.215Z"
   },
   {
    "duration": 329,
    "start_time": "2025-03-28T14:10:32.276Z"
   },
   {
    "duration": 4487,
    "start_time": "2025-03-28T14:10:32.606Z"
   },
   {
    "duration": 12,
    "start_time": "2025-03-28T14:10:37.094Z"
   },
   {
    "duration": 53,
    "start_time": "2025-03-28T14:10:37.107Z"
   },
   {
    "duration": 44,
    "start_time": "2025-03-28T14:10:37.162Z"
   },
   {
    "duration": 885,
    "start_time": "2025-03-28T14:10:37.208Z"
   },
   {
    "duration": 108,
    "start_time": "2025-03-28T14:10:38.095Z"
   },
   {
    "duration": 62,
    "start_time": "2025-03-28T14:10:38.205Z"
   },
   {
    "duration": 59,
    "start_time": "2025-03-28T14:10:38.269Z"
   },
   {
    "duration": 61,
    "start_time": "2025-03-28T14:10:38.330Z"
   },
   {
    "duration": 98,
    "start_time": "2025-03-28T14:10:38.394Z"
   },
   {
    "duration": 124,
    "start_time": "2025-03-28T14:10:38.494Z"
   },
   {
    "duration": 284,
    "start_time": "2025-03-28T14:10:38.619Z"
   },
   {
    "duration": 486,
    "start_time": "2025-03-28T14:10:38.905Z"
   },
   {
    "duration": 52,
    "start_time": "2025-03-28T14:10:39.393Z"
   },
   {
    "duration": 78,
    "start_time": "2025-03-28T14:10:39.457Z"
   },
   {
    "duration": 9,
    "start_time": "2025-03-28T14:13:20.102Z"
   },
   {
    "duration": 1229,
    "start_time": "2025-04-01T17:28:08.982Z"
   },
   {
    "duration": 1988,
    "start_time": "2025-04-01T17:28:10.213Z"
   },
   {
    "duration": 13,
    "start_time": "2025-04-01T17:28:12.202Z"
   },
   {
    "duration": 13,
    "start_time": "2025-04-01T17:28:12.217Z"
   },
   {
    "duration": 116,
    "start_time": "2025-04-01T17:28:12.231Z"
   },
   {
    "duration": 25,
    "start_time": "2025-04-01T17:28:12.349Z"
   },
   {
    "duration": 61,
    "start_time": "2025-04-01T17:28:12.375Z"
   },
   {
    "duration": 9,
    "start_time": "2025-04-01T17:28:12.437Z"
   },
   {
    "duration": 20,
    "start_time": "2025-04-01T17:28:12.448Z"
   },
   {
    "duration": 7,
    "start_time": "2025-04-01T17:28:12.470Z"
   },
   {
    "duration": 24,
    "start_time": "2025-04-01T17:28:12.506Z"
   },
   {
    "duration": 8,
    "start_time": "2025-04-01T17:28:12.532Z"
   },
   {
    "duration": 8,
    "start_time": "2025-04-01T17:28:12.542Z"
   },
   {
    "duration": 169,
    "start_time": "2025-04-01T17:28:12.553Z"
   },
   {
    "duration": 2847,
    "start_time": "2025-04-01T17:28:12.723Z"
   },
   {
    "duration": 114,
    "start_time": "2025-04-01T17:28:15.573Z"
   },
   {
    "duration": 104,
    "start_time": "2025-04-01T17:47:12.604Z"
   },
   {
    "duration": 1248,
    "start_time": "2025-04-01T17:47:25.752Z"
   },
   {
    "duration": 1819,
    "start_time": "2025-04-01T17:47:27.002Z"
   },
   {
    "duration": 14,
    "start_time": "2025-04-01T17:47:28.823Z"
   },
   {
    "duration": 13,
    "start_time": "2025-04-01T17:47:28.839Z"
   },
   {
    "duration": 126,
    "start_time": "2025-04-01T17:47:28.854Z"
   },
   {
    "duration": 34,
    "start_time": "2025-04-01T17:47:28.982Z"
   },
   {
    "duration": 45,
    "start_time": "2025-04-01T17:47:29.018Z"
   },
   {
    "duration": 9,
    "start_time": "2025-04-01T17:47:29.065Z"
   },
   {
    "duration": 57,
    "start_time": "2025-04-01T17:47:29.076Z"
   },
   {
    "duration": 10,
    "start_time": "2025-04-01T17:47:29.137Z"
   },
   {
    "duration": 27,
    "start_time": "2025-04-01T17:47:29.148Z"
   },
   {
    "duration": 31,
    "start_time": "2025-04-01T17:47:29.176Z"
   },
   {
    "duration": 10,
    "start_time": "2025-04-01T17:47:29.209Z"
   },
   {
    "duration": 172,
    "start_time": "2025-04-01T17:47:29.221Z"
   },
   {
    "duration": 2812,
    "start_time": "2025-04-01T17:47:29.395Z"
   },
   {
    "duration": 119,
    "start_time": "2025-04-01T17:47:32.209Z"
   },
   {
    "duration": 47,
    "start_time": "2025-04-01T17:47:32.330Z"
   },
   {
    "duration": 6,
    "start_time": "2025-04-01T17:47:32.378Z"
   },
   {
    "duration": 14,
    "start_time": "2025-04-01T17:47:32.406Z"
   },
   {
    "duration": 174,
    "start_time": "2025-04-01T17:47:32.422Z"
   },
   {
    "duration": 25,
    "start_time": "2025-04-01T17:47:32.598Z"
   },
   {
    "duration": 17,
    "start_time": "2025-04-01T17:47:32.625Z"
   },
   {
    "duration": 9,
    "start_time": "2025-04-01T17:47:32.643Z"
   },
   {
    "duration": 8,
    "start_time": "2025-04-01T17:47:32.653Z"
   },
   {
    "duration": 104,
    "start_time": "2025-04-01T17:47:32.663Z"
   },
   {
    "duration": 91,
    "start_time": "2025-04-01T17:47:32.770Z"
   },
   {
    "duration": 44,
    "start_time": "2025-04-01T17:47:32.863Z"
   },
   {
    "duration": 38,
    "start_time": "2025-04-01T17:47:32.947Z"
   },
   {
    "duration": 25,
    "start_time": "2025-04-01T17:47:32.987Z"
   },
   {
    "duration": 16,
    "start_time": "2025-04-01T17:47:33.015Z"
   },
   {
    "duration": 25,
    "start_time": "2025-04-01T17:47:33.033Z"
   },
   {
    "duration": 48,
    "start_time": "2025-04-01T17:47:33.060Z"
   },
   {
    "duration": 5,
    "start_time": "2025-04-01T17:47:33.109Z"
   },
   {
    "duration": 1631,
    "start_time": "2025-04-01T17:47:33.115Z"
   },
   {
    "duration": 1801,
    "start_time": "2025-04-01T17:47:34.748Z"
   },
   {
    "duration": 2414,
    "start_time": "2025-04-01T17:47:36.551Z"
   },
   {
    "duration": 71,
    "start_time": "2025-04-01T17:47:38.967Z"
   },
   {
    "duration": 252,
    "start_time": "2025-04-01T17:47:39.040Z"
   },
   {
    "duration": 170,
    "start_time": "2025-04-01T17:47:39.294Z"
   },
   {
    "duration": 205,
    "start_time": "2025-04-01T17:47:39.465Z"
   },
   {
    "duration": 3188,
    "start_time": "2025-04-01T17:47:39.672Z"
   },
   {
    "duration": 386,
    "start_time": "2025-04-01T17:47:42.862Z"
   },
   {
    "duration": 438,
    "start_time": "2025-04-01T17:47:43.250Z"
   },
   {
    "duration": 84,
    "start_time": "2025-04-01T17:47:43.690Z"
   },
   {
    "duration": 70,
    "start_time": "2025-04-01T17:47:43.776Z"
   },
   {
    "duration": 334,
    "start_time": "2025-04-01T17:47:43.848Z"
   },
   {
    "duration": 148,
    "start_time": "2025-04-01T17:47:44.184Z"
   },
   {
    "duration": 12,
    "start_time": "2025-04-01T17:47:44.334Z"
   },
   {
    "duration": 67,
    "start_time": "2025-04-01T17:47:44.348Z"
   },
   {
    "duration": 51,
    "start_time": "2025-04-01T17:47:44.417Z"
   },
   {
    "duration": 918,
    "start_time": "2025-04-01T17:47:44.470Z"
   },
   {
    "duration": 109,
    "start_time": "2025-04-01T17:47:45.389Z"
   },
   {
    "duration": 88,
    "start_time": "2025-04-01T17:47:45.506Z"
   },
   {
    "duration": 12,
    "start_time": "2025-04-01T17:47:45.596Z"
   },
   {
    "duration": 35,
    "start_time": "2025-04-01T17:47:45.610Z"
   },
   {
    "duration": 188,
    "start_time": "2025-04-01T17:47:45.647Z"
   },
   {
    "duration": 88,
    "start_time": "2025-04-01T17:47:45.837Z"
   },
   {
    "duration": 143,
    "start_time": "2025-04-01T17:47:45.927Z"
   },
   {
    "duration": 261,
    "start_time": "2025-04-01T17:47:46.072Z"
   },
   {
    "duration": 384,
    "start_time": "2025-04-01T17:47:46.335Z"
   },
   {
    "duration": 58,
    "start_time": "2025-04-01T17:47:46.722Z"
   },
   {
    "duration": 110,
    "start_time": "2025-04-01T17:47:46.782Z"
   },
   {
    "duration": 16,
    "start_time": "2025-04-01T17:47:46.894Z"
   },
   {
    "duration": 119,
    "start_time": "2025-04-01T17:47:46.912Z"
   },
   {
    "duration": 135,
    "start_time": "2025-04-01T17:47:47.033Z"
   },
   {
    "duration": 73,
    "start_time": "2025-04-01T17:47:47.170Z"
   },
   {
    "duration": 142,
    "start_time": "2025-04-01T17:47:47.245Z"
   },
   {
    "duration": 19,
    "start_time": "2025-04-01T17:47:47.389Z"
   },
   {
    "duration": 11,
    "start_time": "2025-04-01T17:47:47.410Z"
   },
   {
    "duration": 227,
    "start_time": "2025-04-01T17:47:47.423Z"
   },
   {
    "duration": 189,
    "start_time": "2025-04-01T17:47:47.651Z"
   },
   {
    "duration": 154,
    "start_time": "2025-04-01T17:47:47.842Z"
   },
   {
    "duration": 15,
    "start_time": "2025-04-01T17:47:47.998Z"
   },
   {
    "duration": 22,
    "start_time": "2025-04-01T17:47:48.014Z"
   },
   {
    "duration": 9,
    "start_time": "2025-04-01T17:47:48.037Z"
   },
   {
    "duration": 16,
    "start_time": "2025-04-01T17:47:48.048Z"
   },
   {
    "duration": 65,
    "start_time": "2025-04-01T17:47:48.066Z"
   },
   {
    "duration": 8,
    "start_time": "2025-04-01T17:47:48.133Z"
   },
   {
    "duration": 80,
    "start_time": "2025-04-01T17:47:48.143Z"
   },
   {
    "duration": 10,
    "start_time": "2025-04-01T17:47:48.225Z"
   },
   {
    "duration": 9,
    "start_time": "2025-04-01T17:47:48.237Z"
   },
   {
    "duration": 8,
    "start_time": "2025-04-01T17:47:48.253Z"
   },
   {
    "duration": 45,
    "start_time": "2025-04-01T17:47:48.263Z"
   },
   {
    "duration": 7,
    "start_time": "2025-04-01T17:47:48.309Z"
   },
   {
    "duration": 15,
    "start_time": "2025-04-01T17:47:48.317Z"
   },
   {
    "duration": 14,
    "start_time": "2025-04-01T17:47:48.334Z"
   },
   {
    "duration": 195,
    "start_time": "2025-04-01T17:47:48.350Z"
   },
   {
    "duration": 190,
    "start_time": "2025-04-01T17:47:48.547Z"
   },
   {
    "duration": 8,
    "start_time": "2025-04-01T17:48:42.038Z"
   },
   {
    "duration": 50,
    "start_time": "2025-04-02T07:20:58.835Z"
   },
   {
    "duration": 1313,
    "start_time": "2025-04-02T07:21:24.380Z"
   },
   {
    "duration": 2107,
    "start_time": "2025-04-02T07:21:25.695Z"
   },
   {
    "duration": 12,
    "start_time": "2025-04-02T07:21:27.803Z"
   },
   {
    "duration": 23,
    "start_time": "2025-04-02T07:21:27.817Z"
   },
   {
    "duration": 104,
    "start_time": "2025-04-02T07:21:27.841Z"
   },
   {
    "duration": 28,
    "start_time": "2025-04-02T07:21:27.947Z"
   },
   {
    "duration": 38,
    "start_time": "2025-04-02T07:21:27.977Z"
   },
   {
    "duration": 8,
    "start_time": "2025-04-02T07:21:28.017Z"
   },
   {
    "duration": 48,
    "start_time": "2025-04-02T07:21:28.026Z"
   },
   {
    "duration": 8,
    "start_time": "2025-04-02T07:21:28.076Z"
   },
   {
    "duration": 23,
    "start_time": "2025-04-02T07:21:28.086Z"
   },
   {
    "duration": 7,
    "start_time": "2025-04-02T07:21:28.111Z"
   },
   {
    "duration": 8209,
    "start_time": "2025-04-02T07:21:28.120Z"
   },
   {
    "duration": 181,
    "start_time": "2025-04-02T07:21:36.330Z"
   },
   {
    "duration": 2834,
    "start_time": "2025-04-02T07:21:36.512Z"
   },
   {
    "duration": 116,
    "start_time": "2025-04-02T07:21:39.347Z"
   },
   {
    "duration": 45,
    "start_time": "2025-04-02T07:21:39.465Z"
   },
   {
    "duration": 6,
    "start_time": "2025-04-02T07:21:39.512Z"
   },
   {
    "duration": 36,
    "start_time": "2025-04-02T07:21:39.519Z"
   },
   {
    "duration": 164,
    "start_time": "2025-04-02T07:21:39.557Z"
   },
   {
    "duration": 33,
    "start_time": "2025-04-02T07:21:39.723Z"
   },
   {
    "duration": 3,
    "start_time": "2025-04-02T07:21:39.757Z"
   },
   {
    "duration": 6,
    "start_time": "2025-04-02T07:21:39.762Z"
   },
   {
    "duration": 7,
    "start_time": "2025-04-02T07:21:39.770Z"
   },
   {
    "duration": 91,
    "start_time": "2025-04-02T07:21:39.778Z"
   },
   {
    "duration": 72,
    "start_time": "2025-04-02T07:21:39.871Z"
   },
   {
    "duration": 40,
    "start_time": "2025-04-02T07:21:39.955Z"
   },
   {
    "duration": 36,
    "start_time": "2025-04-02T07:21:40.057Z"
   },
   {
    "duration": 12,
    "start_time": "2025-04-02T07:21:40.094Z"
   },
   {
    "duration": 17,
    "start_time": "2025-04-02T07:21:40.107Z"
   },
   {
    "duration": 35,
    "start_time": "2025-04-02T07:21:40.126Z"
   },
   {
    "duration": 70,
    "start_time": "2025-04-02T07:21:40.163Z"
   },
   {
    "duration": 2812,
    "start_time": "2025-04-02T07:21:40.234Z"
   },
   {
    "duration": 1582,
    "start_time": "2025-04-02T07:21:43.048Z"
   },
   {
    "duration": 1738,
    "start_time": "2025-04-02T07:21:44.632Z"
   },
   {
    "duration": 2228,
    "start_time": "2025-04-02T07:21:46.373Z"
   },
   {
    "duration": 67,
    "start_time": "2025-04-02T07:21:48.603Z"
   },
   {
    "duration": 260,
    "start_time": "2025-04-02T07:21:48.672Z"
   },
   {
    "duration": 165,
    "start_time": "2025-04-02T07:21:48.934Z"
   },
   {
    "duration": 195,
    "start_time": "2025-04-02T07:21:49.101Z"
   },
   {
    "duration": 3108,
    "start_time": "2025-04-02T07:21:49.298Z"
   },
   {
    "duration": 610,
    "start_time": "2025-04-02T07:21:52.407Z"
   },
   {
    "duration": 405,
    "start_time": "2025-04-02T07:21:53.019Z"
   },
   {
    "duration": 85,
    "start_time": "2025-04-02T07:21:53.425Z"
   },
   {
    "duration": 58,
    "start_time": "2025-04-02T07:21:53.511Z"
   },
   {
    "duration": 307,
    "start_time": "2025-04-02T07:21:53.570Z"
   },
   {
    "duration": 162,
    "start_time": "2025-04-02T07:21:53.879Z"
   },
   {
    "duration": 21,
    "start_time": "2025-04-02T07:21:54.042Z"
   },
   {
    "duration": 41,
    "start_time": "2025-04-02T07:21:54.064Z"
   },
   {
    "duration": 62,
    "start_time": "2025-04-02T07:21:54.106Z"
   },
   {
    "duration": 830,
    "start_time": "2025-04-02T07:21:54.169Z"
   },
   {
    "duration": 116,
    "start_time": "2025-04-02T07:21:55.000Z"
   },
   {
    "duration": 95,
    "start_time": "2025-04-02T07:21:55.118Z"
   },
   {
    "duration": 3,
    "start_time": "2025-04-02T07:21:55.215Z"
   },
   {
    "duration": 50,
    "start_time": "2025-04-02T07:21:55.220Z"
   },
   {
    "duration": 182,
    "start_time": "2025-04-02T07:21:55.272Z"
   },
   {
    "duration": 76,
    "start_time": "2025-04-02T07:21:55.456Z"
   },
   {
    "duration": 150,
    "start_time": "2025-04-02T07:21:55.533Z"
   },
   {
    "duration": 232,
    "start_time": "2025-04-02T07:21:55.685Z"
   },
   {
    "duration": 387,
    "start_time": "2025-04-02T07:21:55.919Z"
   },
   {
    "duration": 67,
    "start_time": "2025-04-02T07:21:56.307Z"
   },
   {
    "duration": 92,
    "start_time": "2025-04-02T07:21:56.376Z"
   },
   {
    "duration": 11,
    "start_time": "2025-04-02T07:21:56.469Z"
   },
   {
    "duration": 55,
    "start_time": "2025-04-02T07:21:56.481Z"
   },
   {
    "duration": 132,
    "start_time": "2025-04-02T07:21:56.538Z"
   },
   {
    "duration": 62,
    "start_time": "2025-04-02T07:21:56.671Z"
   },
   {
    "duration": 101,
    "start_time": "2025-04-02T07:21:56.735Z"
   },
   {
    "duration": 25,
    "start_time": "2025-04-02T07:21:56.838Z"
   },
   {
    "duration": 10,
    "start_time": "2025-04-02T07:21:56.864Z"
   },
   {
    "duration": 219,
    "start_time": "2025-04-02T07:21:56.876Z"
   },
   {
    "duration": 149,
    "start_time": "2025-04-02T07:21:57.096Z"
   },
   {
    "duration": 149,
    "start_time": "2025-04-02T07:21:57.247Z"
   },
   {
    "duration": 9,
    "start_time": "2025-04-02T07:21:57.398Z"
   },
   {
    "duration": 127,
    "start_time": "2025-04-02T07:21:57.409Z"
   },
   {
    "duration": 0,
    "start_time": "2025-04-02T07:21:57.538Z"
   },
   {
    "duration": 0,
    "start_time": "2025-04-02T07:21:57.539Z"
   },
   {
    "duration": 0,
    "start_time": "2025-04-02T07:21:57.541Z"
   },
   {
    "duration": 0,
    "start_time": "2025-04-02T07:21:57.554Z"
   },
   {
    "duration": 0,
    "start_time": "2025-04-02T07:21:57.555Z"
   },
   {
    "duration": 0,
    "start_time": "2025-04-02T07:21:57.556Z"
   },
   {
    "duration": 0,
    "start_time": "2025-04-02T07:21:57.558Z"
   },
   {
    "duration": 0,
    "start_time": "2025-04-02T07:21:57.559Z"
   },
   {
    "duration": 0,
    "start_time": "2025-04-02T07:21:57.560Z"
   },
   {
    "duration": 0,
    "start_time": "2025-04-02T07:21:57.560Z"
   },
   {
    "duration": 0,
    "start_time": "2025-04-02T07:21:57.562Z"
   },
   {
    "duration": 0,
    "start_time": "2025-04-02T07:21:57.563Z"
   },
   {
    "duration": 0,
    "start_time": "2025-04-02T07:21:57.564Z"
   },
   {
    "duration": 0,
    "start_time": "2025-04-02T07:21:57.565Z"
   },
   {
    "duration": 0,
    "start_time": "2025-04-02T07:21:57.566Z"
   },
   {
    "duration": 21,
    "start_time": "2025-04-02T07:22:27.816Z"
   },
   {
    "duration": 9,
    "start_time": "2025-04-02T07:22:27.968Z"
   },
   {
    "duration": 15,
    "start_time": "2025-04-02T07:22:28.111Z"
   },
   {
    "duration": 27,
    "start_time": "2025-04-02T07:22:28.685Z"
   },
   {
    "duration": 9,
    "start_time": "2025-04-02T07:22:28.748Z"
   },
   {
    "duration": 58,
    "start_time": "2025-04-02T07:22:28.925Z"
   },
   {
    "duration": 8,
    "start_time": "2025-04-02T07:22:28.985Z"
   },
   {
    "duration": 9,
    "start_time": "2025-04-02T07:22:29.019Z"
   },
   {
    "duration": 10,
    "start_time": "2025-04-02T07:22:29.088Z"
   },
   {
    "duration": 16,
    "start_time": "2025-04-02T07:22:29.149Z"
   },
   {
    "duration": 6,
    "start_time": "2025-04-02T07:22:29.305Z"
   },
   {
    "duration": 10,
    "start_time": "2025-04-02T07:22:29.335Z"
   },
   {
    "duration": 14,
    "start_time": "2025-04-02T07:22:29.385Z"
   },
   {
    "duration": 154,
    "start_time": "2025-04-02T07:22:29.414Z"
   },
   {
    "duration": 177,
    "start_time": "2025-04-02T07:22:29.570Z"
   }
  ],
  "colab": {
   "provenance": []
  },
  "kernelspec": {
   "display_name": "Python [conda env:base] *",
   "language": "python",
   "name": "conda-base-py"
  },
  "language_info": {
   "codemirror_mode": {
    "name": "ipython",
    "version": 3
   },
   "file_extension": ".py",
   "mimetype": "text/x-python",
   "name": "python",
   "nbconvert_exporter": "python",
   "pygments_lexer": "ipython3",
   "version": "3.12.3"
  },
  "toc": {
   "base_numbering": 1,
   "nav_menu": {},
   "number_sections": true,
   "sideBar": true,
   "skip_h1_title": true,
   "title_cell": "Table of Contents",
   "title_sidebar": "Contents",
   "toc_cell": false,
   "toc_position": {},
   "toc_section_display": true,
   "toc_window_display": false
  }
 },
 "nbformat": 4,
 "nbformat_minor": 4
}
