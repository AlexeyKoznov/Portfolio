{
 "cells": [
  {
   "cell_type": "markdown",
   "id": "e06910dd",
   "metadata": {
    "id": "e06910dd"
   },
   "source": [
    "# Исследование заведений общественного питания Москвы для Shut Up and Take My Money\n",
    "\n",
    "- Автор: Алексей Кознов\n",
    "- Дата: 12.03.25"
   ]
  },
  {
   "cell_type": "markdown",
   "id": "4149134c",
   "metadata": {
    "id": "4149134c"
   },
   "source": [
    "### Цели и задачи проекта\n",
    "\n",
    "Провести исследовательский анализ датасета с заведениями общественного питания Москвы, чтобы помочь инвесторам из фонда Shut Up and Take My Money выбрать подходящее место для заведения общественного питания, определиться с типом заведения и ценовой политикой.\n",
    "\n",
    "Задачи:\n",
    "1. Загрузить данные и познакомиться с их содержимым.\n",
    "2. Провести предобработку данных.\n",
    "3. Провести исследовательский анализ данных.\n",
    "4. Сформулировать выводы по проведённому анализу."
   ]
  },
  {
   "cell_type": "markdown",
   "id": "728986ea",
   "metadata": {
    "id": "728986ea"
   },
   "source": [
    "### Описание данных\n",
    "\n",
    "Для анализа поступили два датасета с заведениями общественного питания Москвы, составленные на основе данных сервисов Яндекс Карты и Яндекс Бизнес на лето 2022 года.\n",
    "\n",
    " - `rest_info.csv` содержит информацию о заведениях общественного питания.\n",
    " - `rest_price.csv` содержит информацию о среднем чеке в заведениях общественного питания.\n",
    " \n",
    "#### Описание датасета `rest_info.csv`\n",
    "- `name` — название заведения;\n",
    "- `address` — адрес заведения;\n",
    "- `district` — административный район, в котором находится заведение, например Центральный административный округ;\n",
    "- `category` — категория заведения, например «кафе», «пиццерия» или «кофейня»;\n",
    "- `hours` — информация о днях и часах работы;\n",
    "- `rating` — рейтинг заведения по оценкам пользователей в Яндекс Картах (высшая оценка — 5.0);\n",
    "- `chain` — число, выраженное 0 или 1, которое показывает, является ли заведение сетевым (для маленьких сетей могут встречаться ошибки):\n",
    "    - `0` — заведение не является сетевым;\n",
    "    - `1` — заведение является сетевым.\n",
    "- `seats` — количество посадочных мест.\n",
    "\n",
    "#### Описание датасета `rest_price.csv`\n",
    "- `price` — категория цен в заведении, например «средние», «ниже среднего», «выше среднего» и так далее;\n",
    "- `avg_bill` — строка, которая хранит среднюю стоимость заказа в виде диапазона, например:\n",
    "\n",
    "   - «Средний счёт: 1000–1500 ₽»;\n",
    "   - «Цена чашки капучино: 130–220 ₽»;\n",
    "   - «Цена бокала пива: 400–600 ₽».\n",
    "    и так далее;\n",
    "    \n",
    "- `middle_avg_bill` — число с оценкой среднего чека, которое указано только для значений из столбца `avg_bill`, начинающихся с подстроки «Средний счёт»:\n",
    "\n",
    "   - Если в строке указан ценовой диапазон из двух значений, в столбец войдёт медиана этих двух значений.\n",
    "   - Если в строке указано одно число — цена без диапазона, то в столбец войдёт это число.\n",
    "   - Если значения нет или оно не начинается с подстроки «Средний счёт», то в столбец ничего не войдёт.\n",
    "\n",
    "- `middle_coffee_cup` — число с оценкой одной чашки капучино, которое указано только для значений из столбца `avg_bill`, начинающихся с подстроки «Цена одной чашки капучино»:\n",
    "\n",
    "   - Если в строке указан ценовой диапазон из двух значений, в столбец войдёт медиана этих двух значений.\n",
    "   - Если в строке указано одно число — цена без диапазона, то в столбец войдёт это число.\n",
    "   - Если значения нет или оно не начинается с подстроки «Цена одной чашки капучино», то в столбец ничего не войдёт."
   ]
  },
  {
   "cell_type": "markdown",
   "id": "4fecaf95",
   "metadata": {
    "id": "4fecaf95"
   },
   "source": [
    "### Содержимое проекта\n",
    "\n",
    "1. Загрузка данных и знакомство с ними\n",
    "2. Предобработка данных\n",
    "3. Исследовательский анализ данных\n",
    "4. Итоговый вывод и рекомендации\n",
    "\n",
    "---"
   ]
  },
  {
   "cell_type": "markdown",
   "id": "6f7d21d6",
   "metadata": {
    "id": "6f7d21d6"
   },
   "source": [
    "## 1. Загрузка данных и знакомство с ними "
   ]
  },
  {
   "cell_type": "code",
   "execution_count": 1,
   "id": "e68c16b9",
   "metadata": {
    "id": "05faf34b"
   },
   "outputs": [
    {
     "name": "stdout",
     "output_type": "stream",
     "text": [
      "Collecting phik\n",
      "  Downloading phik-0.12.4-cp39-cp39-manylinux_2_17_x86_64.manylinux2014_x86_64.whl (686 kB)\n",
      "\u001b[K     |████████████████████████████████| 686 kB 2.1 MB/s eta 0:00:01\n",
      "\u001b[?25hRequirement already satisfied: joblib>=0.14.1 in /opt/conda/lib/python3.9/site-packages (from phik) (1.1.0)\n",
      "Requirement already satisfied: scipy>=1.5.2 in /opt/conda/lib/python3.9/site-packages (from phik) (1.9.1)\n",
      "Requirement already satisfied: pandas>=0.25.1 in /opt/conda/lib/python3.9/site-packages (from phik) (1.2.4)\n",
      "Requirement already satisfied: matplotlib>=2.2.3 in /opt/conda/lib/python3.9/site-packages (from phik) (3.3.4)\n",
      "Requirement already satisfied: numpy>=1.18.0 in /opt/conda/lib/python3.9/site-packages (from phik) (1.21.1)\n",
      "Requirement already satisfied: pyparsing!=2.0.4,!=2.1.2,!=2.1.6,>=2.0.3 in /opt/conda/lib/python3.9/site-packages (from matplotlib>=2.2.3->phik) (2.4.7)\n",
      "Requirement already satisfied: python-dateutil>=2.1 in /opt/conda/lib/python3.9/site-packages (from matplotlib>=2.2.3->phik) (2.8.1)\n",
      "Requirement already satisfied: cycler>=0.10 in /opt/conda/lib/python3.9/site-packages (from matplotlib>=2.2.3->phik) (0.11.0)\n",
      "Requirement already satisfied: pillow>=6.2.0 in /opt/conda/lib/python3.9/site-packages (from matplotlib>=2.2.3->phik) (8.4.0)\n",
      "Requirement already satisfied: kiwisolver>=1.0.1 in /opt/conda/lib/python3.9/site-packages (from matplotlib>=2.2.3->phik) (1.4.4)\n",
      "Requirement already satisfied: pytz>=2017.3 in /opt/conda/lib/python3.9/site-packages (from pandas>=0.25.1->phik) (2021.1)\n",
      "Requirement already satisfied: six>=1.5 in /opt/conda/lib/python3.9/site-packages (from python-dateutil>=2.1->matplotlib>=2.2.3->phik) (1.16.0)\n",
      "Installing collected packages: phik\n",
      "Successfully installed phik-0.12.4\n"
     ]
    }
   ],
   "source": [
    "# Импортируем библиотеки\n",
    "import pandas as pd\n",
    "import numpy as np\n",
    "\n",
    "# Загружаем библиотеки для визуализации данных\n",
    "import matplotlib.pyplot as plt\n",
    "import seaborn as sns\n",
    "\n",
    "# Загружаем библиотеку для расчёта коэффициента корреляции phi_k\n",
    "!pip install phik\n",
    "from phik import phik_matrix"
   ]
  },
  {
   "cell_type": "code",
   "execution_count": 2,
   "id": "ce87c1db",
   "metadata": {
    "id": "ce87c1db"
   },
   "outputs": [],
   "source": [
    "# Выгружаем данные в переменные rest_df и price_df\n",
    "rest_df = pd.read_csv('https://code.s3.yandex.net/datasets/rest_info.csv')\n",
    "price_df = pd.read_csv('https://code.s3.yandex.net/datasets/rest_price.csv')"
   ]
  },
  {
   "cell_type": "markdown",
   "id": "9cb8de81",
   "metadata": {
    "id": "90fee493"
   },
   "source": [
    "Познакомимся с данными датасета `rest_info.csv` — выведем первые строки методом `head()`, а информацию о датафрейме методом `info()`:"
   ]
  },
  {
   "cell_type": "code",
   "execution_count": 3,
   "id": "f68a7419",
   "metadata": {
    "id": "f68a7419",
    "scrolled": true
   },
   "outputs": [
    {
     "data": {
      "text/html": [
       "<div>\n",
       "<style scoped>\n",
       "    .dataframe tbody tr th:only-of-type {\n",
       "        vertical-align: middle;\n",
       "    }\n",
       "\n",
       "    .dataframe tbody tr th {\n",
       "        vertical-align: top;\n",
       "    }\n",
       "\n",
       "    .dataframe thead th {\n",
       "        text-align: right;\n",
       "    }\n",
       "</style>\n",
       "<table border=\"1\" class=\"dataframe\">\n",
       "  <thead>\n",
       "    <tr style=\"text-align: right;\">\n",
       "      <th></th>\n",
       "      <th>id</th>\n",
       "      <th>name</th>\n",
       "      <th>category</th>\n",
       "      <th>address</th>\n",
       "      <th>district</th>\n",
       "      <th>hours</th>\n",
       "      <th>rating</th>\n",
       "      <th>chain</th>\n",
       "      <th>seats</th>\n",
       "    </tr>\n",
       "  </thead>\n",
       "  <tbody>\n",
       "    <tr>\n",
       "      <th>0</th>\n",
       "      <td>0c3e3439a8c64ea5bf6ecd6ca6ae19f0</td>\n",
       "      <td>WoWфли</td>\n",
       "      <td>кафе</td>\n",
       "      <td>Москва, улица Дыбенко, 7/1</td>\n",
       "      <td>Северный административный округ</td>\n",
       "      <td>ежедневно, 10:00–22:00</td>\n",
       "      <td>5.0</td>\n",
       "      <td>0</td>\n",
       "      <td>NaN</td>\n",
       "    </tr>\n",
       "    <tr>\n",
       "      <th>1</th>\n",
       "      <td>045780ada3474c57a2112e505d74b633</td>\n",
       "      <td>Четыре комнаты</td>\n",
       "      <td>ресторан</td>\n",
       "      <td>Москва, улица Дыбенко, 36, корп. 1</td>\n",
       "      <td>Северный административный округ</td>\n",
       "      <td>ежедневно, 10:00–22:00</td>\n",
       "      <td>4.5</td>\n",
       "      <td>0</td>\n",
       "      <td>4.0</td>\n",
       "    </tr>\n",
       "    <tr>\n",
       "      <th>2</th>\n",
       "      <td>1070b6b59144425896c65889347fcff6</td>\n",
       "      <td>Хазри</td>\n",
       "      <td>кафе</td>\n",
       "      <td>Москва, Клязьминская улица, 15</td>\n",
       "      <td>Северный административный округ</td>\n",
       "      <td>пн-чт 11:00–02:00; пт,сб 11:00–05:00; вс 11:00...</td>\n",
       "      <td>4.6</td>\n",
       "      <td>0</td>\n",
       "      <td>45.0</td>\n",
       "    </tr>\n",
       "    <tr>\n",
       "      <th>3</th>\n",
       "      <td>03ac7cd772104f65b58b349dc59f03ee</td>\n",
       "      <td>Dormouse Coffee Shop</td>\n",
       "      <td>кофейня</td>\n",
       "      <td>Москва, улица Маршала Федоренко, 12</td>\n",
       "      <td>Северный административный округ</td>\n",
       "      <td>ежедневно, 09:00–22:00</td>\n",
       "      <td>5.0</td>\n",
       "      <td>0</td>\n",
       "      <td>NaN</td>\n",
       "    </tr>\n",
       "    <tr>\n",
       "      <th>4</th>\n",
       "      <td>a163aada139c4c7f87b0b1c0b466a50f</td>\n",
       "      <td>Иль Марко</td>\n",
       "      <td>пиццерия</td>\n",
       "      <td>Москва, Правобережная улица, 1Б</td>\n",
       "      <td>Северный административный округ</td>\n",
       "      <td>ежедневно, 10:00–22:00</td>\n",
       "      <td>5.0</td>\n",
       "      <td>1</td>\n",
       "      <td>148.0</td>\n",
       "    </tr>\n",
       "  </tbody>\n",
       "</table>\n",
       "</div>"
      ],
      "text/plain": [
       "                                 id                  name  category  \\\n",
       "0  0c3e3439a8c64ea5bf6ecd6ca6ae19f0                WoWфли      кафе   \n",
       "1  045780ada3474c57a2112e505d74b633        Четыре комнаты  ресторан   \n",
       "2  1070b6b59144425896c65889347fcff6                 Хазри      кафе   \n",
       "3  03ac7cd772104f65b58b349dc59f03ee  Dormouse Coffee Shop   кофейня   \n",
       "4  a163aada139c4c7f87b0b1c0b466a50f             Иль Марко  пиццерия   \n",
       "\n",
       "                               address                         district  \\\n",
       "0           Москва, улица Дыбенко, 7/1  Северный административный округ   \n",
       "1   Москва, улица Дыбенко, 36, корп. 1  Северный административный округ   \n",
       "2       Москва, Клязьминская улица, 15  Северный административный округ   \n",
       "3  Москва, улица Маршала Федоренко, 12  Северный административный округ   \n",
       "4      Москва, Правобережная улица, 1Б  Северный административный округ   \n",
       "\n",
       "                                               hours  rating  chain  seats  \n",
       "0                             ежедневно, 10:00–22:00     5.0      0    NaN  \n",
       "1                             ежедневно, 10:00–22:00     4.5      0    4.0  \n",
       "2  пн-чт 11:00–02:00; пт,сб 11:00–05:00; вс 11:00...     4.6      0   45.0  \n",
       "3                             ежедневно, 09:00–22:00     5.0      0    NaN  \n",
       "4                             ежедневно, 10:00–22:00     5.0      1  148.0  "
      ]
     },
     "execution_count": 3,
     "metadata": {},
     "output_type": "execute_result"
    }
   ],
   "source": [
    "# Выводим первые строки датафрейма на экран\n",
    "rest_df.head()"
   ]
  },
  {
   "cell_type": "code",
   "execution_count": 4,
   "id": "76d560dc",
   "metadata": {},
   "outputs": [
    {
     "data": {
      "text/html": [
       "<div>\n",
       "<style scoped>\n",
       "    .dataframe tbody tr th:only-of-type {\n",
       "        vertical-align: middle;\n",
       "    }\n",
       "\n",
       "    .dataframe tbody tr th {\n",
       "        vertical-align: top;\n",
       "    }\n",
       "\n",
       "    .dataframe thead th {\n",
       "        text-align: right;\n",
       "    }\n",
       "</style>\n",
       "<table border=\"1\" class=\"dataframe\">\n",
       "  <thead>\n",
       "    <tr style=\"text-align: right;\">\n",
       "      <th></th>\n",
       "      <th>id</th>\n",
       "      <th>name</th>\n",
       "      <th>category</th>\n",
       "      <th>address</th>\n",
       "      <th>district</th>\n",
       "      <th>hours</th>\n",
       "      <th>rating</th>\n",
       "      <th>chain</th>\n",
       "      <th>seats</th>\n",
       "    </tr>\n",
       "  </thead>\n",
       "  <tbody>\n",
       "    <tr>\n",
       "      <th>8401</th>\n",
       "      <td>0342ad1a45ed41ba89dcba246a8267e5</td>\n",
       "      <td>Суши Мания</td>\n",
       "      <td>кафе</td>\n",
       "      <td>Москва, Профсоюзная улица, 56</td>\n",
       "      <td>Юго-Западный административный округ</td>\n",
       "      <td>ежедневно, 09:00–02:00</td>\n",
       "      <td>4.4</td>\n",
       "      <td>0</td>\n",
       "      <td>86.0</td>\n",
       "    </tr>\n",
       "    <tr>\n",
       "      <th>8402</th>\n",
       "      <td>ee6bb7c3650e47bd8186fca08eda1091</td>\n",
       "      <td>Миславнес</td>\n",
       "      <td>кафе</td>\n",
       "      <td>Москва, Пролетарский проспект, 19, корп. 1</td>\n",
       "      <td>Южный административный округ</td>\n",
       "      <td>ежедневно, 08:00–22:00</td>\n",
       "      <td>4.8</td>\n",
       "      <td>0</td>\n",
       "      <td>150.0</td>\n",
       "    </tr>\n",
       "    <tr>\n",
       "      <th>8403</th>\n",
       "      <td>62e8c64d4c89467aba608e39ef87616b</td>\n",
       "      <td>Самовар</td>\n",
       "      <td>кафе</td>\n",
       "      <td>Москва, Люблинская улица, 112А, стр. 1</td>\n",
       "      <td>Юго-Восточный административный округ</td>\n",
       "      <td>ежедневно, круглосуточно</td>\n",
       "      <td>3.9</td>\n",
       "      <td>0</td>\n",
       "      <td>150.0</td>\n",
       "    </tr>\n",
       "    <tr>\n",
       "      <th>8404</th>\n",
       "      <td>06a0db5ecd4842d48cd6350aa923e297</td>\n",
       "      <td>Чайхана Sabr</td>\n",
       "      <td>кафе</td>\n",
       "      <td>Москва, Люблинская улица, 112А, стр. 1</td>\n",
       "      <td>Юго-Восточный административный округ</td>\n",
       "      <td>ежедневно, круглосуточно</td>\n",
       "      <td>4.2</td>\n",
       "      <td>1</td>\n",
       "      <td>150.0</td>\n",
       "    </tr>\n",
       "    <tr>\n",
       "      <th>8405</th>\n",
       "      <td>9d56f8f7a7f74df1a925bc0fd2de8aae</td>\n",
       "      <td>Kebab Time</td>\n",
       "      <td>кафе</td>\n",
       "      <td>Москва, Россошанский проезд, 6</td>\n",
       "      <td>Южный административный округ</td>\n",
       "      <td>ежедневно, круглосуточно</td>\n",
       "      <td>3.9</td>\n",
       "      <td>0</td>\n",
       "      <td>12.0</td>\n",
       "    </tr>\n",
       "  </tbody>\n",
       "</table>\n",
       "</div>"
      ],
      "text/plain": [
       "                                    id          name category  \\\n",
       "8401  0342ad1a45ed41ba89dcba246a8267e5    Суши Мания     кафе   \n",
       "8402  ee6bb7c3650e47bd8186fca08eda1091     Миславнес     кафе   \n",
       "8403  62e8c64d4c89467aba608e39ef87616b       Самовар     кафе   \n",
       "8404  06a0db5ecd4842d48cd6350aa923e297  Чайхана Sabr     кафе   \n",
       "8405  9d56f8f7a7f74df1a925bc0fd2de8aae    Kebab Time     кафе   \n",
       "\n",
       "                                         address  \\\n",
       "8401               Москва, Профсоюзная улица, 56   \n",
       "8402  Москва, Пролетарский проспект, 19, корп. 1   \n",
       "8403      Москва, Люблинская улица, 112А, стр. 1   \n",
       "8404      Москва, Люблинская улица, 112А, стр. 1   \n",
       "8405              Москва, Россошанский проезд, 6   \n",
       "\n",
       "                                  district                     hours  rating  \\\n",
       "8401   Юго-Западный административный округ    ежедневно, 09:00–02:00     4.4   \n",
       "8402          Южный административный округ    ежедневно, 08:00–22:00     4.8   \n",
       "8403  Юго-Восточный административный округ  ежедневно, круглосуточно     3.9   \n",
       "8404  Юго-Восточный административный округ  ежедневно, круглосуточно     4.2   \n",
       "8405          Южный административный округ  ежедневно, круглосуточно     3.9   \n",
       "\n",
       "      chain  seats  \n",
       "8401      0   86.0  \n",
       "8402      0  150.0  \n",
       "8403      0  150.0  \n",
       "8404      1  150.0  \n",
       "8405      0   12.0  "
      ]
     },
     "execution_count": 4,
     "metadata": {},
     "output_type": "execute_result"
    }
   ],
   "source": [
    "# Выводим последние строки датафрейма на экран\n",
    "rest_df.tail()"
   ]
  },
  {
   "cell_type": "code",
   "execution_count": 5,
   "id": "dd415c80",
   "metadata": {
    "id": "dd415c80",
    "scrolled": true
   },
   "outputs": [
    {
     "name": "stdout",
     "output_type": "stream",
     "text": [
      "<class 'pandas.core.frame.DataFrame'>\n",
      "RangeIndex: 8406 entries, 0 to 8405\n",
      "Data columns (total 9 columns):\n",
      " #   Column    Non-Null Count  Dtype  \n",
      "---  ------    --------------  -----  \n",
      " 0   id        8406 non-null   object \n",
      " 1   name      8406 non-null   object \n",
      " 2   category  8406 non-null   object \n",
      " 3   address   8406 non-null   object \n",
      " 4   district  8406 non-null   object \n",
      " 5   hours     7870 non-null   object \n",
      " 6   rating    8406 non-null   float64\n",
      " 7   chain     8406 non-null   int64  \n",
      " 8   seats     4795 non-null   float64\n",
      "dtypes: float64(2), int64(1), object(6)\n",
      "memory usage: 591.2+ KB\n"
     ]
    }
   ],
   "source": [
    "# Выводим информацию о датафрейме\n",
    "rest_df.info()"
   ]
  },
  {
   "cell_type": "markdown",
   "id": "35509f36",
   "metadata": {
    "id": "3158ad37"
   },
   "source": [
    "Датасет `rest_info.csv` содержит 9 столбцов и 8406 строк, в которых представлена информация о заведениях общественного питания.\n",
    "\n",
    "Изучим данные и их корректность: \n",
    "- Названия столбцов написаны корректно\n",
    "- **Строковые данные (object)** 6 столбцов имеют тип данных object: `id`, `name`, `category`, `address`, `district`, `hours`, по первому анализу первых пяти и последних строк датафрейма тип object подходит.\n",
    "- **Числовые значения с плавающей запятой (float64)** 2 столбца имеют тип float64: `rating`, `seats`. Для `rating` тип float64 подходит, стоит попробовать уменьшить разрядность. А столбец `seats` стоит проверить, посмотреть уникальные значения, скорее всего следует поменять на тип int.\n",
    "- **Целочисленный тип данных (int64)** 1 столбец `chain`. Следует уменьшить разрядность, т.к. столбец содержит значения 1 или 0. \n",
    "- Пропуски содержатся в столбцах `hours` и `seats`.\n",
    "- Судя по первому знакомству с данными, значения в столбцах соответствуют своему описанию.\n",
    "\n",
    "Теперь познакомимся с данными датасета `rest_price.csv`."
   ]
  },
  {
   "cell_type": "code",
   "execution_count": 6,
   "id": "b5cab63f",
   "metadata": {},
   "outputs": [
    {
     "data": {
      "text/html": [
       "<div>\n",
       "<style scoped>\n",
       "    .dataframe tbody tr th:only-of-type {\n",
       "        vertical-align: middle;\n",
       "    }\n",
       "\n",
       "    .dataframe tbody tr th {\n",
       "        vertical-align: top;\n",
       "    }\n",
       "\n",
       "    .dataframe thead th {\n",
       "        text-align: right;\n",
       "    }\n",
       "</style>\n",
       "<table border=\"1\" class=\"dataframe\">\n",
       "  <thead>\n",
       "    <tr style=\"text-align: right;\">\n",
       "      <th></th>\n",
       "      <th>id</th>\n",
       "      <th>price</th>\n",
       "      <th>avg_bill</th>\n",
       "      <th>middle_avg_bill</th>\n",
       "      <th>middle_coffee_cup</th>\n",
       "    </tr>\n",
       "  </thead>\n",
       "  <tbody>\n",
       "    <tr>\n",
       "      <th>0</th>\n",
       "      <td>045780ada3474c57a2112e505d74b633</td>\n",
       "      <td>выше среднего</td>\n",
       "      <td>Средний счёт:1500–1600 ₽</td>\n",
       "      <td>1550.0</td>\n",
       "      <td>NaN</td>\n",
       "    </tr>\n",
       "    <tr>\n",
       "      <th>1</th>\n",
       "      <td>1070b6b59144425896c65889347fcff6</td>\n",
       "      <td>средние</td>\n",
       "      <td>Средний счёт:от 1000 ₽</td>\n",
       "      <td>1000.0</td>\n",
       "      <td>NaN</td>\n",
       "    </tr>\n",
       "    <tr>\n",
       "      <th>2</th>\n",
       "      <td>03ac7cd772104f65b58b349dc59f03ee</td>\n",
       "      <td>NaN</td>\n",
       "      <td>Цена чашки капучино:155–185 ₽</td>\n",
       "      <td>NaN</td>\n",
       "      <td>170.0</td>\n",
       "    </tr>\n",
       "    <tr>\n",
       "      <th>3</th>\n",
       "      <td>a163aada139c4c7f87b0b1c0b466a50f</td>\n",
       "      <td>средние</td>\n",
       "      <td>Средний счёт:400–600 ₽</td>\n",
       "      <td>500.0</td>\n",
       "      <td>NaN</td>\n",
       "    </tr>\n",
       "    <tr>\n",
       "      <th>4</th>\n",
       "      <td>8a343546b24e4a499ad96eb7d0797a8a</td>\n",
       "      <td>средние</td>\n",
       "      <td>NaN</td>\n",
       "      <td>NaN</td>\n",
       "      <td>NaN</td>\n",
       "    </tr>\n",
       "  </tbody>\n",
       "</table>\n",
       "</div>"
      ],
      "text/plain": [
       "                                 id          price  \\\n",
       "0  045780ada3474c57a2112e505d74b633  выше среднего   \n",
       "1  1070b6b59144425896c65889347fcff6        средние   \n",
       "2  03ac7cd772104f65b58b349dc59f03ee            NaN   \n",
       "3  a163aada139c4c7f87b0b1c0b466a50f        средние   \n",
       "4  8a343546b24e4a499ad96eb7d0797a8a        средние   \n",
       "\n",
       "                        avg_bill  middle_avg_bill  middle_coffee_cup  \n",
       "0       Средний счёт:1500–1600 ₽           1550.0                NaN  \n",
       "1         Средний счёт:от 1000 ₽           1000.0                NaN  \n",
       "2  Цена чашки капучино:155–185 ₽              NaN              170.0  \n",
       "3         Средний счёт:400–600 ₽            500.0                NaN  \n",
       "4                            NaN              NaN                NaN  "
      ]
     },
     "execution_count": 6,
     "metadata": {},
     "output_type": "execute_result"
    }
   ],
   "source": [
    "# Выводим первые строки датафрейма на экран\n",
    "price_df.head()"
   ]
  },
  {
   "cell_type": "code",
   "execution_count": 7,
   "id": "da1b97c7",
   "metadata": {},
   "outputs": [
    {
     "data": {
      "text/html": [
       "<div>\n",
       "<style scoped>\n",
       "    .dataframe tbody tr th:only-of-type {\n",
       "        vertical-align: middle;\n",
       "    }\n",
       "\n",
       "    .dataframe tbody tr th {\n",
       "        vertical-align: top;\n",
       "    }\n",
       "\n",
       "    .dataframe thead th {\n",
       "        text-align: right;\n",
       "    }\n",
       "</style>\n",
       "<table border=\"1\" class=\"dataframe\">\n",
       "  <thead>\n",
       "    <tr style=\"text-align: right;\">\n",
       "      <th></th>\n",
       "      <th>id</th>\n",
       "      <th>price</th>\n",
       "      <th>avg_bill</th>\n",
       "      <th>middle_avg_bill</th>\n",
       "      <th>middle_coffee_cup</th>\n",
       "    </tr>\n",
       "  </thead>\n",
       "  <tbody>\n",
       "    <tr>\n",
       "      <th>4053</th>\n",
       "      <td>962800540173458486f3c465437c2d8b</td>\n",
       "      <td>средние</td>\n",
       "      <td>Цена бокала пива:от 140 ₽</td>\n",
       "      <td>NaN</td>\n",
       "      <td>NaN</td>\n",
       "    </tr>\n",
       "    <tr>\n",
       "      <th>4054</th>\n",
       "      <td>4277890d659341848d7051cbf2e51f51</td>\n",
       "      <td>выше среднего</td>\n",
       "      <td>Средний счёт:1000–1500 ₽</td>\n",
       "      <td>1250.0</td>\n",
       "      <td>NaN</td>\n",
       "    </tr>\n",
       "    <tr>\n",
       "      <th>4055</th>\n",
       "      <td>026cbc478f9b4c3294a83458dcd89982</td>\n",
       "      <td>средние</td>\n",
       "      <td>NaN</td>\n",
       "      <td>NaN</td>\n",
       "      <td>NaN</td>\n",
       "    </tr>\n",
       "    <tr>\n",
       "      <th>4056</th>\n",
       "      <td>71cc394927204d45b81c3a91edb47955</td>\n",
       "      <td>NaN</td>\n",
       "      <td>Средний счёт:50–250 ₽</td>\n",
       "      <td>150.0</td>\n",
       "      <td>NaN</td>\n",
       "    </tr>\n",
       "    <tr>\n",
       "      <th>4057</th>\n",
       "      <td>62e8c64d4c89467aba608e39ef87616b</td>\n",
       "      <td>NaN</td>\n",
       "      <td>Средний счёт:от 150 ₽</td>\n",
       "      <td>150.0</td>\n",
       "      <td>NaN</td>\n",
       "    </tr>\n",
       "  </tbody>\n",
       "</table>\n",
       "</div>"
      ],
      "text/plain": [
       "                                    id          price  \\\n",
       "4053  962800540173458486f3c465437c2d8b        средние   \n",
       "4054  4277890d659341848d7051cbf2e51f51  выше среднего   \n",
       "4055  026cbc478f9b4c3294a83458dcd89982        средние   \n",
       "4056  71cc394927204d45b81c3a91edb47955            NaN   \n",
       "4057  62e8c64d4c89467aba608e39ef87616b            NaN   \n",
       "\n",
       "                       avg_bill  middle_avg_bill  middle_coffee_cup  \n",
       "4053  Цена бокала пива:от 140 ₽              NaN                NaN  \n",
       "4054   Средний счёт:1000–1500 ₽           1250.0                NaN  \n",
       "4055                        NaN              NaN                NaN  \n",
       "4056      Средний счёт:50–250 ₽            150.0                NaN  \n",
       "4057      Средний счёт:от 150 ₽            150.0                NaN  "
      ]
     },
     "execution_count": 7,
     "metadata": {},
     "output_type": "execute_result"
    }
   ],
   "source": [
    "# Выводим последние строки датафрейма на экран\n",
    "price_df.tail()"
   ]
  },
  {
   "cell_type": "code",
   "execution_count": 8,
   "id": "fd6abb96",
   "metadata": {},
   "outputs": [
    {
     "name": "stdout",
     "output_type": "stream",
     "text": [
      "<class 'pandas.core.frame.DataFrame'>\n",
      "RangeIndex: 4058 entries, 0 to 4057\n",
      "Data columns (total 5 columns):\n",
      " #   Column             Non-Null Count  Dtype  \n",
      "---  ------             --------------  -----  \n",
      " 0   id                 4058 non-null   object \n",
      " 1   price              3315 non-null   object \n",
      " 2   avg_bill           3816 non-null   object \n",
      " 3   middle_avg_bill    3149 non-null   float64\n",
      " 4   middle_coffee_cup  535 non-null    float64\n",
      "dtypes: float64(2), object(3)\n",
      "memory usage: 158.6+ KB\n"
     ]
    }
   ],
   "source": [
    "# Выводим информацию о датафрейме\n",
    "price_df.info()"
   ]
  },
  {
   "cell_type": "markdown",
   "id": "0158db8f",
   "metadata": {},
   "source": [
    "Датасет `rest_price.csv` содержит 5 столбцов и 4058 строк, в которых представлена информация о среднем чеке в заведениях общественного питания.\n",
    "\n",
    "Изучим данные и их корректность: \n",
    "- Названия столбцов написаны корректно\n",
    "- **Строковые данные (object)** 3 столбца имеют тип данных object: `id`, `price`, `avg_bill`, по первому анализу первых пяти и последних строк датафрейма тип object подходит.\n",
    "- **Числовые значения с плавающей запятой (float64)** 2 столбца имеют тип float64: `middle_avg_bill`, `middle_coffee_cup`. Данный тип не подходит для этих столбцов, его следует заменить на int, но размерность этих данных возможно следует оптимизировать.\n",
    "- Пропуски содержатся во всех столбцах кроме `id`.\n",
    "- Судя по первому знакомству с данными, значения в столбцах соответствуют своему описанию.\n",
    "---"
   ]
  },
  {
   "cell_type": "markdown",
   "id": "8a8d1491",
   "metadata": {
    "id": "8a8d1491"
   },
   "source": [
    "### Подготовка единого датафрейма\n",
    "\n",
    "Задача проекта предполагает анализ различной информации о заведениях питания Москвы. Эти данные разбиты на два датафрейма, в одном информация о заведениях, во втором средний чек этих заведений. Поэтому такие данные удобно соединить в один датафрейм, который можно использовать для поиска закономерностей в данных. Соединять данные будем по идентификатору заведения. При соединении используем метод `left` и оставим все данные из первого датафрейма и только те данные из второго датафрейма, которые соответствуют ключевым значениям в первом датафрейме. Если совпадений нет, значения из второго датафрейма будут заполнены как `NaN`. Использовать `left`, а не `inner` будем, т.к. во втором случае пропадет часть данных в первом даатфрейме о адресе, районе, категории, рейтинге и пр., а они выглядят интереснее для анализа, чем данные из правого датафрема о среднем чеке без названия и адреса."
   ]
  },
  {
   "cell_type": "code",
   "execution_count": 9,
   "id": "3408e303",
   "metadata": {
    "id": "3408e303"
   },
   "outputs": [],
   "source": [
    "# Соединяем данные в единый датафрейм df\n",
    "df = rest_df.merge(price_df, how='left', on='id')"
   ]
  },
  {
   "cell_type": "code",
   "execution_count": 10,
   "id": "5695950b",
   "metadata": {
    "id": "5695950b"
   },
   "outputs": [
    {
     "name": "stdout",
     "output_type": "stream",
     "text": [
      "<class 'pandas.core.frame.DataFrame'>\n",
      "Int64Index: 8406 entries, 0 to 8405\n",
      "Data columns (total 13 columns):\n",
      " #   Column             Non-Null Count  Dtype  \n",
      "---  ------             --------------  -----  \n",
      " 0   id                 8406 non-null   object \n",
      " 1   name               8406 non-null   object \n",
      " 2   category           8406 non-null   object \n",
      " 3   address            8406 non-null   object \n",
      " 4   district           8406 non-null   object \n",
      " 5   hours              7870 non-null   object \n",
      " 6   rating             8406 non-null   float64\n",
      " 7   chain              8406 non-null   int64  \n",
      " 8   seats              4795 non-null   float64\n",
      " 9   price              3315 non-null   object \n",
      " 10  avg_bill           3816 non-null   object \n",
      " 11  middle_avg_bill    3149 non-null   float64\n",
      " 12  middle_coffee_cup  535 non-null    float64\n",
      "dtypes: float64(4), int64(1), object(8)\n",
      "memory usage: 919.4+ KB\n"
     ]
    }
   ],
   "source": [
    "# Выводим информацию о датафрейме\n",
    "df.info()"
   ]
  },
  {
   "cell_type": "markdown",
   "id": "3f2e8360",
   "metadata": {
    "id": "6577c71c"
   },
   "source": [
    "Данные соединены, и информация обо всех заведениях из первого датафрейма сохранилась.\n",
    "\n",
    "---"
   ]
  },
  {
   "cell_type": "markdown",
   "id": "956e82e2",
   "metadata": {
    "id": "956e82e2"
   },
   "source": [
    "## 2. Предобработка данных\n"
   ]
  },
  {
   "cell_type": "markdown",
   "id": "37f39ed4",
   "metadata": {},
   "source": [
    "На этапе знакомства с данными было установлено, что три столбца представленны не корректно. Столбец `seats`, `middle_avg_bill` и `middle_coffee_cup` представлены в формате `float64`, скорее всего это произошло из-за того, что в данных присутствуют пропущенные значения и pandas привел все данные к типу float."
   ]
  },
  {
   "cell_type": "code",
   "execution_count": 11,
   "id": "67956690",
   "metadata": {
    "id": "67956690",
    "scrolled": true
   },
   "outputs": [
    {
     "name": "stdout",
     "output_type": "stream",
     "text": [
      "Уникальные значения в столбце seats:\n",
      "[   0.    1.    2.    3.    4.    5.    6.    7.    8.    9.   10.   12.\n",
      "   13.   14.   15.   16.   17.   18.   19.   20.   21.   22.   24.   25.\n",
      "   26.   27.   28.   29.   30.   32.   33.   34.   35.   36.   37.   38.\n",
      "   39.   40.   41.   42.   43.   44.   45.   46.   47.   48.   49.   50.\n",
      "   51.   52.   53.   54.   55.   56.   58.   60.   61.   62.   63.   64.\n",
      "   65.   66.   67.   68.   69.   70.   72.   74.   75.   76.   77.   78.\n",
      "   79.   80.   81.   82.   83.   84.   85.   86.   87.   88.   90.   92.\n",
      "   93.   94.   95.   96.   97.   98.   99.  100.  102.  104.  105.  106.\n",
      "  107.  108.  110.  112.  113.  114.  115.  116.  118.  120.  122.  124.\n",
      "  125.  126.  127.  128.  130.  131.  132.  133.  135.  138.  140.  141.\n",
      "  143.  144.  145.  146.  147.  148.  150.  151.  154.  155.  157.  158.\n",
      "  159.  160.  161.  164.  165.  166.  167.  168.  170.  173.  174.  175.\n",
      "  176.  178.  180.  184.  185.  187.  188.  189.  190.  192.  195.  198.\n",
      "  200.  202.  206.  208.  210.  212.  214.  215.  217.  220.  225.  226.\n",
      "  228.  229.  230.  232.  236.  239.  240.  245.  246.  247.  250.  252.\n",
      "  266.  268.  270.  273.  275.  276.  280.  286.  287.  290.  295.  300.\n",
      "  305.  306.  307.  308.  310.  320.  326.  330.  343.  350.  356.  380.\n",
      "  398.  400.  420.  428.  430.  450.  455.  478.  480.  481.  491.  495.\n",
      "  500.  585.  600.  625.  644.  650.  660.  675.  760.  920. 1040. 1200.\n",
      " 1288.   nan]\n",
      "\n",
      "Уникальные значения в столбце middle_avg_bill:\n",
      "[    0.    30.    50.    67.    90.   100.   107.   110.   120.   125.\n",
      "   130.   135.   140.   141.   150.   155.   160.   165.   167.   170.\n",
      "   175.   180.   185.   190.   195.   199.   200.   205.   209.   210.\n",
      "   215.   220.   225.   229.   230.   235.   240.   245.   250.   255.\n",
      "   260.   261.   265.   266.   269.   270.   275.   280.   284.   285.\n",
      "   290.   291.   295.   298.   299.   300.   301.   304.   305.   309.\n",
      "   310.   313.   315.   317.   320.   321.   324.   325.   328.   330.\n",
      "   335.   339.   340.   343.   344.   345.   349.   350.   352.   355.\n",
      "   360.   362.   363.   365.   366.   370.   372.   373.   374.   375.\n",
      "   382.   383.   385.   387.   390.   391.   392.   395.   399.   400.\n",
      "   402.   404.   407.   410.   411.   412.   413.   415.   416.   420.\n",
      "   422.   425.   426.   430.   432.   433.   434.   435.   438.   439.\n",
      "   440.   441.   443.   445.   450.   453.   465.   470.   472.   475.\n",
      "   480.   482.   490.   495.   499.   500.   503.   508.   510.   525.\n",
      "   545.   549.   550.   560.   575.   599.   600.   620.   625.   630.\n",
      "   650.   660.   670.   675.   695.   700.   725.   750.   775.   800.\n",
      "   825.   850.   860.   875.   900.   910.   925.   950.   975.  1000.\n",
      "  1025.  1040.  1050.  1060.  1075.  1090.  1100.  1125.  1150.  1175.\n",
      "  1200.  1225.  1250.  1300.  1325.  1330.  1350.  1375.  1400.  1450.\n",
      "  1500.  1550.  1600.  1650.  1690.  1700.  1750.  1800.  1850.  1900.\n",
      "  2000.  2100.  2150.  2200.  2250.  2300.  2400.  2500.  2600.  2750.\n",
      "  2900.  3000.  3200.  3250.  3500.  3750.  4000.  4250.  4500.  4750.\n",
      "  5000.  5250.  5500.  6000.  6500.  7000.  7250. 10000. 11000. 35000.\n",
      "    nan]\n",
      "\n",
      "Уникальные значения в столбце middle_coffee_cup:\n",
      "[  60.   75.   79.   80.   84.   89.   90.   94.   95.  100.  102.  105.\n",
      "  110.  112.  115.  119.  120.  124.  125.  127.  129.  130.  134.  135.\n",
      "  137.  138.  139.  140.  144.  145.  149.  150.  154.  155.  159.  160.\n",
      "  162.  164.  165.  167.  169.  170.  172.  174.  175.  179.  180.  184.\n",
      "  185.  189.  190.  195.  197.  199.  200.  204.  205.  210.  214.  215.\n",
      "  217.  220.  225.  227.  229.  230.  235.  237.  240.  242.  245.  246.\n",
      "  250.  254.  255.  256.  259.  260.  265.  266.  270.  275.  279.  285.\n",
      "  287.  290.  291.  295.  297.  300.  315.  320.  325.  328.  375. 1568.\n",
      "   nan]\n",
      "\n"
     ]
    }
   ],
   "source": [
    "# Устанавливаем подавление научного формата\n",
    "np.set_printoptions(suppress=True)\n",
    "    \n",
    "# Выведем уникальные значения в столбцах seats, middle_avg_bill, middle_coffee_cup\n",
    "for column in ['seats', 'middle_avg_bill', 'middle_coffee_cup']:\n",
    "    print(f'Уникальные значения в столбце {column}:')\n",
    "    print(df[column].sort_values().unique())\n",
    "    print()"
   ]
  },
  {
   "cell_type": "markdown",
   "id": "2cddd737",
   "metadata": {
    "id": "b5f2a94d"
   },
   "source": [
    "Судя по выведенной информации тип данных `float64` можно преобразовать в `int`, применим метод astype('Int64'), он преобразует тип данных из float в int не смотря на наличие пропусков."
   ]
  },
  {
   "cell_type": "code",
   "execution_count": 12,
   "id": "22748c1b",
   "metadata": {
    "scrolled": true
   },
   "outputs": [],
   "source": [
    "# Преобразуем тип данных в столбцах seats, middle_avg_bill, middle_coffee_cup\n",
    "for column in ['seats', 'middle_avg_bill', 'middle_coffee_cup']:\n",
    "    df[column] = df[column].astype('Int64')"
   ]
  },
  {
   "cell_type": "code",
   "execution_count": 13,
   "id": "947bbd9e",
   "metadata": {},
   "outputs": [
    {
     "data": {
      "text/plain": [
       "id                    object\n",
       "name                  object\n",
       "category              object\n",
       "address               object\n",
       "district              object\n",
       "hours                 object\n",
       "rating               float32\n",
       "chain                   int8\n",
       "seats                  Int64\n",
       "price                 object\n",
       "avg_bill              object\n",
       "middle_avg_bill        Int64\n",
       "middle_coffee_cup      Int64\n",
       "dtype: object"
      ]
     },
     "execution_count": 13,
     "metadata": {},
     "output_type": "execute_result"
    }
   ],
   "source": [
    "# Уменьшим разрядность в столбцах rating, chain\n",
    "df['chain'] = pd.to_numeric(df['chain'], downcast='integer')\n",
    "\n",
    "df['rating'] = pd.to_numeric(df['rating'], downcast='float')\n",
    "\n",
    "# Выведем типы данных\n",
    "df.dtypes"
   ]
  },
  {
   "cell_type": "markdown",
   "id": "e5a6be29",
   "metadata": {
    "id": "3d8840ca"
   },
   "source": [
    "При первичном анализе мы обнаружили пропуски в столбцах `hours`, `seats`, `price`,  `middle_avg_bill`, `middle_coffee_cup` и `avg_bill`. Узнаем абсолютное и относительное количество пропусков в этом столбце."
   ]
  },
  {
   "cell_type": "code",
   "execution_count": 14,
   "id": "2ea145ca",
   "metadata": {
    "id": "2ea145ca"
   },
   "outputs": [
    {
     "data": {
      "text/plain": [
       "id                      0\n",
       "name                    0\n",
       "category                0\n",
       "address                 0\n",
       "district                0\n",
       "hours                 536\n",
       "rating                  0\n",
       "chain                   0\n",
       "seats                3611\n",
       "price                5091\n",
       "avg_bill             4590\n",
       "middle_avg_bill      5257\n",
       "middle_coffee_cup    7871\n",
       "dtype: int64"
      ]
     },
     "execution_count": 14,
     "metadata": {},
     "output_type": "execute_result"
    }
   ],
   "source": [
    "# Применяем метод isna() к датафрейму df\n",
    "df.isna().sum()"
   ]
  },
  {
   "cell_type": "code",
   "execution_count": 15,
   "id": "d9e7c358",
   "metadata": {
    "id": "d9e7c358"
   },
   "outputs": [
    {
     "data": {
      "text/plain": [
       "id                   0.00\n",
       "name                 0.00\n",
       "category             0.00\n",
       "address              0.00\n",
       "district             0.00\n",
       "hours                0.06\n",
       "rating               0.00\n",
       "chain                0.00\n",
       "seats                0.43\n",
       "price                0.61\n",
       "avg_bill             0.55\n",
       "middle_avg_bill      0.63\n",
       "middle_coffee_cup    0.94\n",
       "dtype: float64"
      ]
     },
     "execution_count": 15,
     "metadata": {},
     "output_type": "execute_result"
    }
   ],
   "source": [
    "# Подсчитываем долю строк с пропусками\n",
    "round(df.isna().mean(), 2)"
   ]
  },
  {
   "cell_type": "markdown",
   "id": "d95b247f",
   "metadata": {},
   "source": [
    "В данных наблюдаются пропуски в следующих столбцах:\n",
    "- `hours` - в столбце с графиком работы 536 пропусков, это 6 процентов от всех данных о времени работы. Некоторые заведения могли не указывать график работы в источниках данных, некоторые могут работать круглосуточно. Следует оставить эти данные как есть без изменений. \n",
    "- `seats` - в столбце с количеством посадочных мест 3611 пропусков, это почти 43 процента отсутствующих данных. Некоторые заведения могут не указывать количество посадочных мест. Следует оставить эти данные как есть без изменений. \n",
    "- `price` - в столбце с категорией цен 5091 пропуск, это почти 61 процент от всех данных категории цен. Некоторые заведения могут не указывать категорию цен, также т.к. данные могли заполнять пользователи, то они также могли не указывать эти данные. Следует оставить эти данные как есть без изменений.\n",
    "- `avg_bill` - в столбце с средней стоимостью заказа 4590 пропусков, это почти 55 процентов отсутствующих данных. По аналогии с столюцом выше, некоторые заведения могут не указывать средний счет, также т.к. данные могли заполнять пользователи, то они также могли не указывать эти данные. Следует оставить эти данные как есть без изменений.\n",
    "- `middle_avg_bill` - в данном столбце 5257 пропусков, это почти 63 процента. Данный столбец связан с столбцом `avg_bill`, он берет данные из этого столбца, этим объясняется большая часть пропусков. Следует заменить на значение индикатр -1.\n",
    "- `middle_coffee_cup` - в данном столбце 7871 пропусков, это почти 94 процента. Данный столбец как и предыдущий связан с столбцом `avg_bill`, этим объясняется часть пропусков. Остальные пропуски скорее всего вызваны отсутствием данных в источнике. Следует заменить на значение индикатр -1."
   ]
  },
  {
   "cell_type": "markdown",
   "id": "f48206d2",
   "metadata": {},
   "source": [
    "Проверим данные на наличие явных и неявных дубликатов. Начнём с полных дубликатов:"
   ]
  },
  {
   "cell_type": "code",
   "execution_count": 16,
   "id": "4295cec5",
   "metadata": {},
   "outputs": [],
   "source": [
    "#Проведем нормализацию столбцов с названием заведения\n",
    "df['name'] = df['name'].str.strip().str.lower()"
   ]
  },
  {
   "cell_type": "code",
   "execution_count": 17,
   "id": "95b15cd0",
   "metadata": {
    "id": "95b15cd0"
   },
   "outputs": [
    {
     "data": {
      "text/plain": [
       "0"
      ]
     },
     "execution_count": 17,
     "metadata": {},
     "output_type": "execute_result"
    }
   ],
   "source": [
    "# Проверяем полные дубликаты в датафрейме bank_df\n",
    "df.duplicated().sum()"
   ]
  },
  {
   "cell_type": "markdown",
   "id": "dbdf9bdc",
   "metadata": {
    "id": "b52bae9a"
   },
   "source": [
    "В датафреймах нет полных дубликатов строк. Проверим неявные дубликаты — значения по `id` заведений должны быть уникальными, то есть каждая строка в данных — уникальное заведение:"
   ]
  },
  {
   "cell_type": "code",
   "execution_count": 18,
   "id": "0dd4e7cd",
   "metadata": {},
   "outputs": [
    {
     "data": {
      "text/plain": [
       "0"
      ]
     },
     "execution_count": 18,
     "metadata": {},
     "output_type": "execute_result"
    }
   ],
   "source": [
    "# Проверяем неявные дубликаты в датафрейме по столбцу id\n",
    "df.duplicated(subset='id').sum()"
   ]
  },
  {
   "cell_type": "code",
   "execution_count": 19,
   "id": "c3834fdc",
   "metadata": {},
   "outputs": [
    {
     "data": {
      "text/plain": [
       "3"
      ]
     },
     "execution_count": 19,
     "metadata": {},
     "output_type": "execute_result"
    }
   ],
   "source": [
    "# Проверяем неявные дубликаты в датафрейме по столбцам name и address\n",
    "df.duplicated(subset=['name', 'address']).sum()"
   ]
  },
  {
   "cell_type": "code",
   "execution_count": 20,
   "id": "b63dbe10",
   "metadata": {
    "scrolled": true
   },
   "outputs": [
    {
     "data": {
      "text/html": [
       "<div>\n",
       "<style scoped>\n",
       "    .dataframe tbody tr th:only-of-type {\n",
       "        vertical-align: middle;\n",
       "    }\n",
       "\n",
       "    .dataframe tbody tr th {\n",
       "        vertical-align: top;\n",
       "    }\n",
       "\n",
       "    .dataframe thead th {\n",
       "        text-align: right;\n",
       "    }\n",
       "</style>\n",
       "<table border=\"1\" class=\"dataframe\">\n",
       "  <thead>\n",
       "    <tr style=\"text-align: right;\">\n",
       "      <th></th>\n",
       "      <th>id</th>\n",
       "      <th>name</th>\n",
       "      <th>category</th>\n",
       "      <th>address</th>\n",
       "      <th>district</th>\n",
       "      <th>hours</th>\n",
       "      <th>rating</th>\n",
       "      <th>chain</th>\n",
       "      <th>seats</th>\n",
       "      <th>price</th>\n",
       "      <th>avg_bill</th>\n",
       "      <th>middle_avg_bill</th>\n",
       "      <th>middle_coffee_cup</th>\n",
       "    </tr>\n",
       "  </thead>\n",
       "  <tbody>\n",
       "    <tr>\n",
       "      <th>1430</th>\n",
       "      <td>62608690e9cc464fbcd980cfd552e334</td>\n",
       "      <td>more poke</td>\n",
       "      <td>ресторан</td>\n",
       "      <td>Москва, Волоколамское шоссе, 11, стр. 2</td>\n",
       "      <td>Северный административный округ</td>\n",
       "      <td>ежедневно, 09:00–21:00</td>\n",
       "      <td>4.2</td>\n",
       "      <td>0</td>\n",
       "      <td>188</td>\n",
       "      <td>NaN</td>\n",
       "      <td>NaN</td>\n",
       "      <td>&lt;NA&gt;</td>\n",
       "      <td>&lt;NA&gt;</td>\n",
       "    </tr>\n",
       "    <tr>\n",
       "      <th>1511</th>\n",
       "      <td>a69f018d5c064873a3b491b0121bc1b4</td>\n",
       "      <td>more poke</td>\n",
       "      <td>ресторан</td>\n",
       "      <td>Москва, Волоколамское шоссе, 11, стр. 2</td>\n",
       "      <td>Северный административный округ</td>\n",
       "      <td>пн-чт 09:00–18:00; пт,сб 09:00–21:00; вс 09:00...</td>\n",
       "      <td>4.2</td>\n",
       "      <td>1</td>\n",
       "      <td>188</td>\n",
       "      <td>NaN</td>\n",
       "      <td>NaN</td>\n",
       "      <td>&lt;NA&gt;</td>\n",
       "      <td>&lt;NA&gt;</td>\n",
       "    </tr>\n",
       "    <tr>\n",
       "      <th>2211</th>\n",
       "      <td>c6ef39ae8a8c483d8f9a6531bc386a2c</td>\n",
       "      <td>раковарня клешни и хвосты</td>\n",
       "      <td>ресторан</td>\n",
       "      <td>Москва, проспект Мира, 118</td>\n",
       "      <td>Северо-Восточный административный округ</td>\n",
       "      <td>ежедневно, 12:00–00:00</td>\n",
       "      <td>4.4</td>\n",
       "      <td>0</td>\n",
       "      <td>150</td>\n",
       "      <td>NaN</td>\n",
       "      <td>NaN</td>\n",
       "      <td>&lt;NA&gt;</td>\n",
       "      <td>&lt;NA&gt;</td>\n",
       "    </tr>\n",
       "    <tr>\n",
       "      <th>2420</th>\n",
       "      <td>aba1de7ad7d64ac0a3f8684bda29d905</td>\n",
       "      <td>раковарня клешни и хвосты</td>\n",
       "      <td>бар,паб</td>\n",
       "      <td>Москва, проспект Мира, 118</td>\n",
       "      <td>Северо-Восточный административный округ</td>\n",
       "      <td>пн-чт 12:00–00:00; пт,сб 12:00–01:00; вс 12:00...</td>\n",
       "      <td>4.4</td>\n",
       "      <td>1</td>\n",
       "      <td>150</td>\n",
       "      <td>NaN</td>\n",
       "      <td>NaN</td>\n",
       "      <td>&lt;NA&gt;</td>\n",
       "      <td>&lt;NA&gt;</td>\n",
       "    </tr>\n",
       "    <tr>\n",
       "      <th>3091</th>\n",
       "      <td>3c2a73ea79a04be48858fab3685f2f37</td>\n",
       "      <td>хлеб да выпечка</td>\n",
       "      <td>булочная</td>\n",
       "      <td>Москва, Ярцевская улица, 19</td>\n",
       "      <td>Западный административный округ</td>\n",
       "      <td>ежедневно, 09:00–22:00</td>\n",
       "      <td>4.1</td>\n",
       "      <td>1</td>\n",
       "      <td>276</td>\n",
       "      <td>NaN</td>\n",
       "      <td>NaN</td>\n",
       "      <td>&lt;NA&gt;</td>\n",
       "      <td>&lt;NA&gt;</td>\n",
       "    </tr>\n",
       "    <tr>\n",
       "      <th>3109</th>\n",
       "      <td>d3116844e4e048f99614eb30be3214e0</td>\n",
       "      <td>хлеб да выпечка</td>\n",
       "      <td>кафе</td>\n",
       "      <td>Москва, Ярцевская улица, 19</td>\n",
       "      <td>Западный административный округ</td>\n",
       "      <td>NaN</td>\n",
       "      <td>4.1</td>\n",
       "      <td>0</td>\n",
       "      <td>276</td>\n",
       "      <td>NaN</td>\n",
       "      <td>NaN</td>\n",
       "      <td>&lt;NA&gt;</td>\n",
       "      <td>&lt;NA&gt;</td>\n",
       "    </tr>\n",
       "  </tbody>\n",
       "</table>\n",
       "</div>"
      ],
      "text/plain": [
       "                                    id                       name  category  \\\n",
       "1430  62608690e9cc464fbcd980cfd552e334                  more poke  ресторан   \n",
       "1511  a69f018d5c064873a3b491b0121bc1b4                  more poke  ресторан   \n",
       "2211  c6ef39ae8a8c483d8f9a6531bc386a2c  раковарня клешни и хвосты  ресторан   \n",
       "2420  aba1de7ad7d64ac0a3f8684bda29d905  раковарня клешни и хвосты   бар,паб   \n",
       "3091  3c2a73ea79a04be48858fab3685f2f37            хлеб да выпечка  булочная   \n",
       "3109  d3116844e4e048f99614eb30be3214e0            хлеб да выпечка      кафе   \n",
       "\n",
       "                                      address  \\\n",
       "1430  Москва, Волоколамское шоссе, 11, стр. 2   \n",
       "1511  Москва, Волоколамское шоссе, 11, стр. 2   \n",
       "2211               Москва, проспект Мира, 118   \n",
       "2420               Москва, проспект Мира, 118   \n",
       "3091              Москва, Ярцевская улица, 19   \n",
       "3109              Москва, Ярцевская улица, 19   \n",
       "\n",
       "                                     district  \\\n",
       "1430          Северный административный округ   \n",
       "1511          Северный административный округ   \n",
       "2211  Северо-Восточный административный округ   \n",
       "2420  Северо-Восточный административный округ   \n",
       "3091          Западный административный округ   \n",
       "3109          Западный административный округ   \n",
       "\n",
       "                                                  hours  rating  chain  seats  \\\n",
       "1430                             ежедневно, 09:00–21:00     4.2      0    188   \n",
       "1511  пн-чт 09:00–18:00; пт,сб 09:00–21:00; вс 09:00...     4.2      1    188   \n",
       "2211                             ежедневно, 12:00–00:00     4.4      0    150   \n",
       "2420  пн-чт 12:00–00:00; пт,сб 12:00–01:00; вс 12:00...     4.4      1    150   \n",
       "3091                             ежедневно, 09:00–22:00     4.1      1    276   \n",
       "3109                                                NaN     4.1      0    276   \n",
       "\n",
       "     price avg_bill  middle_avg_bill  middle_coffee_cup  \n",
       "1430   NaN      NaN             <NA>               <NA>  \n",
       "1511   NaN      NaN             <NA>               <NA>  \n",
       "2211   NaN      NaN             <NA>               <NA>  \n",
       "2420   NaN      NaN             <NA>               <NA>  \n",
       "3091   NaN      NaN             <NA>               <NA>  \n",
       "3109   NaN      NaN             <NA>               <NA>  "
      ]
     },
     "metadata": {},
     "output_type": "display_data"
    }
   ],
   "source": [
    "# Найдем дублирующиеся строки по столбцам 'name' и 'address'\n",
    "duplicates = df[df.duplicated(subset=['name', 'address'], keep=False)]\n",
    "\n",
    "# Выводим строки с дубликатами\n",
    "display(duplicates)"
   ]
  },
  {
   "cell_type": "markdown",
   "id": "2e450796",
   "metadata": {},
   "source": [
    "Оставим только те данные, где больше информации о графике работы"
   ]
  },
  {
   "cell_type": "code",
   "execution_count": 21,
   "id": "704c7048",
   "metadata": {},
   "outputs": [
    {
     "data": {
      "text/html": [
       "<div>\n",
       "<style scoped>\n",
       "    .dataframe tbody tr th:only-of-type {\n",
       "        vertical-align: middle;\n",
       "    }\n",
       "\n",
       "    .dataframe tbody tr th {\n",
       "        vertical-align: top;\n",
       "    }\n",
       "\n",
       "    .dataframe thead th {\n",
       "        text-align: right;\n",
       "    }\n",
       "</style>\n",
       "<table border=\"1\" class=\"dataframe\">\n",
       "  <thead>\n",
       "    <tr style=\"text-align: right;\">\n",
       "      <th></th>\n",
       "      <th>id</th>\n",
       "      <th>name</th>\n",
       "      <th>category</th>\n",
       "      <th>address</th>\n",
       "      <th>district</th>\n",
       "      <th>hours</th>\n",
       "      <th>rating</th>\n",
       "      <th>chain</th>\n",
       "      <th>seats</th>\n",
       "      <th>price</th>\n",
       "      <th>avg_bill</th>\n",
       "      <th>middle_avg_bill</th>\n",
       "      <th>middle_coffee_cup</th>\n",
       "      <th>len_hours</th>\n",
       "    </tr>\n",
       "  </thead>\n",
       "  <tbody>\n",
       "    <tr>\n",
       "      <th>1511</th>\n",
       "      <td>a69f018d5c064873a3b491b0121bc1b4</td>\n",
       "      <td>more poke</td>\n",
       "      <td>ресторан</td>\n",
       "      <td>Москва, Волоколамское шоссе, 11, стр. 2</td>\n",
       "      <td>Северный административный округ</td>\n",
       "      <td>пн-чт 09:00–18:00; пт,сб 09:00–21:00; вс 09:00...</td>\n",
       "      <td>4.2</td>\n",
       "      <td>1</td>\n",
       "      <td>188</td>\n",
       "      <td>NaN</td>\n",
       "      <td>NaN</td>\n",
       "      <td>&lt;NA&gt;</td>\n",
       "      <td>&lt;NA&gt;</td>\n",
       "      <td>52.0</td>\n",
       "    </tr>\n",
       "  </tbody>\n",
       "</table>\n",
       "</div>"
      ],
      "text/plain": [
       "                                    id       name  category  \\\n",
       "1511  a69f018d5c064873a3b491b0121bc1b4  more poke  ресторан   \n",
       "\n",
       "                                      address  \\\n",
       "1511  Москва, Волоколамское шоссе, 11, стр. 2   \n",
       "\n",
       "                             district  \\\n",
       "1511  Северный административный округ   \n",
       "\n",
       "                                                  hours  rating  chain  seats  \\\n",
       "1511  пн-чт 09:00–18:00; пт,сб 09:00–21:00; вс 09:00...     4.2      1    188   \n",
       "\n",
       "     price avg_bill  middle_avg_bill  middle_coffee_cup  len_hours  \n",
       "1511   NaN      NaN             <NA>               <NA>       52.0  "
      ]
     },
     "metadata": {},
     "output_type": "display_data"
    },
    {
     "data": {
      "text/html": [
       "<div>\n",
       "<style scoped>\n",
       "    .dataframe tbody tr th:only-of-type {\n",
       "        vertical-align: middle;\n",
       "    }\n",
       "\n",
       "    .dataframe tbody tr th {\n",
       "        vertical-align: top;\n",
       "    }\n",
       "\n",
       "    .dataframe thead th {\n",
       "        text-align: right;\n",
       "    }\n",
       "</style>\n",
       "<table border=\"1\" class=\"dataframe\">\n",
       "  <thead>\n",
       "    <tr style=\"text-align: right;\">\n",
       "      <th></th>\n",
       "      <th>id</th>\n",
       "      <th>name</th>\n",
       "      <th>category</th>\n",
       "      <th>address</th>\n",
       "      <th>district</th>\n",
       "      <th>hours</th>\n",
       "      <th>rating</th>\n",
       "      <th>chain</th>\n",
       "      <th>seats</th>\n",
       "      <th>price</th>\n",
       "      <th>avg_bill</th>\n",
       "      <th>middle_avg_bill</th>\n",
       "      <th>middle_coffee_cup</th>\n",
       "      <th>len_hours</th>\n",
       "    </tr>\n",
       "  </thead>\n",
       "  <tbody>\n",
       "    <tr>\n",
       "      <th>2420</th>\n",
       "      <td>aba1de7ad7d64ac0a3f8684bda29d905</td>\n",
       "      <td>раковарня клешни и хвосты</td>\n",
       "      <td>бар,паб</td>\n",
       "      <td>Москва, проспект Мира, 118</td>\n",
       "      <td>Северо-Восточный административный округ</td>\n",
       "      <td>пн-чт 12:00–00:00; пт,сб 12:00–01:00; вс 12:00...</td>\n",
       "      <td>4.4</td>\n",
       "      <td>1</td>\n",
       "      <td>150</td>\n",
       "      <td>NaN</td>\n",
       "      <td>NaN</td>\n",
       "      <td>&lt;NA&gt;</td>\n",
       "      <td>&lt;NA&gt;</td>\n",
       "      <td>52.0</td>\n",
       "    </tr>\n",
       "  </tbody>\n",
       "</table>\n",
       "</div>"
      ],
      "text/plain": [
       "                                    id                       name category  \\\n",
       "2420  aba1de7ad7d64ac0a3f8684bda29d905  раковарня клешни и хвосты  бар,паб   \n",
       "\n",
       "                         address                                 district  \\\n",
       "2420  Москва, проспект Мира, 118  Северо-Восточный административный округ   \n",
       "\n",
       "                                                  hours  rating  chain  seats  \\\n",
       "2420  пн-чт 12:00–00:00; пт,сб 12:00–01:00; вс 12:00...     4.4      1    150   \n",
       "\n",
       "     price avg_bill  middle_avg_bill  middle_coffee_cup  len_hours  \n",
       "2420   NaN      NaN             <NA>               <NA>       52.0  "
      ]
     },
     "metadata": {},
     "output_type": "display_data"
    },
    {
     "data": {
      "text/html": [
       "<div>\n",
       "<style scoped>\n",
       "    .dataframe tbody tr th:only-of-type {\n",
       "        vertical-align: middle;\n",
       "    }\n",
       "\n",
       "    .dataframe tbody tr th {\n",
       "        vertical-align: top;\n",
       "    }\n",
       "\n",
       "    .dataframe thead th {\n",
       "        text-align: right;\n",
       "    }\n",
       "</style>\n",
       "<table border=\"1\" class=\"dataframe\">\n",
       "  <thead>\n",
       "    <tr style=\"text-align: right;\">\n",
       "      <th></th>\n",
       "      <th>id</th>\n",
       "      <th>name</th>\n",
       "      <th>category</th>\n",
       "      <th>address</th>\n",
       "      <th>district</th>\n",
       "      <th>hours</th>\n",
       "      <th>rating</th>\n",
       "      <th>chain</th>\n",
       "      <th>seats</th>\n",
       "      <th>price</th>\n",
       "      <th>avg_bill</th>\n",
       "      <th>middle_avg_bill</th>\n",
       "      <th>middle_coffee_cup</th>\n",
       "      <th>len_hours</th>\n",
       "    </tr>\n",
       "  </thead>\n",
       "  <tbody>\n",
       "    <tr>\n",
       "      <th>3091</th>\n",
       "      <td>3c2a73ea79a04be48858fab3685f2f37</td>\n",
       "      <td>хлеб да выпечка</td>\n",
       "      <td>булочная</td>\n",
       "      <td>Москва, Ярцевская улица, 19</td>\n",
       "      <td>Западный административный округ</td>\n",
       "      <td>ежедневно, 09:00–22:00</td>\n",
       "      <td>4.1</td>\n",
       "      <td>1</td>\n",
       "      <td>276</td>\n",
       "      <td>NaN</td>\n",
       "      <td>NaN</td>\n",
       "      <td>&lt;NA&gt;</td>\n",
       "      <td>&lt;NA&gt;</td>\n",
       "      <td>22.0</td>\n",
       "    </tr>\n",
       "  </tbody>\n",
       "</table>\n",
       "</div>"
      ],
      "text/plain": [
       "                                    id             name  category  \\\n",
       "3091  3c2a73ea79a04be48858fab3685f2f37  хлеб да выпечка  булочная   \n",
       "\n",
       "                          address                         district  \\\n",
       "3091  Москва, Ярцевская улица, 19  Западный административный округ   \n",
       "\n",
       "                       hours  rating  chain  seats price avg_bill  \\\n",
       "3091  ежедневно, 09:00–22:00     4.1      1    276   NaN      NaN   \n",
       "\n",
       "      middle_avg_bill  middle_coffee_cup  len_hours  \n",
       "3091             <NA>               <NA>       22.0  "
      ]
     },
     "metadata": {},
     "output_type": "display_data"
    }
   ],
   "source": [
    "# Создаем столбец с длинной столбца hours\n",
    "df['len_hours'] = df['hours'].str.len()\n",
    "\n",
    "# Сортируем данные в порядке убывания\n",
    "df = df.sort_values(by='len_hours', ascending=False)\n",
    "\n",
    "# Удаляем дубликаты, оставляя строку с наибольшей длинной \n",
    "df = df.drop_duplicates(subset=['name', 'address'], keep='first')\n",
    "\n",
    "# Проверяем результат\n",
    "display(df[(df['name'] == 'more poke') & (df['address'] == 'Москва, Волоколамское шоссе, 11, стр. 2')])\n",
    "display(df[(df['name'] == 'раковарня клешни и хвосты') & (df['address'] == 'Москва, проспект Мира, 118')])\n",
    "display(df[(df['name'] == 'хлеб да выпечка') & (df['address'] == 'Москва, Ярцевская улица, 19')])"
   ]
  },
  {
   "cell_type": "markdown",
   "id": "093560c6",
   "metadata": {},
   "source": [
    "Теперь проверим корректность написания категориальных значений в данных."
   ]
  },
  {
   "cell_type": "code",
   "execution_count": 22,
   "id": "9cf7fcc9",
   "metadata": {
    "scrolled": true
   },
   "outputs": [
    {
     "name": "stdout",
     "output_type": "stream",
     "text": [
      "Уникальные значения в столбце district:\n",
      "['Восточный административный округ' 'Западный административный округ'\n",
      " 'Северный административный округ'\n",
      " 'Северо-Восточный административный округ'\n",
      " 'Северо-Западный административный округ'\n",
      " 'Центральный административный округ'\n",
      " 'Юго-Восточный административный округ'\n",
      " 'Юго-Западный административный округ' 'Южный административный округ']\n",
      "\n",
      "Уникальные значения в столбце category:\n",
      "['бар,паб' 'булочная' 'быстрое питание' 'кафе' 'кофейня' 'пиццерия'\n",
      " 'ресторан' 'столовая']\n",
      "\n",
      "Уникальные значения в столбце chain:\n",
      "[0 1]\n",
      "\n",
      "Уникальные значения в столбце price:\n",
      "['высокие' 'выше среднего' 'низкие' 'средние' nan]\n",
      "\n"
     ]
    }
   ],
   "source": [
    "# Проверяем уникальные значения в столбцах\n",
    "for column in ['district', 'category', 'chain', 'price']:\n",
    "    print(f'Уникальные значения в столбце {column}:')\n",
    "    print(df[column].sort_values().unique())\n",
    "    print()"
   ]
  },
  {
   "cell_type": "markdown",
   "id": "30da5e74",
   "metadata": {},
   "source": [
    "В этих данных нет ошибок.\n",
    "\n",
    "---"
   ]
  },
  {
   "cell_type": "markdown",
   "id": "4c0563f2",
   "metadata": {
    "id": "4c0563f2"
   },
   "source": [
    "- Для дальнейшей работы создадим столбец `is_24_7` с обозначением того, что заведение работает ежедневно и круглосуточно, то есть 24/7:\n",
    "  - логическое значение `True` — если заведение работает ежедневно и круглосуточно;\n",
    "  - логическое значение `False` — в противоположном случае."
   ]
  },
  {
   "cell_type": "code",
   "execution_count": 23,
   "id": "42d1e685",
   "metadata": {
    "id": "42d1e685"
   },
   "outputs": [
    {
     "data": {
      "text/html": [
       "<div>\n",
       "<style scoped>\n",
       "    .dataframe tbody tr th:only-of-type {\n",
       "        vertical-align: middle;\n",
       "    }\n",
       "\n",
       "    .dataframe tbody tr th {\n",
       "        vertical-align: top;\n",
       "    }\n",
       "\n",
       "    .dataframe thead th {\n",
       "        text-align: right;\n",
       "    }\n",
       "</style>\n",
       "<table border=\"1\" class=\"dataframe\">\n",
       "  <thead>\n",
       "    <tr style=\"text-align: right;\">\n",
       "      <th></th>\n",
       "      <th>id</th>\n",
       "      <th>name</th>\n",
       "      <th>category</th>\n",
       "      <th>address</th>\n",
       "      <th>district</th>\n",
       "      <th>hours</th>\n",
       "      <th>rating</th>\n",
       "      <th>chain</th>\n",
       "      <th>seats</th>\n",
       "      <th>price</th>\n",
       "      <th>avg_bill</th>\n",
       "      <th>middle_avg_bill</th>\n",
       "      <th>middle_coffee_cup</th>\n",
       "      <th>len_hours</th>\n",
       "      <th>is_24_7</th>\n",
       "    </tr>\n",
       "  </thead>\n",
       "  <tbody>\n",
       "    <tr>\n",
       "      <th>7864</th>\n",
       "      <td>94b5ce1ab314431d93fa678a2cb8cb8d</td>\n",
       "      <td>орхан</td>\n",
       "      <td>кафе</td>\n",
       "      <td>Москва, Елецкая улица, 35, корп. 2А</td>\n",
       "      <td>Южный административный округ</td>\n",
       "      <td>пн 10:30–04:00; вт 11:00–03:00; ср 10:30–03:00...</td>\n",
       "      <td>4.3</td>\n",
       "      <td>1</td>\n",
       "      <td>90</td>\n",
       "      <td>NaN</td>\n",
       "      <td>NaN</td>\n",
       "      <td>&lt;NA&gt;</td>\n",
       "      <td>&lt;NA&gt;</td>\n",
       "      <td>97.0</td>\n",
       "      <td>False</td>\n",
       "    </tr>\n",
       "    <tr>\n",
       "      <th>699</th>\n",
       "      <td>eceb95b99f4c4aaeb97ff427e7f08c46</td>\n",
       "      <td>маргилан</td>\n",
       "      <td>столовая</td>\n",
       "      <td>Москва, улица Декабристов, 15А</td>\n",
       "      <td>Северо-Восточный административный округ</td>\n",
       "      <td>пн 00:01–12:00, перерыв 12:00–13:30; вт-чт 13:...</td>\n",
       "      <td>4.5</td>\n",
       "      <td>0</td>\n",
       "      <td>230</td>\n",
       "      <td>средние</td>\n",
       "      <td>Средний счёт:350–400 ₽</td>\n",
       "      <td>375</td>\n",
       "      <td>&lt;NA&gt;</td>\n",
       "      <td>91.0</td>\n",
       "      <td>False</td>\n",
       "    </tr>\n",
       "    <tr>\n",
       "      <th>3531</th>\n",
       "      <td>2d9b31f65cde4ad0bf88953de5664f61</td>\n",
       "      <td>dr. живаго</td>\n",
       "      <td>ресторан</td>\n",
       "      <td>Москва, Моховая улица, 15/1с1</td>\n",
       "      <td>Центральный административный округ</td>\n",
       "      <td>пн-чт круглосуточно; пт 00:00–05:00, перерыв 0...</td>\n",
       "      <td>4.8</td>\n",
       "      <td>0</td>\n",
       "      <td>&lt;NA&gt;</td>\n",
       "      <td>высокие</td>\n",
       "      <td>Средний счёт:2500–3000 ₽</td>\n",
       "      <td>2750</td>\n",
       "      <td>&lt;NA&gt;</td>\n",
       "      <td>88.0</td>\n",
       "      <td>False</td>\n",
       "    </tr>\n",
       "    <tr>\n",
       "      <th>1942</th>\n",
       "      <td>f39e8a31f99b4081b770b666e47efd84</td>\n",
       "      <td>g&amp;m</td>\n",
       "      <td>бар,паб</td>\n",
       "      <td>Москва, Новослободская улица, 16А</td>\n",
       "      <td>Центральный административный округ</td>\n",
       "      <td>пн круглосуточно; вт-чт 12:00–00:00; пт 12:00–...</td>\n",
       "      <td>4.3</td>\n",
       "      <td>0</td>\n",
       "      <td>&lt;NA&gt;</td>\n",
       "      <td>выше среднего</td>\n",
       "      <td>Средний счёт:1500 ₽</td>\n",
       "      <td>1500</td>\n",
       "      <td>&lt;NA&gt;</td>\n",
       "      <td>83.0</td>\n",
       "      <td>False</td>\n",
       "    </tr>\n",
       "    <tr>\n",
       "      <th>3732</th>\n",
       "      <td>9f6fd458f00a4e0fb6fdab33b512028d</td>\n",
       "      <td>шоколадница</td>\n",
       "      <td>кофейня</td>\n",
       "      <td>Москва, Большая Садовая улица, 10</td>\n",
       "      <td>Центральный административный округ</td>\n",
       "      <td>пн,вт 08:00–22:00; ср,чт 08:00–23:00; пт,сб кр...</td>\n",
       "      <td>4.3</td>\n",
       "      <td>1</td>\n",
       "      <td>68</td>\n",
       "      <td>NaN</td>\n",
       "      <td>NaN</td>\n",
       "      <td>&lt;NA&gt;</td>\n",
       "      <td>&lt;NA&gt;</td>\n",
       "      <td>73.0</td>\n",
       "      <td>False</td>\n",
       "    </tr>\n",
       "  </tbody>\n",
       "</table>\n",
       "</div>"
      ],
      "text/plain": [
       "                                    id         name  category  \\\n",
       "7864  94b5ce1ab314431d93fa678a2cb8cb8d        орхан      кафе   \n",
       "699   eceb95b99f4c4aaeb97ff427e7f08c46     маргилан  столовая   \n",
       "3531  2d9b31f65cde4ad0bf88953de5664f61   dr. живаго  ресторан   \n",
       "1942  f39e8a31f99b4081b770b666e47efd84          g&m   бар,паб   \n",
       "3732  9f6fd458f00a4e0fb6fdab33b512028d  шоколадница   кофейня   \n",
       "\n",
       "                                  address  \\\n",
       "7864  Москва, Елецкая улица, 35, корп. 2А   \n",
       "699        Москва, улица Декабристов, 15А   \n",
       "3531        Москва, Моховая улица, 15/1с1   \n",
       "1942    Москва, Новослободская улица, 16А   \n",
       "3732    Москва, Большая Садовая улица, 10   \n",
       "\n",
       "                                     district  \\\n",
       "7864             Южный административный округ   \n",
       "699   Северо-Восточный административный округ   \n",
       "3531       Центральный административный округ   \n",
       "1942       Центральный административный округ   \n",
       "3732       Центральный административный округ   \n",
       "\n",
       "                                                  hours  rating  chain  seats  \\\n",
       "7864  пн 10:30–04:00; вт 11:00–03:00; ср 10:30–03:00...     4.3      1     90   \n",
       "699   пн 00:01–12:00, перерыв 12:00–13:30; вт-чт 13:...     4.5      0    230   \n",
       "3531  пн-чт круглосуточно; пт 00:00–05:00, перерыв 0...     4.8      0   <NA>   \n",
       "1942  пн круглосуточно; вт-чт 12:00–00:00; пт 12:00–...     4.3      0   <NA>   \n",
       "3732  пн,вт 08:00–22:00; ср,чт 08:00–23:00; пт,сб кр...     4.3      1     68   \n",
       "\n",
       "              price                  avg_bill  middle_avg_bill  \\\n",
       "7864            NaN                       NaN             <NA>   \n",
       "699         средние    Средний счёт:350–400 ₽              375   \n",
       "3531        высокие  Средний счёт:2500–3000 ₽             2750   \n",
       "1942  выше среднего       Средний счёт:1500 ₽             1500   \n",
       "3732            NaN                       NaN             <NA>   \n",
       "\n",
       "      middle_coffee_cup  len_hours  is_24_7  \n",
       "7864               <NA>       97.0    False  \n",
       "699                <NA>       91.0    False  \n",
       "3531               <NA>       88.0    False  \n",
       "1942               <NA>       83.0    False  \n",
       "3732               <NA>       73.0    False  "
      ]
     },
     "metadata": {},
     "output_type": "display_data"
    }
   ],
   "source": [
    "# Создаем столбец is_24_7\n",
    "df['is_24_7'] = df['hours'].str.contains('ежедневно, круглосуточно', case=False, na=False)\n",
    "\n",
    "#Выведем датафрейм с новым столбцом\n",
    "display(df.head())"
   ]
  },
  {
   "cell_type": "markdown",
   "id": "562f30ab",
   "metadata": {
    "id": "562f30ab"
   },
   "source": [
    "---\n",
    "\n",
    "### Промежуточный вывод\n"
   ]
  },
  {
   "cell_type": "markdown",
   "id": "42aa113b-38fb-4129-9cba-4e22bada5f2e",
   "metadata": {
    "id": "4e587ce1"
   },
   "source": [
    "---\n",
    "\n",
    "Для дальнейшего анализа мы провели работу по предобработке данных:\n",
    "- проверили названия столбцов датафрейма\n",
    "- проверили тип данных столбцов и привели их к нужному типу. \n",
    "  - Столбцы `seats`, `middle_avg_bill` и `middle_coffee_cup` из типа `float64` к типу `int16`\n",
    "  - Cтолбцы `rating` и `chain` оптимизировали тип данных\n",
    "- изучены пропуски в данных. Пропуски обнаружились в столбцах `hours`, `seats`, `price`,  `middle_avg_bill`, `middle_coffee_cup` и `avg_bill`. Т.к. данные получены из открытых источников, а также заполнены посетителями заведений, то пропуски скорее всего не являются ошибками в данных. Поэтому их оставили как есть.\n",
    "- проверили данные на наличие явных и неявных дубликатов и удалили их "
   ]
  },
  {
   "cell_type": "markdown",
   "id": "6953e84c",
   "metadata": {
    "id": "6953e84c"
   },
   "source": [
    "## 3. Исследовательский анализ данных"
   ]
  },
  {
   "cell_type": "markdown",
   "id": "8555d840",
   "metadata": {
    "id": "8555d840"
   },
   "source": [
    "---\n",
    "\n",
    "### Задача 1\n",
    "\n",
    "Исследуем количество объектов общественного питания по каждой категории. "
   ]
  },
  {
   "cell_type": "code",
   "execution_count": 24,
   "id": "ef2bffe9",
   "metadata": {
    "id": "ef2bffe9"
   },
   "outputs": [
    {
     "data": {
      "text/plain": [
       "кафе               2377\n",
       "ресторан           2041\n",
       "кофейня            1413\n",
       "бар,паб             765\n",
       "пиццерия            633\n",
       "быстрое питание     603\n",
       "столовая            315\n",
       "булочная            256\n",
       "Name: category, dtype: int64"
      ]
     },
     "execution_count": 24,
     "metadata": {},
     "output_type": "execute_result"
    }
   ],
   "source": [
    "# Посчитаем количество заведений по каждой категории\n",
    "df['category'].value_counts()"
   ]
  },
  {
   "cell_type": "markdown",
   "id": "27eee846",
   "metadata": {},
   "source": [
    "Визуализируем распределение в столбце `category` с помощью линейчатой диаграммы:"
   ]
  },
  {
   "cell_type": "code",
   "execution_count": 25,
   "id": "71ab5e91",
   "metadata": {
    "id": "71ab5e91"
   },
   "outputs": [
    {
     "data": {
      "image/png": "[encoded data removed]",
      "text/plain": [
       "<Figure size 504x288 with 1 Axes>"
      ]
     },
     "metadata": {
      "needs_background": "light"
     },
     "output_type": "display_data"
    }
   ],
   "source": [
    "# Создаём контейнер графика matplotlib и задаём его размер\n",
    "plt.figure(figsize=(7, 4))\n",
    "\n",
    "# Строим столбчатую диаграмму \n",
    "df['category'].value_counts().plot(\n",
    "               kind='barh',\n",
    "               rot=0,\n",
    "               legend=False,\n",
    "               title='Распределение объектов общественного питания по категориям',\n",
    "               color='g'\n",
    ")\n",
    "\n",
    "# Настраиваем оформление графика\n",
    "plt.xlabel('Количество заведений')\n",
    "plt.ylabel('Категории')\n",
    "\n",
    "# Добавляем сетку графика\n",
    "plt.grid(axis='x')\n",
    "\n",
    "# Выводим график\n",
    "plt.show()"
   ]
  },
  {
   "cell_type": "markdown",
   "id": "46f9f48c",
   "metadata": {
    "id": "63360b97"
   },
   "source": [
    "Наибольшее количество заведений являются кафе и рестораном, наименьшее количество являются булочная и столовая. "
   ]
  },
  {
   "cell_type": "markdown",
   "id": "6821e1d0",
   "metadata": {
    "id": "6821e1d0"
   },
   "source": [
    "---\n",
    "\n",
    "### Задача 2\n",
    "\n",
    "Исследуем распределение количества заведений по административным округам Москвы, а также отдельно распределение заведений каждой категории в Центральном административном округе Москвы. "
   ]
  },
  {
   "cell_type": "code",
   "execution_count": 26,
   "id": "e62f31be",
   "metadata": {
    "id": "e62f31be",
    "scrolled": true
   },
   "outputs": [
    {
     "data": {
      "text/plain": [
       "Центральный административный округ         2242\n",
       "Северный административный округ             899\n",
       "Южный административный округ                892\n",
       "Северо-Восточный административный округ     890\n",
       "Западный административный округ             850\n",
       "Восточный административный округ            798\n",
       "Юго-Восточный административный округ        714\n",
       "Юго-Западный административный округ         709\n",
       "Северо-Западный административный округ      409\n",
       "Name: district, dtype: int64"
      ]
     },
     "execution_count": 26,
     "metadata": {},
     "output_type": "execute_result"
    }
   ],
   "source": [
    "# Посчитаем количество заведений по каждому округу Москвы\n",
    "df['district'].value_counts()"
   ]
  },
  {
   "cell_type": "markdown",
   "id": "177c3c59",
   "metadata": {},
   "source": [
    "Визуализируем распределение в столбце `district` с помощью линейчатой диаграммы:"
   ]
  },
  {
   "cell_type": "code",
   "execution_count": 27,
   "id": "0a290cd1",
   "metadata": {
    "id": "0a290cd1",
    "scrolled": true
   },
   "outputs": [
    {
     "data": {
      "image/png": "[encoded data removed]",
      "text/plain": [
       "<Figure size 504x216 with 1 Axes>"
      ]
     },
     "metadata": {
      "needs_background": "light"
     },
     "output_type": "display_data"
    }
   ],
   "source": [
    "# Создаём контейнер графика matplotlib и задаём его размер\n",
    "plt.figure(figsize=(7, 3))\n",
    "\n",
    "# Строим столбчатую диаграмму с помощью pandas через plot(kind='bar')\n",
    "df['district'].value_counts().plot(\n",
    "               kind='barh',\n",
    "               rot=0,\n",
    "               legend=False,\n",
    "               title='Распределение объектов общественного питания по административным округам',\n",
    "               color='g'\n",
    ")\n",
    "\n",
    "# Настраиваем оформление графика\n",
    "plt.xlabel('Количество заведений')\n",
    "plt.ylabel('Округа')\n",
    "\n",
    "# Добавляем сетку графика\n",
    "plt.grid(axis='x')\n",
    "\n",
    "# Выводим график\n",
    "plt.show()"
   ]
  },
  {
   "cell_type": "markdown",
   "id": "ed450445",
   "metadata": {},
   "source": [
    "Наибольшее количество заведений находится в центре Москвы (2242), наименьшее в Северо-Западном округе (409). В остальных округах примерно одинаковое количество заведений и варьируется от 709 до 899."
   ]
  },
  {
   "cell_type": "markdown",
   "id": "602cdcd8",
   "metadata": {},
   "source": [
    "Отдельно исследуем центр Москвы"
   ]
  },
  {
   "cell_type": "code",
   "execution_count": 28,
   "id": "41f1654a",
   "metadata": {
    "id": "41f1654a",
    "scrolled": true
   },
   "outputs": [
    {
     "data": {
      "text/plain": [
       "ресторан           670\n",
       "кафе               464\n",
       "кофейня            428\n",
       "бар,паб            364\n",
       "пиццерия           113\n",
       "быстрое питание     87\n",
       "столовая            66\n",
       "булочная            50\n",
       "Name: category, dtype: int64"
      ]
     },
     "execution_count": 28,
     "metadata": {},
     "output_type": "execute_result"
    }
   ],
   "source": [
    "# Создадим отфильтрованный даатфрейм по центральному округу\n",
    "central_df = df[df['district'] == 'Центральный административный округ']\n",
    "\n",
    "# Используем value_counts() для подсчёта количества заведений по категориям\n",
    "central_df['category'].value_counts()"
   ]
  },
  {
   "cell_type": "code",
   "execution_count": 29,
   "id": "003b4ff6-2bfe-4857-a5f5-e63a834e4e8c",
   "metadata": {
    "scrolled": true
   },
   "outputs": [
    {
     "data": {
      "image/png": "[encoded data removed]",
      "text/plain": [
       "<Figure size 504x216 with 1 Axes>"
      ]
     },
     "metadata": {
      "needs_background": "light"
     },
     "output_type": "display_data"
    }
   ],
   "source": [
    "# Создаём контейнер графика matplotlib и задаём его размер\n",
    "plt.figure(figsize=(7, 3))\n",
    "\n",
    "# Строим столбчатую диаграмму \n",
    "central_df['category'].value_counts().plot(\n",
    "               kind='barh',\n",
    "               rot=0,\n",
    "               legend=False,\n",
    "               title='Распределение объектов общественного питания по центральному округу',\n",
    "               color='g'\n",
    ")\n",
    "\n",
    "# Настраиваем оформление графика\n",
    "plt.xlabel('Количество заведений')\n",
    "plt.ylabel('Категории')\n",
    "\n",
    "# Добавляем сетку графика\n",
    "plt.grid(axis='x')\n",
    "\n",
    "# Выводим график\n",
    "plt.show()"
   ]
  },
  {
   "cell_type": "markdown",
   "id": "1952620e",
   "metadata": {},
   "source": [
    "В центре Москвы преобладают рестораны (670 шт.), далее идут кафе (464 шт.), кофейни (428 шт.) и бары (364 шт.), а булочных и столовых наименьшее количество, 66 и 50 соотвественно."
   ]
  },
  {
   "cell_type": "markdown",
   "id": "7c824f58",
   "metadata": {
    "id": "7c824f58"
   },
   "source": [
    "---\n",
    "\n",
    "### Задача 3\n",
    "\n",
    "Изучим соотношение сетевых и несетевых заведений в целом по всем данным и в разрезе категорий заведения."
   ]
  },
  {
   "cell_type": "code",
   "execution_count": 30,
   "id": "ef442d1a",
   "metadata": {
    "id": "ef442d1a"
   },
   "outputs": [
    {
     "data": {
      "text/plain": [
       "0    5198\n",
       "1    3205\n",
       "Name: chain, dtype: int64"
      ]
     },
     "execution_count": 30,
     "metadata": {},
     "output_type": "execute_result"
    }
   ],
   "source": [
    "# Посчитаем количество сетевых и не сетевых заведений, где 0 означает, \n",
    "# что заведение является не сетевым, а 1 является сетевым\n",
    "df['chain'].value_counts()"
   ]
  },
  {
   "cell_type": "markdown",
   "id": "22da859a",
   "metadata": {},
   "source": [
    "Визуализируем распределение в столбце `chain`"
   ]
  },
  {
   "cell_type": "code",
   "execution_count": 31,
   "id": "8de4be70",
   "metadata": {},
   "outputs": [
    {
     "data": {
      "image/png": "[encoded data removed]",
      "text/plain": [
       "<Figure size 504x216 with 1 Axes>"
      ]
     },
     "metadata": {},
     "output_type": "display_data"
    }
   ],
   "source": [
    "# Создаём контейнер графика matplotlib и задаём его размер\n",
    "plt.figure(figsize=(7, 3))\n",
    "\n",
    "# Строим круговую диаграмму\n",
    "df['chain'].value_counts().plot(\n",
    "               kind='pie',  # Используем круговую диаграмму\n",
    "               autopct='%1.1f%%',  # Добавляем проценты на диаграмму\n",
    "               startangle=90,  # Начинаем с угла 90 градусов для лучшего визуального восприятия\n",
    "               colors=['g', 'lightgray'],  # Задаём цвета для категорий\n",
    "               title='Соотношение сетевых и не сетевых заведений питания',\n",
    "               labels=['Сетевые', 'Не сетевые']\n",
    ")\n",
    "\n",
    "# Настраиваем оформление графика\n",
    "plt.ylabel('')  # Убираем подпись оси Y, так как для круговой диаграммы она не нужна\n",
    "\n",
    "# Выводим график\n",
    "plt.show()"
   ]
  },
  {
   "cell_type": "markdown",
   "id": "3d4a8f48",
   "metadata": {},
   "source": [
    "Судя по данным несетевых заведений больше чем сетевых, 5198 не сетевых против 3205 сетевых."
   ]
  },
  {
   "cell_type": "code",
   "execution_count": 32,
   "id": "0de29fa2",
   "metadata": {
    "id": "0de29fa2",
    "scrolled": true
   },
   "outputs": [
    {
     "data": {
      "text/html": [
       "<div>\n",
       "<style scoped>\n",
       "    .dataframe tbody tr th:only-of-type {\n",
       "        vertical-align: middle;\n",
       "    }\n",
       "\n",
       "    .dataframe tbody tr th {\n",
       "        vertical-align: top;\n",
       "    }\n",
       "\n",
       "    .dataframe thead th {\n",
       "        text-align: right;\n",
       "    }\n",
       "</style>\n",
       "<table border=\"1\" class=\"dataframe\">\n",
       "  <thead>\n",
       "    <tr style=\"text-align: right;\">\n",
       "      <th>category</th>\n",
       "      <th>бар,паб</th>\n",
       "      <th>булочная</th>\n",
       "      <th>быстрое питание</th>\n",
       "      <th>кафе</th>\n",
       "      <th>кофейня</th>\n",
       "      <th>пиццерия</th>\n",
       "      <th>ресторан</th>\n",
       "      <th>столовая</th>\n",
       "    </tr>\n",
       "    <tr>\n",
       "      <th>chain</th>\n",
       "      <th></th>\n",
       "      <th></th>\n",
       "      <th></th>\n",
       "      <th></th>\n",
       "      <th></th>\n",
       "      <th></th>\n",
       "      <th></th>\n",
       "      <th></th>\n",
       "    </tr>\n",
       "  </thead>\n",
       "  <tbody>\n",
       "    <tr>\n",
       "      <th>0</th>\n",
       "      <td>596</td>\n",
       "      <td>99</td>\n",
       "      <td>371</td>\n",
       "      <td>1598</td>\n",
       "      <td>693</td>\n",
       "      <td>303</td>\n",
       "      <td>1311</td>\n",
       "      <td>227</td>\n",
       "    </tr>\n",
       "    <tr>\n",
       "      <th>1</th>\n",
       "      <td>169</td>\n",
       "      <td>157</td>\n",
       "      <td>232</td>\n",
       "      <td>779</td>\n",
       "      <td>720</td>\n",
       "      <td>330</td>\n",
       "      <td>730</td>\n",
       "      <td>88</td>\n",
       "    </tr>\n",
       "  </tbody>\n",
       "</table>\n",
       "</div>"
      ],
      "text/plain": [
       "category  бар,паб  булочная  быстрое питание  кафе  кофейня  пиццерия  \\\n",
       "chain                                                                   \n",
       "0             596        99              371  1598      693       303   \n",
       "1             169       157              232   779      720       330   \n",
       "\n",
       "category  ресторан  столовая  \n",
       "chain                         \n",
       "0             1311       227  \n",
       "1              730        88  "
      ]
     },
     "execution_count": 32,
     "metadata": {},
     "output_type": "execute_result"
    }
   ],
   "source": [
    "# Посчитаем количество сетевых и не сетевых заведений в разрезе категорий этих заведений\n",
    "df.groupby('chain')['category'].value_counts().sort_values(ascending=False).unstack()"
   ]
  },
  {
   "cell_type": "code",
   "execution_count": 33,
   "id": "65d7ce74",
   "metadata": {},
   "outputs": [
    {
     "data": {
      "text/plain": [
       "кафе               779\n",
       "ресторан           730\n",
       "кофейня            720\n",
       "пиццерия           330\n",
       "быстрое питание    232\n",
       "бар,паб            169\n",
       "булочная           157\n",
       "столовая            88\n",
       "Name: category, dtype: int64"
      ]
     },
     "metadata": {},
     "output_type": "display_data"
    }
   ],
   "source": [
    "# Фильтруем данные, оставляя только строки, где chain = 1\n",
    "filtered_df = df[df['chain'] == 1]\n",
    "\n",
    "# Группируем и считаем количество сетевых заведений по категориям\n",
    "display(filtered_df['category'].value_counts())"
   ]
  },
  {
   "cell_type": "markdown",
   "id": "f908f07b",
   "metadata": {},
   "source": [
    "Посчитаем долю сетевых заведений в разрезе категорий этих заведений"
   ]
  },
  {
   "cell_type": "code",
   "execution_count": 34,
   "id": "fa47f6ff",
   "metadata": {},
   "outputs": [
    {
     "data": {
      "image/png": "[encoded data removed]",
      "text/plain": [
       "<Figure size 576x288 with 1 Axes>"
      ]
     },
     "metadata": {
      "needs_background": "light"
     },
     "output_type": "display_data"
    }
   ],
   "source": [
    "# Группируем данные по категориям и считаем долю сетевых заведений\n",
    "chain_by_category = df.groupby('category')['chain'].mean().sort_values(ascending=False)\n",
    "\n",
    "# Построим график столбчатой диаграммы\n",
    "chain_by_category.plot(\n",
    "               kind='bar',\n",
    "               title='Доля сетевых заведений по категориям',\n",
    "               legend=False,\n",
    "               rot=45,\n",
    "               figsize=(8, 4),\n",
    "               color='g'\n",
    ")\n",
    "\n",
    "# Настраиваем оформление графика\n",
    "plt.xlabel('Категория заведения')\n",
    "plt.ylabel('Доля сетевых заведений')\n",
    "\n",
    "# Добавляем сетку графика\n",
    "plt.grid(axis='y')\n",
    "\n",
    "# Выводим график\n",
    "plt.show()"
   ]
  },
  {
   "cell_type": "markdown",
   "id": "30e858a0",
   "metadata": {},
   "source": [
    "Больше всего сетевых заведений по количеству это кафе, кофейни и рестораны, меньше всего это столовые и булочные, которых в целом меньше по количеству заведений в Москве, но доля сетевых заведений среди не сетевых в этих категориях выглядит иначе, больше всего доля сетевых заведений в булочной, кофейне и пиццерии, меньше всего среди баров."
   ]
  },
  {
   "cell_type": "markdown",
   "id": "5913c3e3",
   "metadata": {
    "id": "5913c3e3"
   },
   "source": [
    "---\n",
    "\n",
    "### Задача 4\n",
    "\n",
    "Исследуем количество посадочных мест в заведениях."
   ]
  },
  {
   "cell_type": "code",
   "execution_count": 35,
   "id": "6cb238d2",
   "metadata": {
    "id": "6cb238d2"
   },
   "outputs": [
    {
     "name": "stdout",
     "output_type": "stream",
     "text": [
      "Статистические показатели столбца seats:\n"
     ]
    },
    {
     "data": {
      "text/plain": [
       "count    4792.000000\n",
       "mean      108.361436\n",
       "std       122.841130\n",
       "min         0.000000\n",
       "25%        40.000000\n",
       "50%        75.000000\n",
       "75%       140.000000\n",
       "max      1288.000000\n",
       "Name: seats, dtype: float64"
      ]
     },
     "execution_count": 35,
     "metadata": {},
     "output_type": "execute_result"
    }
   ],
   "source": [
    "# Изучим статистические показатели столбца seats\n",
    "print('Статистические показатели столбца seats:')\n",
    "df['seats'].describe()"
   ]
  },
  {
   "cell_type": "code",
   "execution_count": 36,
   "id": "ceadf25b",
   "metadata": {
    "id": "ceadf25b"
   },
   "outputs": [
    {
     "data": {
      "image/png": "[encoded data removed]",
      "text/plain": [
       "<Figure size 1080x216 with 1 Axes>"
      ]
     },
     "metadata": {
      "needs_background": "light"
     },
     "output_type": "display_data"
    }
   ],
   "source": [
    "# Создаём контейнер графика matplotlib и задаём его размер\n",
    "plt.figure(figsize=(15, 3))\n",
    "\n",
    "# Строим гистограмму \n",
    "df['seats'].plot(\n",
    "                kind='hist', \n",
    "                bins=50,\n",
    "                alpha=0.75,\n",
    "                edgecolor='black',\n",
    "                rot=0,\n",
    "                color='g'\n",
    ")\n",
    "\n",
    "# Настраиваем оформление графика\n",
    "plt.title('Распределение количества посадочных мест в заведениях')\n",
    "plt.xlabel('Количество посадочных мест')\n",
    "plt.ylabel('Частота')\n",
    "\n",
    "# Добавляем сетку графика\n",
    "plt.grid()\n",
    "# Добавляем деления кратные 50 на график\n",
    "plt.xticks(range(0, 1288, 50))\n",
    "\n",
    "# Выводим график\n",
    "plt.show()"
   ]
  },
  {
   "cell_type": "code",
   "execution_count": 37,
   "id": "5288690c-e9ee-4a69-b25e-58c360d54307",
   "metadata": {
    "scrolled": true
   },
   "outputs": [
    {
     "data": {
      "image/png": "[encoded data removed]",
      "text/plain": [
       "<Figure size 864x144 with 1 Axes>"
      ]
     },
     "metadata": {
      "needs_background": "light"
     },
     "output_type": "display_data"
    }
   ],
   "source": [
    "# Создаём контейнер графика matplotlib и задаём его размер\n",
    "plt.figure(figsize=(12, 2))\n",
    "\n",
    "# Строим диаграмму размаха значений в столбце seats\n",
    "df.boxplot(column='seats', vert=False)\n",
    "\n",
    "# Добавляем заголовок и метки оси\n",
    "plt.title('Распределение количества посадочных мест в заведениях')\n",
    "plt.xlabel('Количество посадочных мест')\n",
    "\n",
    "# Выводим график\n",
    "plt.show()"
   ]
  },
  {
   "cell_type": "code",
   "execution_count": 38,
   "id": "81c304d9",
   "metadata": {
    "scrolled": true
   },
   "outputs": [
    {
     "data": {
      "text/html": [
       "<div>\n",
       "<style scoped>\n",
       "    .dataframe tbody tr th:only-of-type {\n",
       "        vertical-align: middle;\n",
       "    }\n",
       "\n",
       "    .dataframe tbody tr th {\n",
       "        vertical-align: top;\n",
       "    }\n",
       "\n",
       "    .dataframe thead th {\n",
       "        text-align: right;\n",
       "    }\n",
       "</style>\n",
       "<table border=\"1\" class=\"dataframe\">\n",
       "  <thead>\n",
       "    <tr style=\"text-align: right;\">\n",
       "      <th></th>\n",
       "      <th>name</th>\n",
       "      <th>seats</th>\n",
       "      <th>category</th>\n",
       "    </tr>\n",
       "  </thead>\n",
       "  <tbody>\n",
       "    <tr>\n",
       "      <th>2770</th>\n",
       "      <td>шоколадница</td>\n",
       "      <td>1040</td>\n",
       "      <td>кофейня</td>\n",
       "    </tr>\n",
       "    <tr>\n",
       "      <th>6524</th>\n",
       "      <td>ян примус</td>\n",
       "      <td>1288</td>\n",
       "      <td>ресторан</td>\n",
       "    </tr>\n",
       "    <tr>\n",
       "      <th>6838</th>\n",
       "      <td>alternative coffee</td>\n",
       "      <td>1288</td>\n",
       "      <td>кофейня</td>\n",
       "    </tr>\n",
       "    <tr>\n",
       "      <th>6658</th>\n",
       "      <td>гудбар</td>\n",
       "      <td>1288</td>\n",
       "      <td>бар,паб</td>\n",
       "    </tr>\n",
       "    <tr>\n",
       "      <th>6574</th>\n",
       "      <td>мюнгер</td>\n",
       "      <td>1288</td>\n",
       "      <td>пиццерия</td>\n",
       "    </tr>\n",
       "    <tr>\n",
       "      <th>6807</th>\n",
       "      <td>loft-cafe академия</td>\n",
       "      <td>1288</td>\n",
       "      <td>кафе</td>\n",
       "    </tr>\n",
       "    <tr>\n",
       "      <th>6808</th>\n",
       "      <td>яндекс лавка</td>\n",
       "      <td>1288</td>\n",
       "      <td>ресторан</td>\n",
       "    </tr>\n",
       "    <tr>\n",
       "      <th>6518</th>\n",
       "      <td>delonixcafe</td>\n",
       "      <td>1288</td>\n",
       "      <td>ресторан</td>\n",
       "    </tr>\n",
       "    <tr>\n",
       "      <th>6641</th>\n",
       "      <td>one price coffee</td>\n",
       "      <td>1288</td>\n",
       "      <td>кофейня</td>\n",
       "    </tr>\n",
       "    <tr>\n",
       "      <th>2722</th>\n",
       "      <td>маргарита</td>\n",
       "      <td>1040</td>\n",
       "      <td>быстрое питание</td>\n",
       "    </tr>\n",
       "    <tr>\n",
       "      <th>2713</th>\n",
       "      <td>ваня и гоги</td>\n",
       "      <td>1040</td>\n",
       "      <td>бар,паб</td>\n",
       "    </tr>\n",
       "    <tr>\n",
       "      <th>4231</th>\n",
       "      <td>рестобар argomento</td>\n",
       "      <td>1200</td>\n",
       "      <td>столовая</td>\n",
       "    </tr>\n",
       "    <tr>\n",
       "      <th>2966</th>\n",
       "      <td>матрешка</td>\n",
       "      <td>1040</td>\n",
       "      <td>кафе</td>\n",
       "    </tr>\n",
       "    <tr>\n",
       "      <th>6684</th>\n",
       "      <td>пивной ресторан</td>\n",
       "      <td>1288</td>\n",
       "      <td>бар,паб</td>\n",
       "    </tr>\n",
       "    <tr>\n",
       "      <th>6690</th>\n",
       "      <td>японская кухня</td>\n",
       "      <td>1288</td>\n",
       "      <td>ресторан</td>\n",
       "    </tr>\n",
       "    <tr>\n",
       "      <th>6771</th>\n",
       "      <td>точка</td>\n",
       "      <td>1288</td>\n",
       "      <td>кафе</td>\n",
       "    </tr>\n",
       "  </tbody>\n",
       "</table>\n",
       "</div>"
      ],
      "text/plain": [
       "                    name  seats         category\n",
       "2770         шоколадница   1040          кофейня\n",
       "6524           ян примус   1288         ресторан\n",
       "6838  alternative coffee   1288          кофейня\n",
       "6658              гудбар   1288          бар,паб\n",
       "6574              мюнгер   1288         пиццерия\n",
       "6807  loft-cafe академия   1288             кафе\n",
       "6808        яндекс лавка   1288         ресторан\n",
       "6518         delonixcafe   1288         ресторан\n",
       "6641    one price coffee   1288          кофейня\n",
       "2722           маргарита   1040  быстрое питание\n",
       "2713         ваня и гоги   1040          бар,паб\n",
       "4231  рестобар argomento   1200         столовая\n",
       "2966            матрешка   1040             кафе\n",
       "6684     пивной ресторан   1288          бар,паб\n",
       "6690      японская кухня   1288         ресторан\n",
       "6771               точка   1288             кафе"
      ]
     },
     "metadata": {},
     "output_type": "display_data"
    }
   ],
   "source": [
    "# Выведем данные по заведениям, у которых более 1000 посадочных мест\n",
    "anomalies = df[df['seats'] > 1000]\n",
    "display(anomalies[['name', 'seats', 'category']])"
   ]
  },
  {
   "cell_type": "markdown",
   "id": "db87efa9",
   "metadata": {},
   "source": [
    "Распределение количества посадочных мест асимметричное, скошенное вправо. Минимальный количество мест — 0, что не является ошибкой, это могут быть киоски с шавермой, блинами и кофе. Максимальное количество посадочных мест — аномально высокое 1288, что может являться ошибкой, могли быть данные с фудкорта, где расположено кафе, могли быть просто не корректные данные, но также это может быть и залы для мероприятий или большие рестораны и тогда это не будет являться ошибкой. Стандартное отклонение достаточно большое 122, что указывает на большой разброс в данных. Среднее значение соответствует 108 мест, тогда как медиана — 75, что также говорит о неравномерном распределении и аномалиях в данных. По гистограмме размаха видно, что значения выше примерно 300 мест можно считать выбросами, но мы оставим все значения поскольку если отбросить такие данные, то можно исключить из анализа целую категорию заведений."
   ]
  },
  {
   "cell_type": "markdown",
   "id": "da554859",
   "metadata": {},
   "source": [
    "Чтобы определить наиболее типичное количество посадочных мест для каждой категории, мы используем медиану (она менее чувствительна к выбросам, чем среднее значение)"
   ]
  },
  {
   "cell_type": "code",
   "execution_count": 39,
   "id": "8479e881",
   "metadata": {},
   "outputs": [
    {
     "name": "stdout",
     "output_type": "stream",
     "text": [
      "category\n",
      "бар,паб            82.5\n",
      "булочная           50.0\n",
      "быстрое питание    65.0\n",
      "кафе               60.0\n",
      "кофейня            80.0\n",
      "пиццерия           55.0\n",
      "ресторан           86.0\n",
      "столовая           75.5\n",
      "Name: seats, dtype: Float64\n"
     ]
    }
   ],
   "source": [
    "# Группируем данные по категориям и считаем медиану\n",
    "typical_seats = df.groupby('category')['seats'].median()\n",
    "print(typical_seats)"
   ]
  },
  {
   "cell_type": "markdown",
   "id": "8ed065ea",
   "metadata": {
    "id": "8ed065ea"
   },
   "source": [
    "---\n",
    "\n",
    "### Задача 5\n",
    "\n",
    "Исследуем рейтинг заведений."
   ]
  },
  {
   "cell_type": "code",
   "execution_count": 40,
   "id": "cc5206f8",
   "metadata": {
    "id": "cc5206f8"
   },
   "outputs": [
    {
     "data": {
      "text/plain": [
       "category\n",
       "бар,паб            4.387712\n",
       "пиццерия           4.301264\n",
       "ресторан           4.290348\n",
       "кофейня            4.277282\n",
       "булочная           4.268359\n",
       "столовая           4.211429\n",
       "кафе               4.123896\n",
       "быстрое питание    4.050249\n",
       "Name: rating, dtype: float32"
      ]
     },
     "execution_count": 40,
     "metadata": {},
     "output_type": "execute_result"
    }
   ],
   "source": [
    "# Выведем усредненный рейтинг по категориям заведений\n",
    "df.groupby('category')['rating'].mean().sort_values(ascending=False)"
   ]
  },
  {
   "cell_type": "code",
   "execution_count": 41,
   "id": "59873c31",
   "metadata": {},
   "outputs": [
    {
     "data": {
      "text/plain": [
       "count    8403.000000\n",
       "mean        4.229894\n",
       "std         0.470426\n",
       "min         1.000000\n",
       "25%         4.100000\n",
       "50%         4.300000\n",
       "75%         4.400000\n",
       "max         5.000000\n",
       "Name: rating, dtype: float64"
      ]
     },
     "execution_count": 41,
     "metadata": {},
     "output_type": "execute_result"
    }
   ],
   "source": [
    "# Выведем статистические показатели столбца rating\n",
    "df['rating'].describe()"
   ]
  },
  {
   "cell_type": "code",
   "execution_count": 42,
   "id": "3e0ec5d7",
   "metadata": {
    "id": "3e0ec5d7",
    "scrolled": true
   },
   "outputs": [
    {
     "data": {
      "image/png": "[encoded data removed]",
      "text/plain": [
       "<Figure size 504x216 with 1 Axes>"
      ]
     },
     "metadata": {
      "needs_background": "light"
     },
     "output_type": "display_data"
    }
   ],
   "source": [
    "# Создаём контейнер графика matplotlib и задаём его размер\n",
    "plt.figure(figsize=(7, 3))\n",
    "\n",
    "# Строим столбчатую диаграмму \n",
    "df.groupby('category')['rating'].mean().sort_values(ascending=False).plot(\n",
    "                        kind='bar',\n",
    "                        rot=45,\n",
    "                        legend=False,\n",
    "                        title='Распределение средних рейтингов по категориям заведений',\n",
    "                        color='g'\n",
    ")\n",
    "\n",
    "# Настраиваем оформление графика\n",
    "plt.xlabel('Категории')\n",
    "plt.ylabel('Средний рейтинг')\n",
    "\n",
    "# Добавляем сетку графика\n",
    "plt.grid(axis='y')\n",
    "\n",
    "# Выводим график\n",
    "plt.show()"
   ]
  },
  {
   "cell_type": "markdown",
   "id": "f73e06fd",
   "metadata": {
    "id": "766c86cb"
   },
   "source": [
    "Визуализация и анализ показывают, что средние рейтинги немного различаются между категориями, но в среднем у всех близки к четырем. Выше всего средний рейтинг у баров (4.39), меньше всего у заведений бытстрого питания (4.05)"
   ]
  },
  {
   "cell_type": "markdown",
   "id": "dd9702d9",
   "metadata": {
    "id": "dd9702d9"
   },
   "source": [
    "---\n",
    "\n",
    "### Задача 6\n",
    "\n",
    "Изучим, с какими данными показывают самую сильную корреляцию рейтинги заведений."
   ]
  },
  {
   "cell_type": "code",
   "execution_count": 43,
   "id": "15400eb9",
   "metadata": {
    "id": "15400eb9"
   },
   "outputs": [
    {
     "name": "stdout",
     "output_type": "stream",
     "text": [
      "interval columns not set, guessing: ['chain', 'seats', 'rating']\n",
      "Корреляционная матрица с коэффициентом phi_k для переменной rating\n"
     ]
    },
    {
     "data": {
      "text/html": [
       "<div>\n",
       "<style scoped>\n",
       "    .dataframe tbody tr th:only-of-type {\n",
       "        vertical-align: middle;\n",
       "    }\n",
       "\n",
       "    .dataframe tbody tr th {\n",
       "        vertical-align: top;\n",
       "    }\n",
       "\n",
       "    .dataframe thead th {\n",
       "        text-align: right;\n",
       "    }\n",
       "</style>\n",
       "<table border=\"1\" class=\"dataframe\">\n",
       "  <thead>\n",
       "    <tr style=\"text-align: right;\">\n",
       "      <th></th>\n",
       "      <th>rating</th>\n",
       "    </tr>\n",
       "  </thead>\n",
       "  <tbody>\n",
       "    <tr>\n",
       "      <th>price</th>\n",
       "      <td>0.262056</td>\n",
       "    </tr>\n",
       "    <tr>\n",
       "      <th>category</th>\n",
       "      <td>0.198941</td>\n",
       "    </tr>\n",
       "    <tr>\n",
       "      <th>district</th>\n",
       "      <td>0.189389</td>\n",
       "    </tr>\n",
       "    <tr>\n",
       "      <th>is_24_7</th>\n",
       "      <td>0.160864</td>\n",
       "    </tr>\n",
       "    <tr>\n",
       "      <th>chain</th>\n",
       "      <td>0.119417</td>\n",
       "    </tr>\n",
       "    <tr>\n",
       "      <th>seats</th>\n",
       "      <td>0.000000</td>\n",
       "    </tr>\n",
       "  </tbody>\n",
       "</table>\n",
       "</div>"
      ],
      "text/plain": [
       "            rating\n",
       "price     0.262056\n",
       "category  0.198941\n",
       "district  0.189389\n",
       "is_24_7   0.160864\n",
       "chain     0.119417\n",
       "seats     0.000000"
      ]
     },
     "execution_count": 43,
     "metadata": {},
     "output_type": "execute_result"
    }
   ],
   "source": [
    "# Вычисляем корреляционную матрицу с использованием phi_k\n",
    "correlation_matrix = df[['category', 'district', 'chain', 'seats', 'price', 'is_24_7', 'rating']].phik_matrix()\n",
    "\n",
    "# Выводим результат\n",
    "print('Корреляционная матрица с коэффициентом phi_k для переменной rating')\n",
    "correlation_matrix[correlation_matrix.index != 'rating'][['rating']].sort_values(by='rating', ascending=False)"
   ]
  },
  {
   "cell_type": "code",
   "execution_count": 44,
   "id": "1a65a84d",
   "metadata": {
    "id": "1a65a84d"
   },
   "outputs": [
    {
     "data": {
      "image/png": "[encoded data removed]",
      "text/plain": [
       "<Figure size 144x432 with 1 Axes>"
      ]
     },
     "metadata": {
      "needs_background": "light"
     },
     "output_type": "display_data"
    }
   ],
   "source": [
    "# Строим тепловую карту\n",
    "plt.figure(figsize=(2, 6))\n",
    "\n",
    "# Сохраняем матрицу корреляции признака rating с другими признаками заведения\n",
    "data_heatmap = correlation_matrix[correlation_matrix.index != 'rating'][['rating']].sort_values(by='rating', ascending=False)\n",
    "sns.heatmap(\n",
    "    data_heatmap,\n",
    "    annot=True,\n",
    "    fmt='.2f',\n",
    "    cmap='coolwarm',\n",
    "    linewidths=0.5,\n",
    "    cbar=False\n",
    ")\n",
    "\n",
    "# Добавляем заголовок и подпись по оси Х\n",
    "plt.title('Тепловая карта коэффициента phi_k \\n для данных rating')\n",
    "plt.xlabel('Рэйтинг')\n",
    "\n",
    "# Выводим график\n",
    "plt.show()"
   ]
  },
  {
   "cell_type": "markdown",
   "id": "cbdbdfb9",
   "metadata": {},
   "source": [
    "Cравним значения в каждом сегменте со средним для всех данных — это поможет понять, где метрика уменьшается, а где увеличивается. "
   ]
  },
  {
   "cell_type": "code",
   "execution_count": 45,
   "id": "f51a1070-a44d-4539-9fd5-1f269179b219",
   "metadata": {
    "scrolled": true
   },
   "outputs": [
    {
     "data": {
      "image/png": "[encoded data removed]",
      "text/plain": [
       "<Figure size 504x216 with 1 Axes>"
      ]
     },
     "metadata": {
      "needs_background": "light"
     },
     "output_type": "display_data"
    }
   ],
   "source": [
    "# Применим функцию и изучим распределение среднего рейтинга в зависимости от категории цен\n",
    "grouped = df.groupby('price').agg({'rating':'mean'}).sort_values('rating', ascending=False)\n",
    "grouped.plot(kind='bar',\n",
    "                title='Распределение средней оценки заведения в зависимости \\n от категории цен',\n",
    "                legend=True,\n",
    "                ylabel='Средний рейтинг',\n",
    "                xlabel='Категория цен',\n",
    "                rot=45,\n",
    "                color='g',\n",
    "                figsize=(7, 3))\n",
    "\n",
    "# Рассчитываем общее значение усредненного рейтинга по всем данным\n",
    "mean_churn_share = df.agg({'rating':'mean'}).iloc[0]\n",
    "\n",
    "# Наносим на график линию с усредненным значением по всем данным\n",
    "plt.axhline(mean_churn_share, color='red',\n",
    "                linestyle='--', linewidth=1,\n",
    "                label=f'Значение по всем данным {round(mean_churn_share,4)}')\n",
    "\n",
    "plt.grid()\n",
    "plt.legend()\n",
    "plt.show()"
   ]
  },
  {
   "cell_type": "markdown",
   "id": "b8ddf6df",
   "metadata": {},
   "source": [
    "Нет чёткой зависимости между увеличением или уменьшением среднего рейтинга и категорией цен. Значения находятся примерно около среднего, однако можно отметить, что заведения с высокими ценами и ценами выше среднего имеют рейтинг выше, чем остальные."
   ]
  },
  {
   "cell_type": "code",
   "execution_count": 46,
   "id": "9da616d7",
   "metadata": {
    "scrolled": true
   },
   "outputs": [
    {
     "data": {
      "image/png": "[encoded data removed]",
      "text/plain": [
       "<Figure size 504x216 with 1 Axes>"
      ]
     },
     "metadata": {
      "needs_background": "light"
     },
     "output_type": "display_data"
    }
   ],
   "source": [
    "# Применим функцию и изучим распределение среднего рейтинга в зависимости от округа Москвы\n",
    "grouped = df.groupby('district').agg({'rating':'mean'}).sort_values(by='rating', ascending=False)\n",
    "grouped.plot(kind='barh',\n",
    "                title='Распределение средней оценки заведения в зависимости от округа Москвы',\n",
    "                legend=True,\n",
    "                ylabel='Средний рейтинг',\n",
    "                xlabel='Округ',\n",
    "                rot=0,\n",
    "                color='g',\n",
    "                figsize=(7, 3))\n",
    "\n",
    "# Рассчитываем общее значение усредненного рейтинга по всем данным\n",
    "mean_churn_share = df.agg({'rating':'mean'}).iloc[0]\n",
    "\n",
    "# Наносим на график линию с усредненным рейтингом по всем данным\n",
    "plt.axvline(mean_churn_share, color='red',\n",
    "                linestyle='--', linewidth=1,\n",
    "                label=f'Значение по всем данным {round(mean_churn_share,4)}')\n",
    "\n",
    "plt.grid()\n",
    "plt.legend()\n",
    "plt.show()"
   ]
  },
  {
   "cell_type": "markdown",
   "id": "d0f45363",
   "metadata": {},
   "source": [
    "Как и с графиком выше нет чёткой зависимости между увеличением или уменьшением среднего рейтинга и районом Москвы. Значения находятся примерно около среднего, однако можно отметить, что в центральнмо районе в среднем рейтинг выше, а в Юго-Восточном немного ниже. "
   ]
  },
  {
   "cell_type": "code",
   "execution_count": 47,
   "id": "a3125511-c9b5-40e9-b8eb-02dea974910f",
   "metadata": {},
   "outputs": [
    {
     "data": {
      "image/png": "[encoded data removed]",
      "text/plain": [
       "<Figure size 504x216 with 1 Axes>"
      ]
     },
     "metadata": {
      "needs_background": "light"
     },
     "output_type": "display_data"
    }
   ],
   "source": [
    "# Применим функцию и изучим распределение среднего рейтинга в зависимости от категории цен\n",
    "grouped = df.groupby('category').agg({'rating':'mean'}).sort_values('rating', ascending=False)\n",
    "grouped.plot(kind='bar',\n",
    "                title='Распределение средней оценки заведения в зависимости \\n от категории заведения',\n",
    "                legend=True,\n",
    "                ylabel='Средний рейтинг',\n",
    "                xlabel='Категория заведения',\n",
    "                rot=45,\n",
    "                color='g',\n",
    "                figsize=(7, 3))\n",
    "\n",
    "# Рассчитываем общее значение value по всем данным\n",
    "mean_churn_share = df.agg({'rating':'mean'}).iloc[0]\n",
    "\n",
    "# Наносим на график линию с значением value по всем данным\n",
    "plt.axhline(mean_churn_share, color='red',\n",
    "                linestyle='--', linewidth=1,\n",
    "                label=f'Значение по всем данным {round(mean_churn_share,4)}')\n",
    "\n",
    "plt.grid()\n",
    "plt.legend()\n",
    "plt.show()"
   ]
  },
  {
   "cell_type": "markdown",
   "id": "bbb40353",
   "metadata": {},
   "source": [
    "Нет чёткой зависимости между увеличением или уменьшением среднего рейтинга и категорией заведения. Значения находятся примерно около среднего, однако можно отметить, что в категории бар средний рейтинг выше, а в быстром питании и кафе немного ниже."
   ]
  },
  {
   "cell_type": "code",
   "execution_count": 48,
   "id": "8e916fdf",
   "metadata": {
    "scrolled": true
   },
   "outputs": [
    {
     "data": {
      "image/png": "[encoded data removed]",
      "text/plain": [
       "<Figure size 504x216 with 1 Axes>"
      ]
     },
     "metadata": {
      "needs_background": "light"
     },
     "output_type": "display_data"
    }
   ],
   "source": [
    "# Применим функцию и изучим распределение среднего рейтинга в зависимости от графика работы\n",
    "grouped = df.groupby('is_24_7').agg({'rating':'mean'})\n",
    "grouped.plot(kind='bar',\n",
    "                title='Распределение средней оценки заведения в зависимости \\n от графика работы',\n",
    "                legend=True,\n",
    "                ylabel='Средний рейтинг',\n",
    "                xlabel='Круглосуточный график работы',\n",
    "                rot=45,\n",
    "                color='g',\n",
    "                figsize=(7, 3))\n",
    "\n",
    "# Рассчитываем общее значение value по всем данным\n",
    "mean_churn_share = df.agg({'rating':'mean'}).iloc[0]\n",
    "\n",
    "# Наносим на график линию с значением value по всем данным\n",
    "plt.axhline(mean_churn_share, color='red',\n",
    "                linestyle='--', linewidth=1,\n",
    "                label=f'Значение по всем данным {round(mean_churn_share,4)}')\n",
    "\n",
    "plt.grid()\n",
    "plt.legend()\n",
    "plt.show()"
   ]
  },
  {
   "cell_type": "markdown",
   "id": "72c1dec5",
   "metadata": {},
   "source": [
    "Работает ли заведение круглосуточно или нет практически не влияет средний рейтинг заведения."
   ]
  },
  {
   "cell_type": "markdown",
   "id": "370de703",
   "metadata": {
    "id": "370de703"
   },
   "source": [
    "---\n",
    "\n",
    "### Задача 7\n",
    "\n",
    "Сгруппируем данные по названиям заведений и найдем топ-15 популярных сетей в Москве. Для них посчитаем значения среднего рейтинга."
   ]
  },
  {
   "cell_type": "code",
   "execution_count": 49,
   "id": "5d828a9a",
   "metadata": {
    "id": "5d828a9a",
    "scrolled": true
   },
   "outputs": [
    {
     "data": {
      "text/html": [
       "<div>\n",
       "<style scoped>\n",
       "    .dataframe tbody tr th:only-of-type {\n",
       "        vertical-align: middle;\n",
       "    }\n",
       "\n",
       "    .dataframe tbody tr th {\n",
       "        vertical-align: top;\n",
       "    }\n",
       "\n",
       "    .dataframe thead th {\n",
       "        text-align: right;\n",
       "    }\n",
       "</style>\n",
       "<table border=\"1\" class=\"dataframe\">\n",
       "  <thead>\n",
       "    <tr style=\"text-align: right;\">\n",
       "      <th></th>\n",
       "      <th>name</th>\n",
       "      <th>count</th>\n",
       "      <th>mean_rating</th>\n",
       "      <th>category</th>\n",
       "    </tr>\n",
       "  </thead>\n",
       "  <tbody>\n",
       "    <tr>\n",
       "      <th>0</th>\n",
       "      <td>шоколадница</td>\n",
       "      <td>120</td>\n",
       "      <td>4.177500</td>\n",
       "      <td>кофейня</td>\n",
       "    </tr>\n",
       "    <tr>\n",
       "      <th>1</th>\n",
       "      <td>домино'с пицца</td>\n",
       "      <td>76</td>\n",
       "      <td>4.169737</td>\n",
       "      <td>пиццерия</td>\n",
       "    </tr>\n",
       "    <tr>\n",
       "      <th>2</th>\n",
       "      <td>додо пицца</td>\n",
       "      <td>74</td>\n",
       "      <td>4.286487</td>\n",
       "      <td>пиццерия</td>\n",
       "    </tr>\n",
       "    <tr>\n",
       "      <th>3</th>\n",
       "      <td>one price coffee</td>\n",
       "      <td>71</td>\n",
       "      <td>4.064789</td>\n",
       "      <td>кофейня</td>\n",
       "    </tr>\n",
       "    <tr>\n",
       "      <th>4</th>\n",
       "      <td>яндекс лавка</td>\n",
       "      <td>69</td>\n",
       "      <td>3.872464</td>\n",
       "      <td>ресторан</td>\n",
       "    </tr>\n",
       "    <tr>\n",
       "      <th>5</th>\n",
       "      <td>cofix</td>\n",
       "      <td>65</td>\n",
       "      <td>4.075385</td>\n",
       "      <td>кофейня</td>\n",
       "    </tr>\n",
       "    <tr>\n",
       "      <th>6</th>\n",
       "      <td>prime</td>\n",
       "      <td>50</td>\n",
       "      <td>4.116000</td>\n",
       "      <td>ресторан</td>\n",
       "    </tr>\n",
       "    <tr>\n",
       "      <th>7</th>\n",
       "      <td>хинкальная</td>\n",
       "      <td>44</td>\n",
       "      <td>4.322727</td>\n",
       "      <td>ресторан</td>\n",
       "    </tr>\n",
       "    <tr>\n",
       "      <th>8</th>\n",
       "      <td>кофепорт</td>\n",
       "      <td>42</td>\n",
       "      <td>4.147619</td>\n",
       "      <td>кофейня</td>\n",
       "    </tr>\n",
       "    <tr>\n",
       "      <th>9</th>\n",
       "      <td>кулинарная лавка братьев караваевых</td>\n",
       "      <td>39</td>\n",
       "      <td>4.394872</td>\n",
       "      <td>кафе</td>\n",
       "    </tr>\n",
       "    <tr>\n",
       "      <th>10</th>\n",
       "      <td>теремок</td>\n",
       "      <td>38</td>\n",
       "      <td>4.123684</td>\n",
       "      <td>ресторан</td>\n",
       "    </tr>\n",
       "    <tr>\n",
       "      <th>11</th>\n",
       "      <td>чайхана</td>\n",
       "      <td>37</td>\n",
       "      <td>3.924324</td>\n",
       "      <td>кафе</td>\n",
       "    </tr>\n",
       "    <tr>\n",
       "      <th>12</th>\n",
       "      <td>cofefest</td>\n",
       "      <td>32</td>\n",
       "      <td>3.984375</td>\n",
       "      <td>кафе</td>\n",
       "    </tr>\n",
       "    <tr>\n",
       "      <th>13</th>\n",
       "      <td>буханка</td>\n",
       "      <td>32</td>\n",
       "      <td>4.396875</td>\n",
       "      <td>булочная</td>\n",
       "    </tr>\n",
       "    <tr>\n",
       "      <th>14</th>\n",
       "      <td>му-му</td>\n",
       "      <td>27</td>\n",
       "      <td>4.229630</td>\n",
       "      <td>кафе</td>\n",
       "    </tr>\n",
       "  </tbody>\n",
       "</table>\n",
       "</div>"
      ],
      "text/plain": [
       "                                   name  count  mean_rating  category\n",
       "0                           шоколадница    120     4.177500   кофейня\n",
       "1                        домино'с пицца     76     4.169737  пиццерия\n",
       "2                            додо пицца     74     4.286487  пиццерия\n",
       "3                      one price coffee     71     4.064789   кофейня\n",
       "4                          яндекс лавка     69     3.872464  ресторан\n",
       "5                                 cofix     65     4.075385   кофейня\n",
       "6                                 prime     50     4.116000  ресторан\n",
       "7                            хинкальная     44     4.322727  ресторан\n",
       "8                              кофепорт     42     4.147619   кофейня\n",
       "9   кулинарная лавка братьев караваевых     39     4.394872      кафе\n",
       "10                              теремок     38     4.123684  ресторан\n",
       "11                              чайхана     37     3.924324      кафе\n",
       "12                             cofefest     32     3.984375      кафе\n",
       "13                              буханка     32     4.396875  булочная\n",
       "14                                му-му     27     4.229630      кафе"
      ]
     },
     "metadata": {},
     "output_type": "display_data"
    }
   ],
   "source": [
    "# Фильтруем сетевые заведения\n",
    "df_chain = df[df['chain'] == 1]\n",
    "\n",
    "# Группируем по названиям сетей и считаем количество заведений\n",
    "chain_counts = df_chain.groupby('name')['id'].count().reset_index(name='count')\n",
    "\n",
    "# Выбираем топ 15 заведений по колчиеству\n",
    "top15 = chain_counts.sort_values(by='count', ascending=False).head(15)\n",
    "\n",
    "# Считаем средний рейтинг для каждой сети\n",
    "chain_rating = df_chain.groupby('name')['rating'].mean().reset_index(name='mean_rating')\n",
    "\n",
    "# Добавляем категорию для каждого заведения и оставляем только одну категорию на завеедение\n",
    "chain_category = df_chain.drop_duplicates(subset=['name'])[['name', 'category']]\n",
    "\n",
    "# Объединяем данные по количеству заведений и среднему рейтингу\n",
    "top15 = top15.merge(chain_rating, on='name')\n",
    "top15 = top15.merge(chain_category, on='name')\n",
    "\n",
    "# Выводим топ 15 заведений\n",
    "display(top15)"
   ]
  },
  {
   "cell_type": "code",
   "execution_count": 50,
   "id": "bb703b18",
   "metadata": {},
   "outputs": [
    {
     "data": {
      "image/png": "[encoded data removed]",
      "text/plain": [
       "<Figure size 720x432 with 1 Axes>"
      ]
     },
     "metadata": {
      "needs_background": "light"
     },
     "output_type": "display_data"
    }
   ],
   "source": [
    "# Сортируем данные по рейтингу (по убыванию)\n",
    "top15_sorted = top15.sort_values(by='count', ascending=True)\n",
    "\n",
    "# Строим график с отсортированными данными\n",
    "plt.figure(figsize=(10, 6))\n",
    "plt.barh(top15_sorted['name'], top15_sorted['count'], color='g')\n",
    "\n",
    "# Добавляем заголовок и подпись по оси Х и Y\n",
    "plt.title('Количество заведений в топ 15')\n",
    "plt.xlabel('Количество заведений')\n",
    "plt.ylabel('Название заведения')\n",
    "\n",
    "# Добавляем сетку на ось X\n",
    "plt.grid(axis='x')\n",
    "\n",
    "# Выводим график\n",
    "plt.show()"
   ]
  },
  {
   "cell_type": "code",
   "execution_count": 51,
   "id": "be3c8344",
   "metadata": {},
   "outputs": [
    {
     "data": {
      "image/png": "[encoded data removed]",
      "text/plain": [
       "<Figure size 720x432 with 1 Axes>"
      ]
     },
     "metadata": {
      "needs_background": "light"
     },
     "output_type": "display_data"
    }
   ],
   "source": [
    "# Сортируем данные по рейтингу (по убыванию)\n",
    "top15_sorted = top15.sort_values(by='mean_rating', ascending=True)\n",
    "\n",
    "# Строим график с отсортированными данными\n",
    "plt.figure(figsize=(10, 6))\n",
    "plt.barh(top15_sorted['name'], top15_sorted['mean_rating'], color='g')\n",
    "\n",
    "# Добавляем заголовок и подпись по оси Х и Y\n",
    "plt.title('Средний рейтинг топ 15 заведений')\n",
    "plt.xlabel('Средний рейтинг')\n",
    "plt.ylabel('Название заведения')\n",
    "\n",
    "# Добавляем сетку на ось X\n",
    "plt.grid(axis='x')\n",
    "\n",
    "# Выводим график\n",
    "plt.show()"
   ]
  },
  {
   "cell_type": "markdown",
   "id": "01dfdabc",
   "metadata": {
    "id": "774348d5"
   },
   "source": [
    "Самое популярное сетевое заведение в Москве — это Шоколадница, которая насчитывает 120 заведений. Второе и третье места занимают Домино'с пицца (76 заведений) и Додо пицца (74 заведения) соответственно, меньше всего заведений кафе \"Му-Му\" (27 шт.). Рейтинг 15 самых популярных заведений варьируется от 3.87 до 4.4, и в среднем составляет 4.1, разброс рейтинга небольшой, это все говорит о высоком качестве обслуживания и удовлетворенности клиентов. Самый высокий рейтинг у булочной \"Буханка\" (4.4) и кафе \"Кулинарная лавка братьев Караваевых\" (4.4), самый низкий среди топ 15 у Яндекс лавки (3.87). Среди топ-15 заведений преобладают кофейни, кафе и рестораны."
   ]
  },
  {
   "cell_type": "markdown",
   "id": "85a90a94",
   "metadata": {
    "id": "85a90a94"
   },
   "source": [
    "---\n",
    "\n",
    "### Задача 8\n",
    "\n",
    "Изучим вариацию среднего чека заведения (столбец `middle_avg_bill`) в зависимости от округа Москвы. Проанализируем цены в Центральном административном округе и других. \n"
   ]
  },
  {
   "cell_type": "code",
   "execution_count": 52,
   "id": "b263759e",
   "metadata": {},
   "outputs": [
    {
     "data": {
      "text/plain": [
       "district\n",
       "Центральный административный округ         1191.057547\n",
       "Западный административный округ             1053.22549\n",
       "Северный административный округ             927.959627\n",
       "Южный административный округ                834.398089\n",
       "Северо-Западный административный округ       822.22293\n",
       "Восточный административный округ            820.626923\n",
       "Юго-Западный административный округ         792.561702\n",
       "Северо-Восточный административный округ     716.611296\n",
       "Юго-Восточный административный округ        654.097938\n",
       "Name: middle_avg_bill, dtype: Float64"
      ]
     },
     "metadata": {},
     "output_type": "display_data"
    }
   ],
   "source": [
    "# Группировка по округам и расчёт среднего чека\n",
    "grouped_district = df.groupby('district')['middle_avg_bill'].mean().sort_values(ascending=False)\n",
    "display(grouped_district)"
   ]
  },
  {
   "cell_type": "code",
   "execution_count": 53,
   "id": "561ba383",
   "metadata": {
    "scrolled": true
   },
   "outputs": [
    {
     "data": {
      "image/png": "[encoded data removed]",
      "text/plain": [
       "<Figure size 504x216 with 1 Axes>"
      ]
     },
     "metadata": {
      "needs_background": "light"
     },
     "output_type": "display_data"
    }
   ],
   "source": [
    "# Создаём контейнер графика matplotlib и задаём его размер\n",
    "plt.figure(figsize=(7, 3))\n",
    "\n",
    "# Строим линейчатую диаграмму \n",
    "grouped_district = df.groupby('district')['middle_avg_bill'].mean().sort_values(ascending=False)\n",
    "grouped_district.plot(\n",
    "               kind='barh',\n",
    "               rot=0,\n",
    "               legend=False,\n",
    "               title='Распределение среднего чека по административным округам',\n",
    "               color='g'\n",
    ")\n",
    "\n",
    "# Настраиваем оформление графика\n",
    "plt.xlabel('Средний чек')\n",
    "plt.ylabel('Округа')\n",
    "\n",
    "# Добавляем сетку графика\n",
    "plt.grid(axis='x')\n",
    "\n",
    "# Выводим график\n",
    "plt.show()"
   ]
  },
  {
   "cell_type": "markdown",
   "id": "a8f0b8ec",
   "metadata": {},
   "source": [
    "Сделаем график и сравним медианну среднего чека и усредненный средний чек по округам Москвы"
   ]
  },
  {
   "cell_type": "code",
   "execution_count": 54,
   "id": "a2512041",
   "metadata": {
    "scrolled": true
   },
   "outputs": [
    {
     "data": {
      "text/plain": [
       "<Figure size 720x432 with 0 Axes>"
      ]
     },
     "metadata": {},
     "output_type": "display_data"
    },
    {
     "data": {
      "image/png": "[encoded data removed]",
      "text/plain": [
       "<Figure size 720x432 with 1 Axes>"
      ]
     },
     "metadata": {
      "needs_background": "light"
     },
     "output_type": "display_data"
    }
   ],
   "source": [
    "# Группируем данные по округам и считаем среднее и медиану\n",
    "grouped_district = df.groupby('district')['middle_avg_bill'].agg(['mean', 'median']).sort_values('mean', ascending=False)\n",
    "\n",
    "# Создаём контейнер графика и задаём размер\n",
    "plt.figure(figsize=(10, 6))\n",
    "\n",
    "# Строим группированный барплот\n",
    "grouped_district.plot(\n",
    "               kind='barh',\n",
    "               rot=0,\n",
    "               title='Сравнение среднего и медианного чека по округам',\n",
    "               color=['g', 'orange'], \n",
    "               figsize=(10, 6)\n",
    ")\n",
    "\n",
    "# Настраиваем оформление графика\n",
    "plt.xlabel('Средний и медианный чек')\n",
    "plt.ylabel('Округа')\n",
    "plt.legend(labels=['Средний чек', 'Медианный чек']) \n",
    "\n",
    "# Добавляем сетку графика\n",
    "plt.grid(axis='x')\n",
    "\n",
    "# Выводим график\n",
    "plt.show()"
   ]
  },
  {
   "cell_type": "code",
   "execution_count": 55,
   "id": "24d1ec28",
   "metadata": {},
   "outputs": [
    {
     "data": {
      "text/html": [
       "<div>\n",
       "<style scoped>\n",
       "    .dataframe tbody tr th:only-of-type {\n",
       "        vertical-align: middle;\n",
       "    }\n",
       "\n",
       "    .dataframe tbody tr th {\n",
       "        vertical-align: top;\n",
       "    }\n",
       "\n",
       "    .dataframe thead th {\n",
       "        text-align: right;\n",
       "    }\n",
       "</style>\n",
       "<table border=\"1\" class=\"dataframe\">\n",
       "  <thead>\n",
       "    <tr style=\"text-align: right;\">\n",
       "      <th></th>\n",
       "      <th>id</th>\n",
       "      <th>name</th>\n",
       "      <th>category</th>\n",
       "      <th>address</th>\n",
       "      <th>district</th>\n",
       "      <th>hours</th>\n",
       "      <th>rating</th>\n",
       "      <th>chain</th>\n",
       "      <th>seats</th>\n",
       "      <th>price</th>\n",
       "      <th>avg_bill</th>\n",
       "      <th>middle_avg_bill</th>\n",
       "      <th>middle_coffee_cup</th>\n",
       "      <th>len_hours</th>\n",
       "      <th>is_24_7</th>\n",
       "      <th>is_center</th>\n",
       "    </tr>\n",
       "  </thead>\n",
       "  <tbody>\n",
       "    <tr>\n",
       "      <th>7864</th>\n",
       "      <td>94b5ce1ab314431d93fa678a2cb8cb8d</td>\n",
       "      <td>орхан</td>\n",
       "      <td>кафе</td>\n",
       "      <td>Москва, Елецкая улица, 35, корп. 2А</td>\n",
       "      <td>Южный административный округ</td>\n",
       "      <td>пн 10:30–04:00; вт 11:00–03:00; ср 10:30–03:00...</td>\n",
       "      <td>4.3</td>\n",
       "      <td>1</td>\n",
       "      <td>90</td>\n",
       "      <td>NaN</td>\n",
       "      <td>NaN</td>\n",
       "      <td>&lt;NA&gt;</td>\n",
       "      <td>&lt;NA&gt;</td>\n",
       "      <td>97.0</td>\n",
       "      <td>False</td>\n",
       "      <td>False</td>\n",
       "    </tr>\n",
       "    <tr>\n",
       "      <th>699</th>\n",
       "      <td>eceb95b99f4c4aaeb97ff427e7f08c46</td>\n",
       "      <td>маргилан</td>\n",
       "      <td>столовая</td>\n",
       "      <td>Москва, улица Декабристов, 15А</td>\n",
       "      <td>Северо-Восточный административный округ</td>\n",
       "      <td>пн 00:01–12:00, перерыв 12:00–13:30; вт-чт 13:...</td>\n",
       "      <td>4.5</td>\n",
       "      <td>0</td>\n",
       "      <td>230</td>\n",
       "      <td>средние</td>\n",
       "      <td>Средний счёт:350–400 ₽</td>\n",
       "      <td>375</td>\n",
       "      <td>&lt;NA&gt;</td>\n",
       "      <td>91.0</td>\n",
       "      <td>False</td>\n",
       "      <td>False</td>\n",
       "    </tr>\n",
       "    <tr>\n",
       "      <th>3531</th>\n",
       "      <td>2d9b31f65cde4ad0bf88953de5664f61</td>\n",
       "      <td>dr. живаго</td>\n",
       "      <td>ресторан</td>\n",
       "      <td>Москва, Моховая улица, 15/1с1</td>\n",
       "      <td>Центральный административный округ</td>\n",
       "      <td>пн-чт круглосуточно; пт 00:00–05:00, перерыв 0...</td>\n",
       "      <td>4.8</td>\n",
       "      <td>0</td>\n",
       "      <td>&lt;NA&gt;</td>\n",
       "      <td>высокие</td>\n",
       "      <td>Средний счёт:2500–3000 ₽</td>\n",
       "      <td>2750</td>\n",
       "      <td>&lt;NA&gt;</td>\n",
       "      <td>88.0</td>\n",
       "      <td>False</td>\n",
       "      <td>True</td>\n",
       "    </tr>\n",
       "    <tr>\n",
       "      <th>1942</th>\n",
       "      <td>f39e8a31f99b4081b770b666e47efd84</td>\n",
       "      <td>g&amp;m</td>\n",
       "      <td>бар,паб</td>\n",
       "      <td>Москва, Новослободская улица, 16А</td>\n",
       "      <td>Центральный административный округ</td>\n",
       "      <td>пн круглосуточно; вт-чт 12:00–00:00; пт 12:00–...</td>\n",
       "      <td>4.3</td>\n",
       "      <td>0</td>\n",
       "      <td>&lt;NA&gt;</td>\n",
       "      <td>выше среднего</td>\n",
       "      <td>Средний счёт:1500 ₽</td>\n",
       "      <td>1500</td>\n",
       "      <td>&lt;NA&gt;</td>\n",
       "      <td>83.0</td>\n",
       "      <td>False</td>\n",
       "      <td>True</td>\n",
       "    </tr>\n",
       "    <tr>\n",
       "      <th>3732</th>\n",
       "      <td>9f6fd458f00a4e0fb6fdab33b512028d</td>\n",
       "      <td>шоколадница</td>\n",
       "      <td>кофейня</td>\n",
       "      <td>Москва, Большая Садовая улица, 10</td>\n",
       "      <td>Центральный административный округ</td>\n",
       "      <td>пн,вт 08:00–22:00; ср,чт 08:00–23:00; пт,сб кр...</td>\n",
       "      <td>4.3</td>\n",
       "      <td>1</td>\n",
       "      <td>68</td>\n",
       "      <td>NaN</td>\n",
       "      <td>NaN</td>\n",
       "      <td>&lt;NA&gt;</td>\n",
       "      <td>&lt;NA&gt;</td>\n",
       "      <td>73.0</td>\n",
       "      <td>False</td>\n",
       "      <td>True</td>\n",
       "    </tr>\n",
       "  </tbody>\n",
       "</table>\n",
       "</div>"
      ],
      "text/plain": [
       "                                    id         name  category  \\\n",
       "7864  94b5ce1ab314431d93fa678a2cb8cb8d        орхан      кафе   \n",
       "699   eceb95b99f4c4aaeb97ff427e7f08c46     маргилан  столовая   \n",
       "3531  2d9b31f65cde4ad0bf88953de5664f61   dr. живаго  ресторан   \n",
       "1942  f39e8a31f99b4081b770b666e47efd84          g&m   бар,паб   \n",
       "3732  9f6fd458f00a4e0fb6fdab33b512028d  шоколадница   кофейня   \n",
       "\n",
       "                                  address  \\\n",
       "7864  Москва, Елецкая улица, 35, корп. 2А   \n",
       "699        Москва, улица Декабристов, 15А   \n",
       "3531        Москва, Моховая улица, 15/1с1   \n",
       "1942    Москва, Новослободская улица, 16А   \n",
       "3732    Москва, Большая Садовая улица, 10   \n",
       "\n",
       "                                     district  \\\n",
       "7864             Южный административный округ   \n",
       "699   Северо-Восточный административный округ   \n",
       "3531       Центральный административный округ   \n",
       "1942       Центральный административный округ   \n",
       "3732       Центральный административный округ   \n",
       "\n",
       "                                                  hours  rating  chain  seats  \\\n",
       "7864  пн 10:30–04:00; вт 11:00–03:00; ср 10:30–03:00...     4.3      1     90   \n",
       "699   пн 00:01–12:00, перерыв 12:00–13:30; вт-чт 13:...     4.5      0    230   \n",
       "3531  пн-чт круглосуточно; пт 00:00–05:00, перерыв 0...     4.8      0   <NA>   \n",
       "1942  пн круглосуточно; вт-чт 12:00–00:00; пт 12:00–...     4.3      0   <NA>   \n",
       "3732  пн,вт 08:00–22:00; ср,чт 08:00–23:00; пт,сб кр...     4.3      1     68   \n",
       "\n",
       "              price                  avg_bill  middle_avg_bill  \\\n",
       "7864            NaN                       NaN             <NA>   \n",
       "699         средние    Средний счёт:350–400 ₽              375   \n",
       "3531        высокие  Средний счёт:2500–3000 ₽             2750   \n",
       "1942  выше среднего       Средний счёт:1500 ₽             1500   \n",
       "3732            NaN                       NaN             <NA>   \n",
       "\n",
       "      middle_coffee_cup  len_hours  is_24_7  is_center  \n",
       "7864               <NA>       97.0    False      False  \n",
       "699                <NA>       91.0    False      False  \n",
       "3531               <NA>       88.0    False       True  \n",
       "1942               <NA>       83.0    False       True  \n",
       "3732               <NA>       73.0    False       True  "
      ]
     },
     "metadata": {},
     "output_type": "display_data"
    }
   ],
   "source": [
    "# Создаем столбец is_center\n",
    "df['is_center'] = df['district'].str.contains('Центральный административный округ', case=False, na=False)\n",
    "\n",
    "#Выведем датафрейм с новым столюцом\n",
    "display(df.head())"
   ]
  },
  {
   "cell_type": "markdown",
   "id": "d1c143ee",
   "metadata": {},
   "source": [
    "Построим столбчатую диаграмму для визуализцаии"
   ]
  },
  {
   "cell_type": "code",
   "execution_count": 56,
   "id": "618096b5",
   "metadata": {
    "id": "618096b5"
   },
   "outputs": [
    {
     "data": {
      "image/png": "[encoded data removed]",
      "text/plain": [
       "<Figure size 504x216 with 1 Axes>"
      ]
     },
     "metadata": {
      "needs_background": "light"
     },
     "output_type": "display_data"
    }
   ],
   "source": [
    "# Создаём контейнер графика matplotlib и задаём его размер\n",
    "plt.figure(figsize=(7, 3))\n",
    "\n",
    "# Строим столбчатую диаграмму \n",
    "df.groupby('is_center')['middle_avg_bill'].mean().plot(\n",
    "                        kind='bar',\n",
    "                        rot=0,\n",
    "                        legend=False,\n",
    "                        title='Распределение средних чеков по удаленности от центра'\n",
    ")\n",
    "\n",
    "# Настраиваем оформление графика\n",
    "plt.xlabel('Центральный округ Москвы')\n",
    "plt.ylabel('Средний чек')\n",
    "\n",
    "# Добавляем сетку графика\n",
    "plt.grid(axis='y')\n",
    "\n",
    "# Выводим график\n",
    "plt.show()"
   ]
  },
  {
   "cell_type": "code",
   "execution_count": 57,
   "id": "a7933c7e",
   "metadata": {},
   "outputs": [
    {
     "data": {
      "text/plain": [
       "is_center\n",
       "False     839.822882\n",
       "True     1191.057547\n",
       "Name: middle_avg_bill, dtype: Float64"
      ]
     },
     "execution_count": 57,
     "metadata": {},
     "output_type": "execute_result"
    }
   ],
   "source": [
    "# Группировка по значению центральный округ или нет и расчёт среднего чека\n",
    "df.groupby('is_center')['middle_avg_bill'].mean()"
   ]
  },
  {
   "cell_type": "markdown",
   "id": "5f096ba4",
   "metadata": {},
   "source": [
    "Самый высокий средний чек наблюдается в Центральном административном округе (1191 руб.), что объясняется его престижным расположением и высокой концентрацией премиальных заведений. Второе и третье места занимают Западный административный округ (1053 руб.) и Северный административный округ (928 руб.). В остальных районах средний чек варьируется от 654 руб. до 834 руб. Часть Западного административного округа находится практически в центре, чем возможно объясняется занятое им второе место. Средний чек по округам составляет 840 руб., а средний чек в центре составляет 1191 руб., что указывает на достаточно большое различия в ценах между центральным и остальными округами. Есть различия между медианным чеком и средним по всем округам кроме Западного, что указывает на наличие заведений с высокими ценами. В Западном равномерное распределение цен. \n"
   ]
  },
  {
   "cell_type": "markdown",
   "id": "cfc73bb3",
   "metadata": {},
   "source": [
    "Попробуем сравнить средний чек и плотность населения округов. Возьмем данные о численности населения Москвы с сайта https://mbfinance.ru/investitsii/prognozy-i-analitika/naselenie-moskva/ за 2022 год (т.к. наши данные в датасете представленны тоже за 2022 год), а площади с википедии. "
   ]
  },
  {
   "cell_type": "code",
   "execution_count": 58,
   "id": "1a0714c0",
   "metadata": {},
   "outputs": [
    {
     "data": {
      "text/html": [
       "<div>\n",
       "<style scoped>\n",
       "    .dataframe tbody tr th:only-of-type {\n",
       "        vertical-align: middle;\n",
       "    }\n",
       "\n",
       "    .dataframe tbody tr th {\n",
       "        vertical-align: top;\n",
       "    }\n",
       "\n",
       "    .dataframe thead th {\n",
       "        text-align: right;\n",
       "    }\n",
       "</style>\n",
       "<table border=\"1\" class=\"dataframe\">\n",
       "  <thead>\n",
       "    <tr style=\"text-align: right;\">\n",
       "      <th></th>\n",
       "      <th>id</th>\n",
       "      <th>name</th>\n",
       "      <th>category</th>\n",
       "      <th>address</th>\n",
       "      <th>district</th>\n",
       "      <th>hours</th>\n",
       "      <th>rating</th>\n",
       "      <th>chain</th>\n",
       "      <th>seats</th>\n",
       "      <th>price</th>\n",
       "      <th>avg_bill</th>\n",
       "      <th>middle_avg_bill</th>\n",
       "      <th>middle_coffee_cup</th>\n",
       "      <th>len_hours</th>\n",
       "      <th>is_24_7</th>\n",
       "      <th>is_center</th>\n",
       "      <th>area_data</th>\n",
       "      <th>population_data</th>\n",
       "      <th>density</th>\n",
       "    </tr>\n",
       "  </thead>\n",
       "  <tbody>\n",
       "    <tr>\n",
       "      <th>7864</th>\n",
       "      <td>94b5ce1ab314431d93fa678a2cb8cb8d</td>\n",
       "      <td>орхан</td>\n",
       "      <td>кафе</td>\n",
       "      <td>Москва, Елецкая улица, 35, корп. 2А</td>\n",
       "      <td>Южный административный округ</td>\n",
       "      <td>пн 10:30–04:00; вт 11:00–03:00; ср 10:30–03:00...</td>\n",
       "      <td>4.3</td>\n",
       "      <td>1</td>\n",
       "      <td>90</td>\n",
       "      <td>NaN</td>\n",
       "      <td>NaN</td>\n",
       "      <td>&lt;NA&gt;</td>\n",
       "      <td>&lt;NA&gt;</td>\n",
       "      <td>97.0</td>\n",
       "      <td>False</td>\n",
       "      <td>False</td>\n",
       "      <td>131.77</td>\n",
       "      <td>1773425</td>\n",
       "      <td>13.46</td>\n",
       "    </tr>\n",
       "    <tr>\n",
       "      <th>699</th>\n",
       "      <td>eceb95b99f4c4aaeb97ff427e7f08c46</td>\n",
       "      <td>маргилан</td>\n",
       "      <td>столовая</td>\n",
       "      <td>Москва, улица Декабристов, 15А</td>\n",
       "      <td>Северо-Восточный административный округ</td>\n",
       "      <td>пн 00:01–12:00, перерыв 12:00–13:30; вт-чт 13:...</td>\n",
       "      <td>4.5</td>\n",
       "      <td>0</td>\n",
       "      <td>230</td>\n",
       "      <td>средние</td>\n",
       "      <td>Средний счёт:350–400 ₽</td>\n",
       "      <td>375</td>\n",
       "      <td>&lt;NA&gt;</td>\n",
       "      <td>91.0</td>\n",
       "      <td>False</td>\n",
       "      <td>False</td>\n",
       "      <td>101.88</td>\n",
       "      <td>1427597</td>\n",
       "      <td>14.01</td>\n",
       "    </tr>\n",
       "    <tr>\n",
       "      <th>3531</th>\n",
       "      <td>2d9b31f65cde4ad0bf88953de5664f61</td>\n",
       "      <td>dr. живаго</td>\n",
       "      <td>ресторан</td>\n",
       "      <td>Москва, Моховая улица, 15/1с1</td>\n",
       "      <td>Центральный административный округ</td>\n",
       "      <td>пн-чт круглосуточно; пт 00:00–05:00, перерыв 0...</td>\n",
       "      <td>4.8</td>\n",
       "      <td>0</td>\n",
       "      <td>&lt;NA&gt;</td>\n",
       "      <td>высокие</td>\n",
       "      <td>Средний счёт:2500–3000 ₽</td>\n",
       "      <td>2750</td>\n",
       "      <td>&lt;NA&gt;</td>\n",
       "      <td>88.0</td>\n",
       "      <td>False</td>\n",
       "      <td>True</td>\n",
       "      <td>66.18</td>\n",
       "      <td>779086</td>\n",
       "      <td>11.77</td>\n",
       "    </tr>\n",
       "    <tr>\n",
       "      <th>1942</th>\n",
       "      <td>f39e8a31f99b4081b770b666e47efd84</td>\n",
       "      <td>g&amp;m</td>\n",
       "      <td>бар,паб</td>\n",
       "      <td>Москва, Новослободская улица, 16А</td>\n",
       "      <td>Центральный административный округ</td>\n",
       "      <td>пн круглосуточно; вт-чт 12:00–00:00; пт 12:00–...</td>\n",
       "      <td>4.3</td>\n",
       "      <td>0</td>\n",
       "      <td>&lt;NA&gt;</td>\n",
       "      <td>выше среднего</td>\n",
       "      <td>Средний счёт:1500 ₽</td>\n",
       "      <td>1500</td>\n",
       "      <td>&lt;NA&gt;</td>\n",
       "      <td>83.0</td>\n",
       "      <td>False</td>\n",
       "      <td>True</td>\n",
       "      <td>66.18</td>\n",
       "      <td>779086</td>\n",
       "      <td>11.77</td>\n",
       "    </tr>\n",
       "    <tr>\n",
       "      <th>3732</th>\n",
       "      <td>9f6fd458f00a4e0fb6fdab33b512028d</td>\n",
       "      <td>шоколадница</td>\n",
       "      <td>кофейня</td>\n",
       "      <td>Москва, Большая Садовая улица, 10</td>\n",
       "      <td>Центральный административный округ</td>\n",
       "      <td>пн,вт 08:00–22:00; ср,чт 08:00–23:00; пт,сб кр...</td>\n",
       "      <td>4.3</td>\n",
       "      <td>1</td>\n",
       "      <td>68</td>\n",
       "      <td>NaN</td>\n",
       "      <td>NaN</td>\n",
       "      <td>&lt;NA&gt;</td>\n",
       "      <td>&lt;NA&gt;</td>\n",
       "      <td>73.0</td>\n",
       "      <td>False</td>\n",
       "      <td>True</td>\n",
       "      <td>66.18</td>\n",
       "      <td>779086</td>\n",
       "      <td>11.77</td>\n",
       "    </tr>\n",
       "  </tbody>\n",
       "</table>\n",
       "</div>"
      ],
      "text/plain": [
       "                                    id         name  category  \\\n",
       "7864  94b5ce1ab314431d93fa678a2cb8cb8d        орхан      кафе   \n",
       "699   eceb95b99f4c4aaeb97ff427e7f08c46     маргилан  столовая   \n",
       "3531  2d9b31f65cde4ad0bf88953de5664f61   dr. живаго  ресторан   \n",
       "1942  f39e8a31f99b4081b770b666e47efd84          g&m   бар,паб   \n",
       "3732  9f6fd458f00a4e0fb6fdab33b512028d  шоколадница   кофейня   \n",
       "\n",
       "                                  address  \\\n",
       "7864  Москва, Елецкая улица, 35, корп. 2А   \n",
       "699        Москва, улица Декабристов, 15А   \n",
       "3531        Москва, Моховая улица, 15/1с1   \n",
       "1942    Москва, Новослободская улица, 16А   \n",
       "3732    Москва, Большая Садовая улица, 10   \n",
       "\n",
       "                                     district  \\\n",
       "7864             Южный административный округ   \n",
       "699   Северо-Восточный административный округ   \n",
       "3531       Центральный административный округ   \n",
       "1942       Центральный административный округ   \n",
       "3732       Центральный административный округ   \n",
       "\n",
       "                                                  hours  rating  chain  seats  \\\n",
       "7864  пн 10:30–04:00; вт 11:00–03:00; ср 10:30–03:00...     4.3      1     90   \n",
       "699   пн 00:01–12:00, перерыв 12:00–13:30; вт-чт 13:...     4.5      0    230   \n",
       "3531  пн-чт круглосуточно; пт 00:00–05:00, перерыв 0...     4.8      0   <NA>   \n",
       "1942  пн круглосуточно; вт-чт 12:00–00:00; пт 12:00–...     4.3      0   <NA>   \n",
       "3732  пн,вт 08:00–22:00; ср,чт 08:00–23:00; пт,сб кр...     4.3      1     68   \n",
       "\n",
       "              price                  avg_bill  middle_avg_bill  \\\n",
       "7864            NaN                       NaN             <NA>   \n",
       "699         средние    Средний счёт:350–400 ₽              375   \n",
       "3531        высокие  Средний счёт:2500–3000 ₽             2750   \n",
       "1942  выше среднего       Средний счёт:1500 ₽             1500   \n",
       "3732            NaN                       NaN             <NA>   \n",
       "\n",
       "      middle_coffee_cup  len_hours  is_24_7  is_center  area_data  \\\n",
       "7864               <NA>       97.0    False      False     131.77   \n",
       "699                <NA>       91.0    False      False     101.88   \n",
       "3531               <NA>       88.0    False       True      66.18   \n",
       "1942               <NA>       83.0    False       True      66.18   \n",
       "3732               <NA>       73.0    False       True      66.18   \n",
       "\n",
       "      population_data  density  \n",
       "7864          1773425    13.46  \n",
       "699           1427597    14.01  \n",
       "3531           779086    11.77  \n",
       "1942           779086    11.77  \n",
       "3732           779086    11.77  "
      ]
     },
     "execution_count": 58,
     "metadata": {},
     "output_type": "execute_result"
    }
   ],
   "source": [
    "# Создадим словарь с численность населения  округов Москвы\n",
    "population_data = {\n",
    "    'Центральный административный округ': 779086,\n",
    "    'Западный административный округ': 1383853,\n",
    "    'Северный административный округ': 1175229,\n",
    "    'Южный административный округ': 1773425,\n",
    "    'Северо-Западный административный округ': 1009217,\n",
    "    'Восточный административный округ': 1514420,\n",
    "    'Юго-Западный административный округ': 1442971,\n",
    "    'Северо-Восточный административный округ': 1427597,\n",
    "    'Юго-Восточный административный округ': 1432839\n",
    "}\n",
    "\n",
    "# Создадим словарь с площадями округов (в км²)\n",
    "area_data = {\n",
    "    'Центральный административный округ': 66.18,\n",
    "    'Западный административный округ': 153.03,\n",
    "    'Северный административный округ': 113.73,\n",
    "    'Южный административный округ': 131.77,\n",
    "    'Северо-Западный административный округ': 93.28,\n",
    "    'Восточный административный округ': 154.84,\n",
    "    'Юго-Западный административный округ': 111.36,\n",
    "    'Северо-Восточный административный округ': 101.88,\n",
    "    'Юго-Восточный административный округ': 117.56\n",
    "}\n",
    "\n",
    "# Добавим столбцы с этими данными к нашему датафрейму\n",
    "df['area_data'] = df['district'].map(area_data)\n",
    "df['population_data'] = df['district'].map(population_data)\n",
    "\n",
    "# Создадим столбец с плотностью населения на тысячу человек\n",
    "df['density'] = round((df['population_data'] / df['area_data'])/1000, 2)\n",
    "\n",
    "# Выведем результат\n",
    "df.head()"
   ]
  },
  {
   "cell_type": "code",
   "execution_count": 59,
   "id": "fa5b1f99",
   "metadata": {},
   "outputs": [
    {
     "data": {
      "image/png": "[encoded data removed]",
      "text/plain": [
       "<Figure size 504x216 with 1 Axes>"
      ]
     },
     "metadata": {
      "needs_background": "light"
     },
     "output_type": "display_data"
    }
   ],
   "source": [
    "# Создаём контейнер графика matplotlib и задаём его размер\n",
    "plt.figure(figsize=(7, 3))\n",
    "\n",
    "# Строим линейчатую диаграмму \n",
    "grouped_district = df.groupby('density')['middle_avg_bill'].mean().sort_values(ascending=False)\n",
    "grouped_district.plot(\n",
    "               kind='barh',\n",
    "               rot=0,\n",
    "               legend=False,\n",
    "               title='Распределение среднего чека по плотности населения',\n",
    "               color='g'\n",
    ")\n",
    "\n",
    "# Настраиваем оформление графика\n",
    "plt.xlabel('Средний чек')\n",
    "plt.ylabel('Плотность')\n",
    "\n",
    "# Добавляем сетку графика\n",
    "plt.grid(axis='x')\n",
    "\n",
    "# Выводим график\n",
    "plt.show()"
   ]
  },
  {
   "cell_type": "markdown",
   "id": "2c854c4a",
   "metadata": {},
   "source": [
    "Проведенный анализ выявил отсутствие выраженной связи между плотностью населения и величиной среднего чека. В районах с высокой плотностью бывают как низкие средние чеки, так и высокие, это же касается раонов с низкой плотностью. "
   ]
  },
  {
   "cell_type": "markdown",
   "id": "f2c54e9a",
   "metadata": {
    "id": "f2c54e9a"
   },
   "source": [
    "---\n",
    "\n",
    "### Промежуточный вывод\n"
   ]
  },
  {
   "cell_type": "markdown",
   "id": "675089c8",
   "metadata": {
    "id": "c8869609"
   },
   "source": [
    "Анализ данных показал, что:\n",
    "- Кафе и рестораны доминируют на рынке, что может указывать на высокий спрос на эти форматы.\n",
    "- Центр Москвы является наиболее привлекательным для открытия заведений, но также и наиболее конкурентным.\n",
    "- В центре преобладают рестораны, кафе, кофейни и бары\n",
    "- Несетевые заведения более распространены, но сетевые форматы (кафе, кофейни, рестораны) имеют сильные позиции, например узнаваемый бренд, единые стандарты качества, выгодные условия закупок и др.\n",
    "- Большинство заведений имеют от 50 до 100 посадочных мест.\n",
    "- Рейтинг заведения показывает незначительные различия в зависимости от категории заведения.\n",
    "- Рейтинги заведений достаточно высокие, что говорит о высокой удовлетворённости клиентов.\n",
    "- Рейтинг слабо зависит от категории, района или ценовой политики, но заведения с высокими ценами и в центре имеют небольшое преимущество.\n",
    "- В сетевых заведениях по количеству преобладают кофейни, кафе и рестораны, а средний рейтинг около 4. Но доля сетевых заведений среди не сетевых в этих категориях выглядит иначе, больше всего доля сетевых заведений в булочной, кофейне и пиццерии, меньше всего среди баров.\n",
    "- Цены в заведениях выше в центре.\n",
    "- Плотность населения не оказывает сильного влияния на средний чек."
   ]
  },
  {
   "cell_type": "markdown",
   "id": "480f3422",
   "metadata": {
    "id": "480f3422"
   },
   "source": [
    "## 4. Итоговый вывод и рекомендации"
   ]
  },
  {
   "cell_type": "markdown",
   "id": "543ebd20",
   "metadata": {},
   "source": [
    "### Подведём итоги\n",
    "\n",
    "Были загружены данные  двух датасетов: `rest_info.csv` и  `rest_price.csv`, в первом содержалась информация о заведениях общественного питания, во втором о среднем чеке в заведениях. В дальнейшем датасеты были объединены в единый датафрейм, в который вошли данные о 8403 заведениях питания Москвы.\n",
    "\n",
    "Для дальнейшего анализа мы провели работу по предобработке данных:\n",
    "- проверили названия столбцов датафрейма\n",
    "- проверили тип данных столбцов и привели их к нужному типу. \n",
    "  - Столбцы `seats`, `middle_avg_bill` и `middle_coffee_cup` из типа `float64` к типу `int16`\n",
    "  - Cтолбцы `rating` и `chain` оптимизировали тип данных\n",
    "- изучены пропуски в данных. Пропуски обнаружились в столбцах `hours`, `seats`, `price`,  `middle_avg_bill`, `middle_coffee_cup` и `avg_bill`. Т.к. данные получены из открытых источников, а также заполнены посетителями заведений, то пропуски скорее всего не являются ошибками в данных. Поэтому их оставили как есть.\n",
    "- проверили данные на наличие явных и неявных дубликатов и удалили их \n",
    "- создан столбец `is_24_7` для отображения вида графика работы (круглосуточно или нет)\n",
    "\n",
    "Провели исследовательский анализ данных:\n",
    "- Исследовали количество объектов общественного питания по каждой категории.\n",
    "- Исследовали распределение количества заведений по административным районам Москвы, а также отдельно распределение заведений каждой категории в Центральном административном округе Москвы.\n",
    "- Изучили соотношение сетевых и несетевых заведений в целом по всем данным и в разрезе категорий заведения.\n",
    "- Исследовали рейтинг заведений.\n",
    "- Изучили, с какими данными показывают самую сильную корреляцию рейтинги заведений.\n",
    "- Сгруппировали данные по названиям заведений и нашли топ-15 популярных сетей в Москве. Для них посчитали значения среднего рейтинга.\n",
    "- Изучили вариацию среднего чека заведения в зависимости от района Москвы. Проанализировали цены в Центральном административном округе и других.\n",
    "- Сделали визуализации по каждому пункту исследовательского анализа.\n",
    "\n",
    "\n",
    "#### Итоговые выводы и рекомендации:\n",
    "\n",
    "- Тип заведения: Кафе или ресторан, так как эти форматы наиболее популярны.\n",
    "- Локация: Центральный административный округ или Западный округ (высокий средний чек и спрос).\n",
    "- Ценовая политика: ориентироваться на средний чек в выбранном районе (например, 1000–1200 руб. в центре).\n",
    "- Сетевой формат: Рассмотреть возможность открытия сетевого заведения, так как они демонстрируют стабильно высокие рейтинги и популярность.\n",
    "- Количество мест: Оптимально — 50–100 посадочных мест"
   ]
  }
 ],
 "metadata": {
  "ExecuteTimeLog": [
   {
    "duration": 1452,
    "start_time": "2025-03-17T04:44:54.979Z"
   },
   {
    "duration": 180,
    "start_time": "2025-03-17T04:44:56.433Z"
   },
   {
    "duration": 16,
    "start_time": "2025-03-17T04:44:56.614Z"
   },
   {
    "duration": 11,
    "start_time": "2025-03-17T04:44:56.632Z"
   },
   {
    "duration": 13,
    "start_time": "2025-03-17T04:44:56.646Z"
   },
   {
    "duration": 9,
    "start_time": "2025-03-17T04:44:56.661Z"
   },
   {
    "duration": 9,
    "start_time": "2025-03-17T04:44:56.673Z"
   },
   {
    "duration": 11,
    "start_time": "2025-03-17T04:44:56.684Z"
   },
   {
    "duration": 19,
    "start_time": "2025-03-17T04:44:56.696Z"
   },
   {
    "duration": 14,
    "start_time": "2025-03-17T04:44:56.716Z"
   },
   {
    "duration": 41,
    "start_time": "2025-03-17T04:44:56.732Z"
   },
   {
    "duration": 5,
    "start_time": "2025-03-17T04:44:56.775Z"
   },
   {
    "duration": 16,
    "start_time": "2025-03-17T04:44:56.782Z"
   },
   {
    "duration": 9,
    "start_time": "2025-03-17T04:44:56.801Z"
   },
   {
    "duration": 15,
    "start_time": "2025-03-17T04:44:56.812Z"
   },
   {
    "duration": 10,
    "start_time": "2025-03-17T04:44:56.829Z"
   },
   {
    "duration": 44,
    "start_time": "2025-03-17T04:44:56.840Z"
   },
   {
    "duration": 8,
    "start_time": "2025-03-17T04:44:56.885Z"
   },
   {
    "duration": 8,
    "start_time": "2025-03-17T04:44:56.895Z"
   },
   {
    "duration": 22,
    "start_time": "2025-03-17T04:44:56.905Z"
   },
   {
    "duration": 93,
    "start_time": "2025-03-17T04:44:56.929Z"
   },
   {
    "duration": 19,
    "start_time": "2025-03-17T04:44:57.024Z"
   },
   {
    "duration": 41,
    "start_time": "2025-03-17T04:44:57.044Z"
   },
   {
    "duration": 7,
    "start_time": "2025-03-17T04:44:57.086Z"
   },
   {
    "duration": 197,
    "start_time": "2025-03-17T04:44:57.095Z"
   },
   {
    "duration": 7,
    "start_time": "2025-03-17T04:44:57.294Z"
   },
   {
    "duration": 202,
    "start_time": "2025-03-17T04:44:57.302Z"
   },
   {
    "duration": 8,
    "start_time": "2025-03-17T04:44:57.507Z"
   },
   {
    "duration": 179,
    "start_time": "2025-03-17T04:44:57.517Z"
   },
   {
    "duration": 8,
    "start_time": "2025-03-17T04:44:57.698Z"
   },
   {
    "duration": 143,
    "start_time": "2025-03-17T04:44:57.708Z"
   },
   {
    "duration": 21,
    "start_time": "2025-03-17T04:44:57.853Z"
   },
   {
    "duration": 227,
    "start_time": "2025-03-17T04:44:57.876Z"
   },
   {
    "duration": 12,
    "start_time": "2025-03-17T04:44:58.105Z"
   },
   {
    "duration": 315,
    "start_time": "2025-03-17T04:44:58.119Z"
   },
   {
    "duration": 202,
    "start_time": "2025-03-17T04:44:58.436Z"
   },
   {
    "duration": 12,
    "start_time": "2025-03-17T04:44:58.640Z"
   },
   {
    "duration": 21,
    "start_time": "2025-03-17T04:44:58.653Z"
   },
   {
    "duration": 6,
    "start_time": "2025-03-17T04:44:58.676Z"
   },
   {
    "duration": 8,
    "start_time": "2025-03-17T04:44:58.684Z"
   },
   {
    "duration": 168,
    "start_time": "2025-03-17T04:44:58.696Z"
   },
   {
    "duration": 197,
    "start_time": "2025-03-17T04:44:58.866Z"
   },
   {
    "duration": 254,
    "start_time": "2025-03-17T04:44:59.073Z"
   },
   {
    "duration": 304,
    "start_time": "2025-03-17T04:44:59.329Z"
   },
   {
    "duration": 359,
    "start_time": "2025-03-17T04:44:59.635Z"
   },
   {
    "duration": 293,
    "start_time": "2025-03-17T04:44:59.996Z"
   },
   {
    "duration": 249,
    "start_time": "2025-03-17T04:45:00.291Z"
   },
   {
    "duration": 40,
    "start_time": "2025-03-17T04:45:00.541Z"
   },
   {
    "duration": 267,
    "start_time": "2025-03-17T04:45:00.583Z"
   },
   {
    "duration": 8,
    "start_time": "2025-03-17T04:45:00.852Z"
   },
   {
    "duration": 217,
    "start_time": "2025-03-17T04:45:00.862Z"
   },
   {
    "duration": 24,
    "start_time": "2025-03-17T04:45:01.081Z"
   },
   {
    "duration": 148,
    "start_time": "2025-03-17T04:45:01.106Z"
   },
   {
    "duration": 7,
    "start_time": "2025-03-17T04:45:01.256Z"
   },
   {
    "duration": 47,
    "start_time": "2025-03-17T04:45:01.274Z"
   },
   {
    "duration": 218,
    "start_time": "2025-03-17T04:45:01.322Z"
   },
   {
    "duration": 46,
    "start_time": "2025-03-17T07:19:22.805Z"
   },
   {
    "duration": 1423,
    "start_time": "2025-03-17T07:19:33.199Z"
   },
   {
    "duration": 0,
    "start_time": "2025-03-17T07:19:34.630Z"
   },
   {
    "duration": 0,
    "start_time": "2025-03-17T07:19:34.631Z"
   },
   {
    "duration": 0,
    "start_time": "2025-03-17T07:19:34.632Z"
   },
   {
    "duration": 0,
    "start_time": "2025-03-17T07:19:34.633Z"
   },
   {
    "duration": 0,
    "start_time": "2025-03-17T07:19:34.634Z"
   },
   {
    "duration": 0,
    "start_time": "2025-03-17T07:19:34.635Z"
   },
   {
    "duration": 0,
    "start_time": "2025-03-17T07:19:34.636Z"
   },
   {
    "duration": 0,
    "start_time": "2025-03-17T07:19:34.637Z"
   },
   {
    "duration": 0,
    "start_time": "2025-03-17T07:19:34.638Z"
   },
   {
    "duration": 0,
    "start_time": "2025-03-17T07:19:34.639Z"
   },
   {
    "duration": 0,
    "start_time": "2025-03-17T07:19:34.640Z"
   },
   {
    "duration": 0,
    "start_time": "2025-03-17T07:19:34.641Z"
   },
   {
    "duration": 0,
    "start_time": "2025-03-17T07:19:34.642Z"
   },
   {
    "duration": 0,
    "start_time": "2025-03-17T07:19:34.643Z"
   },
   {
    "duration": 0,
    "start_time": "2025-03-17T07:19:34.644Z"
   },
   {
    "duration": 0,
    "start_time": "2025-03-17T07:19:34.646Z"
   },
   {
    "duration": 0,
    "start_time": "2025-03-17T07:19:34.647Z"
   },
   {
    "duration": 0,
    "start_time": "2025-03-17T07:19:34.648Z"
   },
   {
    "duration": 0,
    "start_time": "2025-03-17T07:19:34.649Z"
   },
   {
    "duration": 0,
    "start_time": "2025-03-17T07:19:34.650Z"
   },
   {
    "duration": 0,
    "start_time": "2025-03-17T07:19:34.651Z"
   },
   {
    "duration": 0,
    "start_time": "2025-03-17T07:19:34.652Z"
   },
   {
    "duration": 0,
    "start_time": "2025-03-17T07:19:34.653Z"
   },
   {
    "duration": 0,
    "start_time": "2025-03-17T07:19:34.654Z"
   },
   {
    "duration": 0,
    "start_time": "2025-03-17T07:19:34.655Z"
   },
   {
    "duration": 0,
    "start_time": "2025-03-17T07:19:34.656Z"
   },
   {
    "duration": 0,
    "start_time": "2025-03-17T07:19:34.657Z"
   },
   {
    "duration": 0,
    "start_time": "2025-03-17T07:19:34.658Z"
   },
   {
    "duration": 0,
    "start_time": "2025-03-17T07:19:34.659Z"
   },
   {
    "duration": 0,
    "start_time": "2025-03-17T07:19:34.660Z"
   },
   {
    "duration": 0,
    "start_time": "2025-03-17T07:19:34.661Z"
   },
   {
    "duration": 0,
    "start_time": "2025-03-17T07:19:34.662Z"
   },
   {
    "duration": 0,
    "start_time": "2025-03-17T07:19:34.663Z"
   },
   {
    "duration": 0,
    "start_time": "2025-03-17T07:19:34.664Z"
   },
   {
    "duration": 0,
    "start_time": "2025-03-17T07:19:34.665Z"
   },
   {
    "duration": 0,
    "start_time": "2025-03-17T07:19:34.667Z"
   },
   {
    "duration": 0,
    "start_time": "2025-03-17T07:19:34.668Z"
   },
   {
    "duration": 0,
    "start_time": "2025-03-17T07:19:34.731Z"
   },
   {
    "duration": 0,
    "start_time": "2025-03-17T07:19:34.732Z"
   },
   {
    "duration": 0,
    "start_time": "2025-03-17T07:19:34.734Z"
   },
   {
    "duration": 0,
    "start_time": "2025-03-17T07:19:34.735Z"
   },
   {
    "duration": 0,
    "start_time": "2025-03-17T07:19:34.736Z"
   },
   {
    "duration": 0,
    "start_time": "2025-03-17T07:19:34.737Z"
   },
   {
    "duration": 0,
    "start_time": "2025-03-17T07:19:34.738Z"
   },
   {
    "duration": 0,
    "start_time": "2025-03-17T07:19:34.739Z"
   },
   {
    "duration": 0,
    "start_time": "2025-03-17T07:19:34.740Z"
   },
   {
    "duration": 0,
    "start_time": "2025-03-17T07:19:34.741Z"
   },
   {
    "duration": 0,
    "start_time": "2025-03-17T07:19:34.742Z"
   },
   {
    "duration": 0,
    "start_time": "2025-03-17T07:19:34.744Z"
   },
   {
    "duration": 0,
    "start_time": "2025-03-17T07:19:34.744Z"
   },
   {
    "duration": 0,
    "start_time": "2025-03-17T07:19:34.745Z"
   },
   {
    "duration": 0,
    "start_time": "2025-03-17T07:19:34.747Z"
   },
   {
    "duration": 0,
    "start_time": "2025-03-17T07:19:34.747Z"
   },
   {
    "duration": 0,
    "start_time": "2025-03-17T07:19:34.749Z"
   },
   {
    "duration": 0,
    "start_time": "2025-03-17T07:19:34.750Z"
   },
   {
    "duration": 1228,
    "start_time": "2025-03-17T07:23:33.598Z"
   },
   {
    "duration": 0,
    "start_time": "2025-03-17T07:23:34.830Z"
   },
   {
    "duration": 0,
    "start_time": "2025-03-17T07:23:34.832Z"
   },
   {
    "duration": 0,
    "start_time": "2025-03-17T07:23:34.833Z"
   },
   {
    "duration": 0,
    "start_time": "2025-03-17T07:23:34.835Z"
   },
   {
    "duration": 0,
    "start_time": "2025-03-17T07:23:34.836Z"
   },
   {
    "duration": 0,
    "start_time": "2025-03-17T07:23:34.839Z"
   },
   {
    "duration": 0,
    "start_time": "2025-03-17T07:23:34.840Z"
   },
   {
    "duration": 0,
    "start_time": "2025-03-17T07:23:34.841Z"
   },
   {
    "duration": 0,
    "start_time": "2025-03-17T07:23:34.842Z"
   },
   {
    "duration": 0,
    "start_time": "2025-03-17T07:23:34.843Z"
   },
   {
    "duration": 0,
    "start_time": "2025-03-17T07:23:34.844Z"
   },
   {
    "duration": 0,
    "start_time": "2025-03-17T07:23:34.845Z"
   },
   {
    "duration": 0,
    "start_time": "2025-03-17T07:23:34.846Z"
   },
   {
    "duration": 0,
    "start_time": "2025-03-17T07:23:34.847Z"
   },
   {
    "duration": 0,
    "start_time": "2025-03-17T07:23:34.848Z"
   },
   {
    "duration": 0,
    "start_time": "2025-03-17T07:23:34.849Z"
   },
   {
    "duration": 0,
    "start_time": "2025-03-17T07:23:34.850Z"
   },
   {
    "duration": 0,
    "start_time": "2025-03-17T07:23:34.851Z"
   },
   {
    "duration": 0,
    "start_time": "2025-03-17T07:23:34.852Z"
   },
   {
    "duration": 0,
    "start_time": "2025-03-17T07:23:34.853Z"
   },
   {
    "duration": 0,
    "start_time": "2025-03-17T07:23:34.854Z"
   },
   {
    "duration": 0,
    "start_time": "2025-03-17T07:23:34.856Z"
   },
   {
    "duration": 0,
    "start_time": "2025-03-17T07:23:34.856Z"
   },
   {
    "duration": 0,
    "start_time": "2025-03-17T07:23:34.857Z"
   },
   {
    "duration": 0,
    "start_time": "2025-03-17T07:23:34.858Z"
   },
   {
    "duration": 0,
    "start_time": "2025-03-17T07:23:34.859Z"
   },
   {
    "duration": 0,
    "start_time": "2025-03-17T07:23:34.860Z"
   },
   {
    "duration": 0,
    "start_time": "2025-03-17T07:23:34.861Z"
   },
   {
    "duration": 0,
    "start_time": "2025-03-17T07:23:34.863Z"
   },
   {
    "duration": 0,
    "start_time": "2025-03-17T07:23:34.864Z"
   },
   {
    "duration": 0,
    "start_time": "2025-03-17T07:23:34.865Z"
   },
   {
    "duration": 0,
    "start_time": "2025-03-17T07:23:34.866Z"
   },
   {
    "duration": 0,
    "start_time": "2025-03-17T07:23:34.867Z"
   },
   {
    "duration": 0,
    "start_time": "2025-03-17T07:23:34.868Z"
   },
   {
    "duration": 0,
    "start_time": "2025-03-17T07:23:34.869Z"
   },
   {
    "duration": 0,
    "start_time": "2025-03-17T07:23:34.870Z"
   },
   {
    "duration": 0,
    "start_time": "2025-03-17T07:23:34.930Z"
   },
   {
    "duration": 0,
    "start_time": "2025-03-17T07:23:34.931Z"
   },
   {
    "duration": 0,
    "start_time": "2025-03-17T07:23:34.932Z"
   },
   {
    "duration": 0,
    "start_time": "2025-03-17T07:23:34.933Z"
   },
   {
    "duration": 0,
    "start_time": "2025-03-17T07:23:34.934Z"
   },
   {
    "duration": 0,
    "start_time": "2025-03-17T07:23:34.935Z"
   },
   {
    "duration": 0,
    "start_time": "2025-03-17T07:23:34.936Z"
   },
   {
    "duration": 0,
    "start_time": "2025-03-17T07:23:34.937Z"
   },
   {
    "duration": 0,
    "start_time": "2025-03-17T07:23:34.938Z"
   },
   {
    "duration": 0,
    "start_time": "2025-03-17T07:23:34.939Z"
   },
   {
    "duration": 0,
    "start_time": "2025-03-17T07:23:34.940Z"
   },
   {
    "duration": 0,
    "start_time": "2025-03-17T07:23:34.941Z"
   },
   {
    "duration": 0,
    "start_time": "2025-03-17T07:23:34.942Z"
   },
   {
    "duration": 0,
    "start_time": "2025-03-17T07:23:34.943Z"
   },
   {
    "duration": 0,
    "start_time": "2025-03-17T07:23:34.944Z"
   },
   {
    "duration": 0,
    "start_time": "2025-03-17T07:23:34.945Z"
   },
   {
    "duration": 0,
    "start_time": "2025-03-17T07:23:34.946Z"
   },
   {
    "duration": 0,
    "start_time": "2025-03-17T07:23:34.947Z"
   },
   {
    "duration": 0,
    "start_time": "2025-03-17T07:23:34.948Z"
   },
   {
    "duration": 3298,
    "start_time": "2025-03-17T07:26:36.099Z"
   },
   {
    "duration": 3562,
    "start_time": "2025-03-17T07:27:03.457Z"
   },
   {
    "duration": 256,
    "start_time": "2025-03-17T07:27:07.021Z"
   },
   {
    "duration": 16,
    "start_time": "2025-03-17T07:27:07.279Z"
   },
   {
    "duration": 10,
    "start_time": "2025-03-17T07:27:07.297Z"
   },
   {
    "duration": 15,
    "start_time": "2025-03-17T07:27:07.309Z"
   },
   {
    "duration": 9,
    "start_time": "2025-03-17T07:27:07.325Z"
   },
   {
    "duration": 102,
    "start_time": "2025-03-17T07:27:07.336Z"
   },
   {
    "duration": 37,
    "start_time": "2025-03-17T07:27:07.440Z"
   },
   {
    "duration": 13,
    "start_time": "2025-03-17T07:27:07.479Z"
   },
   {
    "duration": 36,
    "start_time": "2025-03-17T07:27:07.494Z"
   },
   {
    "duration": 27,
    "start_time": "2025-03-17T07:27:07.531Z"
   },
   {
    "duration": 11,
    "start_time": "2025-03-17T07:27:07.559Z"
   },
   {
    "duration": 7,
    "start_time": "2025-03-17T07:27:07.572Z"
   },
   {
    "duration": 15,
    "start_time": "2025-03-17T07:27:07.580Z"
   },
   {
    "duration": 21,
    "start_time": "2025-03-17T07:27:07.596Z"
   },
   {
    "duration": 11,
    "start_time": "2025-03-17T07:27:07.618Z"
   },
   {
    "duration": 20,
    "start_time": "2025-03-17T07:27:07.631Z"
   },
   {
    "duration": 6,
    "start_time": "2025-03-17T07:27:07.652Z"
   },
   {
    "duration": 24,
    "start_time": "2025-03-17T07:27:07.659Z"
   },
   {
    "duration": 28,
    "start_time": "2025-03-17T07:27:07.684Z"
   },
   {
    "duration": 59,
    "start_time": "2025-03-17T07:27:07.714Z"
   },
   {
    "duration": 16,
    "start_time": "2025-03-17T07:27:07.775Z"
   },
   {
    "duration": 38,
    "start_time": "2025-03-17T07:27:07.793Z"
   },
   {
    "duration": 7,
    "start_time": "2025-03-17T07:27:07.833Z"
   },
   {
    "duration": 200,
    "start_time": "2025-03-17T07:27:07.842Z"
   },
   {
    "duration": 6,
    "start_time": "2025-03-17T07:27:08.044Z"
   },
   {
    "duration": 194,
    "start_time": "2025-03-17T07:27:08.051Z"
   },
   {
    "duration": 9,
    "start_time": "2025-03-17T07:27:08.248Z"
   },
   {
    "duration": 166,
    "start_time": "2025-03-17T07:27:08.258Z"
   },
   {
    "duration": 5,
    "start_time": "2025-03-17T07:27:08.429Z"
   },
   {
    "duration": 206,
    "start_time": "2025-03-17T07:27:08.436Z"
   },
   {
    "duration": 11,
    "start_time": "2025-03-17T07:27:08.644Z"
   },
   {
    "duration": 209,
    "start_time": "2025-03-17T07:27:08.656Z"
   },
   {
    "duration": 11,
    "start_time": "2025-03-17T07:27:08.866Z"
   },
   {
    "duration": 297,
    "start_time": "2025-03-17T07:27:08.879Z"
   },
   {
    "duration": 210,
    "start_time": "2025-03-17T07:27:09.178Z"
   },
   {
    "duration": 10,
    "start_time": "2025-03-17T07:27:09.389Z"
   },
   {
    "duration": 71,
    "start_time": "2025-03-17T07:27:09.400Z"
   },
   {
    "duration": 22,
    "start_time": "2025-03-17T07:27:09.472Z"
   },
   {
    "duration": 8,
    "start_time": "2025-03-17T07:27:09.495Z"
   },
   {
    "duration": 139,
    "start_time": "2025-03-17T07:27:09.504Z"
   },
   {
    "duration": 196,
    "start_time": "2025-03-17T07:27:09.644Z"
   },
   {
    "duration": 263,
    "start_time": "2025-03-17T07:27:09.841Z"
   },
   {
    "duration": 302,
    "start_time": "2025-03-17T07:27:10.106Z"
   },
   {
    "duration": 337,
    "start_time": "2025-03-17T07:27:10.409Z"
   },
   {
    "duration": 283,
    "start_time": "2025-03-17T07:27:10.747Z"
   },
   {
    "duration": 249,
    "start_time": "2025-03-17T07:27:11.032Z"
   },
   {
    "duration": 26,
    "start_time": "2025-03-17T07:27:11.283Z"
   },
   {
    "duration": 290,
    "start_time": "2025-03-17T07:27:11.310Z"
   },
   {
    "duration": 8,
    "start_time": "2025-03-17T07:27:11.601Z"
   },
   {
    "duration": 191,
    "start_time": "2025-03-17T07:27:11.611Z"
   },
   {
    "duration": 26,
    "start_time": "2025-03-17T07:27:11.804Z"
   },
   {
    "duration": 115,
    "start_time": "2025-03-17T07:27:11.831Z"
   },
   {
    "duration": 5,
    "start_time": "2025-03-17T07:27:11.948Z"
   },
   {
    "duration": 73,
    "start_time": "2025-03-17T07:27:11.955Z"
   },
   {
    "duration": 153,
    "start_time": "2025-03-17T07:27:12.030Z"
   },
   {
    "duration": 22,
    "start_time": "2025-03-17T07:30:10.921Z"
   },
   {
    "duration": 24,
    "start_time": "2025-03-17T07:30:29.715Z"
   },
   {
    "duration": 24,
    "start_time": "2025-03-17T07:31:48.438Z"
   },
   {
    "duration": 101,
    "start_time": "2025-03-17T07:32:04.304Z"
   },
   {
    "duration": 19,
    "start_time": "2025-03-17T07:32:11.346Z"
   },
   {
    "duration": 6,
    "start_time": "2025-03-17T07:34:40.543Z"
   },
   {
    "duration": 5,
    "start_time": "2025-03-17T07:34:56.999Z"
   },
   {
    "duration": 3669,
    "start_time": "2025-03-17T07:36:15.719Z"
   },
   {
    "duration": 198,
    "start_time": "2025-03-17T07:36:19.390Z"
   },
   {
    "duration": 16,
    "start_time": "2025-03-17T07:36:19.589Z"
   },
   {
    "duration": 17,
    "start_time": "2025-03-17T07:36:19.607Z"
   },
   {
    "duration": 14,
    "start_time": "2025-03-17T07:36:19.626Z"
   },
   {
    "duration": 18,
    "start_time": "2025-03-17T07:36:19.642Z"
   },
   {
    "duration": 9,
    "start_time": "2025-03-17T07:36:19.661Z"
   },
   {
    "duration": 17,
    "start_time": "2025-03-17T07:36:19.672Z"
   },
   {
    "duration": 10,
    "start_time": "2025-03-17T07:36:19.691Z"
   },
   {
    "duration": 26,
    "start_time": "2025-03-17T07:36:19.704Z"
   },
   {
    "duration": 12,
    "start_time": "2025-03-17T07:36:19.732Z"
   },
   {
    "duration": 6,
    "start_time": "2025-03-17T07:36:19.746Z"
   },
   {
    "duration": 9,
    "start_time": "2025-03-17T07:36:19.753Z"
   },
   {
    "duration": 11,
    "start_time": "2025-03-17T07:36:19.763Z"
   },
   {
    "duration": 14,
    "start_time": "2025-03-17T07:36:19.775Z"
   },
   {
    "duration": 46,
    "start_time": "2025-03-17T07:36:19.791Z"
   },
   {
    "duration": 18,
    "start_time": "2025-03-17T07:36:19.838Z"
   },
   {
    "duration": 6,
    "start_time": "2025-03-17T07:36:19.858Z"
   },
   {
    "duration": 8,
    "start_time": "2025-03-17T07:36:19.866Z"
   },
   {
    "duration": 55,
    "start_time": "2025-03-17T07:36:19.876Z"
   },
   {
    "duration": 55,
    "start_time": "2025-03-17T07:36:19.933Z"
   },
   {
    "duration": 18,
    "start_time": "2025-03-17T07:36:19.990Z"
   },
   {
    "duration": 82,
    "start_time": "2025-03-17T07:36:20.031Z"
   },
   {
    "duration": 12,
    "start_time": "2025-03-17T07:36:20.114Z"
   },
   {
    "duration": 163,
    "start_time": "2025-03-17T07:36:20.127Z"
   },
   {
    "duration": 6,
    "start_time": "2025-03-17T07:36:20.291Z"
   },
   {
    "duration": 181,
    "start_time": "2025-03-17T07:36:20.298Z"
   },
   {
    "duration": 8,
    "start_time": "2025-03-17T07:36:20.482Z"
   },
   {
    "duration": 256,
    "start_time": "2025-03-17T07:36:20.491Z"
   },
   {
    "duration": 5,
    "start_time": "2025-03-17T07:36:20.749Z"
   },
   {
    "duration": 128,
    "start_time": "2025-03-17T07:36:20.755Z"
   },
   {
    "duration": 11,
    "start_time": "2025-03-17T07:36:20.884Z"
   },
   {
    "duration": 213,
    "start_time": "2025-03-17T07:36:20.897Z"
   },
   {
    "duration": 24,
    "start_time": "2025-03-17T07:36:21.112Z"
   },
   {
    "duration": 314,
    "start_time": "2025-03-17T07:36:21.138Z"
   },
   {
    "duration": 208,
    "start_time": "2025-03-17T07:36:21.455Z"
   },
   {
    "duration": 11,
    "start_time": "2025-03-17T07:36:21.664Z"
   },
   {
    "duration": 24,
    "start_time": "2025-03-17T07:36:21.676Z"
   },
   {
    "duration": 7,
    "start_time": "2025-03-17T07:36:21.702Z"
   },
   {
    "duration": 9,
    "start_time": "2025-03-17T07:36:21.710Z"
   },
   {
    "duration": 151,
    "start_time": "2025-03-17T07:36:21.721Z"
   },
   {
    "duration": 200,
    "start_time": "2025-03-17T07:36:21.874Z"
   },
   {
    "duration": 224,
    "start_time": "2025-03-17T07:36:22.075Z"
   },
   {
    "duration": 283,
    "start_time": "2025-03-17T07:36:22.301Z"
   },
   {
    "duration": 346,
    "start_time": "2025-03-17T07:36:22.586Z"
   },
   {
    "duration": 283,
    "start_time": "2025-03-17T07:36:22.934Z"
   },
   {
    "duration": 257,
    "start_time": "2025-03-17T07:36:23.219Z"
   },
   {
    "duration": 27,
    "start_time": "2025-03-17T07:36:23.478Z"
   },
   {
    "duration": 263,
    "start_time": "2025-03-17T07:36:23.507Z"
   },
   {
    "duration": 9,
    "start_time": "2025-03-17T07:36:23.772Z"
   },
   {
    "duration": 189,
    "start_time": "2025-03-17T07:36:23.783Z"
   },
   {
    "duration": 22,
    "start_time": "2025-03-17T07:36:23.974Z"
   },
   {
    "duration": 217,
    "start_time": "2025-03-17T07:36:23.998Z"
   },
   {
    "duration": 14,
    "start_time": "2025-03-17T07:36:24.216Z"
   },
   {
    "duration": 23,
    "start_time": "2025-03-17T07:36:24.232Z"
   },
   {
    "duration": 147,
    "start_time": "2025-03-17T07:36:24.256Z"
   },
   {
    "duration": 22,
    "start_time": "2025-03-17T07:37:30.678Z"
   },
   {
    "duration": 149,
    "start_time": "2025-03-17T07:40:36.106Z"
   },
   {
    "duration": 71,
    "start_time": "2025-03-17T07:41:13.817Z"
   },
   {
    "duration": 72,
    "start_time": "2025-03-17T07:41:19.500Z"
   },
   {
    "duration": 76,
    "start_time": "2025-03-17T07:41:30.459Z"
   },
   {
    "duration": 72,
    "start_time": "2025-03-17T07:41:33.268Z"
   },
   {
    "duration": 75,
    "start_time": "2025-03-17T07:42:39.803Z"
   },
   {
    "duration": 133,
    "start_time": "2025-03-17T07:43:23.097Z"
   },
   {
    "duration": 81,
    "start_time": "2025-03-17T07:43:27.224Z"
   },
   {
    "duration": 75,
    "start_time": "2025-03-17T07:44:57.601Z"
   },
   {
    "duration": 106,
    "start_time": "2025-03-17T07:52:01.056Z"
   },
   {
    "duration": 152,
    "start_time": "2025-03-17T07:52:09.713Z"
   },
   {
    "duration": 161,
    "start_time": "2025-03-17T07:54:06.224Z"
   },
   {
    "duration": 107,
    "start_time": "2025-03-17T07:55:41.189Z"
   },
   {
    "duration": 93,
    "start_time": "2025-03-17T07:55:44.574Z"
   },
   {
    "duration": 135,
    "start_time": "2025-03-17T08:07:38.064Z"
   },
   {
    "duration": 8,
    "start_time": "2025-03-17T08:11:19.359Z"
   },
   {
    "duration": 1555,
    "start_time": "2025-03-17T08:16:10.784Z"
   },
   {
    "duration": 13,
    "start_time": "2025-03-17T08:16:36.243Z"
   },
   {
    "duration": 94,
    "start_time": "2025-03-17T08:18:01.042Z"
   },
   {
    "duration": 10,
    "start_time": "2025-03-17T08:18:18.436Z"
   },
   {
    "duration": 30,
    "start_time": "2025-03-17T08:18:25.162Z"
   },
   {
    "duration": 231,
    "start_time": "2025-03-17T08:18:28.685Z"
   },
   {
    "duration": 931,
    "start_time": "2025-03-17T08:18:31.461Z"
   },
   {
    "duration": 25,
    "start_time": "2025-03-17T08:18:35.680Z"
   },
   {
    "duration": 392,
    "start_time": "2025-03-17T08:18:38.542Z"
   },
   {
    "duration": 323,
    "start_time": "2025-03-17T08:19:00.117Z"
   },
   {
    "duration": 78,
    "start_time": "2025-03-17T08:20:31.149Z"
   },
   {
    "duration": 113,
    "start_time": "2025-03-17T08:20:38.137Z"
   },
   {
    "duration": 595,
    "start_time": "2025-03-17T08:21:31.591Z"
   },
   {
    "duration": 74,
    "start_time": "2025-03-17T08:22:04.861Z"
   },
   {
    "duration": 67,
    "start_time": "2025-03-17T08:23:55.177Z"
   },
   {
    "duration": 70,
    "start_time": "2025-03-17T08:24:24.006Z"
   },
   {
    "duration": 344,
    "start_time": "2025-03-17T08:25:59.375Z"
   },
   {
    "duration": 348,
    "start_time": "2025-03-17T08:26:24.200Z"
   },
   {
    "duration": 339,
    "start_time": "2025-03-17T08:26:48.048Z"
   },
   {
    "duration": 311,
    "start_time": "2025-03-17T08:27:46.509Z"
   },
   {
    "duration": 195,
    "start_time": "2025-03-17T08:28:15.333Z"
   },
   {
    "duration": 96,
    "start_time": "2025-03-17T08:31:11.558Z"
   },
   {
    "duration": 200,
    "start_time": "2025-03-17T08:31:35.893Z"
   },
   {
    "duration": 192,
    "start_time": "2025-03-17T08:32:13.764Z"
   },
   {
    "duration": 189,
    "start_time": "2025-03-17T08:32:17.043Z"
   },
   {
    "duration": 427,
    "start_time": "2025-03-17T08:36:31.259Z"
   },
   {
    "duration": 449,
    "start_time": "2025-03-17T08:37:33.225Z"
   },
   {
    "duration": 391,
    "start_time": "2025-03-17T08:37:42.278Z"
   },
   {
    "duration": 8,
    "start_time": "2025-03-17T08:43:12.122Z"
   },
   {
    "duration": 376,
    "start_time": "2025-03-17T08:45:28.030Z"
   },
   {
    "duration": 69,
    "start_time": "2025-03-17T08:48:30.250Z"
   },
   {
    "duration": 396,
    "start_time": "2025-03-17T08:49:06.059Z"
   },
   {
    "duration": 390,
    "start_time": "2025-03-17T08:49:16.962Z"
   },
   {
    "duration": 236,
    "start_time": "2025-03-17T08:49:28.996Z"
   },
   {
    "duration": 76,
    "start_time": "2025-03-17T08:51:26.638Z"
   },
   {
    "duration": 3368,
    "start_time": "2025-03-17T09:06:45.361Z"
   },
   {
    "duration": 225,
    "start_time": "2025-03-17T09:06:48.731Z"
   },
   {
    "duration": 16,
    "start_time": "2025-03-17T09:06:48.958Z"
   },
   {
    "duration": 11,
    "start_time": "2025-03-17T09:06:48.976Z"
   },
   {
    "duration": 14,
    "start_time": "2025-03-17T09:06:48.989Z"
   },
   {
    "duration": 8,
    "start_time": "2025-03-17T09:06:49.005Z"
   },
   {
    "duration": 21,
    "start_time": "2025-03-17T09:06:49.015Z"
   },
   {
    "duration": 9,
    "start_time": "2025-03-17T09:06:49.038Z"
   },
   {
    "duration": 9,
    "start_time": "2025-03-17T09:06:49.048Z"
   },
   {
    "duration": 17,
    "start_time": "2025-03-17T09:06:49.059Z"
   },
   {
    "duration": 39,
    "start_time": "2025-03-17T09:06:49.077Z"
   },
   {
    "duration": 5,
    "start_time": "2025-03-17T09:06:49.118Z"
   },
   {
    "duration": 13,
    "start_time": "2025-03-17T09:06:49.124Z"
   },
   {
    "duration": 17,
    "start_time": "2025-03-17T09:06:49.140Z"
   },
   {
    "duration": 10,
    "start_time": "2025-03-17T09:06:49.158Z"
   },
   {
    "duration": 9,
    "start_time": "2025-03-17T09:06:49.169Z"
   },
   {
    "duration": 22,
    "start_time": "2025-03-17T09:06:49.180Z"
   },
   {
    "duration": 5,
    "start_time": "2025-03-17T09:06:49.204Z"
   },
   {
    "duration": 20,
    "start_time": "2025-03-17T09:06:49.211Z"
   },
   {
    "duration": 18,
    "start_time": "2025-03-17T09:06:49.232Z"
   },
   {
    "duration": 51,
    "start_time": "2025-03-17T09:06:49.251Z"
   },
   {
    "duration": 38,
    "start_time": "2025-03-17T09:06:49.303Z"
   },
   {
    "duration": 21,
    "start_time": "2025-03-17T09:06:49.343Z"
   },
   {
    "duration": 6,
    "start_time": "2025-03-17T09:06:49.366Z"
   },
   {
    "duration": 202,
    "start_time": "2025-03-17T09:06:49.374Z"
   },
   {
    "duration": 6,
    "start_time": "2025-03-17T09:06:49.578Z"
   },
   {
    "duration": 188,
    "start_time": "2025-03-17T09:06:49.586Z"
   },
   {
    "duration": 9,
    "start_time": "2025-03-17T09:06:49.776Z"
   },
   {
    "duration": 208,
    "start_time": "2025-03-17T09:06:49.787Z"
   },
   {
    "duration": 6,
    "start_time": "2025-03-17T09:06:49.997Z"
   },
   {
    "duration": 90,
    "start_time": "2025-03-17T09:06:50.004Z"
   },
   {
    "duration": 12,
    "start_time": "2025-03-17T09:06:50.096Z"
   },
   {
    "duration": 171,
    "start_time": "2025-03-17T09:06:50.109Z"
   },
   {
    "duration": 12,
    "start_time": "2025-03-17T09:06:50.282Z"
   },
   {
    "duration": 290,
    "start_time": "2025-03-17T09:06:50.296Z"
   },
   {
    "duration": 197,
    "start_time": "2025-03-17T09:06:50.588Z"
   },
   {
    "duration": 12,
    "start_time": "2025-03-17T09:06:50.787Z"
   },
   {
    "duration": 68,
    "start_time": "2025-03-17T09:06:50.801Z"
   },
   {
    "duration": 10,
    "start_time": "2025-03-17T09:06:50.871Z"
   },
   {
    "duration": 11,
    "start_time": "2025-03-17T09:06:50.882Z"
   },
   {
    "duration": 228,
    "start_time": "2025-03-17T09:06:50.897Z"
   },
   {
    "duration": 180,
    "start_time": "2025-03-17T09:06:51.129Z"
   },
   {
    "duration": 279,
    "start_time": "2025-03-17T09:06:51.310Z"
   },
   {
    "duration": 287,
    "start_time": "2025-03-17T09:06:51.591Z"
   },
   {
    "duration": 352,
    "start_time": "2025-03-17T09:06:51.880Z"
   },
   {
    "duration": 291,
    "start_time": "2025-03-17T09:06:52.234Z"
   },
   {
    "duration": 254,
    "start_time": "2025-03-17T09:06:52.530Z"
   },
   {
    "duration": 25,
    "start_time": "2025-03-17T09:06:52.785Z"
   },
   {
    "duration": 211,
    "start_time": "2025-03-17T09:06:52.812Z"
   },
   {
    "duration": 198,
    "start_time": "2025-03-17T09:06:53.029Z"
   },
   {
    "duration": 8,
    "start_time": "2025-03-17T09:06:53.230Z"
   },
   {
    "duration": 191,
    "start_time": "2025-03-17T09:06:53.239Z"
   },
   {
    "duration": 243,
    "start_time": "2025-03-17T09:06:53.431Z"
   },
   {
    "duration": 22,
    "start_time": "2025-03-17T09:06:53.676Z"
   },
   {
    "duration": 374,
    "start_time": "2025-03-17T09:06:53.700Z"
   },
   {
    "duration": 7,
    "start_time": "2025-03-17T09:06:54.075Z"
   },
   {
    "duration": 44,
    "start_time": "2025-03-17T09:06:54.083Z"
   },
   {
    "duration": 140,
    "start_time": "2025-03-17T09:06:54.129Z"
   },
   {
    "duration": 147,
    "start_time": "2025-03-17T09:08:17.908Z"
   },
   {
    "duration": 11,
    "start_time": "2025-03-17T09:09:10.977Z"
   },
   {
    "duration": 28,
    "start_time": "2025-03-17T09:28:30.265Z"
   },
   {
    "duration": 107,
    "start_time": "2025-03-17T09:28:48.487Z"
   },
   {
    "duration": 23,
    "start_time": "2025-03-17T09:29:00.973Z"
   },
   {
    "duration": 24,
    "start_time": "2025-03-17T09:29:39.636Z"
   },
   {
    "duration": 8,
    "start_time": "2025-03-17T09:29:51.544Z"
   },
   {
    "duration": 8,
    "start_time": "2025-03-17T09:30:39.755Z"
   },
   {
    "duration": 8,
    "start_time": "2025-03-17T09:30:41.988Z"
   },
   {
    "duration": 274,
    "start_time": "2025-03-17T09:34:29.621Z"
   },
   {
    "duration": 277,
    "start_time": "2025-03-17T09:34:48.176Z"
   },
   {
    "duration": 3516,
    "start_time": "2025-03-17T09:37:32.855Z"
   },
   {
    "duration": 232,
    "start_time": "2025-03-17T09:37:36.374Z"
   },
   {
    "duration": 15,
    "start_time": "2025-03-17T09:37:36.610Z"
   },
   {
    "duration": 22,
    "start_time": "2025-03-17T09:37:36.626Z"
   },
   {
    "duration": 24,
    "start_time": "2025-03-17T09:37:36.649Z"
   },
   {
    "duration": 48,
    "start_time": "2025-03-17T09:37:36.675Z"
   },
   {
    "duration": 17,
    "start_time": "2025-03-17T09:37:36.725Z"
   },
   {
    "duration": 15,
    "start_time": "2025-03-17T09:37:36.744Z"
   },
   {
    "duration": 37,
    "start_time": "2025-03-17T09:37:36.761Z"
   },
   {
    "duration": 42,
    "start_time": "2025-03-17T09:37:36.799Z"
   },
   {
    "duration": 42,
    "start_time": "2025-03-17T09:37:36.843Z"
   },
   {
    "duration": 13,
    "start_time": "2025-03-17T09:37:36.886Z"
   },
   {
    "duration": 37,
    "start_time": "2025-03-17T09:37:36.901Z"
   },
   {
    "duration": 14,
    "start_time": "2025-03-17T09:37:36.940Z"
   },
   {
    "duration": 12,
    "start_time": "2025-03-17T09:37:36.956Z"
   },
   {
    "duration": 10,
    "start_time": "2025-03-17T09:37:36.970Z"
   },
   {
    "duration": 34,
    "start_time": "2025-03-17T09:37:36.981Z"
   },
   {
    "duration": 35,
    "start_time": "2025-03-17T09:37:37.017Z"
   },
   {
    "duration": 19,
    "start_time": "2025-03-17T09:37:37.053Z"
   },
   {
    "duration": 78,
    "start_time": "2025-03-17T09:37:37.073Z"
   },
   {
    "duration": 97,
    "start_time": "2025-03-17T09:37:37.152Z"
   },
   {
    "duration": 16,
    "start_time": "2025-03-17T09:37:37.251Z"
   },
   {
    "duration": 19,
    "start_time": "2025-03-17T09:37:37.269Z"
   },
   {
    "duration": 5,
    "start_time": "2025-03-17T09:37:37.290Z"
   },
   {
    "duration": 185,
    "start_time": "2025-03-17T09:37:37.296Z"
   },
   {
    "duration": 6,
    "start_time": "2025-03-17T09:37:37.482Z"
   },
   {
    "duration": 181,
    "start_time": "2025-03-17T09:37:37.489Z"
   },
   {
    "duration": 7,
    "start_time": "2025-03-17T09:37:37.672Z"
   },
   {
    "duration": 162,
    "start_time": "2025-03-17T09:37:37.681Z"
   },
   {
    "duration": 5,
    "start_time": "2025-03-17T09:37:37.844Z"
   },
   {
    "duration": 100,
    "start_time": "2025-03-17T09:37:37.850Z"
   },
   {
    "duration": 60,
    "start_time": "2025-03-17T09:37:37.952Z"
   },
   {
    "duration": 9,
    "start_time": "2025-03-17T09:37:38.014Z"
   },
   {
    "duration": 155,
    "start_time": "2025-03-17T09:37:38.024Z"
   },
   {
    "duration": 11,
    "start_time": "2025-03-17T09:37:38.181Z"
   },
   {
    "duration": 280,
    "start_time": "2025-03-17T09:37:38.193Z"
   },
   {
    "duration": 198,
    "start_time": "2025-03-17T09:37:38.475Z"
   },
   {
    "duration": 12,
    "start_time": "2025-03-17T09:37:38.674Z"
   },
   {
    "duration": 6,
    "start_time": "2025-03-17T09:37:38.687Z"
   },
   {
    "duration": 6,
    "start_time": "2025-03-17T09:37:38.697Z"
   },
   {
    "duration": 24,
    "start_time": "2025-03-17T09:37:38.711Z"
   },
   {
    "duration": 146,
    "start_time": "2025-03-17T09:37:38.737Z"
   },
   {
    "duration": 197,
    "start_time": "2025-03-17T09:37:38.885Z"
   },
   {
    "duration": 288,
    "start_time": "2025-03-17T09:37:39.084Z"
   },
   {
    "duration": 258,
    "start_time": "2025-03-17T09:37:39.374Z"
   },
   {
    "duration": 313,
    "start_time": "2025-03-17T09:37:39.634Z"
   },
   {
    "duration": 285,
    "start_time": "2025-03-17T09:37:39.949Z"
   },
   {
    "duration": 250,
    "start_time": "2025-03-17T09:37:40.236Z"
   },
   {
    "duration": 25,
    "start_time": "2025-03-17T09:37:40.488Z"
   },
   {
    "duration": 264,
    "start_time": "2025-03-17T09:37:40.514Z"
   },
   {
    "duration": 197,
    "start_time": "2025-03-17T09:37:40.780Z"
   },
   {
    "duration": 8,
    "start_time": "2025-03-17T09:37:40.979Z"
   },
   {
    "duration": 183,
    "start_time": "2025-03-17T09:37:40.989Z"
   },
   {
    "duration": 258,
    "start_time": "2025-03-17T09:37:41.174Z"
   },
   {
    "duration": 25,
    "start_time": "2025-03-17T09:37:41.434Z"
   },
   {
    "duration": 216,
    "start_time": "2025-03-17T09:37:41.461Z"
   },
   {
    "duration": 6,
    "start_time": "2025-03-17T09:37:41.679Z"
   },
   {
    "duration": 24,
    "start_time": "2025-03-17T09:37:41.687Z"
   },
   {
    "duration": 152,
    "start_time": "2025-03-17T09:37:41.712Z"
   },
   {
    "duration": 5084,
    "start_time": "2025-03-17T20:24:18.095Z"
   },
   {
    "duration": 220,
    "start_time": "2025-03-17T20:24:23.181Z"
   },
   {
    "duration": 19,
    "start_time": "2025-03-17T20:24:23.403Z"
   },
   {
    "duration": 11,
    "start_time": "2025-03-17T20:24:23.423Z"
   },
   {
    "duration": 14,
    "start_time": "2025-03-17T20:24:23.436Z"
   },
   {
    "duration": 8,
    "start_time": "2025-03-17T20:24:23.452Z"
   },
   {
    "duration": 8,
    "start_time": "2025-03-17T20:24:23.474Z"
   },
   {
    "duration": 8,
    "start_time": "2025-03-17T20:24:23.483Z"
   },
   {
    "duration": 8,
    "start_time": "2025-03-17T20:24:23.493Z"
   },
   {
    "duration": 11,
    "start_time": "2025-03-17T20:24:23.502Z"
   },
   {
    "duration": 11,
    "start_time": "2025-03-17T20:24:23.514Z"
   },
   {
    "duration": 49,
    "start_time": "2025-03-17T20:24:23.527Z"
   },
   {
    "duration": 9,
    "start_time": "2025-03-17T20:24:23.578Z"
   },
   {
    "duration": 10,
    "start_time": "2025-03-17T20:24:23.589Z"
   },
   {
    "duration": 9,
    "start_time": "2025-03-17T20:24:23.600Z"
   },
   {
    "duration": 7,
    "start_time": "2025-03-17T20:24:23.611Z"
   },
   {
    "duration": 16,
    "start_time": "2025-03-17T20:24:23.620Z"
   },
   {
    "duration": 38,
    "start_time": "2025-03-17T20:24:23.638Z"
   },
   {
    "duration": 7,
    "start_time": "2025-03-17T20:24:23.678Z"
   },
   {
    "duration": 23,
    "start_time": "2025-03-17T20:24:23.687Z"
   },
   {
    "duration": 72,
    "start_time": "2025-03-17T20:24:23.711Z"
   },
   {
    "duration": 17,
    "start_time": "2025-03-17T20:24:23.784Z"
   },
   {
    "duration": 18,
    "start_time": "2025-03-17T20:24:23.803Z"
   },
   {
    "duration": 5,
    "start_time": "2025-03-17T20:24:23.822Z"
   },
   {
    "duration": 364,
    "start_time": "2025-03-17T20:24:23.828Z"
   },
   {
    "duration": 6,
    "start_time": "2025-03-17T20:24:24.194Z"
   },
   {
    "duration": 291,
    "start_time": "2025-03-17T20:24:24.201Z"
   },
   {
    "duration": 8,
    "start_time": "2025-03-17T20:24:24.494Z"
   },
   {
    "duration": 262,
    "start_time": "2025-03-17T20:24:24.503Z"
   },
   {
    "duration": 11,
    "start_time": "2025-03-17T20:24:24.767Z"
   },
   {
    "duration": 123,
    "start_time": "2025-03-17T20:24:24.780Z"
   },
   {
    "duration": 13,
    "start_time": "2025-03-17T20:24:24.974Z"
   },
   {
    "duration": 7,
    "start_time": "2025-03-17T20:24:24.988Z"
   },
   {
    "duration": 266,
    "start_time": "2025-03-17T20:24:24.997Z"
   },
   {
    "duration": 15,
    "start_time": "2025-03-17T20:24:25.264Z"
   },
   {
    "duration": 478,
    "start_time": "2025-03-17T20:24:25.281Z"
   },
   {
    "duration": 232,
    "start_time": "2025-03-17T20:24:25.761Z"
   },
   {
    "duration": 10,
    "start_time": "2025-03-17T20:24:25.995Z"
   },
   {
    "duration": 7,
    "start_time": "2025-03-17T20:24:26.007Z"
   },
   {
    "duration": 6,
    "start_time": "2025-03-17T20:24:26.015Z"
   },
   {
    "duration": 9,
    "start_time": "2025-03-17T20:24:26.025Z"
   },
   {
    "duration": 297,
    "start_time": "2025-03-17T20:24:26.035Z"
   },
   {
    "duration": 173,
    "start_time": "2025-03-17T20:24:26.333Z"
   },
   {
    "duration": 206,
    "start_time": "2025-03-17T20:24:26.507Z"
   },
   {
    "duration": 321,
    "start_time": "2025-03-17T20:24:26.715Z"
   },
   {
    "duration": 356,
    "start_time": "2025-03-17T20:24:27.037Z"
   },
   {
    "duration": 370,
    "start_time": "2025-03-17T20:24:27.395Z"
   },
   {
    "duration": 280,
    "start_time": "2025-03-17T20:24:27.766Z"
   },
   {
    "duration": 31,
    "start_time": "2025-03-17T20:24:28.047Z"
   },
   {
    "duration": 330,
    "start_time": "2025-03-17T20:24:28.080Z"
   },
   {
    "duration": 303,
    "start_time": "2025-03-17T20:24:28.412Z"
   },
   {
    "duration": 8,
    "start_time": "2025-03-17T20:24:28.717Z"
   },
   {
    "duration": 295,
    "start_time": "2025-03-17T20:24:28.726Z"
   },
   {
    "duration": 366,
    "start_time": "2025-03-17T20:24:29.023Z"
   },
   {
    "duration": 20,
    "start_time": "2025-03-17T20:24:29.391Z"
   },
   {
    "duration": 223,
    "start_time": "2025-03-17T20:24:29.413Z"
   },
   {
    "duration": 5,
    "start_time": "2025-03-17T20:24:29.638Z"
   },
   {
    "duration": 40,
    "start_time": "2025-03-17T20:24:29.645Z"
   },
   {
    "duration": 251,
    "start_time": "2025-03-17T20:24:29.687Z"
   },
   {
    "duration": 5,
    "start_time": "2025-03-17T20:25:09.996Z"
   },
   {
    "duration": 4434,
    "start_time": "2025-03-18T11:10:42.877Z"
   },
   {
    "duration": 231,
    "start_time": "2025-03-18T11:10:47.313Z"
   },
   {
    "duration": 14,
    "start_time": "2025-03-18T11:10:47.557Z"
   },
   {
    "duration": 22,
    "start_time": "2025-03-18T11:10:47.572Z"
   },
   {
    "duration": 18,
    "start_time": "2025-03-18T11:10:47.595Z"
   },
   {
    "duration": 20,
    "start_time": "2025-03-18T11:10:47.615Z"
   },
   {
    "duration": 15,
    "start_time": "2025-03-18T11:10:47.637Z"
   },
   {
    "duration": 38,
    "start_time": "2025-03-18T11:10:47.653Z"
   },
   {
    "duration": 15,
    "start_time": "2025-03-18T11:10:47.692Z"
   },
   {
    "duration": 12,
    "start_time": "2025-03-18T11:10:47.710Z"
   },
   {
    "duration": 10,
    "start_time": "2025-03-18T11:10:47.723Z"
   },
   {
    "duration": 5,
    "start_time": "2025-03-18T11:10:47.734Z"
   },
   {
    "duration": 24,
    "start_time": "2025-03-18T11:10:47.740Z"
   },
   {
    "duration": 25,
    "start_time": "2025-03-18T11:10:47.766Z"
   },
   {
    "duration": 10,
    "start_time": "2025-03-18T11:10:47.792Z"
   },
   {
    "duration": 23,
    "start_time": "2025-03-18T11:10:47.803Z"
   },
   {
    "duration": 16,
    "start_time": "2025-03-18T11:10:47.828Z"
   },
   {
    "duration": 6,
    "start_time": "2025-03-18T11:10:47.845Z"
   },
   {
    "duration": 11,
    "start_time": "2025-03-18T11:10:47.852Z"
   },
   {
    "duration": 34,
    "start_time": "2025-03-18T11:10:47.865Z"
   },
   {
    "duration": 48,
    "start_time": "2025-03-18T11:10:47.900Z"
   },
   {
    "duration": 17,
    "start_time": "2025-03-18T11:10:47.958Z"
   },
   {
    "duration": 31,
    "start_time": "2025-03-18T11:10:47.976Z"
   },
   {
    "duration": 7,
    "start_time": "2025-03-18T11:10:48.008Z"
   },
   {
    "duration": 158,
    "start_time": "2025-03-18T11:10:48.016Z"
   },
   {
    "duration": 6,
    "start_time": "2025-03-18T11:10:48.175Z"
   },
   {
    "duration": 175,
    "start_time": "2025-03-18T11:10:48.182Z"
   },
   {
    "duration": 8,
    "start_time": "2025-03-18T11:10:48.361Z"
   },
   {
    "duration": 151,
    "start_time": "2025-03-18T11:10:48.370Z"
   },
   {
    "duration": 4,
    "start_time": "2025-03-18T11:10:48.523Z"
   },
   {
    "duration": 85,
    "start_time": "2025-03-18T11:10:48.529Z"
   },
   {
    "duration": 11,
    "start_time": "2025-03-18T11:10:48.615Z"
   },
   {
    "duration": 7,
    "start_time": "2025-03-18T11:10:48.627Z"
   },
   {
    "duration": 165,
    "start_time": "2025-03-18T11:10:48.635Z"
   },
   {
    "duration": 11,
    "start_time": "2025-03-18T11:10:48.801Z"
   },
   {
    "duration": 295,
    "start_time": "2025-03-18T11:10:48.813Z"
   },
   {
    "duration": 198,
    "start_time": "2025-03-18T11:10:49.109Z"
   },
   {
    "duration": 10,
    "start_time": "2025-03-18T11:10:49.308Z"
   },
   {
    "duration": 9,
    "start_time": "2025-03-18T11:10:49.319Z"
   },
   {
    "duration": 7,
    "start_time": "2025-03-18T11:10:49.330Z"
   },
   {
    "duration": 25,
    "start_time": "2025-03-18T11:10:49.338Z"
   },
   {
    "duration": 148,
    "start_time": "2025-03-18T11:10:49.365Z"
   },
   {
    "duration": 187,
    "start_time": "2025-03-18T11:10:49.515Z"
   },
   {
    "duration": 228,
    "start_time": "2025-03-18T11:10:49.704Z"
   },
   {
    "duration": 293,
    "start_time": "2025-03-18T11:10:49.934Z"
   },
   {
    "duration": 349,
    "start_time": "2025-03-18T11:10:50.229Z"
   },
   {
    "duration": 287,
    "start_time": "2025-03-18T11:10:50.580Z"
   },
   {
    "duration": 253,
    "start_time": "2025-03-18T11:10:50.869Z"
   },
   {
    "duration": 40,
    "start_time": "2025-03-18T11:10:51.124Z"
   },
   {
    "duration": 238,
    "start_time": "2025-03-18T11:10:51.165Z"
   },
   {
    "duration": 202,
    "start_time": "2025-03-18T11:10:51.405Z"
   },
   {
    "duration": 8,
    "start_time": "2025-03-18T11:10:51.608Z"
   },
   {
    "duration": 194,
    "start_time": "2025-03-18T11:10:51.617Z"
   },
   {
    "duration": 250,
    "start_time": "2025-03-18T11:10:51.813Z"
   },
   {
    "duration": 21,
    "start_time": "2025-03-18T11:10:52.065Z"
   },
   {
    "duration": 208,
    "start_time": "2025-03-18T11:10:52.087Z"
   },
   {
    "duration": 6,
    "start_time": "2025-03-18T11:10:52.297Z"
   },
   {
    "duration": 25,
    "start_time": "2025-03-18T11:10:52.304Z"
   },
   {
    "duration": 157,
    "start_time": "2025-03-18T11:10:52.331Z"
   }
  ],
  "colab": {
   "provenance": []
  },
  "kernelspec": {
   "display_name": "Python [conda env:base] *",
   "language": "python",
   "name": "conda-base-py"
  },
  "language_info": {
   "codemirror_mode": {
    "name": "ipython",
    "version": 3
   },
   "file_extension": ".py",
   "mimetype": "text/x-python",
   "name": "python",
   "nbconvert_exporter": "python",
   "pygments_lexer": "ipython3",
   "version": "3.12.3"
  },
  "toc": {
   "base_numbering": 1,
   "nav_menu": {},
   "number_sections": true,
   "sideBar": true,
   "skip_h1_title": true,
   "title_cell": "Table of Contents",
   "title_sidebar": "Contents",
   "toc_cell": false,
   "toc_position": {},
   "toc_section_display": true,
   "toc_window_display": false
  }
 },
 "nbformat": 4,
 "nbformat_minor": 5
}
