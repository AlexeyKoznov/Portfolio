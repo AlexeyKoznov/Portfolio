{
 "cells": [
  {
   "cell_type": "markdown",
   "id": "_E41Wr5fqnFT",
   "metadata": {
    "id": "_E41Wr5fqnFT"
   },
   "source": [
    "# Часть 1. Проверка гипотезы в Python и составление аналитической записки"
   ]
  },
  {
   "cell_type": "markdown",
   "id": "e06910dd",
   "metadata": {
    "id": "e06910dd"
   },
   "source": [
    "- Автор: Кознов Алексей\n",
    "- Дата: 30.05.2025"
   ]
  },
  {
   "cell_type": "markdown",
   "id": "4149134c",
   "metadata": {
    "id": "4149134c"
   },
   "source": [
    "## Цели и задачи проекта\n",
    "\n",
    "Проверить гипотезу о том, что пользователи из Санкт-Петербурга проводят в среднем больше времени за чтением и прослушиванием книг в приложении, чем пользователи из Москвы.\n",
    "\n",
    "Задачи:\n",
    "1. Загрузить данные и познакомиться с их содержимым.\n",
    "2. Провести предобработку данных.\n",
    "3. Проверить гипотезу.\n",
    "4. Сформулировать выводы по полученным результатам."
   ]
  },
  {
   "cell_type": "markdown",
   "id": "728986ea",
   "metadata": {
    "id": "728986ea"
   },
   "source": [
    "## Описание данных\n",
    "\n",
    "Мы имеем таблицу с данными о количестве часов и активности пользователей из Москвы и Санкт-Петербурга `yandex_knigi_data.csv`\n",
    "\n",
    "В датасете представлены столбцы:\n",
    "- `city` - город пользователя\n",
    "- `puid` - идентификатор пользователя\n",
    "- `hours` - количество часов чтения книг"
   ]
  },
  {
   "cell_type": "markdown",
   "id": "4fecaf95",
   "metadata": {
    "id": "4fecaf95"
   },
   "source": [
    "## Содержимое проекта\n",
    "\n",
    "1. Загрузка данных и знакомство с ними\n",
    "2. Предобработка\n",
    "3. Исследовательский анализ\n",
    "2. Проверка гипотезы в Python\n",
    "3. Аналитическая записка\n",
    "\n",
    "---"
   ]
  },
  {
   "cell_type": "markdown",
   "id": "6f7d21d6",
   "metadata": {
    "id": "6f7d21d6"
   },
   "source": [
    "## 1. Загрузка данных и знакомство с ними"
   ]
  },
  {
   "cell_type": "code",
   "execution_count": 7,
   "id": "ac95f4a9",
   "metadata": {},
   "outputs": [],
   "source": [
    "import pandas as pd\n",
    "import scipy.stats as st\n",
    "import matplotlib.pyplot as plt\n",
    "import numpy as np\n",
    "from statsmodels.stats.power import NormalIndPower\n",
    "from statsmodels.stats.proportion import proportions_ztest"
   ]
  },
  {
   "cell_type": "code",
   "execution_count": 8,
   "id": "05faf34b",
   "metadata": {
    "id": "05faf34b"
   },
   "outputs": [],
   "source": [
    "df = pd.read_csv('https://code.s3.yandex.net/datasets/yandex_knigi_data.csv')"
   ]
  },
  {
   "cell_type": "code",
   "execution_count": 9,
   "id": "ce87c1db",
   "metadata": {
    "id": "ce87c1db"
   },
   "outputs": [
    {
     "data": {
      "text/html": [
       "<div>\n",
       "<style scoped>\n",
       "    .dataframe tbody tr th:only-of-type {\n",
       "        vertical-align: middle;\n",
       "    }\n",
       "\n",
       "    .dataframe tbody tr th {\n",
       "        vertical-align: top;\n",
       "    }\n",
       "\n",
       "    .dataframe thead th {\n",
       "        text-align: right;\n",
       "    }\n",
       "</style>\n",
       "<table border=\"1\" class=\"dataframe\">\n",
       "  <thead>\n",
       "    <tr style=\"text-align: right;\">\n",
       "      <th></th>\n",
       "      <th>Unnamed: 0</th>\n",
       "      <th>city</th>\n",
       "      <th>puid</th>\n",
       "      <th>hours</th>\n",
       "    </tr>\n",
       "  </thead>\n",
       "  <tbody>\n",
       "    <tr>\n",
       "      <th>0</th>\n",
       "      <td>0</td>\n",
       "      <td>Москва</td>\n",
       "      <td>9668</td>\n",
       "      <td>26.167776</td>\n",
       "    </tr>\n",
       "    <tr>\n",
       "      <th>1</th>\n",
       "      <td>1</td>\n",
       "      <td>Москва</td>\n",
       "      <td>16598</td>\n",
       "      <td>82.111217</td>\n",
       "    </tr>\n",
       "    <tr>\n",
       "      <th>2</th>\n",
       "      <td>2</td>\n",
       "      <td>Москва</td>\n",
       "      <td>80401</td>\n",
       "      <td>4.656906</td>\n",
       "    </tr>\n",
       "    <tr>\n",
       "      <th>3</th>\n",
       "      <td>3</td>\n",
       "      <td>Москва</td>\n",
       "      <td>140205</td>\n",
       "      <td>1.840556</td>\n",
       "    </tr>\n",
       "    <tr>\n",
       "      <th>4</th>\n",
       "      <td>4</td>\n",
       "      <td>Москва</td>\n",
       "      <td>248755</td>\n",
       "      <td>151.326434</td>\n",
       "    </tr>\n",
       "  </tbody>\n",
       "</table>\n",
       "</div>"
      ],
      "text/plain": [
       "   Unnamed: 0    city    puid       hours\n",
       "0           0  Москва    9668   26.167776\n",
       "1           1  Москва   16598   82.111217\n",
       "2           2  Москва   80401    4.656906\n",
       "3           3  Москва  140205    1.840556\n",
       "4           4  Москва  248755  151.326434"
      ]
     },
     "execution_count": 9,
     "metadata": {},
     "output_type": "execute_result"
    }
   ],
   "source": [
    "df.head()"
   ]
  },
  {
   "cell_type": "code",
   "execution_count": 10,
   "id": "f68a7419",
   "metadata": {
    "id": "f68a7419",
    "scrolled": true
   },
   "outputs": [
    {
     "name": "stdout",
     "output_type": "stream",
     "text": [
      "<class 'pandas.core.frame.DataFrame'>\n",
      "RangeIndex: 8784 entries, 0 to 8783\n",
      "Data columns (total 4 columns):\n",
      " #   Column      Non-Null Count  Dtype  \n",
      "---  ------      --------------  -----  \n",
      " 0   Unnamed: 0  8784 non-null   int64  \n",
      " 1   city        8784 non-null   object \n",
      " 2   puid        8784 non-null   int64  \n",
      " 3   hours       8784 non-null   float64\n",
      "dtypes: float64(1), int64(2), object(1)\n",
      "memory usage: 274.6+ KB\n"
     ]
    }
   ],
   "source": [
    "df.info()"
   ]
  },
  {
   "cell_type": "markdown",
   "id": "8906f7e6",
   "metadata": {},
   "source": [
    "## 2. Предобработка"
   ]
  },
  {
   "cell_type": "markdown",
   "id": "62b3a990",
   "metadata": {},
   "source": [
    "Удалим столбец `Unnamed: 0`, т.к. он просто дублирует индексы датафрейма и не нужен для работы.\n",
    "\n",
    "Остальные столбцы имеют корректные типы данных и не имеют пропусков, оставим их без изменения."
   ]
  },
  {
   "cell_type": "code",
   "execution_count": 13,
   "id": "f34d0263",
   "metadata": {},
   "outputs": [],
   "source": [
    "df = df.drop('Unnamed: 0', axis=1)"
   ]
  },
  {
   "cell_type": "code",
   "execution_count": 14,
   "id": "4da2c655",
   "metadata": {},
   "outputs": [
    {
     "data": {
      "text/html": [
       "<div>\n",
       "<style scoped>\n",
       "    .dataframe tbody tr th:only-of-type {\n",
       "        vertical-align: middle;\n",
       "    }\n",
       "\n",
       "    .dataframe tbody tr th {\n",
       "        vertical-align: top;\n",
       "    }\n",
       "\n",
       "    .dataframe thead th {\n",
       "        text-align: right;\n",
       "    }\n",
       "</style>\n",
       "<table border=\"1\" class=\"dataframe\">\n",
       "  <thead>\n",
       "    <tr style=\"text-align: right;\">\n",
       "      <th></th>\n",
       "      <th>city</th>\n",
       "      <th>puid</th>\n",
       "      <th>hours</th>\n",
       "    </tr>\n",
       "  </thead>\n",
       "  <tbody>\n",
       "    <tr>\n",
       "      <th>0</th>\n",
       "      <td>Москва</td>\n",
       "      <td>9668</td>\n",
       "      <td>26.167776</td>\n",
       "    </tr>\n",
       "    <tr>\n",
       "      <th>1</th>\n",
       "      <td>Москва</td>\n",
       "      <td>16598</td>\n",
       "      <td>82.111217</td>\n",
       "    </tr>\n",
       "    <tr>\n",
       "      <th>2</th>\n",
       "      <td>Москва</td>\n",
       "      <td>80401</td>\n",
       "      <td>4.656906</td>\n",
       "    </tr>\n",
       "    <tr>\n",
       "      <th>3</th>\n",
       "      <td>Москва</td>\n",
       "      <td>140205</td>\n",
       "      <td>1.840556</td>\n",
       "    </tr>\n",
       "    <tr>\n",
       "      <th>4</th>\n",
       "      <td>Москва</td>\n",
       "      <td>248755</td>\n",
       "      <td>151.326434</td>\n",
       "    </tr>\n",
       "  </tbody>\n",
       "</table>\n",
       "</div>"
      ],
      "text/plain": [
       "     city    puid       hours\n",
       "0  Москва    9668   26.167776\n",
       "1  Москва   16598   82.111217\n",
       "2  Москва   80401    4.656906\n",
       "3  Москва  140205    1.840556\n",
       "4  Москва  248755  151.326434"
      ]
     },
     "execution_count": 14,
     "metadata": {},
     "output_type": "execute_result"
    }
   ],
   "source": [
    "df.head()"
   ]
  },
  {
   "cell_type": "code",
   "execution_count": 15,
   "id": "b8ab329a",
   "metadata": {},
   "outputs": [
    {
     "data": {
      "text/plain": [
       "0"
      ]
     },
     "execution_count": 15,
     "metadata": {},
     "output_type": "execute_result"
    }
   ],
   "source": [
    "df.duplicated().sum()"
   ]
  },
  {
   "cell_type": "markdown",
   "id": "43f73ab1",
   "metadata": {},
   "source": [
    "Явных дубликатов не обнаружено"
   ]
  },
  {
   "cell_type": "code",
   "execution_count": 17,
   "id": "9c0832a6",
   "metadata": {
    "scrolled": true
   },
   "outputs": [
    {
     "data": {
      "text/plain": [
       "244"
      ]
     },
     "execution_count": 17,
     "metadata": {},
     "output_type": "execute_result"
    }
   ],
   "source": [
    "df.duplicated(subset='puid').sum()"
   ]
  },
  {
   "cell_type": "code",
   "execution_count": 18,
   "id": "f62323b7",
   "metadata": {},
   "outputs": [
    {
     "data": {
      "text/plain": [
       "0.027777777777777776"
      ]
     },
     "execution_count": 18,
     "metadata": {},
     "output_type": "execute_result"
    }
   ],
   "source": [
    "df.duplicated(subset='puid').mean()"
   ]
  },
  {
   "cell_type": "markdown",
   "id": "f2b6b28c",
   "metadata": {},
   "source": [
    "Удалим дубликаты по столбцу `puid`"
   ]
  },
  {
   "cell_type": "code",
   "execution_count": 20,
   "id": "6d807649",
   "metadata": {},
   "outputs": [],
   "source": [
    "df = df.drop_duplicates(subset='puid')"
   ]
  },
  {
   "cell_type": "code",
   "execution_count": 21,
   "id": "1d4d9203",
   "metadata": {
    "scrolled": true
   },
   "outputs": [
    {
     "data": {
      "text/plain": [
       "0"
      ]
     },
     "execution_count": 21,
     "metadata": {},
     "output_type": "execute_result"
    }
   ],
   "source": [
    "df.duplicated(subset='puid').sum()"
   ]
  },
  {
   "cell_type": "markdown",
   "id": "8cba6adf",
   "metadata": {},
   "source": [
    "## 3. Исследовательский анализ"
   ]
  },
  {
   "cell_type": "markdown",
   "id": "6628bc36",
   "metadata": {},
   "source": [
    "Сравним размеры групп, их статистики и распределение"
   ]
  },
  {
   "cell_type": "code",
   "execution_count": 24,
   "id": "006c06cc",
   "metadata": {},
   "outputs": [
    {
     "data": {
      "text/plain": [
       "city\n",
       "Москва             6234\n",
       "Санкт-Петербург    2306\n",
       "Name: count, dtype: int64"
      ]
     },
     "execution_count": 24,
     "metadata": {},
     "output_type": "execute_result"
    }
   ],
   "source": [
    "df['city'].value_counts()"
   ]
  },
  {
   "cell_type": "code",
   "execution_count": 25,
   "id": "576aaa80",
   "metadata": {},
   "outputs": [],
   "source": [
    "msk_users = df[df['city'] == 'Москва']\n",
    "spb_users = df[df['city'] == 'Санкт-Петербург']"
   ]
  },
  {
   "cell_type": "code",
   "execution_count": 26,
   "id": "f20b2809",
   "metadata": {},
   "outputs": [
    {
     "data": {
      "text/plain": [
       "count    6234.000000\n",
       "mean       10.881092\n",
       "std        36.851683\n",
       "min         0.000018\n",
       "25%         0.059903\n",
       "50%         0.924498\n",
       "75%         5.939972\n",
       "max       857.209373\n",
       "Name: hours, dtype: float64"
      ]
     },
     "execution_count": 26,
     "metadata": {},
     "output_type": "execute_result"
    }
   ],
   "source": [
    "msk_users['hours'].describe()"
   ]
  },
  {
   "cell_type": "markdown",
   "id": "7506ef09",
   "metadata": {},
   "source": [
    "Уберем слишком большие значения на графике"
   ]
  },
  {
   "cell_type": "code",
   "execution_count": 28,
   "id": "34d6369c",
   "metadata": {},
   "outputs": [],
   "source": [
    "q2 = msk_users['hours'].quantile(0.95)"
   ]
  },
  {
   "cell_type": "code",
   "execution_count": 29,
   "id": "0b0dd98d",
   "metadata": {},
   "outputs": [
    {
     "data": {
      "image/png": "[encoded data removed]",
      "text/plain": [
       "<Figure size 1500x800 with 1 Axes>"
      ]
     },
     "metadata": {},
     "output_type": "display_data"
    }
   ],
   "source": [
    "plt.figure(figsize=(15, 8))\n",
    "\n",
    "msk_users[msk_users['hours'] < q2]['hours'].hist(edgecolor='black', alpha=0.7, grid=False)\n",
    "\n",
    "plt.title('Распределение часов чтения в Москве') \n",
    "plt.xlabel('Часы чтения')\n",
    "plt.ylabel('Количество пользователей')\n",
    "plt.grid()\n",
    "plt.show()"
   ]
  },
  {
   "cell_type": "code",
   "execution_count": 30,
   "id": "906bede7",
   "metadata": {
    "scrolled": true
   },
   "outputs": [
    {
     "data": {
      "text/plain": [
       "count    2306.000000\n",
       "mean       11.264433\n",
       "std        39.831755\n",
       "min         0.000025\n",
       "25%         0.060173\n",
       "50%         0.875355\n",
       "75%         6.138424\n",
       "max       978.764775\n",
       "Name: hours, dtype: float64"
      ]
     },
     "execution_count": 30,
     "metadata": {},
     "output_type": "execute_result"
    }
   ],
   "source": [
    "spb_users['hours'].describe()"
   ]
  },
  {
   "cell_type": "code",
   "execution_count": 31,
   "id": "5649e791",
   "metadata": {},
   "outputs": [],
   "source": [
    "q2 = spb_users['hours'].quantile(0.95)"
   ]
  },
  {
   "cell_type": "code",
   "execution_count": 32,
   "id": "f5c324b8",
   "metadata": {},
   "outputs": [
    {
     "data": {
      "image/png": "[encoded data removed]",
      "text/plain": [
       "<Figure size 1500x800 with 1 Axes>"
      ]
     },
     "metadata": {},
     "output_type": "display_data"
    }
   ],
   "source": [
    "plt.figure(figsize=(15, 8))\n",
    "\n",
    "spb_users[spb_users['hours'] < q2]['hours'].hist(edgecolor='black', alpha=0.7, grid=False)\n",
    "\n",
    "plt.title('Распределение часов чтения в СПБ') \n",
    "plt.xlabel('Часы чтения')\n",
    "plt.ylabel('Количество пользователей')\n",
    "plt.grid()\n",
    "plt.show()"
   ]
  },
  {
   "cell_type": "markdown",
   "id": "2d474c30",
   "metadata": {},
   "source": [
    "Распределение на обоих графиках ассимитрично, скошенно вправо. \n",
    "\n",
    "В Москве медиана составляет чуть меньше часа (0.93) при среднем в 10.88 часов, большинство пользователей сосредоточены в значении от 0 до 5 часов чтения. \n",
    "\n",
    "В Санкт-Петербурге медиана составляет чуть меньше часа (0.99) при среднем в 11.6 часов, большинство пользователей также сосредоточены в значении от 0 до 5 часов чтения. \n",
    "\n",
    "И в той и другой группе имеются выбросы."
   ]
  },
  {
   "cell_type": "markdown",
   "id": "956e82e2",
   "metadata": {
    "id": "956e82e2"
   },
   "source": [
    "## 4. Проверка гипотезы в Python\n",
    "\n",
    "Гипотеза звучит так: пользователи из Санкт-Петербурга проводят в среднем больше времени за чтением и прослушиванием книг в приложении, чем пользователи из Москвы. Попробуем статистически это доказать, используя одностороннюю проверку гипотезы с двумя выборками:\n",
    "\n",
    "- Нулевая гипотеза H₀: Средняя активность пользователей в часах в двух группах (Москва и Санкт-Петербург) не различается.\n",
    "\n",
    "- Альтернативная гипотеза H₁: Средняя активность пользователей в Санкт-Петербурге больше, и это различие статистически значимо."
   ]
  },
  {
   "cell_type": "markdown",
   "id": "a067f19d",
   "metadata": {},
   "source": [
    "Т.к. распределение не нормальное, а также имеются выбросы, то используем тест Манна — Уитни"
   ]
  },
  {
   "cell_type": "code",
   "execution_count": 36,
   "id": "67956690",
   "metadata": {
    "id": "67956690"
   },
   "outputs": [
    {
     "name": "stdout",
     "output_type": "stream",
     "text": [
      "pvalue=0.6189600878052618 > 0.05\n",
      "Нулевая гипотеза находит подтверждение! Распределения метрики в группах равны\n"
     ]
    }
   ],
   "source": [
    "from scipy.stats import mannwhitneyu\n",
    "\n",
    "alpha= 0.05\n",
    "\n",
    "mw_test = mannwhitneyu(\n",
    "    spb_users['hours'],\n",
    "    msk_users['hours'], \n",
    "    alternative='greater')\n",
    "\n",
    "\n",
    "if mw_test.pvalue > alpha:\n",
    "    print(f'pvalue={mw_test.pvalue} > {alpha}')\n",
    "    print('Нулевая гипотеза находит подтверждение! Распределения метрики в группах равны')\n",
    "else:\n",
    "    print(f'pvalue={mw_test.pvalue} < {alpha}')\n",
    "    print('Нулевая гипотеза не находит подтверждения! Распределения метрики в группах различаются')"
   ]
  },
  {
   "cell_type": "markdown",
   "id": "6953e84c",
   "metadata": {
    "id": "6953e84c"
   },
   "source": [
    "## 5. Аналитическая записка"
   ]
  },
  {
   "cell_type": "markdown",
   "id": "488316e7",
   "metadata": {},
   "source": [
    "Мы использовали тест Манна — Уитни и уровень значимости в 0.05. \n",
    "\n",
    "В результате мы получили значение p-value равное 0.61896. \n",
    "\n",
    "На основе полученного p-value мы не отклоняем нулевую гипотезу, которая звучит так: средняя активность пользователей в часах в двух группах (Москва и Санкт-Петербург) не различается.\n",
    "\n",
    "На уровне значимости 5% нет статистически значимых различий в времени чтения между пользователями из Москвы и Санкт-Петербурга.\n",
    "\n",
    "Хотя Петербург называют культурной столицей России, но это не влияет на пользователей и в Москве тоже есть достаточно большое число пользователей, которые слушают или читают книги в приложении. "
   ]
  },
  {
   "cell_type": "markdown",
   "id": "hc1d6jVISegz",
   "metadata": {
    "id": "hc1d6jVISegz"
   },
   "source": [
    "----"
   ]
  },
  {
   "cell_type": "markdown",
   "id": "NqOUIYhbrIfC",
   "metadata": {
    "id": "NqOUIYhbrIfC"
   },
   "source": [
    "# Часть 2. Анализ результатов A/B-тестирования"
   ]
  },
  {
   "cell_type": "markdown",
   "id": "UNXAAyF5r9Rk",
   "metadata": {
    "id": "UNXAAyF5r9Rk"
   },
   "source": [
    "## 1. Цели исследования."
   ]
  },
  {
   "cell_type": "markdown",
   "id": "kHx-51yES8bd",
   "metadata": {
    "id": "kHx-51yES8bd"
   },
   "source": [
    "Предыдущий аналитик проверял полное обновление дизайна сайта. Гипотеза заключается в следующем: упрощение интерфейса приведёт к тому, что в течение семи дней после регистрации в системе конверсия зарегистрированных пользователей в покупателей увеличится как минимум на три процентных пункта\n",
    "\n",
    "Необходимо провести оценку результатов A/B-теста\n",
    "\n",
    "Ключевая метрика: конверсия зарегистрированных пользователей в покупателей"
   ]
  },
  {
   "cell_type": "markdown",
   "id": "_CZryx2OsH-s",
   "metadata": {
    "id": "_CZryx2OsH-s"
   },
   "source": [
    "## 2. Загрузим данные, оценим их целостность.\n"
   ]
  },
  {
   "cell_type": "markdown",
   "id": "0f427690",
   "metadata": {},
   "source": [
    "Данные таблицы `participants`\n",
    "- `user_id` — идентификатор пользователя;\n",
    "- `group` — группа пользователя;\n",
    "- `ab_test` — название теста;\n",
    "- `device` — устройство, с которого происходила регистрация."
   ]
  },
  {
   "cell_type": "markdown",
   "id": "6c5baaf6",
   "metadata": {},
   "source": [
    "Данные таблицы `events`\n",
    "- `user_id` — идентификатор пользователя;\n",
    "- `event_dt` — дата и время события;\n",
    "- `event_name` — тип события;\n",
    "- `details` — дополнительные данные о событии."
   ]
  },
  {
   "cell_type": "code",
   "execution_count": 46,
   "id": "DjFcJbeGsTIg",
   "metadata": {
    "id": "DjFcJbeGsTIg"
   },
   "outputs": [],
   "source": [
    "participants = pd.read_csv('https://code.s3.yandex.net/datasets/ab_test_participants.csv')\n",
    "events = pd.read_csv('https://code.s3.yandex.net/datasets/ab_test_events.zip',\n",
    "                     parse_dates=['event_dt'], low_memory=False)"
   ]
  },
  {
   "cell_type": "code",
   "execution_count": 47,
   "id": "a0abb02e",
   "metadata": {},
   "outputs": [
    {
     "data": {
      "text/html": [
       "<div>\n",
       "<style scoped>\n",
       "    .dataframe tbody tr th:only-of-type {\n",
       "        vertical-align: middle;\n",
       "    }\n",
       "\n",
       "    .dataframe tbody tr th {\n",
       "        vertical-align: top;\n",
       "    }\n",
       "\n",
       "    .dataframe thead th {\n",
       "        text-align: right;\n",
       "    }\n",
       "</style>\n",
       "<table border=\"1\" class=\"dataframe\">\n",
       "  <thead>\n",
       "    <tr style=\"text-align: right;\">\n",
       "      <th></th>\n",
       "      <th>user_id</th>\n",
       "      <th>group</th>\n",
       "      <th>ab_test</th>\n",
       "      <th>device</th>\n",
       "    </tr>\n",
       "  </thead>\n",
       "  <tbody>\n",
       "    <tr>\n",
       "      <th>0</th>\n",
       "      <td>0002CE61FF2C4011</td>\n",
       "      <td>B</td>\n",
       "      <td>interface_eu_test</td>\n",
       "      <td>Mac</td>\n",
       "    </tr>\n",
       "    <tr>\n",
       "      <th>1</th>\n",
       "      <td>001064FEAAB631A1</td>\n",
       "      <td>B</td>\n",
       "      <td>recommender_system_test</td>\n",
       "      <td>Android</td>\n",
       "    </tr>\n",
       "    <tr>\n",
       "      <th>2</th>\n",
       "      <td>001064FEAAB631A1</td>\n",
       "      <td>A</td>\n",
       "      <td>interface_eu_test</td>\n",
       "      <td>Android</td>\n",
       "    </tr>\n",
       "    <tr>\n",
       "      <th>3</th>\n",
       "      <td>0010A1C096941592</td>\n",
       "      <td>A</td>\n",
       "      <td>recommender_system_test</td>\n",
       "      <td>Android</td>\n",
       "    </tr>\n",
       "    <tr>\n",
       "      <th>4</th>\n",
       "      <td>001E72F50D1C48FA</td>\n",
       "      <td>A</td>\n",
       "      <td>interface_eu_test</td>\n",
       "      <td>Mac</td>\n",
       "    </tr>\n",
       "  </tbody>\n",
       "</table>\n",
       "</div>"
      ],
      "text/plain": [
       "            user_id group                  ab_test   device\n",
       "0  0002CE61FF2C4011     B        interface_eu_test      Mac\n",
       "1  001064FEAAB631A1     B  recommender_system_test  Android\n",
       "2  001064FEAAB631A1     A        interface_eu_test  Android\n",
       "3  0010A1C096941592     A  recommender_system_test  Android\n",
       "4  001E72F50D1C48FA     A        interface_eu_test      Mac"
      ]
     },
     "execution_count": 47,
     "metadata": {},
     "output_type": "execute_result"
    }
   ],
   "source": [
    "participants.head()"
   ]
  },
  {
   "cell_type": "code",
   "execution_count": 48,
   "id": "1016e923",
   "metadata": {},
   "outputs": [
    {
     "data": {
      "text/html": [
       "<div>\n",
       "<style scoped>\n",
       "    .dataframe tbody tr th:only-of-type {\n",
       "        vertical-align: middle;\n",
       "    }\n",
       "\n",
       "    .dataframe tbody tr th {\n",
       "        vertical-align: top;\n",
       "    }\n",
       "\n",
       "    .dataframe thead th {\n",
       "        text-align: right;\n",
       "    }\n",
       "</style>\n",
       "<table border=\"1\" class=\"dataframe\">\n",
       "  <thead>\n",
       "    <tr style=\"text-align: right;\">\n",
       "      <th></th>\n",
       "      <th>user_id</th>\n",
       "      <th>event_dt</th>\n",
       "      <th>event_name</th>\n",
       "      <th>details</th>\n",
       "    </tr>\n",
       "  </thead>\n",
       "  <tbody>\n",
       "    <tr>\n",
       "      <th>0</th>\n",
       "      <td>GLOBAL</td>\n",
       "      <td>2020-12-01 00:00:00</td>\n",
       "      <td>End of Black Friday Ads Campaign</td>\n",
       "      <td>ZONE_CODE15</td>\n",
       "    </tr>\n",
       "    <tr>\n",
       "      <th>1</th>\n",
       "      <td>CCBE9E7E99F94A08</td>\n",
       "      <td>2020-12-01 00:00:11</td>\n",
       "      <td>registration</td>\n",
       "      <td>0.0</td>\n",
       "    </tr>\n",
       "    <tr>\n",
       "      <th>2</th>\n",
       "      <td>GLOBAL</td>\n",
       "      <td>2020-12-01 00:00:25</td>\n",
       "      <td>product_page</td>\n",
       "      <td>NaN</td>\n",
       "    </tr>\n",
       "    <tr>\n",
       "      <th>3</th>\n",
       "      <td>CCBE9E7E99F94A08</td>\n",
       "      <td>2020-12-01 00:00:33</td>\n",
       "      <td>login</td>\n",
       "      <td>NaN</td>\n",
       "    </tr>\n",
       "    <tr>\n",
       "      <th>4</th>\n",
       "      <td>CCBE9E7E99F94A08</td>\n",
       "      <td>2020-12-01 00:00:52</td>\n",
       "      <td>product_page</td>\n",
       "      <td>NaN</td>\n",
       "    </tr>\n",
       "  </tbody>\n",
       "</table>\n",
       "</div>"
      ],
      "text/plain": [
       "            user_id            event_dt                        event_name  \\\n",
       "0            GLOBAL 2020-12-01 00:00:00  End of Black Friday Ads Campaign   \n",
       "1  CCBE9E7E99F94A08 2020-12-01 00:00:11                      registration   \n",
       "2            GLOBAL 2020-12-01 00:00:25                      product_page   \n",
       "3  CCBE9E7E99F94A08 2020-12-01 00:00:33                             login   \n",
       "4  CCBE9E7E99F94A08 2020-12-01 00:00:52                      product_page   \n",
       "\n",
       "       details  \n",
       "0  ZONE_CODE15  \n",
       "1          0.0  \n",
       "2          NaN  \n",
       "3          NaN  \n",
       "4          NaN  "
      ]
     },
     "execution_count": 48,
     "metadata": {},
     "output_type": "execute_result"
    }
   ],
   "source": [
    "events.head()"
   ]
  },
  {
   "cell_type": "code",
   "execution_count": 49,
   "id": "ce032c48",
   "metadata": {},
   "outputs": [
    {
     "name": "stdout",
     "output_type": "stream",
     "text": [
      "<class 'pandas.core.frame.DataFrame'>\n",
      "RangeIndex: 14525 entries, 0 to 14524\n",
      "Data columns (total 4 columns):\n",
      " #   Column   Non-Null Count  Dtype \n",
      "---  ------   --------------  ----- \n",
      " 0   user_id  14525 non-null  object\n",
      " 1   group    14525 non-null  object\n",
      " 2   ab_test  14525 non-null  object\n",
      " 3   device   14525 non-null  object\n",
      "dtypes: object(4)\n",
      "memory usage: 454.0+ KB\n"
     ]
    }
   ],
   "source": [
    "participants.info()"
   ]
  },
  {
   "cell_type": "code",
   "execution_count": 50,
   "id": "65388e20",
   "metadata": {
    "scrolled": true
   },
   "outputs": [
    {
     "name": "stdout",
     "output_type": "stream",
     "text": [
      "<class 'pandas.core.frame.DataFrame'>\n",
      "RangeIndex: 787286 entries, 0 to 787285\n",
      "Data columns (total 4 columns):\n",
      " #   Column      Non-Null Count   Dtype         \n",
      "---  ------      --------------   -----         \n",
      " 0   user_id     787286 non-null  object        \n",
      " 1   event_dt    787286 non-null  datetime64[ns]\n",
      " 2   event_name  787286 non-null  object        \n",
      " 3   details     249022 non-null  object        \n",
      "dtypes: datetime64[ns](1), object(3)\n",
      "memory usage: 24.0+ MB\n"
     ]
    }
   ],
   "source": [
    "events.info()"
   ]
  },
  {
   "cell_type": "code",
   "execution_count": 51,
   "id": "df1f1a1b",
   "metadata": {
    "scrolled": true
   },
   "outputs": [
    {
     "data": {
      "text/plain": [
       "0"
      ]
     },
     "execution_count": 51,
     "metadata": {},
     "output_type": "execute_result"
    }
   ],
   "source": [
    "participants.duplicated().sum()"
   ]
  },
  {
   "cell_type": "code",
   "execution_count": 52,
   "id": "86d3864f",
   "metadata": {},
   "outputs": [
    {
     "data": {
      "text/plain": [
       "user_id            0\n",
       "event_dt           0\n",
       "event_name         0\n",
       "details       538264\n",
       "dtype: int64"
      ]
     },
     "execution_count": 52,
     "metadata": {},
     "output_type": "execute_result"
    }
   ],
   "source": [
    "events.isna().sum()"
   ]
  },
  {
   "cell_type": "code",
   "execution_count": 53,
   "id": "48ab9908",
   "metadata": {},
   "outputs": [
    {
     "data": {
      "text/plain": [
       "36318"
      ]
     },
     "execution_count": 53,
     "metadata": {},
     "output_type": "execute_result"
    }
   ],
   "source": [
    "events.duplicated().sum()"
   ]
  },
  {
   "cell_type": "code",
   "execution_count": 54,
   "id": "4b6a9211",
   "metadata": {},
   "outputs": [],
   "source": [
    "events = events.drop_duplicates()"
   ]
  },
  {
   "cell_type": "code",
   "execution_count": 55,
   "id": "0413ccf5",
   "metadata": {},
   "outputs": [
    {
     "data": {
      "text/plain": [
       "0"
      ]
     },
     "execution_count": 55,
     "metadata": {},
     "output_type": "execute_result"
    }
   ],
   "source": [
    "events.duplicated().sum()"
   ]
  },
  {
   "cell_type": "markdown",
   "id": "e74e5732",
   "metadata": {},
   "source": [
    "В датафрейме `participants` нет пропусков и дубликатов, формат столбцов тоже корректен.\n",
    "В датафрейме `events` пропуски только в столбце `details`, оставим их без изменений. Также в датафрейме были дубликаты, мы их удалили."
   ]
  },
  {
   "cell_type": "markdown",
   "id": "CnzA-efasUrk",
   "metadata": {
    "id": "CnzA-efasUrk"
   },
   "source": [
    "## 3. По таблице `ab_test_participants` оценим корректность проведения теста:"
   ]
  },
  {
   "cell_type": "code",
   "execution_count": 58,
   "id": "aNa3zHrKslEN",
   "metadata": {
    "id": "aNa3zHrKslEN"
   },
   "outputs": [
    {
     "data": {
      "text/html": [
       "<div>\n",
       "<style scoped>\n",
       "    .dataframe tbody tr th:only-of-type {\n",
       "        vertical-align: middle;\n",
       "    }\n",
       "\n",
       "    .dataframe tbody tr th {\n",
       "        vertical-align: top;\n",
       "    }\n",
       "\n",
       "    .dataframe thead th {\n",
       "        text-align: right;\n",
       "    }\n",
       "</style>\n",
       "<table border=\"1\" class=\"dataframe\">\n",
       "  <thead>\n",
       "    <tr style=\"text-align: right;\">\n",
       "      <th></th>\n",
       "      <th>user_id</th>\n",
       "      <th>group</th>\n",
       "      <th>ab_test</th>\n",
       "      <th>device</th>\n",
       "    </tr>\n",
       "  </thead>\n",
       "  <tbody>\n",
       "    <tr>\n",
       "      <th>0</th>\n",
       "      <td>0002CE61FF2C4011</td>\n",
       "      <td>B</td>\n",
       "      <td>interface_eu_test</td>\n",
       "      <td>Mac</td>\n",
       "    </tr>\n",
       "    <tr>\n",
       "      <th>2</th>\n",
       "      <td>001064FEAAB631A1</td>\n",
       "      <td>A</td>\n",
       "      <td>interface_eu_test</td>\n",
       "      <td>Android</td>\n",
       "    </tr>\n",
       "    <tr>\n",
       "      <th>4</th>\n",
       "      <td>001E72F50D1C48FA</td>\n",
       "      <td>A</td>\n",
       "      <td>interface_eu_test</td>\n",
       "      <td>Mac</td>\n",
       "    </tr>\n",
       "    <tr>\n",
       "      <th>5</th>\n",
       "      <td>002412F1EB3F6E38</td>\n",
       "      <td>B</td>\n",
       "      <td>interface_eu_test</td>\n",
       "      <td>Mac</td>\n",
       "    </tr>\n",
       "    <tr>\n",
       "      <th>6</th>\n",
       "      <td>002540BE89C930FB</td>\n",
       "      <td>B</td>\n",
       "      <td>interface_eu_test</td>\n",
       "      <td>Android</td>\n",
       "    </tr>\n",
       "  </tbody>\n",
       "</table>\n",
       "</div>"
      ],
      "text/plain": [
       "            user_id group            ab_test   device\n",
       "0  0002CE61FF2C4011     B  interface_eu_test      Mac\n",
       "2  001064FEAAB631A1     A  interface_eu_test  Android\n",
       "4  001E72F50D1C48FA     A  interface_eu_test      Mac\n",
       "5  002412F1EB3F6E38     B  interface_eu_test      Mac\n",
       "6  002540BE89C930FB     B  interface_eu_test  Android"
      ]
     },
     "execution_count": 58,
     "metadata": {},
     "output_type": "execute_result"
    }
   ],
   "source": [
    "test_users = participants[participants['ab_test'] == 'interface_eu_test']\n",
    "\n",
    "test_users.head()"
   ]
  },
  {
   "cell_type": "code",
   "execution_count": 59,
   "id": "28c6cefd",
   "metadata": {},
   "outputs": [
    {
     "name": "stdout",
     "output_type": "stream",
     "text": [
      "Уникальные пользователи в группе A: 5383\n",
      "Уникальные пользователи в группе B: 5467\n"
     ]
    },
    {
     "data": {
      "text/plain": [
       "Text(0.5, 1.0, 'Распределение пользователей по группам')"
      ]
     },
     "execution_count": 59,
     "metadata": {},
     "output_type": "execute_result"
    },
    {
     "data": {
      "image/png": "[encoded data removed]",
      "text/plain": [
       "<Figure size 800x600 with 1 Axes>"
      ]
     },
     "metadata": {},
     "output_type": "display_data"
    }
   ],
   "source": [
    "test_a = test_users[test_users['group'] == 'A']['user_id'].nunique()\n",
    "test_b = test_users[test_users['group'] == 'B']['user_id'].nunique()\n",
    "\n",
    "print(f\"Уникальные пользователи в группе A: {test_a}\")\n",
    "print(f\"Уникальные пользователи в группе B: {test_b}\")\n",
    "\n",
    "total_users = test_a + test_b\n",
    "\n",
    "percent_a = round(100 * test_a / total_users, 1)\n",
    "percent_b = round(100 * test_b / total_users, 1)\n",
    "\n",
    "# Строим круговую диаграмму\n",
    "plt.figure(figsize=(8, 6))\n",
    "plt.pie([test_a, test_b],\n",
    "        autopct='%1.1f%%',\n",
    "        labels=[f'Группа A: {test_a}', \n",
    "                f'Группа B: {test_b}'],\n",
    "        colors=['skyblue', 'salmon'],\n",
    "        startangle=90)\n",
    "\n",
    "plt.title(f'Распределение пользователей по группам')"
   ]
  },
  {
   "cell_type": "markdown",
   "id": "49ce6afb",
   "metadata": {},
   "source": [
    "Между группами существует небольшая разница в 0.8 процента. Разница статистически незначима, группы сбалансированы по объёму."
   ]
  },
  {
   "cell_type": "code",
   "execution_count": 61,
   "id": "285c665d",
   "metadata": {},
   "outputs": [
    {
     "data": {
      "text/plain": [
       "[]"
      ]
     },
     "execution_count": 61,
     "metadata": {},
     "output_type": "execute_result"
    }
   ],
   "source": [
    "test_a = test_users[test_users['group'] == 'A']['user_id']\n",
    "test_b = test_users[test_users['group'] == 'B']['user_id']\n",
    "\n",
    "intersection = list(set(test_a) & set(test_b))\n",
    "\n",
    "intersection = list(set(test_a) & set(test_b))\n",
    "intersection"
   ]
  },
  {
   "cell_type": "code",
   "execution_count": 62,
   "id": "83302176",
   "metadata": {
    "scrolled": true
   },
   "outputs": [
    {
     "data": {
      "text/plain": [
       "[]"
      ]
     },
     "execution_count": 62,
     "metadata": {},
     "output_type": "execute_result"
    }
   ],
   "source": [
    "test_interface = participants[participants['ab_test'] == 'interface_eu_test']['user_id']\n",
    "test_recommender = participants[participants['ab_test'] == 'recommender_system_test']['user_id']\n",
    "\n",
    "\n",
    "intersection = list(set(test_a) & set(test_b))\n",
    "\n",
    "intersection = list(set(test_a) & set(test_b))\n",
    "intersection"
   ]
  },
  {
   "cell_type": "markdown",
   "id": "773e9639",
   "metadata": {},
   "source": [
    "Пересечений между группами одного теста и между тестами нет."
   ]
  },
  {
   "cell_type": "code",
   "execution_count": 64,
   "id": "b5194c52",
   "metadata": {},
   "outputs": [
    {
     "data": {
      "text/plain": [
       "device\n",
       "Android    0.454208\n",
       "PC         0.250046\n",
       "iPhone     0.190600\n",
       "Mac        0.105146\n",
       "Name: proportion, dtype: float64"
      ]
     },
     "execution_count": 64,
     "metadata": {},
     "output_type": "execute_result"
    }
   ],
   "source": [
    "test_users[test_users['group'] == 'A']['device'].value_counts(normalize=True)"
   ]
  },
  {
   "cell_type": "code",
   "execution_count": 65,
   "id": "65e9ed98",
   "metadata": {},
   "outputs": [
    {
     "data": {
      "text/plain": [
       "device\n",
       "Android    0.441558\n",
       "PC         0.259374\n",
       "iPhone     0.197732\n",
       "Mac        0.101335\n",
       "Name: proportion, dtype: float64"
      ]
     },
     "execution_count": 65,
     "metadata": {},
     "output_type": "execute_result"
    }
   ],
   "source": [
    "test_users[test_users['group'] == 'B']['device'].value_counts(normalize=True)"
   ]
  },
  {
   "cell_type": "code",
   "execution_count": 66,
   "id": "28674922",
   "metadata": {},
   "outputs": [
    {
     "data": {
      "image/png": "[encoded data removed]",
      "text/plain": [
       "<Figure size 1600x800 with 1 Axes>"
      ]
     },
     "metadata": {},
     "output_type": "display_data"
    }
   ],
   "source": [
    "users_devices = test_users.drop_duplicates(['user_id', 'device'])\n",
    "\n",
    "fig, ax = plt.subplots(figsize=(16, 8))\n",
    "df_unstack = test_users.groupby('device')['group'].value_counts(normalize=True).unstack(fill_value=0)\n",
    "\n",
    "df_unstack.plot(kind='bar', width=0.8, edgecolor='grey', ax=ax) \n",
    "\n",
    "plt.title('Распределение устройств по тестовым группам')\n",
    "plt.xlabel('Тип устройства', fontsize=12)\n",
    "plt.ylabel('Доля пользователей', fontsize=12)\n",
    "plt.xticks(rotation=0) \n",
    "plt.grid(axis='y', linestyle='--', alpha=0.3) \n",
    "plt.legend(title='Тестовая группа', labels=['Группа A', 'Группа B'])\n",
    "\n",
    "plt.show()"
   ]
  },
  {
   "cell_type": "markdown",
   "id": "adaf6a46",
   "metadata": {},
   "source": [
    "По устройствам тоже есть небольшое расхождение, но оно небольшое и им можно пренебречь"
   ]
  },
  {
   "cell_type": "markdown",
   "id": "GjulgSrlsqUU",
   "metadata": {
    "id": "GjulgSrlsqUU"
   },
   "source": [
    "3\\.2 Проанализируем данные о пользовательской активности по таблице `ab_test_events`:"
   ]
  },
  {
   "cell_type": "code",
   "execution_count": 69,
   "id": "QMt0Ybo_swDK",
   "metadata": {
    "id": "QMt0Ybo_swDK"
   },
   "outputs": [],
   "source": [
    "test_ids = test_users['user_id']"
   ]
  },
  {
   "cell_type": "code",
   "execution_count": 70,
   "id": "13ea01dc",
   "metadata": {},
   "outputs": [
    {
     "data": {
      "text/html": [
       "<div>\n",
       "<style scoped>\n",
       "    .dataframe tbody tr th:only-of-type {\n",
       "        vertical-align: middle;\n",
       "    }\n",
       "\n",
       "    .dataframe tbody tr th {\n",
       "        vertical-align: top;\n",
       "    }\n",
       "\n",
       "    .dataframe thead th {\n",
       "        text-align: right;\n",
       "    }\n",
       "</style>\n",
       "<table border=\"1\" class=\"dataframe\">\n",
       "  <thead>\n",
       "    <tr style=\"text-align: right;\">\n",
       "      <th></th>\n",
       "      <th>user_id</th>\n",
       "      <th>event_dt</th>\n",
       "      <th>event_name</th>\n",
       "      <th>details</th>\n",
       "    </tr>\n",
       "  </thead>\n",
       "  <tbody>\n",
       "    <tr>\n",
       "      <th>64672</th>\n",
       "      <td>5F506CEBEDC05D30</td>\n",
       "      <td>2020-12-06 14:10:01</td>\n",
       "      <td>registration</td>\n",
       "      <td>0.0</td>\n",
       "    </tr>\n",
       "    <tr>\n",
       "      <th>64946</th>\n",
       "      <td>51278A006E918D97</td>\n",
       "      <td>2020-12-06 14:37:25</td>\n",
       "      <td>registration</td>\n",
       "      <td>-3.8</td>\n",
       "    </tr>\n",
       "    <tr>\n",
       "      <th>66585</th>\n",
       "      <td>A0C1E8EFAD874D8B</td>\n",
       "      <td>2020-12-06 17:20:22</td>\n",
       "      <td>registration</td>\n",
       "      <td>-3.32</td>\n",
       "    </tr>\n",
       "    <tr>\n",
       "      <th>67873</th>\n",
       "      <td>275A8D6254ACF530</td>\n",
       "      <td>2020-12-06 19:36:54</td>\n",
       "      <td>registration</td>\n",
       "      <td>-0.48</td>\n",
       "    </tr>\n",
       "    <tr>\n",
       "      <th>67930</th>\n",
       "      <td>0B704EB2DC7FCA4B</td>\n",
       "      <td>2020-12-06 19:42:20</td>\n",
       "      <td>registration</td>\n",
       "      <td>0.0</td>\n",
       "    </tr>\n",
       "  </tbody>\n",
       "</table>\n",
       "</div>"
      ],
      "text/plain": [
       "                user_id            event_dt    event_name details\n",
       "64672  5F506CEBEDC05D30 2020-12-06 14:10:01  registration     0.0\n",
       "64946  51278A006E918D97 2020-12-06 14:37:25  registration    -3.8\n",
       "66585  A0C1E8EFAD874D8B 2020-12-06 17:20:22  registration   -3.32\n",
       "67873  275A8D6254ACF530 2020-12-06 19:36:54  registration   -0.48\n",
       "67930  0B704EB2DC7FCA4B 2020-12-06 19:42:20  registration     0.0"
      ]
     },
     "execution_count": 70,
     "metadata": {},
     "output_type": "execute_result"
    }
   ],
   "source": [
    "test_events = events[events['user_id'].isin(test_ids)]\n",
    "\n",
    "test_events.head()"
   ]
  },
  {
   "cell_type": "code",
   "execution_count": 71,
   "id": "3fb7dde1",
   "metadata": {},
   "outputs": [
    {
     "name": "stdout",
     "output_type": "stream",
     "text": [
      "group\n",
      "B    37904\n",
      "A    35641\n",
      "Name: count, dtype: int64\n"
     ]
    }
   ],
   "source": [
    "# Добавляем группу теста к событиям\n",
    "test_events = test_events.merge(\n",
    "    test_users[['user_id', 'group', 'device']],\n",
    "    on='user_id',\n",
    "    how='left'\n",
    ")\n",
    "\n",
    "# Проверяем распределение событий по группам\n",
    "print(test_events['group'].value_counts())"
   ]
  },
  {
   "cell_type": "code",
   "execution_count": 72,
   "id": "87a2df28",
   "metadata": {},
   "outputs": [
    {
     "data": {
      "text/html": [
       "<div>\n",
       "<style scoped>\n",
       "    .dataframe tbody tr th:only-of-type {\n",
       "        vertical-align: middle;\n",
       "    }\n",
       "\n",
       "    .dataframe tbody tr th {\n",
       "        vertical-align: top;\n",
       "    }\n",
       "\n",
       "    .dataframe thead th {\n",
       "        text-align: right;\n",
       "    }\n",
       "</style>\n",
       "<table border=\"1\" class=\"dataframe\">\n",
       "  <thead>\n",
       "    <tr style=\"text-align: right;\">\n",
       "      <th></th>\n",
       "      <th>user_id</th>\n",
       "      <th>event_dt</th>\n",
       "      <th>event_name</th>\n",
       "      <th>details</th>\n",
       "      <th>group</th>\n",
       "      <th>device</th>\n",
       "    </tr>\n",
       "  </thead>\n",
       "  <tbody>\n",
       "    <tr>\n",
       "      <th>0</th>\n",
       "      <td>5F506CEBEDC05D30</td>\n",
       "      <td>2020-12-06 14:10:01</td>\n",
       "      <td>registration</td>\n",
       "      <td>0.0</td>\n",
       "      <td>A</td>\n",
       "      <td>iPhone</td>\n",
       "    </tr>\n",
       "    <tr>\n",
       "      <th>1</th>\n",
       "      <td>51278A006E918D97</td>\n",
       "      <td>2020-12-06 14:37:25</td>\n",
       "      <td>registration</td>\n",
       "      <td>-3.8</td>\n",
       "      <td>A</td>\n",
       "      <td>Android</td>\n",
       "    </tr>\n",
       "    <tr>\n",
       "      <th>2</th>\n",
       "      <td>A0C1E8EFAD874D8B</td>\n",
       "      <td>2020-12-06 17:20:22</td>\n",
       "      <td>registration</td>\n",
       "      <td>-3.32</td>\n",
       "      <td>B</td>\n",
       "      <td>iPhone</td>\n",
       "    </tr>\n",
       "    <tr>\n",
       "      <th>3</th>\n",
       "      <td>275A8D6254ACF530</td>\n",
       "      <td>2020-12-06 19:36:54</td>\n",
       "      <td>registration</td>\n",
       "      <td>-0.48</td>\n",
       "      <td>A</td>\n",
       "      <td>iPhone</td>\n",
       "    </tr>\n",
       "    <tr>\n",
       "      <th>4</th>\n",
       "      <td>0B704EB2DC7FCA4B</td>\n",
       "      <td>2020-12-06 19:42:20</td>\n",
       "      <td>registration</td>\n",
       "      <td>0.0</td>\n",
       "      <td>B</td>\n",
       "      <td>PC</td>\n",
       "    </tr>\n",
       "  </tbody>\n",
       "</table>\n",
       "</div>"
      ],
      "text/plain": [
       "            user_id            event_dt    event_name details group   device\n",
       "0  5F506CEBEDC05D30 2020-12-06 14:10:01  registration     0.0     A   iPhone\n",
       "1  51278A006E918D97 2020-12-06 14:37:25  registration    -3.8     A  Android\n",
       "2  A0C1E8EFAD874D8B 2020-12-06 17:20:22  registration   -3.32     B   iPhone\n",
       "3  275A8D6254ACF530 2020-12-06 19:36:54  registration   -0.48     A   iPhone\n",
       "4  0B704EB2DC7FCA4B 2020-12-06 19:42:20  registration     0.0     B       PC"
      ]
     },
     "execution_count": 72,
     "metadata": {},
     "output_type": "execute_result"
    }
   ],
   "source": [
    "test_events.head()"
   ]
  },
  {
   "cell_type": "code",
   "execution_count": 73,
   "id": "ade5cde4",
   "metadata": {
    "scrolled": true
   },
   "outputs": [
    {
     "name": "stdout",
     "output_type": "stream",
     "text": [
      "Временной диапазон теста:\n",
      "От 2020-12-06 14:10:01 до 2020-12-30 18:34:08\n"
     ]
    }
   ],
   "source": [
    "# Временной диапазон теста\n",
    "min_date = test_events['event_dt'].min()\n",
    "max_date = test_events['event_dt'].max()\n",
    "print(f\"Временной диапазон теста:\\nОт {min_date} до {max_date}\")"
   ]
  },
  {
   "cell_type": "code",
   "execution_count": 74,
   "id": "815a283e",
   "metadata": {},
   "outputs": [],
   "source": [
    "# Находим время регистрации для каждого пользователя\n",
    "registration_times = (\n",
    "    test_events[test_events['event_name'] == 'registration']\n",
    "    .groupby('user_id')['event_dt'].first()\n",
    "    .reset_index()\n",
    "    .rename(columns={'event_dt': 'registration_time'})\n",
    ")"
   ]
  },
  {
   "cell_type": "code",
   "execution_count": 75,
   "id": "f9a2d5b7",
   "metadata": {},
   "outputs": [],
   "source": [
    "# Добавляем время регистрации к основному датафрейму событий\n",
    "test_events_with_reg = test_events.merge(registration_times, on='user_id', how='left')"
   ]
  },
  {
   "cell_type": "code",
   "execution_count": 76,
   "id": "9b261bb6",
   "metadata": {},
   "outputs": [],
   "source": [
    "# Вычисляем разницу во времени между событием и регистрацией\n",
    "test_events_with_reg['time_since_reg'] = test_events_with_reg['event_dt'] - test_events_with_reg['registration_time']"
   ]
  },
  {
   "cell_type": "code",
   "execution_count": 77,
   "id": "8cc8198d",
   "metadata": {},
   "outputs": [],
   "source": [
    "# Оставляем только события в первые 7 дней (включая день регистрации\n",
    "test_events_7days = test_events_with_reg[\n",
    "    (test_events_with_reg['time_since_reg'] <= pd.Timedelta(days=7)) &\n",
    "    (test_events_with_reg['time_since_reg'] >= pd.Timedelta(days=0))\n",
    "]"
   ]
  },
  {
   "cell_type": "code",
   "execution_count": 78,
   "id": "8f63e61b",
   "metadata": {},
   "outputs": [
    {
     "name": "stdout",
     "output_type": "stream",
     "text": [
      "Всего событий: 63449\n",
      "Событий в первые 7 дней: 63449\n",
      "Уникальных пользователей: 10850\n"
     ]
    }
   ],
   "source": [
    "# Проверяем\n",
    "print(f\"Всего событий: {len(test_events_7days)}\")\n",
    "print(f\"Событий в первые 7 дней: {len(test_events_7days)}\")\n",
    "print(f\"Уникальных пользователей: {test_events_7days['user_id'].nunique()}\")"
   ]
  },
  {
   "cell_type": "code",
   "execution_count": 79,
   "id": "7d97b466",
   "metadata": {},
   "outputs": [
    {
     "name": "stdout",
     "output_type": "stream",
     "text": [
      "Необходимый размер выборки для каждой группы: 3759\n"
     ]
    }
   ],
   "source": [
    "# Задаём параметры\n",
    "alpha = 0.05  \n",
    "beta = 0.2  \n",
    "power = 1 - beta  \n",
    "mde = 0.03  \n",
    "\n",
    "p1 = 0.3  \n",
    "p2 = p1 + mde\n",
    "effect_size = (p2 - p1) / np.sqrt((p1*(1-p1) + p2*(1-p2))/2)\n",
    "\n",
    "\n",
    "# Инициализируем класс NormalIndPower\n",
    "power_analysis = NormalIndPower()\n",
    "\n",
    "# Рассчитываем размер выборки\n",
    "sample_size = power_analysis.solve_power(\n",
    "    effect_size = effect_size,\n",
    "    power = power,\n",
    "    alpha = alpha,\n",
    "    ratio = 1 \n",
    ")\n",
    "\n",
    "print(f\"Необходимый размер выборки для каждой группы: {int(sample_size)}\")"
   ]
  },
  {
   "cell_type": "markdown",
   "id": "15270a7a",
   "metadata": {},
   "source": [
    "У нас задействовано 10850 уникальных пользователей, этого количества хватит для корректного проведения теста."
   ]
  },
  {
   "cell_type": "code",
   "execution_count": 81,
   "id": "97bff8a3",
   "metadata": {},
   "outputs": [
    {
     "data": {
      "text/html": [
       "<div>\n",
       "<style scoped>\n",
       "    .dataframe tbody tr th:only-of-type {\n",
       "        vertical-align: middle;\n",
       "    }\n",
       "\n",
       "    .dataframe tbody tr th {\n",
       "        vertical-align: top;\n",
       "    }\n",
       "\n",
       "    .dataframe thead th {\n",
       "        text-align: right;\n",
       "    }\n",
       "</style>\n",
       "<table border=\"1\" class=\"dataframe\">\n",
       "  <thead>\n",
       "    <tr style=\"text-align: right;\">\n",
       "      <th></th>\n",
       "      <th>group</th>\n",
       "      <th>total_users</th>\n",
       "    </tr>\n",
       "  </thead>\n",
       "  <tbody>\n",
       "    <tr>\n",
       "      <th>0</th>\n",
       "      <td>A</td>\n",
       "      <td>5383</td>\n",
       "    </tr>\n",
       "    <tr>\n",
       "      <th>1</th>\n",
       "      <td>B</td>\n",
       "      <td>5467</td>\n",
       "    </tr>\n",
       "  </tbody>\n",
       "</table>\n",
       "</div>"
      ],
      "text/plain": [
       "  group  total_users\n",
       "0     A         5383\n",
       "1     B         5467"
      ]
     },
     "execution_count": 81,
     "metadata": {},
     "output_type": "execute_result"
    }
   ],
   "source": [
    "# Общее количество пользователей в каждой группе\n",
    "total_users_per_group = (\n",
    "    test_users.groupby('group')['user_id']\n",
    "    .nunique()\n",
    "    .reset_index()\n",
    "    .rename(columns={'user_id': 'total_users'})\n",
    ")\n",
    "\n",
    "total_users_per_group"
   ]
  },
  {
   "cell_type": "code",
   "execution_count": 82,
   "id": "bc30f91e",
   "metadata": {},
   "outputs": [
    {
     "data": {
      "text/html": [
       "<div>\n",
       "<style scoped>\n",
       "    .dataframe tbody tr th:only-of-type {\n",
       "        vertical-align: middle;\n",
       "    }\n",
       "\n",
       "    .dataframe tbody tr th {\n",
       "        vertical-align: top;\n",
       "    }\n",
       "\n",
       "    .dataframe thead th {\n",
       "        text-align: right;\n",
       "    }\n",
       "</style>\n",
       "<table border=\"1\" class=\"dataframe\">\n",
       "  <thead>\n",
       "    <tr style=\"text-align: right;\">\n",
       "      <th></th>\n",
       "      <th>group</th>\n",
       "      <th>purchased_users</th>\n",
       "    </tr>\n",
       "  </thead>\n",
       "  <tbody>\n",
       "    <tr>\n",
       "      <th>0</th>\n",
       "      <td>A</td>\n",
       "      <td>1480</td>\n",
       "    </tr>\n",
       "    <tr>\n",
       "      <th>1</th>\n",
       "      <td>B</td>\n",
       "      <td>1600</td>\n",
       "    </tr>\n",
       "  </tbody>\n",
       "</table>\n",
       "</div>"
      ],
      "text/plain": [
       "  group  purchased_users\n",
       "0     A             1480\n",
       "1     B             1600"
      ]
     },
     "execution_count": 82,
     "metadata": {},
     "output_type": "execute_result"
    }
   ],
   "source": [
    "# Покупатели в первые 7 дней\n",
    "purchasing_users = (\n",
    "    test_events_7days[test_events_7days['event_name'] == 'purchase']\n",
    "    .groupby('group')['user_id']\n",
    "    .nunique()\n",
    "    .reset_index()\n",
    "    .rename(columns={'user_id': 'purchased_users'})\n",
    ")\n",
    "\n",
    "purchasing_users"
   ]
  },
  {
   "cell_type": "code",
   "execution_count": 83,
   "id": "4e075cf8",
   "metadata": {},
   "outputs": [],
   "source": [
    "# Объединяем и считаем конверсию\n",
    "conversion_data = total_users_per_group.merge(\n",
    "    purchasing_users,\n",
    "    on='group',\n",
    "    how='left'\n",
    ")"
   ]
  },
  {
   "cell_type": "code",
   "execution_count": 84,
   "id": "f06a792f",
   "metadata": {},
   "outputs": [
    {
     "data": {
      "text/html": [
       "<div>\n",
       "<style scoped>\n",
       "    .dataframe tbody tr th:only-of-type {\n",
       "        vertical-align: middle;\n",
       "    }\n",
       "\n",
       "    .dataframe tbody tr th {\n",
       "        vertical-align: top;\n",
       "    }\n",
       "\n",
       "    .dataframe thead th {\n",
       "        text-align: right;\n",
       "    }\n",
       "</style>\n",
       "<table border=\"1\" class=\"dataframe\">\n",
       "  <thead>\n",
       "    <tr style=\"text-align: right;\">\n",
       "      <th></th>\n",
       "      <th>group</th>\n",
       "      <th>total_users</th>\n",
       "      <th>purchased_users</th>\n",
       "      <th>conversion_rate</th>\n",
       "    </tr>\n",
       "  </thead>\n",
       "  <tbody>\n",
       "    <tr>\n",
       "      <th>0</th>\n",
       "      <td>A</td>\n",
       "      <td>5383</td>\n",
       "      <td>1480</td>\n",
       "      <td>27.493962</td>\n",
       "    </tr>\n",
       "    <tr>\n",
       "      <th>1</th>\n",
       "      <td>B</td>\n",
       "      <td>5467</td>\n",
       "      <td>1600</td>\n",
       "      <td>29.266508</td>\n",
       "    </tr>\n",
       "  </tbody>\n",
       "</table>\n",
       "</div>"
      ],
      "text/plain": [
       "  group  total_users  purchased_users  conversion_rate\n",
       "0     A         5383             1480        27.493962\n",
       "1     B         5467             1600        29.266508"
      ]
     },
     "execution_count": 84,
     "metadata": {},
     "output_type": "execute_result"
    }
   ],
   "source": [
    "conversion_data['conversion_rate'] = (\n",
    "    conversion_data['purchased_users'] / conversion_data['total_users'] * 100\n",
    ")\n",
    "\n",
    "conversion_data"
   ]
  },
  {
   "cell_type": "markdown",
   "id": "cc93cd53",
   "metadata": {},
   "source": [
    "Ожидалось, что новый дизайн увеличит конверсию минимум на 3 процентных пункта, а прирост составил 1.77%, проверим являестя ли разница статитически значимой"
   ]
  },
  {
   "cell_type": "markdown",
   "id": "IKZ1Oo3Ws919",
   "metadata": {
    "id": "IKZ1Oo3Ws919"
   },
   "source": [
    "## 4. Проведем оценку результатов A/B-тестирования:"
   ]
  },
  {
   "cell_type": "code",
   "execution_count": 87,
   "id": "l_KOziBQtL3t",
   "metadata": {
    "id": "l_KOziBQtL3t"
   },
   "outputs": [
    {
     "name": "stdout",
     "output_type": "stream",
     "text": [
      "Z-тест пропорций: p-value = 0.020306993983065475\n",
      "Вывод: Разница статистически значима (p < 0.05)\n"
     ]
    }
   ],
   "source": [
    "buyers = [conversion_data.loc[conversion_data['group'] == 'B', 'purchased_users'].values[0],\n",
    "         conversion_data.loc[conversion_data['group'] == 'A', 'purchased_users'].values[0]]\n",
    "total = [conversion_data.loc[conversion_data['group'] == 'B', 'total_users'].values[0],\n",
    "        conversion_data.loc[conversion_data['group'] == 'A', 'total_users'].values[0]]\n",
    "\n",
    "z_stat, p_value = proportions_ztest(buyers, total, alternative='larger')\n",
    "\n",
    "print(f\"Z-тест пропорций: p-value = {p_value}\")\n",
    "if p_value < 0.05:\n",
    "    print(\"Вывод: Разница статистически значима (p < 0.05)\")\n",
    "else:\n",
    "    print(\"Вывод: Разница не статистически значима (p ≥ 0.05)\")"
   ]
  },
  {
   "cell_type": "markdown",
   "id": "c5e3c255",
   "metadata": {},
   "source": [
    "#### Выводы по результатам A/B-теста\n",
    " - было задействовано  10850 пользователей. В группах А и B было 5383 и 5467 пользователей соответственно, пересечений не было, распределение по устройствам и группам было сбалансированным\n",
    " - внедрение новой версии сайта повлияло на рост ключевой метрики (конверсия зарегистрированных пользователей в покупателей). Разница между тестовыми группами составила чуть более  1.77 процента\n",
    " - p-value = 0.02031, что говорит о том, что разница между группами статистически значима.\n",
    "\n",
    "Учитывая полученные результаты, новый дизайн доказал эффективность. И хотя ожидалось, что конверсия увеличится как минимум на три процентных пункта, но небольшой прирост успешности сессий в 1.77% является статистически значимым улучшением, что способствует повышению продаж."
   ]
  }
 ],
 "metadata": {
  "ExecuteTimeLog": [
   {
    "duration": 52,
    "start_time": "2025-05-30T06:53:39.069Z"
   },
   {
    "duration": 387,
    "start_time": "2025-05-30T06:54:00.472Z"
   },
   {
    "duration": 35,
    "start_time": "2025-05-30T06:54:00.951Z"
   },
   {
    "duration": 17,
    "start_time": "2025-05-30T06:54:08.207Z"
   },
   {
    "duration": 7,
    "start_time": "2025-05-30T06:58:52.819Z"
   },
   {
    "duration": 7,
    "start_time": "2025-05-30T06:59:07.381Z"
   },
   {
    "duration": 11,
    "start_time": "2025-05-30T06:59:10.290Z"
   },
   {
    "duration": 5,
    "start_time": "2025-05-30T07:04:16.531Z"
   },
   {
    "duration": 7,
    "start_time": "2025-05-30T07:04:26.206Z"
   },
   {
    "duration": 30,
    "start_time": "2025-05-30T07:06:09.521Z"
   },
   {
    "duration": 7,
    "start_time": "2025-05-30T07:06:14.047Z"
   },
   {
    "duration": 8,
    "start_time": "2025-05-30T07:06:18.455Z"
   },
   {
    "duration": 7,
    "start_time": "2025-05-30T07:06:22.515Z"
   },
   {
    "duration": 7,
    "start_time": "2025-05-30T07:06:27.467Z"
   },
   {
    "duration": 6,
    "start_time": "2025-05-30T07:06:30.181Z"
   },
   {
    "duration": 6,
    "start_time": "2025-05-30T07:06:57.966Z"
   },
   {
    "duration": 5,
    "start_time": "2025-05-30T07:07:15.862Z"
   },
   {
    "duration": 11,
    "start_time": "2025-05-30T07:10:22.327Z"
   },
   {
    "duration": 9,
    "start_time": "2025-05-30T07:10:56.072Z"
   },
   {
    "duration": 11,
    "start_time": "2025-05-30T07:11:12.407Z"
   },
   {
    "duration": 13,
    "start_time": "2025-05-30T07:13:33.681Z"
   },
   {
    "duration": 7,
    "start_time": "2025-05-30T07:14:02.771Z"
   },
   {
    "duration": 6,
    "start_time": "2025-05-30T07:14:04.898Z"
   },
   {
    "duration": 6,
    "start_time": "2025-05-30T07:14:45.735Z"
   },
   {
    "duration": 7,
    "start_time": "2025-05-30T07:14:51.684Z"
   },
   {
    "duration": 11,
    "start_time": "2025-05-30T07:15:14.850Z"
   },
   {
    "duration": 11,
    "start_time": "2025-05-30T07:15:18.416Z"
   },
   {
    "duration": 10,
    "start_time": "2025-05-30T07:15:46.415Z"
   },
   {
    "duration": 7,
    "start_time": "2025-05-30T07:17:10.952Z"
   },
   {
    "duration": 11,
    "start_time": "2025-05-30T07:22:28.666Z"
   },
   {
    "duration": 7,
    "start_time": "2025-05-30T07:23:06.852Z"
   },
   {
    "duration": 7,
    "start_time": "2025-05-30T07:23:12.243Z"
   },
   {
    "duration": 9,
    "start_time": "2025-05-30T07:27:56.796Z"
   },
   {
    "duration": 526,
    "start_time": "2025-05-30T07:42:58.894Z"
   },
   {
    "duration": 361,
    "start_time": "2025-05-30T07:44:31.878Z"
   },
   {
    "duration": 15,
    "start_time": "2025-05-30T07:47:03.965Z"
   },
   {
    "duration": 2,
    "start_time": "2025-05-30T07:47:38.725Z"
   },
   {
    "duration": 24,
    "start_time": "2025-05-30T07:47:39.165Z"
   },
   {
    "duration": 9,
    "start_time": "2025-05-30T07:47:39.685Z"
   },
   {
    "duration": 12,
    "start_time": "2025-05-30T07:47:40.549Z"
   },
   {
    "duration": 4,
    "start_time": "2025-05-30T07:47:47.933Z"
   },
   {
    "duration": 9,
    "start_time": "2025-05-30T07:47:48.739Z"
   },
   {
    "duration": 8,
    "start_time": "2025-05-30T07:47:53.492Z"
   },
   {
    "duration": 6,
    "start_time": "2025-05-30T07:47:56.338Z"
   },
   {
    "duration": 5,
    "start_time": "2025-05-30T07:47:57.280Z"
   },
   {
    "duration": 6,
    "start_time": "2025-05-30T07:47:57.961Z"
   },
   {
    "duration": 9,
    "start_time": "2025-05-30T07:47:58.548Z"
   },
   {
    "duration": 7,
    "start_time": "2025-05-30T07:47:59.330Z"
   },
   {
    "duration": 13,
    "start_time": "2025-05-30T07:47:59.899Z"
   },
   {
    "duration": 10,
    "start_time": "2025-05-30T07:48:50.855Z"
   },
   {
    "duration": 10,
    "start_time": "2025-05-30T07:48:56.633Z"
   },
   {
    "duration": 1339,
    "start_time": "2025-05-30T07:49:17.577Z"
   },
   {
    "duration": 15,
    "start_time": "2025-05-30T07:49:38.227Z"
   },
   {
    "duration": 6,
    "start_time": "2025-05-30T07:56:27.631Z"
   },
   {
    "duration": 214,
    "start_time": "2025-05-30T07:57:50.506Z"
   },
   {
    "duration": 6,
    "start_time": "2025-05-30T07:58:35.135Z"
   },
   {
    "duration": 9,
    "start_time": "2025-05-30T07:59:05.049Z"
   },
   {
    "duration": 9,
    "start_time": "2025-05-30T07:59:12.358Z"
   },
   {
    "duration": 13,
    "start_time": "2025-05-30T08:00:07.419Z"
   },
   {
    "duration": 54,
    "start_time": "2025-05-30T08:00:21.203Z"
   },
   {
    "duration": 1439,
    "start_time": "2025-05-30T08:00:21.421Z"
   },
   {
    "duration": 4101,
    "start_time": "2025-05-30T08:00:31.927Z"
   },
   {
    "duration": 13,
    "start_time": "2025-05-30T08:04:45.976Z"
   },
   {
    "duration": 1255,
    "start_time": "2025-05-30T08:04:50.382Z"
   },
   {
    "duration": 5,
    "start_time": "2025-05-30T08:05:05.928Z"
   },
   {
    "duration": 52,
    "start_time": "2025-05-30T08:08:45.082Z"
   },
   {
    "duration": 1060,
    "start_time": "2025-05-30T08:08:56.051Z"
   },
   {
    "duration": 88,
    "start_time": "2025-05-30T08:08:57.113Z"
   },
   {
    "duration": 11,
    "start_time": "2025-05-30T08:08:57.203Z"
   },
   {
    "duration": 12,
    "start_time": "2025-05-30T08:08:57.215Z"
   },
   {
    "duration": 10,
    "start_time": "2025-05-30T08:08:57.229Z"
   },
   {
    "duration": 8,
    "start_time": "2025-05-30T08:08:57.241Z"
   },
   {
    "duration": 6,
    "start_time": "2025-05-30T08:08:57.251Z"
   },
   {
    "duration": 5,
    "start_time": "2025-05-30T08:08:57.258Z"
   },
   {
    "duration": 5,
    "start_time": "2025-05-30T08:08:57.265Z"
   },
   {
    "duration": 128,
    "start_time": "2025-05-30T08:08:57.273Z"
   },
   {
    "duration": 0,
    "start_time": "2025-05-30T08:08:57.403Z"
   },
   {
    "duration": 0,
    "start_time": "2025-05-30T08:08:57.405Z"
   },
   {
    "duration": 0,
    "start_time": "2025-05-30T08:08:57.407Z"
   },
   {
    "duration": 0,
    "start_time": "2025-05-30T08:08:57.408Z"
   },
   {
    "duration": 0,
    "start_time": "2025-05-30T08:08:57.409Z"
   },
   {
    "duration": 0,
    "start_time": "2025-05-30T08:08:57.411Z"
   },
   {
    "duration": 0,
    "start_time": "2025-05-30T08:08:57.412Z"
   },
   {
    "duration": 0,
    "start_time": "2025-05-30T08:08:57.414Z"
   },
   {
    "duration": 0,
    "start_time": "2025-05-30T08:08:57.415Z"
   },
   {
    "duration": 6,
    "start_time": "2025-05-30T08:09:16.558Z"
   },
   {
    "duration": 10,
    "start_time": "2025-05-30T08:09:17.257Z"
   },
   {
    "duration": 9,
    "start_time": "2025-05-30T08:09:17.466Z"
   },
   {
    "duration": 14,
    "start_time": "2025-05-30T08:09:17.660Z"
   },
   {
    "duration": 7,
    "start_time": "2025-05-30T08:09:17.900Z"
   },
   {
    "duration": 7,
    "start_time": "2025-05-30T08:09:18.008Z"
   },
   {
    "duration": 8,
    "start_time": "2025-05-30T08:09:19.242Z"
   },
   {
    "duration": 8,
    "start_time": "2025-05-30T08:09:19.504Z"
   },
   {
    "duration": 130,
    "start_time": "2025-05-30T08:09:20.057Z"
   },
   {
    "duration": 215,
    "start_time": "2025-05-30T08:11:54.619Z"
   },
   {
    "duration": 135,
    "start_time": "2025-05-30T08:17:19.841Z"
   },
   {
    "duration": 11,
    "start_time": "2025-05-30T08:22:19.550Z"
   },
   {
    "duration": 62,
    "start_time": "2025-05-30T08:22:35.857Z"
   },
   {
    "duration": 1825,
    "start_time": "2025-05-30T08:22:38.827Z"
   },
   {
    "duration": 4,
    "start_time": "2025-05-30T08:23:10.325Z"
   },
   {
    "duration": 5,
    "start_time": "2025-05-30T08:27:38.742Z"
   },
   {
    "duration": 126,
    "start_time": "2025-05-30T08:28:01.165Z"
   },
   {
    "duration": 5,
    "start_time": "2025-05-30T08:28:14.274Z"
   },
   {
    "duration": 237,
    "start_time": "2025-05-30T08:28:19.035Z"
   },
   {
    "duration": 7,
    "start_time": "2025-05-30T08:32:00.510Z"
   },
   {
    "duration": 6,
    "start_time": "2025-05-30T08:32:38.423Z"
   },
   {
    "duration": 7,
    "start_time": "2025-05-30T08:32:45.594Z"
   },
   {
    "duration": 13,
    "start_time": "2025-05-30T08:35:04.337Z"
   },
   {
    "duration": 17,
    "start_time": "2025-05-30T08:35:19.489Z"
   },
   {
    "duration": 13,
    "start_time": "2025-05-30T08:35:29.480Z"
   },
   {
    "duration": 11,
    "start_time": "2025-05-30T08:35:51.218Z"
   },
   {
    "duration": 12,
    "start_time": "2025-05-30T08:35:54.610Z"
   },
   {
    "duration": 1449,
    "start_time": "2025-05-30T09:29:07.176Z"
   },
   {
    "duration": 10,
    "start_time": "2025-05-30T09:29:10.028Z"
   },
   {
    "duration": 12,
    "start_time": "2025-05-30T09:29:34.829Z"
   },
   {
    "duration": 10,
    "start_time": "2025-05-30T09:29:48.219Z"
   },
   {
    "duration": 12,
    "start_time": "2025-05-30T09:29:49.233Z"
   },
   {
    "duration": 8,
    "start_time": "2025-05-30T09:29:54.528Z"
   },
   {
    "duration": 8,
    "start_time": "2025-05-30T09:29:59.603Z"
   },
   {
    "duration": 13,
    "start_time": "2025-05-30T09:45:49.429Z"
   },
   {
    "duration": 5,
    "start_time": "2025-05-30T09:46:26.973Z"
   },
   {
    "duration": 12,
    "start_time": "2025-05-30T09:46:35.234Z"
   },
   {
    "duration": 11,
    "start_time": "2025-05-30T09:46:42.396Z"
   },
   {
    "duration": 117,
    "start_time": "2025-05-30T09:48:11.290Z"
   },
   {
    "duration": 9,
    "start_time": "2025-05-30T09:48:19.583Z"
   },
   {
    "duration": 12,
    "start_time": "2025-05-30T09:48:31.783Z"
   },
   {
    "duration": 11,
    "start_time": "2025-05-30T09:48:35.069Z"
   },
   {
    "duration": 10,
    "start_time": "2025-05-30T09:48:58.778Z"
   },
   {
    "duration": 12,
    "start_time": "2025-05-30T09:49:03.831Z"
   },
   {
    "duration": 11,
    "start_time": "2025-05-30T09:49:06.974Z"
   },
   {
    "duration": 89,
    "start_time": "2025-05-30T09:50:36.979Z"
   },
   {
    "duration": 9,
    "start_time": "2025-05-30T09:55:03.691Z"
   },
   {
    "duration": 12,
    "start_time": "2025-05-30T09:56:32.429Z"
   },
   {
    "duration": 8,
    "start_time": "2025-05-30T09:57:31.602Z"
   },
   {
    "duration": 13,
    "start_time": "2025-05-30T09:58:18.632Z"
   },
   {
    "duration": 1017,
    "start_time": "2025-05-30T10:03:40.566Z"
   },
   {
    "duration": 6,
    "start_time": "2025-05-30T10:03:58.718Z"
   },
   {
    "duration": 11,
    "start_time": "2025-05-30T10:04:05.429Z"
   },
   {
    "duration": 8,
    "start_time": "2025-05-30T10:04:43.701Z"
   },
   {
    "duration": 12,
    "start_time": "2025-05-30T10:04:54.783Z"
   },
   {
    "duration": 8,
    "start_time": "2025-05-30T10:04:58.887Z"
   },
   {
    "duration": 6,
    "start_time": "2025-05-30T10:05:08.709Z"
   },
   {
    "duration": 8,
    "start_time": "2025-05-30T10:05:11.754Z"
   },
   {
    "duration": 9,
    "start_time": "2025-05-30T10:05:39.735Z"
   },
   {
    "duration": 8,
    "start_time": "2025-05-30T10:05:40.256Z"
   },
   {
    "duration": 8,
    "start_time": "2025-05-30T10:06:34.906Z"
   },
   {
    "duration": 12,
    "start_time": "2025-05-30T10:06:35.122Z"
   },
   {
    "duration": 8,
    "start_time": "2025-05-30T10:10:08.453Z"
   },
   {
    "duration": 13,
    "start_time": "2025-05-30T10:10:11.523Z"
   },
   {
    "duration": 112,
    "start_time": "2025-05-30T10:10:21.632Z"
   },
   {
    "duration": 12,
    "start_time": "2025-05-30T10:13:15.883Z"
   },
   {
    "duration": 10,
    "start_time": "2025-05-30T10:17:03.908Z"
   },
   {
    "duration": 2,
    "start_time": "2025-05-30T10:18:22.384Z"
   },
   {
    "duration": 82,
    "start_time": "2025-05-30T10:19:06.163Z"
   },
   {
    "duration": 76,
    "start_time": "2025-05-30T10:19:10.249Z"
   },
   {
    "duration": 79,
    "start_time": "2025-05-30T10:19:16.161Z"
   },
   {
    "duration": 71,
    "start_time": "2025-05-30T10:19:32.170Z"
   },
   {
    "duration": 11,
    "start_time": "2025-05-30T10:35:35.993Z"
   },
   {
    "duration": 37,
    "start_time": "2025-05-30T10:35:44.360Z"
   },
   {
    "duration": 77,
    "start_time": "2025-05-30T10:36:13.620Z"
   },
   {
    "duration": 5,
    "start_time": "2025-05-30T10:38:20.369Z"
   },
   {
    "duration": 23,
    "start_time": "2025-05-30T10:40:15.998Z"
   },
   {
    "duration": 28,
    "start_time": "2025-05-30T10:40:19.208Z"
   },
   {
    "duration": 8,
    "start_time": "2025-05-30T10:41:08.652Z"
   },
   {
    "duration": 15,
    "start_time": "2025-05-30T10:44:08.358Z"
   },
   {
    "duration": 19,
    "start_time": "2025-05-30T10:45:32.359Z"
   },
   {
    "duration": 18,
    "start_time": "2025-05-30T10:47:29.496Z"
   },
   {
    "duration": 19,
    "start_time": "2025-05-30T10:47:42.109Z"
   },
   {
    "duration": 17,
    "start_time": "2025-05-30T10:48:21.920Z"
   },
   {
    "duration": 24,
    "start_time": "2025-05-30T10:48:30.053Z"
   },
   {
    "duration": 33,
    "start_time": "2025-05-30T10:48:37.552Z"
   },
   {
    "duration": 28,
    "start_time": "2025-05-30T10:48:44.451Z"
   },
   {
    "duration": 30,
    "start_time": "2025-05-30T10:48:49.317Z"
   },
   {
    "duration": 30,
    "start_time": "2025-05-30T10:49:03.528Z"
   },
   {
    "duration": 27,
    "start_time": "2025-05-30T10:49:45.741Z"
   },
   {
    "duration": 28,
    "start_time": "2025-05-30T10:49:47.880Z"
   },
   {
    "duration": 60,
    "start_time": "2025-05-30T10:50:39.309Z"
   },
   {
    "duration": 33,
    "start_time": "2025-05-30T10:50:44.852Z"
   },
   {
    "duration": 59,
    "start_time": "2025-05-30T10:51:09.454Z"
   },
   {
    "duration": 1617,
    "start_time": "2025-05-30T10:51:34.182Z"
   },
   {
    "duration": 64,
    "start_time": "2025-05-30T10:51:49.282Z"
   },
   {
    "duration": 6,
    "start_time": "2025-05-30T10:51:56.394Z"
   },
   {
    "duration": 10,
    "start_time": "2025-05-30T10:52:29.006Z"
   },
   {
    "duration": 17,
    "start_time": "2025-05-30T10:52:33.835Z"
   },
   {
    "duration": 18,
    "start_time": "2025-05-30T10:52:50.509Z"
   },
   {
    "duration": 7,
    "start_time": "2025-05-30T11:22:41.478Z"
   },
   {
    "duration": 15,
    "start_time": "2025-05-30T11:22:55.444Z"
   },
   {
    "duration": 10,
    "start_time": "2025-05-30T11:22:59.478Z"
   },
   {
    "duration": 5,
    "start_time": "2025-05-30T11:25:57.081Z"
   },
   {
    "duration": 74,
    "start_time": "2025-05-30T11:26:01.380Z"
   },
   {
    "duration": 6,
    "start_time": "2025-05-30T11:26:12.417Z"
   },
   {
    "duration": 10,
    "start_time": "2025-05-30T11:26:44.522Z"
   },
   {
    "duration": 13,
    "start_time": "2025-05-30T11:34:34.892Z"
   },
   {
    "duration": 3,
    "start_time": "2025-05-30T11:34:56.996Z"
   },
   {
    "duration": 10,
    "start_time": "2025-05-30T11:35:05.009Z"
   },
   {
    "duration": 11,
    "start_time": "2025-05-30T11:37:05.297Z"
   },
   {
    "duration": 18,
    "start_time": "2025-05-30T11:37:11.913Z"
   },
   {
    "duration": 14,
    "start_time": "2025-05-30T11:37:28.383Z"
   },
   {
    "duration": 14,
    "start_time": "2025-05-30T11:37:51.471Z"
   },
   {
    "duration": 17,
    "start_time": "2025-05-30T11:39:41.186Z"
   },
   {
    "duration": 23,
    "start_time": "2025-05-30T11:42:15.077Z"
   },
   {
    "duration": 16,
    "start_time": "2025-05-30T11:42:36.302Z"
   },
   {
    "duration": 20,
    "start_time": "2025-05-30T11:43:25.706Z"
   },
   {
    "duration": 76,
    "start_time": "2025-05-30T11:48:42.205Z"
   },
   {
    "duration": 14,
    "start_time": "2025-05-30T11:48:49.124Z"
   },
   {
    "duration": 3,
    "start_time": "2025-05-30T11:48:59.027Z"
   },
   {
    "duration": 16,
    "start_time": "2025-05-30T11:49:01.424Z"
   },
   {
    "duration": 19,
    "start_time": "2025-05-30T11:49:06.424Z"
   },
   {
    "duration": 23,
    "start_time": "2025-05-30T11:49:15.534Z"
   },
   {
    "duration": 18,
    "start_time": "2025-05-30T11:50:01.892Z"
   },
   {
    "duration": 18,
    "start_time": "2025-05-30T11:50:24.939Z"
   },
   {
    "duration": 16,
    "start_time": "2025-05-30T11:51:09.473Z"
   },
   {
    "duration": 23,
    "start_time": "2025-05-30T11:51:09.974Z"
   },
   {
    "duration": 12,
    "start_time": "2025-05-30T11:51:13.396Z"
   },
   {
    "duration": 6,
    "start_time": "2025-05-30T12:26:26.711Z"
   },
   {
    "duration": 6,
    "start_time": "2025-05-30T12:26:27.191Z"
   },
   {
    "duration": 3,
    "start_time": "2025-05-30T12:26:53.099Z"
   },
   {
    "duration": 23,
    "start_time": "2025-05-30T12:26:53.395Z"
   },
   {
    "duration": 8,
    "start_time": "2025-05-30T12:26:53.676Z"
   },
   {
    "duration": 11,
    "start_time": "2025-05-30T12:26:53.931Z"
   },
   {
    "duration": 4,
    "start_time": "2025-05-30T12:26:54.971Z"
   },
   {
    "duration": 8,
    "start_time": "2025-05-30T12:26:57.762Z"
   },
   {
    "duration": 3,
    "start_time": "2025-05-30T12:27:07.051Z"
   },
   {
    "duration": 27,
    "start_time": "2025-05-30T12:27:07.830Z"
   },
   {
    "duration": 8,
    "start_time": "2025-05-30T12:27:08.466Z"
   },
   {
    "duration": 12,
    "start_time": "2025-05-30T12:27:08.870Z"
   },
   {
    "duration": 10,
    "start_time": "2025-05-30T12:27:11.438Z"
   },
   {
    "duration": 8,
    "start_time": "2025-05-30T12:27:12.315Z"
   },
   {
    "duration": 1149,
    "start_time": "2025-05-30T12:27:19.919Z"
   },
   {
    "duration": 25,
    "start_time": "2025-05-30T12:27:21.070Z"
   },
   {
    "duration": 12,
    "start_time": "2025-05-30T12:27:21.174Z"
   },
   {
    "duration": 11,
    "start_time": "2025-05-30T12:27:22.007Z"
   },
   {
    "duration": 3,
    "start_time": "2025-05-30T12:27:25.454Z"
   },
   {
    "duration": 8,
    "start_time": "2025-05-30T12:27:25.881Z"
   },
   {
    "duration": 7,
    "start_time": "2025-05-30T12:27:26.980Z"
   },
   {
    "duration": 5,
    "start_time": "2025-05-30T12:27:31.871Z"
   },
   {
    "duration": 6,
    "start_time": "2025-05-30T12:27:32.992Z"
   },
   {
    "duration": 5,
    "start_time": "2025-05-30T12:27:42.150Z"
   },
   {
    "duration": 6,
    "start_time": "2025-05-30T12:27:42.418Z"
   },
   {
    "duration": 6,
    "start_time": "2025-05-30T12:28:38.759Z"
   },
   {
    "duration": 7,
    "start_time": "2025-05-30T12:28:49.903Z"
   },
   {
    "duration": 8,
    "start_time": "2025-05-30T12:28:50.195Z"
   },
   {
    "duration": 96,
    "start_time": "2025-05-30T12:39:46.335Z"
   },
   {
    "duration": 5,
    "start_time": "2025-05-30T12:39:57.892Z"
   },
   {
    "duration": 140,
    "start_time": "2025-05-30T12:39:58.468Z"
   },
   {
    "duration": 153,
    "start_time": "2025-05-30T12:41:56.221Z"
   },
   {
    "duration": 151,
    "start_time": "2025-05-30T12:42:34.360Z"
   },
   {
    "duration": 4,
    "start_time": "2025-05-30T12:42:53.155Z"
   },
   {
    "duration": 177,
    "start_time": "2025-05-30T12:42:55.155Z"
   },
   {
    "duration": 130,
    "start_time": "2025-05-30T12:43:23.412Z"
   },
   {
    "duration": 146,
    "start_time": "2025-05-30T12:43:28.810Z"
   },
   {
    "duration": 183,
    "start_time": "2025-05-30T12:45:24.446Z"
   },
   {
    "duration": 179,
    "start_time": "2025-05-30T12:45:37.657Z"
   },
   {
    "duration": 97,
    "start_time": "2025-05-30T12:47:28.950Z"
   },
   {
    "duration": 108,
    "start_time": "2025-05-30T12:50:19.398Z"
   },
   {
    "duration": 196,
    "start_time": "2025-05-30T12:51:08.403Z"
   },
   {
    "duration": 114,
    "start_time": "2025-05-30T12:51:45.148Z"
   },
   {
    "duration": 109,
    "start_time": "2025-05-30T12:51:48.494Z"
   },
   {
    "duration": 117,
    "start_time": "2025-05-30T12:51:53.247Z"
   },
   {
    "duration": 5,
    "start_time": "2025-05-30T12:52:28.621Z"
   },
   {
    "duration": 19,
    "start_time": "2025-05-30T12:52:28.964Z"
   },
   {
    "duration": 7,
    "start_time": "2025-05-30T12:52:50.404Z"
   },
   {
    "duration": 6,
    "start_time": "2025-05-30T12:52:51.149Z"
   },
   {
    "duration": 8,
    "start_time": "2025-05-30T12:52:51.949Z"
   },
   {
    "duration": 5,
    "start_time": "2025-05-30T12:52:53.322Z"
   },
   {
    "duration": 16,
    "start_time": "2025-05-30T12:52:55.426Z"
   },
   {
    "duration": 164,
    "start_time": "2025-05-30T12:53:03.133Z"
   },
   {
    "duration": 173,
    "start_time": "2025-05-30T12:53:25.023Z"
   },
   {
    "duration": 166,
    "start_time": "2025-05-30T12:54:45.790Z"
   },
   {
    "duration": 4,
    "start_time": "2025-05-30T12:55:23.633Z"
   },
   {
    "duration": 5,
    "start_time": "2025-05-30T12:55:45.978Z"
   },
   {
    "duration": 186,
    "start_time": "2025-05-30T12:55:46.291Z"
   },
   {
    "duration": 184,
    "start_time": "2025-05-30T12:55:51.595Z"
   },
   {
    "duration": 12,
    "start_time": "2025-05-30T13:00:20.694Z"
   },
   {
    "duration": 11,
    "start_time": "2025-05-30T13:00:27.435Z"
   },
   {
    "duration": 80,
    "start_time": "2025-05-30T13:01:03.110Z"
   },
   {
    "duration": 16,
    "start_time": "2025-05-30T13:01:25.951Z"
   },
   {
    "duration": 1555,
    "start_time": "2025-05-30T13:26:52.072Z"
   },
   {
    "duration": 14,
    "start_time": "2025-05-30T13:26:53.629Z"
   },
   {
    "duration": 8,
    "start_time": "2025-05-30T13:26:55.365Z"
   },
   {
    "duration": 13,
    "start_time": "2025-05-30T13:27:42.732Z"
   },
   {
    "duration": 110,
    "start_time": "2025-05-30T13:27:46.042Z"
   },
   {
    "duration": 9,
    "start_time": "2025-05-30T13:27:51.771Z"
   },
   {
    "duration": 10,
    "start_time": "2025-05-30T13:27:53.367Z"
   },
   {
    "duration": 101,
    "start_time": "2025-05-30T13:30:08.593Z"
   },
   {
    "duration": 315,
    "start_time": "2025-05-30T13:30:20.948Z"
   },
   {
    "duration": 100,
    "start_time": "2025-05-30T13:36:28.118Z"
   },
   {
    "duration": 391,
    "start_time": "2025-05-30T13:37:23.861Z"
   },
   {
    "duration": 341,
    "start_time": "2025-05-30T13:37:24.254Z"
   },
   {
    "duration": 334,
    "start_time": "2025-05-30T13:37:36.868Z"
   },
   {
    "duration": 321,
    "start_time": "2025-05-30T13:37:37.749Z"
   },
   {
    "duration": 11,
    "start_time": "2025-05-30T13:56:32.359Z"
   },
   {
    "duration": 89,
    "start_time": "2025-05-30T13:56:33.070Z"
   },
   {
    "duration": 12,
    "start_time": "2025-05-30T13:56:36.654Z"
   },
   {
    "duration": 12,
    "start_time": "2025-05-30T13:56:37.250Z"
   },
   {
    "duration": 134,
    "start_time": "2025-05-30T14:02:08.087Z"
   },
   {
    "duration": 290,
    "start_time": "2025-05-30T14:02:16.537Z"
   },
   {
    "duration": 9,
    "start_time": "2025-05-30T14:06:09.442Z"
   },
   {
    "duration": 3,
    "start_time": "2025-05-30T14:06:11.406Z"
   },
   {
    "duration": 77,
    "start_time": "2025-05-30T14:06:11.614Z"
   },
   {
    "duration": 72,
    "start_time": "2025-05-30T14:06:20.236Z"
   },
   {
    "duration": 33,
    "start_time": "2025-05-30T14:07:36.826Z"
   },
   {
    "duration": 11,
    "start_time": "2025-05-30T14:08:19.686Z"
   },
   {
    "duration": 1354,
    "start_time": "2025-05-30T14:08:48.204Z"
   },
   {
    "duration": 0,
    "start_time": "2025-05-30T14:08:49.560Z"
   },
   {
    "duration": 4,
    "start_time": "2025-05-30T14:09:07.253Z"
   },
   {
    "duration": 70,
    "start_time": "2025-05-30T14:09:07.688Z"
   },
   {
    "duration": 32,
    "start_time": "2025-05-30T14:09:08.454Z"
   },
   {
    "duration": 10,
    "start_time": "2025-05-30T14:09:13.173Z"
   },
   {
    "duration": 15,
    "start_time": "2025-05-30T14:17:31.953Z"
   },
   {
    "duration": 9,
    "start_time": "2025-05-30T14:17:35.543Z"
   },
   {
    "duration": 11,
    "start_time": "2025-05-30T14:17:48.205Z"
   },
   {
    "duration": 12,
    "start_time": "2025-05-30T14:18:11.419Z"
   },
   {
    "duration": 11,
    "start_time": "2025-05-30T14:18:14.699Z"
   },
   {
    "duration": 15,
    "start_time": "2025-05-30T14:18:19.492Z"
   },
   {
    "duration": 9,
    "start_time": "2025-05-30T14:18:28.862Z"
   },
   {
    "duration": 20,
    "start_time": "2025-05-30T14:18:44.000Z"
   },
   {
    "duration": 14,
    "start_time": "2025-05-30T14:18:48.456Z"
   },
   {
    "duration": 10,
    "start_time": "2025-05-30T14:22:19.362Z"
   },
   {
    "duration": 14,
    "start_time": "2025-05-30T14:24:20.820Z"
   },
   {
    "duration": 15,
    "start_time": "2025-05-30T14:25:47.204Z"
   },
   {
    "duration": 25,
    "start_time": "2025-05-30T14:25:54.001Z"
   },
   {
    "duration": 11,
    "start_time": "2025-05-30T14:25:54.731Z"
   },
   {
    "duration": 27,
    "start_time": "2025-05-30T14:27:25.057Z"
   },
   {
    "duration": 10,
    "start_time": "2025-05-30T14:27:30.240Z"
   },
   {
    "duration": 27,
    "start_time": "2025-05-30T14:28:18.908Z"
   },
   {
    "duration": 15,
    "start_time": "2025-05-30T14:28:28.733Z"
   },
   {
    "duration": 5,
    "start_time": "2025-05-30T14:29:56.987Z"
   },
   {
    "duration": 18,
    "start_time": "2025-05-30T14:30:00.844Z"
   },
   {
    "duration": 22,
    "start_time": "2025-05-30T14:30:22.391Z"
   },
   {
    "duration": 18,
    "start_time": "2025-05-30T14:30:25.461Z"
   },
   {
    "duration": 8,
    "start_time": "2025-05-30T14:30:39.182Z"
   },
   {
    "duration": 17,
    "start_time": "2025-05-30T14:30:40.279Z"
   },
   {
    "duration": 13,
    "start_time": "2025-05-30T14:30:59.529Z"
   },
   {
    "duration": 29,
    "start_time": "2025-05-30T14:31:13.687Z"
   },
   {
    "duration": 19,
    "start_time": "2025-05-30T14:32:02.290Z"
   },
   {
    "duration": 25,
    "start_time": "2025-05-30T14:32:25.053Z"
   },
   {
    "duration": 8,
    "start_time": "2025-05-30T14:36:24.870Z"
   },
   {
    "duration": 6,
    "start_time": "2025-05-30T14:36:29.550Z"
   },
   {
    "duration": 16,
    "start_time": "2025-05-30T14:36:39.571Z"
   },
   {
    "duration": 25,
    "start_time": "2025-05-30T14:39:00.471Z"
   },
   {
    "duration": 25,
    "start_time": "2025-05-30T14:39:17.379Z"
   },
   {
    "duration": 17,
    "start_time": "2025-05-30T14:40:15.934Z"
   },
   {
    "duration": 12,
    "start_time": "2025-05-30T14:41:43.216Z"
   },
   {
    "duration": 30,
    "start_time": "2025-05-30T14:41:43.585Z"
   },
   {
    "duration": 12,
    "start_time": "2025-05-30T14:42:04.373Z"
   },
   {
    "duration": 18,
    "start_time": "2025-05-30T14:42:05.119Z"
   },
   {
    "duration": 7,
    "start_time": "2025-05-30T14:42:37.190Z"
   },
   {
    "duration": 9,
    "start_time": "2025-05-30T14:42:37.853Z"
   },
   {
    "duration": 10,
    "start_time": "2025-05-30T14:52:33.169Z"
   },
   {
    "duration": 7,
    "start_time": "2025-05-30T14:57:42.815Z"
   },
   {
    "duration": 13,
    "start_time": "2025-05-30T15:03:20.953Z"
   },
   {
    "duration": 95,
    "start_time": "2025-05-30T15:03:45.756Z"
   },
   {
    "duration": 199,
    "start_time": "2025-05-30T15:04:28.241Z"
   },
   {
    "duration": 13,
    "start_time": "2025-05-30T15:07:25.149Z"
   },
   {
    "duration": 9,
    "start_time": "2025-05-30T15:07:56.138Z"
   },
   {
    "duration": 1428,
    "start_time": "2025-05-31T13:10:40.854Z"
   },
   {
    "duration": 37,
    "start_time": "2025-05-31T13:10:42.284Z"
   },
   {
    "duration": 65,
    "start_time": "2025-05-31T13:10:42.323Z"
   },
   {
    "duration": 12,
    "start_time": "2025-05-31T13:10:42.390Z"
   },
   {
    "duration": 4,
    "start_time": "2025-05-31T13:10:42.405Z"
   },
   {
    "duration": 15,
    "start_time": "2025-05-31T13:10:42.411Z"
   },
   {
    "duration": 20,
    "start_time": "2025-05-31T13:10:42.428Z"
   },
   {
    "duration": 22,
    "start_time": "2025-05-31T13:10:42.450Z"
   },
   {
    "duration": 8,
    "start_time": "2025-05-31T13:10:42.474Z"
   },
   {
    "duration": 13,
    "start_time": "2025-05-31T13:10:42.484Z"
   },
   {
    "duration": 11,
    "start_time": "2025-05-31T13:10:42.499Z"
   },
   {
    "duration": 11,
    "start_time": "2025-05-31T13:10:42.513Z"
   },
   {
    "duration": 22,
    "start_time": "2025-05-31T13:10:42.526Z"
   },
   {
    "duration": 12,
    "start_time": "2025-05-31T13:10:42.552Z"
   },
   {
    "duration": 5,
    "start_time": "2025-05-31T13:10:42.566Z"
   },
   {
    "duration": 216,
    "start_time": "2025-05-31T13:10:42.572Z"
   },
   {
    "duration": 8,
    "start_time": "2025-05-31T13:10:42.790Z"
   },
   {
    "duration": 5,
    "start_time": "2025-05-31T13:10:42.799Z"
   },
   {
    "duration": 225,
    "start_time": "2025-05-31T13:10:42.805Z"
   },
   {
    "duration": 21,
    "start_time": "2025-05-31T13:10:43.031Z"
   },
   {
    "duration": 1710,
    "start_time": "2025-05-31T13:10:43.053Z"
   },
   {
    "duration": 9,
    "start_time": "2025-05-31T13:10:44.765Z"
   },
   {
    "duration": 15,
    "start_time": "2025-05-31T13:10:44.776Z"
   },
   {
    "duration": 17,
    "start_time": "2025-05-31T13:10:44.792Z"
   },
   {
    "duration": 159,
    "start_time": "2025-05-31T13:10:44.811Z"
   },
   {
    "duration": 11,
    "start_time": "2025-05-31T13:10:44.972Z"
   },
   {
    "duration": 128,
    "start_time": "2025-05-31T13:10:44.984Z"
   },
   {
    "duration": 394,
    "start_time": "2025-05-31T13:10:45.114Z"
   },
   {
    "duration": 401,
    "start_time": "2025-05-31T13:10:45.510Z"
   },
   {
    "duration": 355,
    "start_time": "2025-05-31T13:10:45.913Z"
   },
   {
    "duration": 11,
    "start_time": "2025-05-31T13:10:46.270Z"
   },
   {
    "duration": 209,
    "start_time": "2025-05-31T13:10:46.282Z"
   },
   {
    "duration": 12,
    "start_time": "2025-05-31T13:10:46.492Z"
   },
   {
    "duration": 12,
    "start_time": "2025-05-31T13:10:46.506Z"
   },
   {
    "duration": 36,
    "start_time": "2025-05-31T13:10:46.520Z"
   },
   {
    "duration": 26,
    "start_time": "2025-05-31T13:10:46.558Z"
   },
   {
    "duration": 240,
    "start_time": "2025-05-31T13:10:46.585Z"
   },
   {
    "duration": 11,
    "start_time": "2025-05-31T13:10:46.827Z"
   },
   {
    "duration": 97,
    "start_time": "2025-05-31T13:10:46.853Z"
   },
   {
    "duration": 35,
    "start_time": "2025-05-31T13:10:46.952Z"
   },
   {
    "duration": 10,
    "start_time": "2025-05-31T13:10:46.991Z"
   },
   {
    "duration": 125,
    "start_time": "2025-05-31T13:10:47.003Z"
   },
   {
    "duration": 0,
    "start_time": "2025-05-31T13:10:47.130Z"
   },
   {
    "duration": 0,
    "start_time": "2025-05-31T13:10:47.131Z"
   },
   {
    "duration": 0,
    "start_time": "2025-05-31T13:10:47.143Z"
   },
   {
    "duration": 0,
    "start_time": "2025-05-31T13:10:47.144Z"
   },
   {
    "duration": 0,
    "start_time": "2025-05-31T13:10:47.145Z"
   },
   {
    "duration": 0,
    "start_time": "2025-05-31T13:10:47.148Z"
   },
   {
    "duration": 0,
    "start_time": "2025-05-31T13:10:47.149Z"
   },
   {
    "duration": 0,
    "start_time": "2025-05-31T13:10:47.150Z"
   },
   {
    "duration": 0,
    "start_time": "2025-05-31T13:10:47.150Z"
   },
   {
    "duration": 0,
    "start_time": "2025-05-31T13:10:47.152Z"
   },
   {
    "duration": 0,
    "start_time": "2025-05-31T13:10:47.153Z"
   },
   {
    "duration": 6,
    "start_time": "2025-05-31T13:17:02.573Z"
   },
   {
    "duration": 30,
    "start_time": "2025-05-31T13:17:04.585Z"
   },
   {
    "duration": 28,
    "start_time": "2025-05-31T13:17:06.749Z"
   },
   {
    "duration": 5,
    "start_time": "2025-05-31T13:17:06.977Z"
   },
   {
    "duration": 18,
    "start_time": "2025-05-31T13:17:07.229Z"
   },
   {
    "duration": 17,
    "start_time": "2025-05-31T13:17:07.569Z"
   },
   {
    "duration": 19,
    "start_time": "2025-05-31T13:17:08.538Z"
   },
   {
    "duration": 18,
    "start_time": "2025-05-31T13:17:10.131Z"
   },
   {
    "duration": 19,
    "start_time": "2025-05-31T13:17:11.184Z"
   },
   {
    "duration": 6,
    "start_time": "2025-05-31T13:17:14.964Z"
   },
   {
    "duration": 10,
    "start_time": "2025-05-31T13:17:15.445Z"
   },
   {
    "duration": 8,
    "start_time": "2025-05-31T13:17:47.118Z"
   },
   {
    "duration": 13,
    "start_time": "2025-05-31T13:18:14.121Z"
   },
   {
    "duration": 8,
    "start_time": "2025-05-31T13:18:18.367Z"
   },
   {
    "duration": 14,
    "start_time": "2025-05-31T13:18:45.066Z"
   },
   {
    "duration": 8,
    "start_time": "2025-05-31T13:18:49.042Z"
   },
   {
    "duration": 7,
    "start_time": "2025-05-31T13:19:01.626Z"
   },
   {
    "duration": 7,
    "start_time": "2025-05-31T13:19:04.348Z"
   },
   {
    "duration": 7,
    "start_time": "2025-05-31T13:19:09.115Z"
   },
   {
    "duration": 8,
    "start_time": "2025-05-31T13:19:15.353Z"
   }
  ],
  "colab": {
   "provenance": [],
   "toc_visible": true
  },
  "kernelspec": {
   "display_name": "Python [conda env:base] *",
   "language": "python",
   "name": "conda-base-py"
  },
  "language_info": {
   "codemirror_mode": {
    "name": "ipython",
    "version": 3
   },
   "file_extension": ".py",
   "mimetype": "text/x-python",
   "name": "python",
   "nbconvert_exporter": "python",
   "pygments_lexer": "ipython3",
   "version": "3.12.3"
  },
  "toc": {
   "base_numbering": 1,
   "nav_menu": {},
   "number_sections": false,
   "sideBar": true,
   "skip_h1_title": true,
   "title_cell": "Table of Contents",
   "title_sidebar": "Contents",
   "toc_cell": false,
   "toc_position": {
    "height": "calc(100% - 180px)",
    "left": "10px",
    "top": "150px",
    "width": "167.188px"
   },
   "toc_section_display": true,
   "toc_window_display": false
  }
 },
 "nbformat": 4,
 "nbformat_minor": 5
}
