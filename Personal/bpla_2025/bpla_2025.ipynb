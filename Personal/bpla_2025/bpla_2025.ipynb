{
 "cells": [
  {
   "cell_type": "markdown",
   "id": "1e755e96-a68c-4c7c-8d11-3fb7103c9430",
   "metadata": {},
   "source": [
    "# Аналитика полётной активности гражданских беспилотников в РФ для АНО \"Федеральный центр беспилотных авиационных систем\" "
   ]
  },
  {
   "cell_type": "markdown",
   "id": "7b302569-a673-4168-b344-629e37031714",
   "metadata": {},
   "source": [
    "# 1. Загрузка данных "
   ]
  },
  {
   "cell_type": "code",
   "execution_count": 3,
   "id": "93c3633b-790e-45d7-a363-a53c2f3eee57",
   "metadata": {},
   "outputs": [],
   "source": [
    "import pandas as pd\n",
    "import re\n",
    "from datetime import datetime, timedelta\n",
    "import numpy as np\n",
    "import geopandas as gpd\n",
    "from shapely.geometry import Polygon"
   ]
  },
  {
   "cell_type": "markdown",
   "id": "55a792c1-e802-44f9-a308-54072a886f78",
   "metadata": {},
   "source": [
    "Загрузим датасет"
   ]
  },
  {
   "cell_type": "code",
   "execution_count": 5,
   "id": "7ab16e5d-e623-40a8-9bdc-bb481f2f5bc7",
   "metadata": {},
   "outputs": [],
   "source": [
    "df = pd.read_excel(PATH)"
   ]
  },
  {
   "cell_type": "markdown",
   "id": "b4dfed82-8617-45bb-a3ff-8be25740c852",
   "metadata": {},
   "source": [
    "Загрузим границы регионов"
   ]
  },
  {
   "cell_type": "code",
   "execution_count": 7,
   "id": "ca3587f9-fa9f-43cc-94b6-2342c6596a9f",
   "metadata": {},
   "outputs": [],
   "source": [
    "gdf_regions = gpd.read_file(PATH)"
   ]
  },
  {
   "cell_type": "markdown",
   "id": "563ec914-9242-4f1c-9165-39ad69b5e4e8",
   "metadata": {},
   "source": [
    "# 2. Предобработка данных"
   ]
  },
  {
   "cell_type": "markdown",
   "id": "522a00b3-0682-452c-b083-7abdbec477b3",
   "metadata": {},
   "source": [
    "Напишем функцию для парсинга необходимых полей из файла (стандартизированные сообщения в Госкорпорацию ОРВД)"
   ]
  },
  {
   "cell_type": "code",
   "execution_count": 10,
   "id": "baa6f67a-0db2-4fc6-a610-a137836a0894",
   "metadata": {},
   "outputs": [],
   "source": [
    "def parse_shr_table(df):\n",
    "    parsed = []\n",
    "\n",
    "    for _, row in df.iterrows():\n",
    "        shr = str(row[\"SHR\"])\n",
    "        dep_text = str(row.get(\"DEP\", \"\"))\n",
    "        arr_text = str(row.get(\"ARR\", \"\"))\n",
    "        center = row[\"Центр ЕС ОрВД\"]\n",
    "\n",
    "        data = {\n",
    "            \"Центр ЕС\": center,\n",
    "            \"SID\": None,\n",
    "            \"DOF\": None,\n",
    "            \"TYP\": None,\n",
    "            \"REG\": None,\n",
    "            \"OPR\": None,\n",
    "            \"DEP\": None,\n",
    "            \"DEST\": None,\n",
    "            \"DEP_TIME\": None,\n",
    "            \"ARR_TIME\": None,\n",
    "            \"Высота_от\": None,\n",
    "            \"Высота_до\": None,\n",
    "        }\n",
    "\n",
    "        # SID\n",
    "        sid_match = re.search(r\"SID/(\\d+)\", shr)\n",
    "        if sid_match:\n",
    "            data[\"SID\"] = sid_match.group(1)\n",
    "\n",
    "        # Дата операции\n",
    "        dof_match = re.search(r\"DOF/(\\d{6})\", shr)\n",
    "        if dof_match:\n",
    "            dof_raw = dof_match.group(1)\n",
    "            data[\"DOF\"] = datetime.strptime(dof_raw, \"%y%m%d\").date()\n",
    "\n",
    "        # Тип БПЛА\n",
    "        typ_match = re.search(r\"TYP/([\\w\\d]+)\", shr)\n",
    "        if typ_match:\n",
    "            data[\"TYP\"] = typ_match.group(1)\n",
    "\n",
    "        # Регистрационный номер\n",
    "        reg_match = re.search(r\"REG/([\\w\\d, ]+)\", shr)\n",
    "        if reg_match:\n",
    "            data[\"REG\"] = reg_match.group(1).strip()\n",
    "\n",
    "        # Оператор\n",
    "        opr_match = re.search(r\"OPR/(.*?)(?=\\s*(REG/|TYP/|DOF/|DEP/|DEST/|SID/|ORGN/|RMK/|$))\",shr,flags=re.DOTALL)\n",
    "        if opr_match:\n",
    "            data[\"OPR\"] = opr_match.group(1).replace(\"\\n\", \" \").strip()\n",
    "\n",
    "\n",
    "        # DEP и DEST (обычный способ)\n",
    "        dep_match = re.search(r\"DEP/([A-Z0-9]+)\", shr)\n",
    "        dest_match = re.search(r\"DEST/([A-Z0-9]+)\", shr)\n",
    "        if dep_match:\n",
    "            data[\"DEP\"] = dep_match.group(1)\n",
    "        if dest_match:\n",
    "            data[\"DEST\"] = dest_match.group(1)\n",
    "\n",
    "        # Если DEP/DEST не нашли, то ищем координаты в SHR\n",
    "        if not data[\"DEP\"] or not data[\"DEST\"]:\n",
    "            coords = re.findall(r\"\\d{6}[NS]\\d{7}[EW]|\\d{4}[NS]\\d{5}[EW]\", shr)\n",
    "            if coords:\n",
    "                if not data[\"DEP\"]:\n",
    "                    data[\"DEP\"] = coords[0]\n",
    "                if len(coords) > 1 and not data[\"DEST\"]:\n",
    "                    data[\"DEST\"] = coords[1]\n",
    "\n",
    "        # Если все еще пусто, то ищем в DEP/ARR в ADEPZ/ADARRZ\n",
    "        if not data[\"DEP\"]:\n",
    "            depz_match = re.search(r\"ADEPZ\\s+(\\d+[NS]\\d+[EW])\", dep_text)\n",
    "            if depz_match:\n",
    "                data[\"DEP\"] = depz_match.group(1)\n",
    "\n",
    "        if not data[\"DEST\"]:\n",
    "            arrz_match = re.search(r\"ADARRZ\\s+(\\d+[NS]\\d+[EW])\", arr_text)\n",
    "            if arrz_match:\n",
    "                data[\"DEST\"] = arrz_match.group(1)\n",
    "\n",
    "        # Высота\n",
    "        alt_match = re.search(r\"M(\\d{4})/M(\\d{4})\", shr)\n",
    "        if alt_match:\n",
    "            data[\"Высота_от\"] = int(alt_match.group(1))\n",
    "            data[\"Высота_до\"] = int(alt_match.group(2))\n",
    "\n",
    "        # Время вылета\n",
    "        dep_time_match = re.search(r\"ATD\\s*(\\d{4})\", dep_text)\n",
    "        if dep_time_match:\n",
    "            data[\"DEP_TIME\"] = f\"{dep_time_match.group(1)[:2]}:{dep_time_match.group(1)[2:]}\"\n",
    "        else:\n",
    "            shr_dep_time = re.search(r\"-\\w{4}(\\d{4})\", shr)\n",
    "            if shr_dep_time:\n",
    "                dep_raw = shr_dep_time.group(1)\n",
    "                data[\"DEP_TIME\"] = f\"{dep_raw[:2]}:{dep_raw[2:]}\"\n",
    "\n",
    "        # Время прилета\n",
    "        arr_time_match = re.search(r\"ATA\\s*(\\d{4})\", arr_text)\n",
    "        if arr_time_match:\n",
    "            data[\"ARR_TIME\"] = f\"{arr_time_match.group(1)[:2]}:{arr_time_match.group(1)[2:]}\"\n",
    "        else:\n",
    "            data[\"ARR_TIME\"] = pd.NA\n",
    "\n",
    "        parsed.append(data)\n",
    "\n",
    "    return pd.DataFrame(parsed)"
   ]
  },
  {
   "cell_type": "markdown",
   "id": "72a03051-60c0-467c-a4bc-c6665a435627",
   "metadata": {},
   "source": [
    "Применим функцию"
   ]
  },
  {
   "cell_type": "code",
   "execution_count": 12,
   "id": "6988aabd-c04d-4f2e-9358-dbaac3655880",
   "metadata": {},
   "outputs": [],
   "source": [
    "df_clean = parse_shr_table(df)"
   ]
  },
  {
   "cell_type": "code",
   "execution_count": 13,
   "id": "ac7cfdd4-937c-452a-ad98-6cab23223776",
   "metadata": {},
   "outputs": [
    {
     "name": "stdout",
     "output_type": "stream",
     "text": [
      "<class 'pandas.core.frame.DataFrame'>\n",
      "RangeIndex: 76902 entries, 0 to 76901\n",
      "Data columns (total 12 columns):\n",
      " #   Column     Non-Null Count  Dtype  \n",
      "---  ------     --------------  -----  \n",
      " 0   Центр ЕС   76902 non-null  object \n",
      " 1   SID        76902 non-null  object \n",
      " 2   DOF        76902 non-null  object \n",
      " 3   TYP        76902 non-null  object \n",
      " 4   REG        60782 non-null  object \n",
      " 5   OPR        75908 non-null  object \n",
      " 6   DEP        76502 non-null  object \n",
      " 7   DEST       76397 non-null  object \n",
      " 8   DEP_TIME   76902 non-null  object \n",
      " 9   ARR_TIME   74324 non-null  object \n",
      " 10  Высота_от  72600 non-null  float64\n",
      " 11  Высота_до  72600 non-null  float64\n",
      "dtypes: float64(2), object(10)\n",
      "memory usage: 7.0+ MB\n"
     ]
    }
   ],
   "source": [
    "df_clean.info()"
   ]
  },
  {
   "cell_type": "markdown",
   "id": "8ed5717d-a7a8-46a7-bb81-aa50eae6bf6d",
   "metadata": {},
   "source": [
    "Проверим на дубликаты"
   ]
  },
  {
   "cell_type": "code",
   "execution_count": 15,
   "id": "e3736c13-b290-4f04-b3b6-c0f8d31e5fb2",
   "metadata": {},
   "outputs": [
    {
     "data": {
      "text/plain": [
       "0"
      ]
     },
     "execution_count": 15,
     "metadata": {},
     "output_type": "execute_result"
    }
   ],
   "source": [
    "df_clean.duplicated().sum()"
   ]
  },
  {
   "cell_type": "markdown",
   "id": "58971fe5-8504-4f68-af9c-f8815cff7a59",
   "metadata": {},
   "source": [
    "Напишем несколько функций\n",
    "- для преобразования координат вида '5957N02905E' в (59.950000, 29.083333)\n",
    "- для получения максимальной высоты\n",
    "- для получения максимального время полета"
   ]
  },
  {
   "cell_type": "code",
   "execution_count": 17,
   "id": "2414daae-190c-408e-b7f9-49160069eb1b",
   "metadata": {},
   "outputs": [],
   "source": [
    "# Конвертация координат\n",
    "def convert_coord(coord_str):\n",
    "    if pd.isna(coord_str) or not isinstance(coord_str, str):\n",
    "        return None, None\n",
    "    try:\n",
    "        # формат с секундами\n",
    "        match = re.match(r\"(\\d{2})(\\d{2})(\\d{2})([NS])(\\d{3})(\\d{2})(\\d{2})([EW])\", coord_str)\n",
    "        if match:\n",
    "            d1, m1, s1, ns, d2, m2, s2, ew = match.groups()\n",
    "            lat = int(d1) + int(m1)/60 + int(s1)/3600\n",
    "            lon = int(d2) + int(m2)/60 + int(s2)/3600\n",
    "            if ns == \"S\": lat = -lat\n",
    "            if ew == \"W\": lon = -lon\n",
    "            return round(lat, 6), round(lon, 6)\n",
    "        # формат без секунд\n",
    "        match = re.match(r\"(\\d{2})(\\d{2})([NS])(\\d{3})(\\d{2})([EW])\", coord_str)\n",
    "        if match:\n",
    "            d1, m1, ns, d2, m2, ew = match.groups()\n",
    "            lat = int(d1) + int(m1)/60\n",
    "            lon = int(d2) + int(m2)/60\n",
    "            if ns == \"S\": lat = -lat\n",
    "            if ew == \"W\": lon = -lon\n",
    "            return round(lat, 6), round(lon, 6)\n",
    "    except:\n",
    "        return None, None\n",
    "    return None, None\n",
    "\n",
    "# Время полета\n",
    "def calc_flight_time(dep, arr):\n",
    "    if pd.isna(dep) or pd.isna(arr):\n",
    "        return None\n",
    "    try:\n",
    "        dep_dt = datetime.strptime(dep, \"%H:%M\")\n",
    "        arr_dt = datetime.strptime(arr, \"%H:%M\")\n",
    "        if arr_dt < dep_dt:  # через полночь\n",
    "            arr_dt += timedelta(days=1)\n",
    "        return int((arr_dt - dep_dt).total_seconds() / 60)\n",
    "    except:\n",
    "        return None\n",
    "\n",
    "def enrich_df(df):\n",
    "    # координаты DEP\n",
    "    coords_dep = df[\"DEP\"].apply(convert_coord)\n",
    "    df[\"lat_dep\"] = coords_dep.apply(lambda x: x[0] if x else None)\n",
    "    df[\"lon_dep\"] = coords_dep.apply(lambda x: x[1] if x else None)\n",
    "\n",
    "    # координаты DEST\n",
    "    coords_dest = df[\"DEST\"].apply(convert_coord)\n",
    "    df[\"lat_dest\"] = coords_dest.apply(lambda x: x[0] if x else None)\n",
    "    df[\"lon_dest\"] = coords_dest.apply(lambda x: x[1] if x else None)\n",
    "\n",
    "    # макс высота\n",
    "    df[\"Высота_макс\"] = df[[\"Высота_от\", \"Высота_до\"]].max(axis=1)\n",
    "\n",
    "    # время полета\n",
    "    df[\"Время_полета_мин\"] = df.apply(\n",
    "        lambda row: calc_flight_time(row[\"DEP_TIME\"], row[\"ARR_TIME\"]), axis=1\n",
    "    )\n",
    "\n",
    "    return df"
   ]
  },
  {
   "cell_type": "markdown",
   "id": "ffb873d7-ec24-4a6e-b19b-8bcf44f1ed75",
   "metadata": {},
   "source": [
    "Применим функцию"
   ]
  },
  {
   "cell_type": "code",
   "execution_count": 19,
   "id": "219755ce-04c5-4604-8cd2-052d31be3930",
   "metadata": {},
   "outputs": [],
   "source": [
    "df = enrich_df(df_clean)"
   ]
  },
  {
   "cell_type": "markdown",
   "id": "1d636575-bb05-405b-94ba-c53d280eb98a",
   "metadata": {},
   "source": [
    "Напишем функцию для извлечения числа бпла из столбца с типами"
   ]
  },
  {
   "cell_type": "code",
   "execution_count": 21,
   "id": "4844c672-5fd8-451d-a9c3-f4061b96ca1a",
   "metadata": {},
   "outputs": [],
   "source": [
    "def get_number(typ_value):\n",
    "        if pd.isna(typ_value) or not isinstance(typ_value, str):\n",
    "            return 1\n",
    "        \n",
    "        # Ищем последовательность цифр в строке\n",
    "        numbers = re.findall(r'\\d+', typ_value)\n",
    "        \n",
    "        if numbers:\n",
    "            # Берем первое найденное число\n",
    "            return int(numbers[0])\n",
    "        else:\n",
    "            # Если чисел нет - возвращаем 1\n",
    "            return 1"
   ]
  },
  {
   "cell_type": "markdown",
   "id": "41fa04e6-4bca-4cb2-b31f-29faff63c919",
   "metadata": {},
   "source": [
    "Создадим столбец с количеством БПЛА из столбца с типом"
   ]
  },
  {
   "cell_type": "code",
   "execution_count": 23,
   "id": "8c6af8b4-83c0-4c80-ae33-37cf910d8efa",
   "metadata": {},
   "outputs": [],
   "source": [
    "df['TYP_NUMBER'] = df['TYP'].apply(get_number)"
   ]
  },
  {
   "cell_type": "markdown",
   "id": "120ca8bf-8254-43b9-af8a-151aa82787f3",
   "metadata": {},
   "source": [
    "Удалим все цифры из столбца с типом"
   ]
  },
  {
   "cell_type": "code",
   "execution_count": 25,
   "id": "2bf20f43-9222-4670-a39a-20ffcf81b008",
   "metadata": {},
   "outputs": [],
   "source": [
    "df['TYP'] = df['TYP'].str.replace(r'^\\d+', '', regex=True)"
   ]
  },
  {
   "cell_type": "code",
   "execution_count": 26,
   "id": "2e623944-4f77-4278-b36c-578d095905bf",
   "metadata": {},
   "outputs": [
    {
     "data": {
      "text/plain": [
       "array(['SHAR', 'BLA', 'AER'], dtype=object)"
      ]
     },
     "execution_count": 26,
     "metadata": {},
     "output_type": "execute_result"
    }
   ],
   "source": [
    "df['TYP'].unique()"
   ]
  },
  {
   "cell_type": "markdown",
   "id": "6daf80b1-5c54-4b2a-819d-3f03e88c39fb",
   "metadata": {},
   "source": [
    "Посмотрим пропуски"
   ]
  },
  {
   "cell_type": "code",
   "execution_count": 28,
   "id": "0352ea65-26ba-4e15-981e-12072d3b454f",
   "metadata": {},
   "outputs": [
    {
     "data": {
      "text/plain": [
       "Центр ЕС            0.000000\n",
       "SID                 0.000000\n",
       "DOF                 0.000000\n",
       "TYP                 0.000000\n",
       "REG                 0.209617\n",
       "OPR                 0.012926\n",
       "DEP                 0.005201\n",
       "DEST                0.006567\n",
       "DEP_TIME            0.000000\n",
       "ARR_TIME            0.033523\n",
       "Высота_от           0.055941\n",
       "Высота_до           0.055941\n",
       "lat_dep             0.005201\n",
       "lon_dep             0.005201\n",
       "lat_dest            0.006567\n",
       "lon_dest            0.006567\n",
       "Высота_макс         0.055941\n",
       "Время_полета_мин    0.033523\n",
       "TYP_NUMBER          0.000000\n",
       "dtype: float64"
      ]
     },
     "execution_count": 28,
     "metadata": {},
     "output_type": "execute_result"
    }
   ],
   "source": [
    "df.isna().mean()"
   ]
  },
  {
   "cell_type": "code",
   "execution_count": 29,
   "id": "4e317eac-64e7-4b9c-aabf-1cc4cb97e26a",
   "metadata": {},
   "outputs": [],
   "source": [
    "df['DOF'] = pd.to_datetime(df['DOF'])"
   ]
  },
  {
   "cell_type": "markdown",
   "id": "aad75093-caa1-4ca8-865f-96dd60ebc6ad",
   "metadata": {},
   "source": [
    "Создаём GeoDataFrame с точками вылета БПЛА (столбец geometry), чтобы связать их с границами регионов из `gdf_regions`"
   ]
  },
  {
   "cell_type": "code",
   "execution_count": 31,
   "id": "75368bbb-8ac3-48cb-93f1-4f57f676e4a3",
   "metadata": {},
   "outputs": [],
   "source": [
    "gdf_points = gpd.GeoDataFrame(\n",
    "    df,\n",
    "    geometry=gpd.points_from_xy(df[\"lon_dep\"], df[\"lat_dep\"]),\n",
    "    crs=\"EPSG:4326\" \n",
    ")"
   ]
  },
  {
   "cell_type": "code",
   "execution_count": 32,
   "id": "93ed1385-e592-44a9-933d-a26c590ba1c9",
   "metadata": {},
   "outputs": [
    {
     "name": "stdout",
     "output_type": "stream",
     "text": [
      "EPSG:4326\n"
     ]
    }
   ],
   "source": [
    "print(gdf_regions.crs)"
   ]
  },
  {
   "cell_type": "code",
   "execution_count": 33,
   "id": "f9a5f200-5758-4c8d-aa91-2c58de6bb4d6",
   "metadata": {},
   "outputs": [
    {
     "name": "stdout",
     "output_type": "stream",
     "text": [
      "EPSG:4326\n"
     ]
    }
   ],
   "source": [
    "print(gdf_points.crs)"
   ]
  },
  {
   "cell_type": "markdown",
   "id": "29a59ba9-cd41-4c5c-9196-0ef6e4507299",
   "metadata": {},
   "source": [
    "Объединим геодатафреймы"
   ]
  },
  {
   "cell_type": "code",
   "execution_count": 35,
   "id": "c7521e12-65d9-43f4-b824-6c28a98cee5a",
   "metadata": {},
   "outputs": [],
   "source": [
    "gdf_joined = gpd.sjoin(gdf_points, gdf_regions, how=\"left\", predicate=\"within\")\n",
    "\n",
    "# Убираем дубли (если точка попала в несколько регионов)\n",
    "gdf_joined = gdf_joined.drop_duplicates(subset=[\"SID\"]) "
   ]
  },
  {
   "cell_type": "markdown",
   "id": "126bf46c-9fcf-4b39-9ebd-2c934d59f115",
   "metadata": {},
   "source": [
    "Преобразуем обратно в обычный датафрейм"
   ]
  },
  {
   "cell_type": "code",
   "execution_count": 37,
   "id": "4e398a78-e1d3-4cd0-adf9-631f040bf55b",
   "metadata": {},
   "outputs": [],
   "source": [
    "df_normal = pd.DataFrame(gdf_joined.drop(columns='geometry'))"
   ]
  },
  {
   "cell_type": "markdown",
   "id": "9cd50d61-a28c-4c5d-b7fa-2e29f94ec970",
   "metadata": {},
   "source": [
    "Оставим необходимые столбцы, остальные удалим"
   ]
  },
  {
   "cell_type": "code",
   "execution_count": 39,
   "id": "3c33da5d-ccc5-44e3-9b37-1a57c33e6323",
   "metadata": {},
   "outputs": [],
   "source": [
    "df_new = df_normal[['Центр ЕС', 'SID', 'DOF', 'OPR', 'TYP', 'REG', 'DEP', 'DEST', 'DEP_TIME', 'ARR_TIME', 'Высота_от', 'Высота_до', 'lat_dep', 'lon_dep', 'lat_dest', 'lon_dest', 'Высота_макс', 'Время_полета_мин', 'TYP_NUMBER', 'name']].copy()"
   ]
  },
  {
   "cell_type": "markdown",
   "id": "ece29fcd-2ed2-4d38-9be6-b35446b8d995",
   "metadata": {},
   "source": [
    "Добавим дополнительные столбцы"
   ]
  },
  {
   "cell_type": "code",
   "execution_count": 41,
   "id": "ac36a9bf-f36f-4da7-9643-aafc908843c4",
   "metadata": {},
   "outputs": [],
   "source": [
    "df_new['month'] = df_new['DOF'].dt.month"
   ]
  },
  {
   "cell_type": "code",
   "execution_count": 42,
   "id": "c3a72dc3-b34e-4575-af45-64d3e1ddeab5",
   "metadata": {},
   "outputs": [],
   "source": [
    "df_new['day_of_week'] = df_new['DOF'].dt.day_name()"
   ]
  },
  {
   "cell_type": "code",
   "execution_count": 43,
   "id": "bc86dd7a-5f3b-465b-91b3-8b015209915b",
   "metadata": {},
   "outputs": [],
   "source": [
    "df_new['DEP_TIME_dt'] = pd.to_datetime(df_new['DEP_TIME'], format='%H:%M', errors='coerce')"
   ]
  },
  {
   "cell_type": "code",
   "execution_count": 44,
   "id": "9660cef6-04f8-4c9e-8fb5-c98d124cc5d1",
   "metadata": {},
   "outputs": [],
   "source": [
    "df_new['ARR_TIME_dt'] = pd.to_datetime(df_new['ARR_TIME'], format='%H:%M', errors='coerce')"
   ]
  },
  {
   "cell_type": "code",
   "execution_count": 45,
   "id": "5f16dec6-f617-4827-8142-94930fd38adf",
   "metadata": {},
   "outputs": [],
   "source": [
    "df_new['hour'] = df_new['DEP_TIME_dt'].dt.hour"
   ]
  },
  {
   "cell_type": "code",
   "execution_count": 46,
   "id": "29401f02-8bf6-4009-8618-75f88f479ea1",
   "metadata": {},
   "outputs": [],
   "source": [
    "df_new['day_type'] = df_new['day_of_week'].map(lambda d: 'Выходной' if d in ['Saturday', 'Sunday'] else 'Будни')"
   ]
  }
 ],
 "metadata": {
  "kernelspec": {
   "display_name": "Python [conda env:base] *",
   "language": "python",
   "name": "conda-base-py"
  },
  "language_info": {
   "codemirror_mode": {
    "name": "ipython",
    "version": 3
   },
   "file_extension": ".py",
   "mimetype": "text/x-python",
   "name": "python",
   "nbconvert_exporter": "python",
   "pygments_lexer": "ipython3",
   "version": "3.12.3"
  }
 },
 "nbformat": 4,
 "nbformat_minor": 5
}
